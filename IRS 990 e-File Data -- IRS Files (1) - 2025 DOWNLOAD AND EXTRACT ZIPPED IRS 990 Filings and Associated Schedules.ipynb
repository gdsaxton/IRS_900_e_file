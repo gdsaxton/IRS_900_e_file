{
 "cells": [
  {
   "cell_type": "markdown",
   "metadata": {},
   "source": [
    "# Notes\n",
    "\n",
    "- New data were downloaded in April 2025\n",
    "- Former name:\n",
    "    - *IRS 990 e-File Data (5c) -- DOWNLOAD AND EXTRACT ZIPPED IRS 990 Filings and Associated Schedules.ipynb*\n",
    "- See also:\n",
    "    - *IRS 990 e-File Data -- IRS Files (1) -- DOWNLOAD AND EXTRACT ZIPPED IRS 990 Filings and Associated Schedules (WITH EXTRA CODE).ipynb*"
   ]
  },
  {
   "cell_type": "markdown",
   "metadata": {},
   "source": [
    "# Download Location\n",
    "https://www.irs.gov/charities-non-profits/form-990-series-downloads"
   ]
  },
  {
   "cell_type": "markdown",
   "metadata": {},
   "source": [
    "### Overview\n",
    "\n",
    "This is a modified version of the <a href=\"http://social-metrics.org/irs-990-e-file-data-part-4/\">fourth in a series of tutorials</a> that illustrate how to download the IRS 990 e-file data available at https://aws.amazon.com/public-data-sets/irs-990/\n",
    "\n",
    "Specifically, in this notebook we will download into a MongoDB table not just the IRS 990 filings for our sample of 5 organizations, but also the associated \"schedules.\" The first half of the tutorial is the same as part (4), so you can skip over it if you're comfortable with the material."
   ]
  },
  {
   "cell_type": "markdown",
   "metadata": {},
   "source": [
    "### Load Packages"
   ]
  },
  {
   "cell_type": "code",
   "execution_count": 1,
   "metadata": {},
   "outputs": [
    {
     "name": "stdout",
     "output_type": "stream",
     "text": [
      "CPU times: total: 0 ns\n",
      "Wall time: 0 ns\n",
      "Current date and time :  2025-04-06 14:16:02 \n",
      "\n"
     ]
    }
   ],
   "source": [
    "%time\n",
    "import datetime\n",
    "print (\"Current date and time : \", datetime.datetime.now().strftime(\"%Y-%m-%d %H:%M:%S\"), '\\n')"
   ]
  },
  {
   "cell_type": "code",
   "execution_count": null,
   "metadata": {},
   "outputs": [],
   "source": [
    "import sys\n",
    "import time\n",
    "import json"
   ]
  },
  {
   "cell_type": "code",
   "execution_count": null,
   "metadata": {},
   "outputs": [],
   "source": [
    "import zipfile, os"
   ]
  },
  {
   "cell_type": "code",
   "execution_count": null,
   "metadata": {},
   "outputs": [],
   "source": [
    "import numpy as np\n",
    "import pandas as pd\n",
    "from pandas import DataFrame\n",
    "from pandas import Series"
   ]
  },
  {
   "cell_type": "code",
   "execution_count": 64,
   "metadata": {},
   "outputs": [],
   "source": [
    "#http://pandas.pydata.org/pandas-docs/stable/options.html\n",
    "pd.set_option('display.max_columns', None)  #Set PANDAS to show all columns in DataFrame\n",
    "pd.set_option('max_colwidth', 500)"
   ]
  },
  {
   "cell_type": "code",
   "execution_count": null,
   "metadata": {},
   "outputs": [],
   "source": [
    "#cd '/Users/gsaxton/Dropbox/990 e-file data'"
   ]
  },
  {
   "cell_type": "code",
   "execution_count": null,
   "metadata": {},
   "outputs": [],
   "source": [
    "pwd"
   ]
  },
  {
   "cell_type": "markdown",
   "metadata": {},
   "source": [
    "### Get list of files to download"
   ]
  },
  {
   "cell_type": "code",
   "execution_count": 4,
   "metadata": {},
   "outputs": [],
   "source": [
    "from bs4 import BeautifulSoup\n",
    "from urllib.request import Request, urlopen\n",
    "import ren"
   ]
  },
  {
   "cell_type": "code",
   "execution_count": 9,
   "metadata": {},
   "outputs": [
    {
     "name": "stdout",
     "output_type": "stream",
     "text": [
      "270\n",
      "266\n",
      "46\n",
      "['https://apps.irs.gov/pub/epostcard/990/xml/2025/2025_TEOS_XML_01A.zip', 'https://apps.irs.gov/pub/epostcard/990/xml/2025/2025_TEOS_XML_02A.zip', 'https://apps.irs.gov/pub/epostcard/990/xml/2024/2024_TEOS_XML_01A.zip', 'https://apps.irs.gov/pub/epostcard/990/xml/2024/2024_TEOS_XML_02A.zip', 'https://apps.irs.gov/pub/epostcard/990/xml/2024/2024_TEOS_XML_03A.zip', 'https://apps.irs.gov/pub/epostcard/990/xml/2024/2024_TEOS_XML_04A.zip', 'https://apps.irs.gov/pub/epostcard/990/xml/2024/2024_TEOS_XML_05A.zip', 'https://apps.irs.gov/pub/epostcard/990/xml/2024/2024_TEOS_XML_06A.zip', 'https://apps.irs.gov/pub/epostcard/990/xml/2024/2024_TEOS_XML_07A.zip', 'https://apps.irs.gov/pub/epostcard/990/xml/2024/2024_TEOS_XML_08A.zip', 'https://apps.irs.gov/pub/epostcard/990/xml/2024/2024_TEOS_XML_09A.zip', 'https://apps.irs.gov/pub/epostcard/990/xml/2024/2024_TEOS_XML_10A.zip', 'https://apps.irs.gov/pub/epostcard/990/xml/2024/2024_TEOS_XML_11A.zip', 'https://apps.irs.gov/pub/epostcard/990/xml/2024/2024_TEOS_XML_12A.zip', 'https://apps.irs.gov/pub/epostcard/990/xml/2023/2023_TEOS_XML_01A.zip', 'https://apps.irs.gov/pub/epostcard/990/xml/2023/2023_TEOS_XML_02A.zip', 'https://apps.irs.gov/pub/epostcard/990/xml/2023/2023_TEOS_XML_03A.zip', 'https://apps.irs.gov/pub/epostcard/990/xml/2023/2023_TEOS_XML_04A.zip', 'https://apps.irs.gov/pub/epostcard/990/xml/2023/2023_TEOS_XML_05A.zip', 'https://apps.irs.gov/pub/epostcard/990/xml/2023/2023_TEOS_XML_06A.zip', 'https://apps.irs.gov/pub/epostcard/990/xml/2023/2023_TEOS_XML_07A.zip', 'https://apps.irs.gov/pub/epostcard/990/xml/2023/2023_TEOS_XML_08A.zip', 'https://apps.irs.gov/pub/epostcard/990/xml/2023/2023_TEOS_XML_09A.zip', 'https://apps.irs.gov/pub/epostcard/990/xml/2023/2023_TEOS_XML_10A.zip', 'https://apps.irs.gov/pub/epostcard/990/xml/2023/2023_TEOS_XML_11A.zip', 'https://apps.irs.gov/pub/epostcard/990/xml/2023/2023_TEOS_XML_12A.zip', 'https://apps.irs.gov/pub/epostcard/990/xml/2022/2022_TEOS_XML_01A.zip', 'https://apps.irs.gov/pub/epostcard/990/xml/2021/2021_TEOS_XML_01A.zip', 'https://apps.irs.gov/pub/epostcard/990/xml/2020/2020_TEOS_XML_CT1.zip', 'https://apps.irs.gov/pub/epostcard/990/xml/2020/download990xml_2020_1.zip', 'https://apps.irs.gov/pub/epostcard/990/xml/2020/download990xml_2020_2.zip', 'https://apps.irs.gov/pub/epostcard/990/xml/2020/download990xml_2020_3.zip', 'https://apps.irs.gov/pub/epostcard/990/xml/2020/download990xml_2020_4.zip', 'https://apps.irs.gov/pub/epostcard/990/xml/2020/download990xml_2020_5.zip', 'https://apps.irs.gov/pub/epostcard/990/xml/2020/download990xml_2020_6.zip', 'https://apps.irs.gov/pub/epostcard/990/xml/2020/download990xml_2020_7.zip', 'https://apps.irs.gov/pub/epostcard/990/xml/2020/download990xml_2020_8.zip', 'https://apps.irs.gov/pub/epostcard/990/xml/2019/2019_TEOS_XML_CT1.zip', 'https://apps.irs.gov/pub/epostcard/990/xml/2019/download990xml_2019_1.zip', 'https://apps.irs.gov/pub/epostcard/990/xml/2019/download990xml_2019_2.zip', 'https://apps.irs.gov/pub/epostcard/990/xml/2019/download990xml_2019_3.zip', 'https://apps.irs.gov/pub/epostcard/990/xml/2019/download990xml_2019_4.zip', 'https://apps.irs.gov/pub/epostcard/990/xml/2019/download990xml_2019_5.zip', 'https://apps.irs.gov/pub/epostcard/990/xml/2019/download990xml_2019_6.zip', 'https://apps.irs.gov/pub/epostcard/990/xml/2019/download990xml_2019_7.zip', 'https://apps.irs.gov/pub/epostcard/990/xml/2019/download990xml_2019_8.zip']\n"
     ]
    }
   ],
   "source": [
    "req = Request(\"https://www.irs.gov/charities-non-profits/form-990-series-downloads\")\n",
    "html_page = urlopen(req)\n",
    "\n",
    "#soup = BeautifulSoup(html_page, \"lxml\")\n",
    "soup = BeautifulSoup(html_page, \"html\")\n",
    "\n",
    "links = []\n",
    "for link in soup.findAll('a'):\n",
    "    links.append(link.get('href'))\n",
    "print(len(links))\n",
    "links = [l for l in links if l]\n",
    "print(len(links))\n",
    "links = [l for l in links if 'zip' in l]\n",
    "print(len(links))\n",
    "print(links)"
   ]
  },
  {
   "cell_type": "markdown",
   "metadata": {},
   "source": [
    "### Loop over all files and download *new* files\n",
    "` conda install -c anaconda wget`"
   ]
  },
  {
   "cell_type": "code",
   "execution_count": 11,
   "metadata": {},
   "outputs": [
    {
     "name": "stdout",
     "output_type": "stream",
     "text": [
      "Downloading: 2025_TEOS_XML_01A.zip\n",
      "100% [......................................................................] 103669610 / 103669610\n",
      "Downloading: 2025_TEOS_XML_02A.zip\n",
      "100% [......................................................................] 239929743 / 239929743\n",
      "Already downloaded: 2024_TEOS_XML_01A.zip\n",
      "Downloading: 2024_TEOS_XML_02A.zip\n",
      "100% [......................................................................] 243689721 / 243689721\n",
      "Downloading: 2024_TEOS_XML_03A.zip\n",
      "100% [......................................................................] 209335079 / 209335079\n",
      "Downloading: 2024_TEOS_XML_04A.zip\n",
      "100% [......................................................................] 350268985 / 350268985\n",
      "Downloading: 2024_TEOS_XML_05A.zip\n",
      "100% [......................................................................] 977460330 / 977460330\n",
      "Downloading: 2024_TEOS_XML_06A.zip\n",
      "100% [......................................................................] 163872638 / 163872638\n",
      "Downloading: 2024_TEOS_XML_07A.zip\n",
      "100% [......................................................................] 288252859 / 288252859\n",
      "Downloading: 2024_TEOS_XML_08A.zip\n",
      "100% [......................................................................] 260603085 / 260603085\n",
      "Downloading: 2024_TEOS_XML_09A.zip\n",
      "100% [......................................................................] 247036759 / 247036759\n",
      "Downloading: 2024_TEOS_XML_10A.zip\n",
      "100% [......................................................................] 251614735 / 251614735\n",
      "Downloading: 2024_TEOS_XML_11A.zip\n",
      "100% [....................................................................] 1165636963 / 1165636963\n",
      "Downloading: 2024_TEOS_XML_12A.zip\n",
      "100% [......................................................................] 128322545 / 128322545\n",
      "Already downloaded: 2023_TEOS_XML_01A.zip\n",
      "Already downloaded: 2023_TEOS_XML_02A.zip\n",
      "Already downloaded: 2023_TEOS_XML_03A.zip\n",
      "Already downloaded: 2023_TEOS_XML_04A.zip\n",
      "Already downloaded: 2023_TEOS_XML_05A.zip\n",
      "Already downloaded: 2023_TEOS_XML_06A.zip\n",
      "Already downloaded: 2023_TEOS_XML_07A.zip\n",
      "Already downloaded: 2023_TEOS_XML_08A.zip\n",
      "Already downloaded: 2023_TEOS_XML_09A.zip\n",
      "Already downloaded: 2023_TEOS_XML_10A.zip\n",
      "Already downloaded: 2023_TEOS_XML_11A.zip\n",
      "Already downloaded: 2023_TEOS_XML_12A.zip\n",
      "Already downloaded: 2022_TEOS_XML_01A.zip\n",
      "Already downloaded: 2021_TEOS_XML_01A.zip\n",
      "Already downloaded: 2020_TEOS_XML_CT1.zip\n",
      "Already downloaded: download990xml_2020_1.zip\n",
      "Already downloaded: download990xml_2020_2.zip\n",
      "Already downloaded: download990xml_2020_3.zip\n",
      "Already downloaded: download990xml_2020_4.zip\n",
      "Already downloaded: download990xml_2020_5.zip\n",
      "Already downloaded: download990xml_2020_6.zip\n",
      "Already downloaded: download990xml_2020_7.zip\n",
      "Already downloaded: download990xml_2020_8.zip\n",
      "Already downloaded: 2019_TEOS_XML_CT1.zip\n",
      "Already downloaded: download990xml_2019_1.zip\n",
      "Already downloaded: download990xml_2019_2.zip\n",
      "Already downloaded: download990xml_2019_3.zip\n",
      "Already downloaded: download990xml_2019_4.zip\n",
      "Already downloaded: download990xml_2019_5.zip\n",
      "Already downloaded: download990xml_2019_6.zip\n",
      "Already downloaded: download990xml_2019_7.zip\n",
      "Already downloaded: download990xml_2019_8.zip\n",
      "\n",
      "Files already present:\n",
      "2024_TEOS_XML_01A.zip\n",
      "2023_TEOS_XML_01A.zip\n",
      "2023_TEOS_XML_02A.zip\n",
      "2023_TEOS_XML_03A.zip\n",
      "2023_TEOS_XML_04A.zip\n",
      "2023_TEOS_XML_05A.zip\n",
      "2023_TEOS_XML_06A.zip\n",
      "2023_TEOS_XML_07A.zip\n",
      "2023_TEOS_XML_08A.zip\n",
      "2023_TEOS_XML_09A.zip\n",
      "2023_TEOS_XML_10A.zip\n",
      "2023_TEOS_XML_11A.zip\n",
      "2023_TEOS_XML_12A.zip\n",
      "2022_TEOS_XML_01A.zip\n",
      "2021_TEOS_XML_01A.zip\n",
      "2020_TEOS_XML_CT1.zip\n",
      "download990xml_2020_1.zip\n",
      "download990xml_2020_2.zip\n",
      "download990xml_2020_3.zip\n",
      "download990xml_2020_4.zip\n",
      "download990xml_2020_5.zip\n",
      "download990xml_2020_6.zip\n",
      "download990xml_2020_7.zip\n",
      "download990xml_2020_8.zip\n",
      "2019_TEOS_XML_CT1.zip\n",
      "download990xml_2019_1.zip\n",
      "download990xml_2019_2.zip\n",
      "download990xml_2019_3.zip\n",
      "download990xml_2019_4.zip\n",
      "download990xml_2019_5.zip\n",
      "download990xml_2019_6.zip\n",
      "download990xml_2019_7.zip\n",
      "download990xml_2019_8.zip\n"
     ]
    }
   ],
   "source": [
    "import os\n",
    "import wget\n",
    "\n",
    "# Define your download folder\n",
    "download_folder = \"D:\\\\IRS 990 Filings (zipped)\\\\\"\n",
    "\n",
    "# List to store filenames that were already downloaded\n",
    "already_downloaded = []\n",
    "\n",
    "# Loop through the links\n",
    "for url in links:\n",
    "    # Extract the filename from the URL\n",
    "    filename = os.path.basename(url)\n",
    "    destination = os.path.join(download_folder, filename)\n",
    "\n",
    "    if os.path.exists(destination):\n",
    "        print(f\"Already downloaded: {filename}\")\n",
    "        already_downloaded.append(filename)\n",
    "        continue\n",
    "\n",
    "    print(f\"Downloading: {filename}\")\n",
    "    wget.download(url, out=destination)\n",
    "    print()  # Clean line after download\n",
    "\n",
    "# Optional: Print or save the list of already downloaded files\n",
    "print(\"\\nFiles already present:\")\n",
    "for f in already_downloaded:\n",
    "    print(f)"
   ]
  },
  {
   "cell_type": "code",
   "execution_count": 16,
   "metadata": {},
   "outputs": [
    {
     "data": {
      "text/plain": [
       "['2024_TEOS_XML_01A.zip',\n",
       " '2023_TEOS_XML_01A.zip',\n",
       " '2023_TEOS_XML_02A.zip',\n",
       " '2023_TEOS_XML_03A.zip',\n",
       " '2023_TEOS_XML_04A.zip',\n",
       " '2023_TEOS_XML_05A.zip',\n",
       " '2023_TEOS_XML_06A.zip',\n",
       " '2023_TEOS_XML_07A.zip',\n",
       " '2023_TEOS_XML_08A.zip',\n",
       " '2023_TEOS_XML_09A.zip',\n",
       " '2023_TEOS_XML_10A.zip',\n",
       " '2023_TEOS_XML_11A.zip',\n",
       " '2023_TEOS_XML_12A.zip',\n",
       " '2022_TEOS_XML_01A.zip',\n",
       " '2021_TEOS_XML_01A.zip',\n",
       " '2020_TEOS_XML_CT1.zip',\n",
       " 'download990xml_2020_1.zip',\n",
       " 'download990xml_2020_2.zip',\n",
       " 'download990xml_2020_3.zip',\n",
       " 'download990xml_2020_4.zip',\n",
       " 'download990xml_2020_5.zip',\n",
       " 'download990xml_2020_6.zip',\n",
       " 'download990xml_2020_7.zip',\n",
       " 'download990xml_2020_8.zip',\n",
       " '2019_TEOS_XML_CT1.zip',\n",
       " 'download990xml_2019_1.zip',\n",
       " 'download990xml_2019_2.zip',\n",
       " 'download990xml_2019_3.zip',\n",
       " 'download990xml_2019_4.zip',\n",
       " 'download990xml_2019_5.zip',\n",
       " 'download990xml_2019_6.zip',\n",
       " 'download990xml_2019_7.zip',\n",
       " 'download990xml_2019_8.zip']"
      ]
     },
     "execution_count": 16,
     "metadata": {},
     "output_type": "execute_result"
    }
   ],
   "source": [
    "already_downloaded"
   ]
  },
  {
   "cell_type": "code",
   "execution_count": 17,
   "metadata": {},
   "outputs": [
    {
     "data": {
      "text/plain": [
       "['https://apps.irs.gov/pub/epostcard/990/xml/2025/2025_TEOS_XML_01A.zip',\n",
       " 'https://apps.irs.gov/pub/epostcard/990/xml/2025/2025_TEOS_XML_02A.zip',\n",
       " 'https://apps.irs.gov/pub/epostcard/990/xml/2024/2024_TEOS_XML_01A.zip',\n",
       " 'https://apps.irs.gov/pub/epostcard/990/xml/2024/2024_TEOS_XML_02A.zip',\n",
       " 'https://apps.irs.gov/pub/epostcard/990/xml/2024/2024_TEOS_XML_03A.zip',\n",
       " 'https://apps.irs.gov/pub/epostcard/990/xml/2024/2024_TEOS_XML_04A.zip',\n",
       " 'https://apps.irs.gov/pub/epostcard/990/xml/2024/2024_TEOS_XML_05A.zip',\n",
       " 'https://apps.irs.gov/pub/epostcard/990/xml/2024/2024_TEOS_XML_06A.zip',\n",
       " 'https://apps.irs.gov/pub/epostcard/990/xml/2024/2024_TEOS_XML_07A.zip',\n",
       " 'https://apps.irs.gov/pub/epostcard/990/xml/2024/2024_TEOS_XML_08A.zip',\n",
       " 'https://apps.irs.gov/pub/epostcard/990/xml/2024/2024_TEOS_XML_09A.zip',\n",
       " 'https://apps.irs.gov/pub/epostcard/990/xml/2024/2024_TEOS_XML_10A.zip',\n",
       " 'https://apps.irs.gov/pub/epostcard/990/xml/2024/2024_TEOS_XML_11A.zip',\n",
       " 'https://apps.irs.gov/pub/epostcard/990/xml/2024/2024_TEOS_XML_12A.zip',\n",
       " 'https://apps.irs.gov/pub/epostcard/990/xml/2023/2023_TEOS_XML_01A.zip',\n",
       " 'https://apps.irs.gov/pub/epostcard/990/xml/2023/2023_TEOS_XML_02A.zip',\n",
       " 'https://apps.irs.gov/pub/epostcard/990/xml/2023/2023_TEOS_XML_03A.zip',\n",
       " 'https://apps.irs.gov/pub/epostcard/990/xml/2023/2023_TEOS_XML_04A.zip',\n",
       " 'https://apps.irs.gov/pub/epostcard/990/xml/2023/2023_TEOS_XML_05A.zip',\n",
       " 'https://apps.irs.gov/pub/epostcard/990/xml/2023/2023_TEOS_XML_06A.zip',\n",
       " 'https://apps.irs.gov/pub/epostcard/990/xml/2023/2023_TEOS_XML_07A.zip',\n",
       " 'https://apps.irs.gov/pub/epostcard/990/xml/2023/2023_TEOS_XML_08A.zip',\n",
       " 'https://apps.irs.gov/pub/epostcard/990/xml/2023/2023_TEOS_XML_09A.zip',\n",
       " 'https://apps.irs.gov/pub/epostcard/990/xml/2023/2023_TEOS_XML_10A.zip',\n",
       " 'https://apps.irs.gov/pub/epostcard/990/xml/2023/2023_TEOS_XML_11A.zip',\n",
       " 'https://apps.irs.gov/pub/epostcard/990/xml/2023/2023_TEOS_XML_12A.zip',\n",
       " 'https://apps.irs.gov/pub/epostcard/990/xml/2022/2022_TEOS_XML_01A.zip',\n",
       " 'https://apps.irs.gov/pub/epostcard/990/xml/2021/2021_TEOS_XML_01A.zip',\n",
       " 'https://apps.irs.gov/pub/epostcard/990/xml/2020/2020_TEOS_XML_CT1.zip',\n",
       " 'https://apps.irs.gov/pub/epostcard/990/xml/2020/download990xml_2020_1.zip',\n",
       " 'https://apps.irs.gov/pub/epostcard/990/xml/2020/download990xml_2020_2.zip',\n",
       " 'https://apps.irs.gov/pub/epostcard/990/xml/2020/download990xml_2020_3.zip',\n",
       " 'https://apps.irs.gov/pub/epostcard/990/xml/2020/download990xml_2020_4.zip',\n",
       " 'https://apps.irs.gov/pub/epostcard/990/xml/2020/download990xml_2020_5.zip',\n",
       " 'https://apps.irs.gov/pub/epostcard/990/xml/2020/download990xml_2020_6.zip',\n",
       " 'https://apps.irs.gov/pub/epostcard/990/xml/2020/download990xml_2020_7.zip',\n",
       " 'https://apps.irs.gov/pub/epostcard/990/xml/2020/download990xml_2020_8.zip',\n",
       " 'https://apps.irs.gov/pub/epostcard/990/xml/2019/2019_TEOS_XML_CT1.zip',\n",
       " 'https://apps.irs.gov/pub/epostcard/990/xml/2019/download990xml_2019_1.zip',\n",
       " 'https://apps.irs.gov/pub/epostcard/990/xml/2019/download990xml_2019_2.zip',\n",
       " 'https://apps.irs.gov/pub/epostcard/990/xml/2019/download990xml_2019_3.zip',\n",
       " 'https://apps.irs.gov/pub/epostcard/990/xml/2019/download990xml_2019_4.zip',\n",
       " 'https://apps.irs.gov/pub/epostcard/990/xml/2019/download990xml_2019_5.zip',\n",
       " 'https://apps.irs.gov/pub/epostcard/990/xml/2019/download990xml_2019_6.zip',\n",
       " 'https://apps.irs.gov/pub/epostcard/990/xml/2019/download990xml_2019_7.zip',\n",
       " 'https://apps.irs.gov/pub/epostcard/990/xml/2019/download990xml_2019_8.zip']"
      ]
     },
     "execution_count": 17,
     "metadata": {},
     "output_type": "execute_result"
    }
   ],
   "source": [
    "links"
   ]
  },
  {
   "cell_type": "code",
   "execution_count": 19,
   "metadata": {},
   "outputs": [
    {
     "name": "stdout",
     "output_type": "stream",
     "text": [
      "Already downloaded: 33\n",
      "Total links: 46\n",
      "Just downloaded: 13\n"
     ]
    }
   ],
   "source": [
    "# Get the filenames from the links\n",
    "link_filenames = [os.path.basename(url) for url in links]\n",
    "\n",
    "# Convert both to sets and subtract\n",
    "downloaded_filenames = set(link_filenames) - set(already_downloaded)\n",
    "\n",
    "print(\"Already downloaded:\", len(already_downloaded))\n",
    "print(\"Total links:\", len(links))\n",
    "print(\"Just downloaded:\", len(downloaded_filenames))"
   ]
  },
  {
   "cell_type": "markdown",
   "metadata": {},
   "source": [
    "### Extract the Zipped Files"
   ]
  },
  {
   "cell_type": "markdown",
   "metadata": {},
   "source": [
    "#### Version Putting Unzipped XML Files into Separate Sub-Directories\n",
    "This is preferable for checking later whether the IRS changes the number of filings in a given year retroactively, or when a recent zipped file was incomplete."
   ]
  },
  {
   "cell_type": "markdown",
   "metadata": {},
   "source": [
    "Create list of all zipped files in the folder"
   ]
  },
  {
   "cell_type": "code",
   "execution_count": 23,
   "metadata": {
    "scrolled": true
   },
   "outputs": [
    {
     "name": "stdout",
     "output_type": "stream",
     "text": [
      "86\n"
     ]
    },
    {
     "data": {
      "text/plain": [
       "['2017_TEOS_XML_CT1.zip',\n",
       " '2018_TEOS_XML_CT1.zip',\n",
       " '2018_TEOS_XML_CT2.zip',\n",
       " '2018_TEOS_XML_CT3.zip',\n",
       " '2019_TEOS_XML_CT1.zip',\n",
       " '2020_TEOS_XML_CT1.zip',\n",
       " '2021_TEOS_XML_01A.zip',\n",
       " '2021_TEOS_XML_01B.zip',\n",
       " '2021_TEOS_XML_01C.zip',\n",
       " '2021_TEOS_XML_01D.zip',\n",
       " '2021_TEOS_XML_01E.zip',\n",
       " '2021_TEOS_XML_01F.zip',\n",
       " '2021_TEOS_XML_01G.zip',\n",
       " '2021_TEOS_XML_01H.zip',\n",
       " '2022_TEOS_XML_01A.zip',\n",
       " '2022_TEOS_XML_01B.zip',\n",
       " '2022_TEOS_XML_01C.zip',\n",
       " '2022_TEOS_XML_01D.zip',\n",
       " '2022_TEOS_XML_01E.zip',\n",
       " '2022_TEOS_XML_01F.zip',\n",
       " '2022_TEOS_XML_11A.zip',\n",
       " '2022_TEOS_XML_11B.zip',\n",
       " '2022_TEOS_XML_11C.zip',\n",
       " '2023_TEOS_XML_01A.zip',\n",
       " '2023_TEOS_XML_02A.zip',\n",
       " '2023_TEOS_XML_03A.zip',\n",
       " '2023_TEOS_XML_04A.zip',\n",
       " '2023_TEOS_XML_05A.zip',\n",
       " '2023_TEOS_XML_05B.zip',\n",
       " '2023_TEOS_XML_06A.zip',\n",
       " '2023_TEOS_XML_07A.zip',\n",
       " '2023_TEOS_XML_08A.zip',\n",
       " '2023_TEOS_XML_09A.zip',\n",
       " '2023_TEOS_XML_10A.zip',\n",
       " '2023_TEOS_XML_11A.zip',\n",
       " '2023_TEOS_XML_11B (1).zip',\n",
       " '2023_TEOS_XML_11B - Copy.zip',\n",
       " '2023_TEOS_XML_11B.zip',\n",
       " '2023_TEOS_XML_11C (1).zip',\n",
       " '2023_TEOS_XML_11C - Copy.zip',\n",
       " '2023_TEOS_XML_11C.zip',\n",
       " '2023_TEOS_XML_12A.zip',\n",
       " '2024_TEOS_XML_01A.zip',\n",
       " '2024_TEOS_XML_02A.zip',\n",
       " '2024_TEOS_XML_03A.zip',\n",
       " '2024_TEOS_XML_04A.zip',\n",
       " '2024_TEOS_XML_05A.zip',\n",
       " '2024_TEOS_XML_06A.zip',\n",
       " '2024_TEOS_XML_07A.zip',\n",
       " '2024_TEOS_XML_08A.zip',\n",
       " '2024_TEOS_XML_09A.zip',\n",
       " '2024_TEOS_XML_10A.zip',\n",
       " '2024_TEOS_XML_11A.zip',\n",
       " '2024_TEOS_XML_12A.zip',\n",
       " '2025_TEOS_XML_01A.zip',\n",
       " '2025_TEOS_XML_02A.zip',\n",
       " 'download990xml_2017_1.zip',\n",
       " 'download990xml_2017_2.zip',\n",
       " 'download990xml_2017_3.zip',\n",
       " 'download990xml_2017_4.zip',\n",
       " 'download990xml_2017_5.zip',\n",
       " 'download990xml_2017_6.zip',\n",
       " 'download990xml_2017_7.zip',\n",
       " 'download990xml_2018_1.zip',\n",
       " 'download990xml_2018_2.zip',\n",
       " 'download990xml_2018_3.zip',\n",
       " 'download990xml_2018_4.zip',\n",
       " 'download990xml_2018_5.zip',\n",
       " 'download990xml_2018_6.zip',\n",
       " 'download990xml_2018_7.zip',\n",
       " 'download990xml_2019_1.zip',\n",
       " 'download990xml_2019_2.zip',\n",
       " 'download990xml_2019_3.zip',\n",
       " 'download990xml_2019_4.zip',\n",
       " 'download990xml_2019_5.zip',\n",
       " 'download990xml_2019_6.zip',\n",
       " 'download990xml_2019_7.zip',\n",
       " 'download990xml_2019_8.zip',\n",
       " 'download990xml_2020_1.zip',\n",
       " 'download990xml_2020_2.zip',\n",
       " 'download990xml_2020_3.zip',\n",
       " 'download990xml_2020_4.zip',\n",
       " 'download990xml_2020_5.zip',\n",
       " 'download990xml_2020_6.zip',\n",
       " 'download990xml_2020_7.zip',\n",
       " 'download990xml_2020_8.zip']"
      ]
     },
     "execution_count": 23,
     "metadata": {},
     "output_type": "execute_result"
    }
   ],
   "source": [
    "dir_name = 'D:\\\\IRS 990 Filings (zipped)\\\\'\n",
    "extension = \".zip\"\n",
    "new_dir = 'D:\\\\IRS 990 Filings (XML) with folders\\\\'\n",
    "entries = os.listdir(dir_name)[:]\n",
    "print(len(entries))\n",
    "entries"
   ]
  },
  {
   "cell_type": "markdown",
   "metadata": {},
   "source": [
    "<br>Define function to loop over the zipped files and extract each one in its own folder"
   ]
  },
  {
   "cell_type": "markdown",
   "metadata": {},
   "source": [
    "Below code block used to fix an error: \n",
    "https://stackoverflow.com/questions/17664262/python-zipfile-module-erroneously-thinks-i-have-a-zipfile-that-spans-multiple-di"
   ]
  },
  {
   "cell_type": "markdown",
   "metadata": {},
   "source": [
    "<br>\n",
    "Updated: `When extracting, detect and flatten the extra layer immediately after unzipping, so the structure is consistent.`"
   ]
  },
  {
   "cell_type": "code",
   "execution_count": 29,
   "metadata": {},
   "outputs": [],
   "source": [
    "import shutil\n",
    "import zipfile_deflate64 as zipfile\n",
    "\n",
    "def extract_zip_Files():\n",
    "    os.chdir(dir_name)\n",
    "    for item in entries:\n",
    "        if item not in downloaded_filenames:\n",
    "            continue\n",
    "\n",
    "        print('Extracting:', item)    \n",
    "        new_folder = os.path.splitext(item)[0]\n",
    "        output_dir = os.path.join(new_dir, new_folder)\n",
    "        os.makedirs(output_dir, exist_ok=True)\n",
    "\n",
    "        if item.endswith(extension):\n",
    "            file_path = os.path.abspath(item)\n",
    "            with zipfile.ZipFile(file_path) as zip_ref:\n",
    "                zip_ref.extractall(path=output_dir)\n",
    "\n",
    "            # Check if the extracted folder has a single subfolder — flatten it\n",
    "            contents = os.listdir(output_dir)\n",
    "            if len(contents) == 1:\n",
    "                possible_subfolder = os.path.join(output_dir, contents[0])\n",
    "                if os.path.isdir(possible_subfolder):\n",
    "                    for filename in os.listdir(possible_subfolder):\n",
    "                        shutil.move(os.path.join(possible_subfolder, filename), output_dir)\n",
    "                    os.rmdir(possible_subfolder)"
   ]
  },
  {
   "cell_type": "code",
   "execution_count": 30,
   "metadata": {},
   "outputs": [
    {
     "name": "stdout",
     "output_type": "stream",
     "text": [
      "CPU times: total: 11min 5s\n",
      "Wall time: 14min 52s\n"
     ]
    }
   ],
   "source": [
    "%%time\n",
    "# Extract all zip files\n",
    "extract_zip_Files() "
   ]
  },
  {
   "cell_type": "markdown",
   "metadata": {},
   "source": [
    "#### Check number of extracted filings in each folder"
   ]
  },
  {
   "cell_type": "markdown",
   "metadata": {},
   "source": [
    "#### 2025 Download"
   ]
  },
  {
   "cell_type": "code",
   "execution_count": 33,
   "metadata": {},
   "outputs": [
    {
     "name": "stdout",
     "output_type": "stream",
     "text": [
      "# of newly added sub-folders: 13\n",
      "2024_TEOS_XML_03A  # of XML files in folder: 38418\n",
      "2024_TEOS_XML_07A  # of XML files in folder: 50144\n",
      "2025_TEOS_XML_01A  # of XML files in folder: 17044\n",
      "2025_TEOS_XML_02A  # of XML files in folder: 41855\n",
      "2024_TEOS_XML_10A  # of XML files in folder: 43392\n",
      "2024_TEOS_XML_02A  # of XML files in folder: 40284\n",
      "2024_TEOS_XML_09A  # of XML files in folder: 44108\n",
      "2024_TEOS_XML_06A  # of XML files in folder: 29408\n",
      "2024_TEOS_XML_04A  # of XML files in folder: 59487\n",
      "2024_TEOS_XML_11A  # of XML files in folder: 186632\n",
      "2024_TEOS_XML_12A  # of XML files in folder: 21676\n",
      "2024_TEOS_XML_08A  # of XML files in folder: 41687\n",
      "2024_TEOS_XML_05A  # of XML files in folder: 156237\n",
      "\n",
      "Total # of Filings: 770372\n"
     ]
    }
   ],
   "source": [
    "import os\n",
    "\n",
    "directory = 'D:\\\\IRS 990 Filings (XML) with folders'\n",
    "new_folder_names = [os.path.splitext(f)[0] for f in downloaded_filenames]\n",
    "subfolders_with_paths = [os.path.join(directory, name) for name in new_folder_names if os.path.isdir(os.path.join(directory, name))]\n",
    "\n",
    "print('# of newly added sub-folders:', len(subfolders_with_paths))\n",
    "\n",
    "total_xml_files = 0\n",
    "\n",
    "for folder_path in subfolders_with_paths:\n",
    "    folder_name = os.path.basename(folder_path)\n",
    "    contents = os.listdir(folder_path)\n",
    "\n",
    "    # Default path to count files in\n",
    "    target_path = folder_path\n",
    "\n",
    "    # If there's exactly one subfolder inside, and it's a folder, dive into it\n",
    "    if len(contents) == 1:\n",
    "        possible_subfolder = os.path.join(folder_path, contents[0])\n",
    "        if os.path.isdir(possible_subfolder):\n",
    "            target_path = possible_subfolder\n",
    "\n",
    "    # Count only XML files\n",
    "    xml_files = [f for f in os.listdir(target_path) if f.endswith('.xml')]\n",
    "    num_xml_files = len(xml_files)\n",
    "    print(f\"{folder_name}  # of XML files in folder: {num_xml_files}\")\n",
    "    total_xml_files += num_xml_files\n",
    "\n",
    "print('\\nTotal # of Filings:', total_xml_files)"
   ]
  },
  {
   "cell_type": "markdown",
   "metadata": {},
   "source": [
    "### MongoDB\n",
    "Depending on the project, I will store the data in SQLite or MongoDB. This time I'll use MongoDB -- it's great for storing JSON data where each observation could have different variables. Before we get to the interesting part the following code blocks set up the MongoDB environment and the new database we'll be using. \n",
    "\n",
    "**_Note:_** In a terminal we'll have to start MongoDB by running the command *mongod* or *sudo mongod*. Then we run the following code block here to access MongoDB."
   ]
  },
  {
   "cell_type": "code",
   "execution_count": 6,
   "metadata": {},
   "outputs": [],
   "source": [
    "import pymongo\n",
    "from pymongo import MongoClient\n",
    "client = MongoClient()"
   ]
  },
  {
   "cell_type": "code",
   "execution_count": 7,
   "metadata": {},
   "outputs": [],
   "source": [
    "db = client['irs_990_db']\n",
    "filings_990 = db['filings_990']\n",
    "filings_990_x = db['filings_990_x']\n",
    "filings_990_y = db['filings_990_y']"
   ]
  },
  {
   "cell_type": "code",
   "execution_count": 58,
   "metadata": {},
   "outputs": [
    {
     "data": {
      "text/plain": [
       "['_id_', 'URL_1']"
      ]
     },
     "execution_count": 58,
     "metadata": {},
     "output_type": "execute_result"
    }
   ],
   "source": [
    "#Set a unique constraint on the collection based on *URL*. This will avert duplicates from being inserted.\n",
    "#db.filings_990_x.create_index([('URL', pymongo.ASCENDING)], unique=True)\n",
    "list(db.filings_990.index_information())"
   ]
  },
  {
   "cell_type": "code",
   "execution_count": 59,
   "metadata": {},
   "outputs": [
    {
     "data": {
      "text/plain": [
       "['_id_', 'URL_1']"
      ]
     },
     "execution_count": 59,
     "metadata": {},
     "output_type": "execute_result"
    }
   ],
   "source": [
    "list(db.filings_990_x.index_information())"
   ]
  },
  {
   "cell_type": "code",
   "execution_count": 60,
   "metadata": {},
   "outputs": [
    {
     "data": {
      "text/plain": [
       "['_id_', 'URL_1']"
      ]
     },
     "execution_count": 60,
     "metadata": {},
     "output_type": "execute_result"
    }
   ],
   "source": [
    "list(db.filings_990_y.index_information())"
   ]
  },
  {
   "cell_type": "code",
   "execution_count": 61,
   "metadata": {},
   "outputs": [
    {
     "data": {
      "text/plain": [
       "2192435"
      ]
     },
     "execution_count": 61,
     "metadata": {},
     "output_type": "execute_result"
    }
   ],
   "source": [
    "filings_990.estimated_document_count()"
   ]
  },
  {
   "cell_type": "code",
   "execution_count": 62,
   "metadata": {},
   "outputs": [
    {
     "data": {
      "text/plain": [
       "217259"
      ]
     },
     "execution_count": 62,
     "metadata": {},
     "output_type": "execute_result"
    }
   ],
   "source": [
    "filings_990_x.estimated_document_count()"
   ]
  },
  {
   "cell_type": "code",
   "execution_count": 63,
   "metadata": {},
   "outputs": [
    {
     "data": {
      "text/plain": [
       "891980"
      ]
     },
     "execution_count": 63,
     "metadata": {},
     "output_type": "execute_result"
    }
   ],
   "source": [
    "filings_990_y.estimated_document_count()"
   ]
  },
  {
   "cell_type": "code",
   "execution_count": 64,
   "metadata": {},
   "outputs": [
    {
     "name": "stdout",
     "output_type": "stream",
     "text": [
      "\n",
      "⏳ Processing collection: filings_990_x...\n",
      "✅ Inserted 217259 new documents from filings_990_x\n",
      "\n",
      "⏳ Processing collection: filings_990_y...\n",
      "✅ Inserted 674721 new documents from filings_990_y\n",
      "CPU times: total: 24min 26s\n",
      "Wall time: 36min 24s\n"
     ]
    }
   ],
   "source": [
    "%%time\n",
    "\n",
    "def insert_unique_docs_by_url(source_collection, target_collection):\n",
    "    print(f\"\\n⏳ Processing collection: {source_collection.name}...\")\n",
    "\n",
    "    # Get existing URLs in the target collection\n",
    "    existing_urls = set(\n",
    "        doc['URL'] for doc in target_collection.find({}, {'URL': 1})\n",
    "    )\n",
    "\n",
    "    new_docs = []\n",
    "    for doc in source_collection.find():\n",
    "        if doc['URL'] not in existing_urls:\n",
    "            new_docs.append(doc)\n",
    "\n",
    "    if new_docs:\n",
    "        target_collection.insert_many(new_docs)\n",
    "        print(f\"✅ Inserted {len(new_docs)} new documents from {source_collection.name}\")\n",
    "    else:\n",
    "        print(f\"✅ No new documents to insert from {source_collection.name}\")\n",
    "\n",
    "# Run the merge\n",
    "insert_unique_docs_by_url(filings_990_x, filings_990)\n",
    "insert_unique_docs_by_url(filings_990_y, filings_990)"
   ]
  },
  {
   "cell_type": "markdown",
   "metadata": {},
   "source": [
    "<br>Here is my expected updated count for `filings_990`"
   ]
  },
  {
   "cell_type": "code",
   "execution_count": 65,
   "metadata": {},
   "outputs": [
    {
     "data": {
      "text/plain": [
       "3301674"
      ]
     },
     "execution_count": 65,
     "metadata": {},
     "output_type": "execute_result"
    }
   ],
   "source": [
    "2192435+217259+891980"
   ]
  },
  {
   "cell_type": "code",
   "execution_count": 66,
   "metadata": {},
   "outputs": [
    {
     "data": {
      "text/plain": [
       "3084415"
      ]
     },
     "execution_count": 66,
     "metadata": {},
     "output_type": "execute_result"
    }
   ],
   "source": [
    "filings_990.estimated_document_count()"
   ]
  },
  {
   "cell_type": "code",
   "execution_count": 67,
   "metadata": {},
   "outputs": [
    {
     "data": {
      "text/plain": [
       "217259"
      ]
     },
     "execution_count": 67,
     "metadata": {},
     "output_type": "execute_result"
    }
   ],
   "source": [
    "filings_990_x.estimated_document_count()"
   ]
  },
  {
   "cell_type": "code",
   "execution_count": 68,
   "metadata": {},
   "outputs": [
    {
     "data": {
      "text/plain": [
       "891980"
      ]
     },
     "execution_count": 68,
     "metadata": {},
     "output_type": "execute_result"
    }
   ],
   "source": [
    "filings_990_y.estimated_document_count()"
   ]
  },
  {
   "cell_type": "markdown",
   "metadata": {},
   "source": [
    "<br>Connect to our database that contains the filing index data we downloaded earlier."
   ]
  },
  {
   "cell_type": "code",
   "execution_count": 10,
   "metadata": {},
   "outputs": [],
   "source": [
    "#from bson.son import SON\n",
    "#pipeline = [ {\"$group\": {\"_id\": \"$FormType\", \"count\": {\"$sum\": 1}}} ]\n",
    "#list(file_list_2021.aggregate(pipeline))"
   ]
  },
  {
   "cell_type": "markdown",
   "metadata": {},
   "source": [
    "### Loop over List of Filings, grab e-file data, and insert into second database\n",
    "First we'll write a function to turn an ordered dictionary (which is what is returned by *xmltodict*) into a normal Python dictionary so that we can combine it with the filing data gathered above.\n",
    "\n",
    "What I'm doing in the next five or so blocks of code is looping over the *list* of 3 million plus filings that I've previously downloaded, and then downloading the full e-file 990 filings for all orgs that match one of our 8,304 EINs."
   ]
  },
  {
   "cell_type": "code",
   "execution_count": 8,
   "metadata": {},
   "outputs": [],
   "source": [
    "from json import loads, dumps\n",
    "from collections import OrderedDict\n",
    "\n",
    "def to_dict(input_ordered_dict):\n",
    "    return loads(dumps(input_ordered_dict))"
   ]
  },
  {
   "cell_type": "markdown",
   "metadata": {},
   "source": [
    "<br>In brief, what we want to do is write code that will loop over all relevant rows in our MongoDB collection, visit the respective URL where the 990 data are located, grab those data, convert them to a dictionary, and then insert into a new MongoDB collection. \n",
    " "
   ]
  },
  {
   "cell_type": "code",
   "execution_count": 9,
   "metadata": {},
   "outputs": [
    {
     "data": {
      "text/plain": [
       "['_id_', 'URL_1']"
      ]
     },
     "execution_count": 9,
     "metadata": {},
     "output_type": "execute_result"
    }
   ],
   "source": [
    "list(db.filings_990.index_information())"
   ]
  },
  {
   "cell_type": "markdown",
   "metadata": {},
   "source": [
    "#### Get list of downloaded filings"
   ]
  },
  {
   "cell_type": "code",
   "execution_count": 10,
   "metadata": {},
   "outputs": [
    {
     "data": {
      "text/plain": [
       "3469008"
      ]
     },
     "execution_count": 10,
     "metadata": {},
     "output_type": "execute_result"
    }
   ],
   "source": [
    "filings_990.estimated_document_count()"
   ]
  },
  {
   "cell_type": "code",
   "execution_count": 12,
   "metadata": {},
   "outputs": [],
   "source": [
    "import pandas as pd\n",
    "import numpy as np"
   ]
  },
  {
   "cell_type": "code",
   "execution_count": 13,
   "metadata": {},
   "outputs": [
    {
     "name": "stdout",
     "output_type": "stream",
     "text": [
      "Current date and time :  2025-04-06 14:18:03 \n",
      "\n",
      "Number of columns: 1\n",
      "Number of observations: 3469008\n",
      "CPU times: total: 6.23 s\n",
      "Wall time: 1h 53min 59s\n"
     ]
    },
    {
     "data": {
      "text/html": [
       "<div>\n",
       "<style scoped>\n",
       "    .dataframe tbody tr th:only-of-type {\n",
       "        vertical-align: middle;\n",
       "    }\n",
       "\n",
       "    .dataframe tbody tr th {\n",
       "        vertical-align: top;\n",
       "    }\n",
       "\n",
       "    .dataframe thead th {\n",
       "        text-align: right;\n",
       "    }\n",
       "</style>\n",
       "<table border=\"1\" class=\"dataframe\">\n",
       "  <thead>\n",
       "    <tr style=\"text-align: right;\">\n",
       "      <th></th>\n",
       "      <th>URL</th>\n",
       "    </tr>\n",
       "  </thead>\n",
       "  <tbody>\n",
       "    <tr>\n",
       "      <th>0</th>\n",
       "      <td>https://s3.amazonaws.com/irs-form-990/20111313...</td>\n",
       "    </tr>\n",
       "  </tbody>\n",
       "</table>\n",
       "</div>"
      ],
      "text/plain": [
       "                                                 URL\n",
       "0  https://s3.amazonaws.com/irs-form-990/20111313..."
      ]
     },
     "execution_count": 13,
     "metadata": {},
     "output_type": "execute_result"
    }
   ],
   "source": [
    "%%time\n",
    "import datetime\n",
    "print (\"Current date and time : \", datetime.datetime.now().strftime(\"%Y-%m-%d %H:%M:%S\"), '\\n')\n",
    "dff = pd.DataFrame(list(filings_990.find({}, {'URL':1, \n",
    "    '_id':0})))\n",
    "print(\"Number of columns:\", len(dff.columns))\n",
    "print(\"Number of observations:\", len(dff))\n",
    "dff[:1]"
   ]
  },
  {
   "cell_type": "code",
   "execution_count": 16,
   "metadata": {},
   "outputs": [
    {
     "data": {
      "text/plain": [
       "'D:\\\\IRS 990 Filings (zipped)'"
      ]
     },
     "execution_count": 16,
     "metadata": {},
     "output_type": "execute_result"
    }
   ],
   "source": [
    "pwd"
   ]
  },
  {
   "cell_type": "code",
   "execution_count": 17,
   "metadata": {},
   "outputs": [
    {
     "name": "stdout",
     "output_type": "stream",
     "text": [
      "CPU times: total: 40.4 s\n",
      "Wall time: 42 s\n"
     ]
    }
   ],
   "source": [
    "%%time\n",
    "dff.to_pickle('C:\\\\Users\\\\Gregory\\\\IRS 990 Control Variables\\\\URLs of all filings up to 2025.pkl.gz', compression='gzip')"
   ]
  },
  {
   "cell_type": "code",
   "execution_count": null,
   "metadata": {},
   "outputs": [],
   "source": [
    "#cd '/Users/gsaxton/Dropbox/990 e-file data'"
   ]
  },
  {
   "cell_type": "code",
   "execution_count": 23,
   "metadata": {},
   "outputs": [
    {
     "name": "stdout",
     "output_type": "stream",
     "text": [
      "Current date and time :  2024-01-13 00:23:47 \n",
      "\n",
      "Number of columns: 1\n",
      "Number of observations: 2192435\n",
      "CPU times: total: 797 ms\n",
      "Wall time: 850 ms\n"
     ]
    },
    {
     "data": {
      "text/html": [
       "<div>\n",
       "<style scoped>\n",
       "    .dataframe tbody tr th:only-of-type {\n",
       "        vertical-align: middle;\n",
       "    }\n",
       "\n",
       "    .dataframe tbody tr th {\n",
       "        vertical-align: top;\n",
       "    }\n",
       "\n",
       "    .dataframe thead th {\n",
       "        text-align: right;\n",
       "    }\n",
       "</style>\n",
       "<table border=\"1\" class=\"dataframe\">\n",
       "  <thead>\n",
       "    <tr style=\"text-align: right;\">\n",
       "      <th></th>\n",
       "      <th>URL</th>\n",
       "    </tr>\n",
       "  </thead>\n",
       "  <tbody>\n",
       "    <tr>\n",
       "      <th>9362</th>\n",
       "      <td>https://s3.amazonaws.com/irs-form-990/201013993493000040_public.xml</td>\n",
       "    </tr>\n",
       "  </tbody>\n",
       "</table>\n",
       "</div>"
      ],
      "text/plain": [
       "                                                                      URL\n",
       "9362  https://s3.amazonaws.com/irs-form-990/201013993493000040_public.xml"
      ]
     },
     "execution_count": 23,
     "metadata": {},
     "output_type": "execute_result"
    }
   ],
   "source": [
    "\"\"\"\n",
    "%%time\n",
    "import datetime\n",
    "print (\"Current date and time : \", datetime.datetime.now().strftime(\"%Y-%m-%d %H:%M:%S\"), '\\n')\n",
    "dff = pd.read_pickle('C:\\\\Users\\\\Gregory\\\\IRS 990 Control Variables\\\\URLs of all filings pre-2024.pkl.gz', compression='gzip')\n",
    "print(\"Number of columns:\", len(dff.columns))\n",
    "print(\"Number of observations:\", len(dff))\n",
    "dff[:1]\n",
    "\"\"\""
   ]
  },
  {
   "cell_type": "code",
   "execution_count": 18,
   "metadata": {},
   "outputs": [
    {
     "data": {
      "text/html": [
       "<div>\n",
       "<style scoped>\n",
       "    .dataframe tbody tr th:only-of-type {\n",
       "        vertical-align: middle;\n",
       "    }\n",
       "\n",
       "    .dataframe tbody tr th {\n",
       "        vertical-align: top;\n",
       "    }\n",
       "\n",
       "    .dataframe thead th {\n",
       "        text-align: right;\n",
       "    }\n",
       "</style>\n",
       "<table border=\"1\" class=\"dataframe\">\n",
       "  <thead>\n",
       "    <tr style=\"text-align: right;\">\n",
       "      <th></th>\n",
       "      <th>URL</th>\n",
       "    </tr>\n",
       "  </thead>\n",
       "  <tbody>\n",
       "    <tr>\n",
       "      <th>3158451</th>\n",
       "      <td>https://s3.amazonaws.com/irs-form-990/20254051...</td>\n",
       "    </tr>\n",
       "    <tr>\n",
       "      <th>3158452</th>\n",
       "      <td>https://s3.amazonaws.com/irs-form-990/20254051...</td>\n",
       "    </tr>\n",
       "    <tr>\n",
       "      <th>3158453</th>\n",
       "      <td>https://s3.amazonaws.com/irs-form-990/20254051...</td>\n",
       "    </tr>\n",
       "    <tr>\n",
       "      <th>3158454</th>\n",
       "      <td>https://s3.amazonaws.com/irs-form-990/20254051...</td>\n",
       "    </tr>\n",
       "    <tr>\n",
       "      <th>3158455</th>\n",
       "      <td>https://s3.amazonaws.com/irs-form-990/20254051...</td>\n",
       "    </tr>\n",
       "  </tbody>\n",
       "</table>\n",
       "</div>"
      ],
      "text/plain": [
       "                                                       URL\n",
       "3158451  https://s3.amazonaws.com/irs-form-990/20254051...\n",
       "3158452  https://s3.amazonaws.com/irs-form-990/20254051...\n",
       "3158453  https://s3.amazonaws.com/irs-form-990/20254051...\n",
       "3158454  https://s3.amazonaws.com/irs-form-990/20254051...\n",
       "3158455  https://s3.amazonaws.com/irs-form-990/20254051..."
      ]
     },
     "execution_count": 18,
     "metadata": {},
     "output_type": "execute_result"
    }
   ],
   "source": [
    "dff[-5:]"
   ]
  },
  {
   "cell_type": "code",
   "execution_count": 19,
   "metadata": {},
   "outputs": [
    {
     "name": "stdout",
     "output_type": "stream",
     "text": [
      "CPU times: total: 3.81 s\n",
      "Wall time: 4 s\n"
     ]
    },
    {
     "data": {
      "text/html": [
       "<div>\n",
       "<style scoped>\n",
       "    .dataframe tbody tr th:only-of-type {\n",
       "        vertical-align: middle;\n",
       "    }\n",
       "\n",
       "    .dataframe tbody tr th {\n",
       "        vertical-align: top;\n",
       "    }\n",
       "\n",
       "    .dataframe thead th {\n",
       "        text-align: right;\n",
       "    }\n",
       "</style>\n",
       "<table border=\"1\" class=\"dataframe\">\n",
       "  <thead>\n",
       "    <tr style=\"text-align: right;\">\n",
       "      <th></th>\n",
       "      <th>URL</th>\n",
       "    </tr>\n",
       "  </thead>\n",
       "  <tbody>\n",
       "    <tr>\n",
       "      <th>9362</th>\n",
       "      <td>https://s3.amazonaws.com/irs-form-990/20101399...</td>\n",
       "    </tr>\n",
       "    <tr>\n",
       "      <th>8619</th>\n",
       "      <td>https://s3.amazonaws.com/irs-form-990/20101399...</td>\n",
       "    </tr>\n",
       "    <tr>\n",
       "      <th>9851</th>\n",
       "      <td>https://s3.amazonaws.com/irs-form-990/20101399...</td>\n",
       "    </tr>\n",
       "    <tr>\n",
       "      <th>8775</th>\n",
       "      <td>https://s3.amazonaws.com/irs-form-990/20101399...</td>\n",
       "    </tr>\n",
       "    <tr>\n",
       "      <th>9005</th>\n",
       "      <td>https://s3.amazonaws.com/irs-form-990/20101399...</td>\n",
       "    </tr>\n",
       "  </tbody>\n",
       "</table>\n",
       "</div>"
      ],
      "text/plain": [
       "                                                    URL\n",
       "9362  https://s3.amazonaws.com/irs-form-990/20101399...\n",
       "8619  https://s3.amazonaws.com/irs-form-990/20101399...\n",
       "9851  https://s3.amazonaws.com/irs-form-990/20101399...\n",
       "8775  https://s3.amazonaws.com/irs-form-990/20101399...\n",
       "9005  https://s3.amazonaws.com/irs-form-990/20101399..."
      ]
     },
     "execution_count": 19,
     "metadata": {},
     "output_type": "execute_result"
    }
   ],
   "source": [
    "%%time\n",
    "dff=dff.sort_values('URL', ascending=1)\n",
    "dff[:5]"
   ]
  },
  {
   "cell_type": "code",
   "execution_count": 20,
   "metadata": {},
   "outputs": [
    {
     "name": "stdout",
     "output_type": "stream",
     "text": [
      "3469008\n",
      "3469008\n",
      "3469008\n",
      "3469008\n"
     ]
    },
    {
     "data": {
      "text/plain": [
       "['https://s3.amazonaws.com/irs-form-990/201013993493000040_public.xml',\n",
       " 'https://s3.amazonaws.com/irs-form-990/201013993493001130_public.xml']"
      ]
     },
     "execution_count": 20,
     "metadata": {},
     "output_type": "execute_result"
    }
   ],
   "source": [
    "##### Generate and save a list of downloaded 990 filings\n",
    "mongo_files = dff['URL'].tolist()\n",
    "print(len(mongo_files))\n",
    "print(len(set(mongo_files)))\n",
    "mongo_files = [f for f in mongo_files if pd.isnull(f) == False]# and x != 'nan']\n",
    "print(len(mongo_files))\n",
    "print(len(set(mongo_files)))\n",
    "mongo_files[:2]"
   ]
  },
  {
   "cell_type": "markdown",
   "metadata": {},
   "source": [
    "### Download IRS 990 Data and Available Schedules\n",
    "Now let's run the loop for all five EINs, grab the 33 IRS 990 filings, and insert them into our new MongoDB table. This block has some additional code that I won't discuss in detail (see comments below for further details). The short answer is that we are looping over each row in our database, visiting the URL that contains the 990 data, and then grabbing all of the data returned by the <code>IRS990</code> key. For convenience purposes, we then combine this new data with the associated filing index data from our first database, and then insert the combined data into our new <code>filings</code> collection.\n",
    "\n",
    "Note that this code block will only work for organizations that have the <code>IRS990</code> key. The check is found in the following line of code:\n",
    "\n",
    "&nbsp; &nbsp; <code>if 'IRS990' in data['Return']['ReturnData']:</code>\n",
    "\n",
    "This means that organizations filing *990EZ* or *990PF* will be skipped. However, the code block could easily be modified to grab 990EZ or 990PF filings. \n",
    "\n",
    "Compared to the <a href=\"http://social-metrics.org/irs-990-e-file-data-part-4/\">simpler version of this tutorials</a>, we are also adding columns for five keys that are nested under the ['Return'] key. If you're not familiar with Python this line of code from the code block we'll be using will seem perplexing:\n",
    "\n",
    "&nbsp; &nbsp; <code>return_info = {k:v for k,v in datax['Return'].iteritems() if k not in ('ReturnData')}</code>\n",
    "\n",
    "What this code does is assign to a new dictionary called *return_info* every key and value nested under &nbsp; <code>datax['Return']</code> &nbsp;  except for <code>datax['Return]['ReturnData']</code>. &nbsp; The latter contains our 990 data, so we are going to deal with that separately. So, *return_info* will contain one column for each of the following keys: &nbsp; <code>'@xmlns', '@xmlns:xsi', '@xsi:schemaLocation', '@returnVersion', 'ReturnHeader'</code>. &nbsp; We are not likely to use these data but it will be good to have them handy in case we need them. \n",
    "\n",
    "Similarly, with the following line we create a new dictionary that will contain all of the keys nested under &nbsp; <code>datax['Return']['ReturnData']</code> &nbsp; except for &nbsp; <code>datax['Return]['ReturnData']['IRS990]</code>. &nbsp; \n",
    "\n",
    "&nbsp; &nbsp; <code>schedules = {k:v for k,v in datax['Return']['ReturnData'].iteritems() if k not in ('IRS990')}</code>\n",
    "\n",
    "We then combine the 9 columns from our existing MongoDB collection, the 5 columns from *return_info*, the available columns in the dictionary *schedules*, and the 200+ columns from &nbsp; <code>datax['Return]['ReturnData']['IRS990]</code>. &nbsp;  This combined dictionary is then added to our new MongoDB *filings* collection.\n",
    "\n",
    "What we are doing here is deciding not to \"flatten\" the data available in the schedules. Instead, the focus of this dataset is the actual core 990 data. Our resultant dataset will have a dozen or so \"background\" or filing detail columns, a half-dozen or so columns containing data on any available schedules, and then 200+ columns containing the 990 data. For most research purposes this will suffice and will minimize the need to flatten keys with nested data. But whenever we have the need the data will be there waiting for us. "
   ]
  },
  {
   "cell_type": "code",
   "execution_count": 21,
   "metadata": {},
   "outputs": [],
   "source": [
    "from json import loads, dumps\n",
    "from collections import OrderedDict\n",
    "\n",
    "def to_dict(input_ordered_dict):\n",
    "    return loads(dumps(input_ordered_dict))"
   ]
  },
  {
   "cell_type": "code",
   "execution_count": 24,
   "metadata": {},
   "outputs": [
    {
     "name": "stdout",
     "output_type": "stream",
     "text": [
      "Current date and time :  2025-04-06 23:24:09 \n",
      "\n"
     ]
    }
   ],
   "source": [
    "import datetime\n",
    "print (\"Current date and time : \", datetime.datetime.now().strftime(\"%Y-%m-%d %H:%M:%S\"), '\\n')"
   ]
  },
  {
   "cell_type": "markdown",
   "metadata": {},
   "source": [
    "##### To get a list of all sub-directories"
   ]
  },
  {
   "cell_type": "code",
   "execution_count": 25,
   "metadata": {},
   "outputs": [
    {
     "data": {
      "text/plain": [
       "<generator object _walk at 0x000002083ED59CB0>"
      ]
     },
     "execution_count": 25,
     "metadata": {},
     "output_type": "execute_result"
    }
   ],
   "source": [
    "import os \n",
    "directory = 'D:\\IRS 990 Filings (XML) with folders'\n",
    "os.walk(directory)"
   ]
  },
  {
   "cell_type": "markdown",
   "metadata": {},
   "source": [
    "<br>We have 67 sub-directories to loop over"
   ]
  },
  {
   "cell_type": "code",
   "execution_count": 76,
   "metadata": {},
   "outputs": [],
   "source": [
    "#list_subfolders_with_paths = [f.path for f in os.scandir(directory) if f.is_dir()]\n",
    "#print(len(list_subfolders_with_paths))\n",
    "#list_subfolders_with_paths"
   ]
  },
  {
   "cell_type": "code",
   "execution_count": 80,
   "metadata": {},
   "outputs": [
    {
     "name": "stdout",
     "output_type": "stream",
     "text": [
      "13\n"
     ]
    },
    {
     "data": {
      "text/plain": [
       "['D:\\\\IRS 990 Filings (XML) with folders\\\\2024_TEOS_XML_03A',\n",
       " 'D:\\\\IRS 990 Filings (XML) with folders\\\\2024_TEOS_XML_07A',\n",
       " 'D:\\\\IRS 990 Filings (XML) with folders\\\\2025_TEOS_XML_01A',\n",
       " 'D:\\\\IRS 990 Filings (XML) with folders\\\\2025_TEOS_XML_02A',\n",
       " 'D:\\\\IRS 990 Filings (XML) with folders\\\\2024_TEOS_XML_10A',\n",
       " 'D:\\\\IRS 990 Filings (XML) with folders\\\\2024_TEOS_XML_02A',\n",
       " 'D:\\\\IRS 990 Filings (XML) with folders\\\\2024_TEOS_XML_09A',\n",
       " 'D:\\\\IRS 990 Filings (XML) with folders\\\\2024_TEOS_XML_06A',\n",
       " 'D:\\\\IRS 990 Filings (XML) with folders\\\\2024_TEOS_XML_04A',\n",
       " 'D:\\\\IRS 990 Filings (XML) with folders\\\\2024_TEOS_XML_11A',\n",
       " 'D:\\\\IRS 990 Filings (XML) with folders\\\\2024_TEOS_XML_12A',\n",
       " 'D:\\\\IRS 990 Filings (XML) with folders\\\\2024_TEOS_XML_08A',\n",
       " 'D:\\\\IRS 990 Filings (XML) with folders\\\\2024_TEOS_XML_05A']"
      ]
     },
     "execution_count": 80,
     "metadata": {},
     "output_type": "execute_result"
    }
   ],
   "source": [
    "new_dir = 'D:\\\\IRS 990 Filings (XML) with folders\\\\'\n",
    "new_folder_names = [os.path.splitext(f)[0] for f in downloaded_filenames]\n",
    "new_subfolders = [os.path.join(new_dir, folder) for folder in new_folder_names if os.path.isdir(os.path.join(new_dir, folder))]\n",
    "print(len(new_subfolders))\n",
    "new_subfolders"
   ]
  },
  {
   "cell_type": "code",
   "execution_count": 34,
   "metadata": {},
   "outputs": [
    {
     "data": {
      "text/plain": [
       "['D:\\\\IRS 990 Filings (XML) with folders\\\\2024_TEOS_XML_03A',\n",
       " 'D:\\\\IRS 990 Filings (XML) with folders\\\\2024_TEOS_XML_07A',\n",
       " 'D:\\\\IRS 990 Filings (XML) with folders\\\\2025_TEOS_XML_01A',\n",
       " 'D:\\\\IRS 990 Filings (XML) with folders\\\\2025_TEOS_XML_02A',\n",
       " 'D:\\\\IRS 990 Filings (XML) with folders\\\\2024_TEOS_XML_10A',\n",
       " 'D:\\\\IRS 990 Filings (XML) with folders\\\\2024_TEOS_XML_02A',\n",
       " 'D:\\\\IRS 990 Filings (XML) with folders\\\\2024_TEOS_XML_09A',\n",
       " 'D:\\\\IRS 990 Filings (XML) with folders\\\\2024_TEOS_XML_06A',\n",
       " 'D:\\\\IRS 990 Filings (XML) with folders\\\\2024_TEOS_XML_04A',\n",
       " 'D:\\\\IRS 990 Filings (XML) with folders\\\\2024_TEOS_XML_11A',\n",
       " 'D:\\\\IRS 990 Filings (XML) with folders\\\\2024_TEOS_XML_12A',\n",
       " 'D:\\\\IRS 990 Filings (XML) with folders\\\\2024_TEOS_XML_08A',\n",
       " 'D:\\\\IRS 990 Filings (XML) with folders\\\\2024_TEOS_XML_05A']"
      ]
     },
     "execution_count": 34,
     "metadata": {},
     "output_type": "execute_result"
    }
   ],
   "source": [
    "new_subfolders = ['D:\\\\IRS 990 Filings (XML) with folders\\\\2024_TEOS_XML_03A',\n",
    " 'D:\\\\IRS 990 Filings (XML) with folders\\\\2024_TEOS_XML_07A',\n",
    " 'D:\\\\IRS 990 Filings (XML) with folders\\\\2025_TEOS_XML_01A',\n",
    " 'D:\\\\IRS 990 Filings (XML) with folders\\\\2025_TEOS_XML_02A',\n",
    " 'D:\\\\IRS 990 Filings (XML) with folders\\\\2024_TEOS_XML_10A',\n",
    " 'D:\\\\IRS 990 Filings (XML) with folders\\\\2024_TEOS_XML_02A',\n",
    " 'D:\\\\IRS 990 Filings (XML) with folders\\\\2024_TEOS_XML_09A',\n",
    " 'D:\\\\IRS 990 Filings (XML) with folders\\\\2024_TEOS_XML_06A',\n",
    " 'D:\\\\IRS 990 Filings (XML) with folders\\\\2024_TEOS_XML_04A',\n",
    " 'D:\\\\IRS 990 Filings (XML) with folders\\\\2024_TEOS_XML_11A',\n",
    " 'D:\\\\IRS 990 Filings (XML) with folders\\\\2024_TEOS_XML_12A',\n",
    " 'D:\\\\IRS 990 Filings (XML) with folders\\\\2024_TEOS_XML_08A',\n",
    " 'D:\\\\IRS 990 Filings (XML) with folders\\\\2024_TEOS_XML_05A']\n",
    "new_subfolders"
   ]
  },
  {
   "cell_type": "markdown",
   "metadata": {},
   "source": [
    "#### Search for Filings > 16MB"
   ]
  },
  {
   "cell_type": "code",
   "execution_count": 82,
   "metadata": {},
   "outputs": [
    {
     "name": "stdout",
     "output_type": "stream",
     "text": [
      "\n",
      "🔍 Found 9 oversized files:\n",
      "📁 D:\\IRS 990 Filings (XML) with folders\\2024_TEOS_XML_02A\\202410469349300741_public.xml — 26.29 MB\n",
      "📁 D:\\IRS 990 Filings (XML) with folders\\2024_TEOS_XML_02A\\202430459349302913_public.xml — 49.66 MB\n",
      "📁 D:\\IRS 990 Filings (XML) with folders\\2024_TEOS_XML_04A\\202411039349301716_public.xml — 35.33 MB\n",
      "📁 D:\\IRS 990 Filings (XML) with folders\\2024_TEOS_XML_05A\\202411309349100126_public.xml — 40.59 MB\n",
      "📁 D:\\IRS 990 Filings (XML) with folders\\2024_TEOS_XML_05A\\202441359349309439_public.xml — 15.93 MB\n",
      "📁 D:\\IRS 990 Filings (XML) with folders\\2024_TEOS_XML_05A\\202441369349301334_public.xml — 54.88 MB\n",
      "📁 D:\\IRS 990 Filings (XML) with folders\\2025_TEOS_XML_01A\\202530159349302758_public.xml — 29.94 MB\n",
      "📁 D:\\IRS 990 Filings (XML) with folders\\download990xml_2018_3\\201813199349310531_public.xml — 15.34 MB\n",
      "📁 D:\\IRS 990 Filings (XML) with folders\\download990xml_2019_8\\201943169349302844_public.xml — 15.28 MB\n",
      "CPU times: total: 14.9 s\n",
      "Wall time: 16min 3s\n"
     ]
    }
   ],
   "source": [
    "%%time\n",
    "\n",
    "# Base directory and size limit in bytes (MongoDB limit ~16MB)\n",
    "base_dir = \"D:\\\\IRS 990 Filings (XML) with folders\"\n",
    "size_limit_bytes = 16_000_000  # 16 MB (WITH SAFETY BUFFER)\n",
    "#size_limit_bytes = 16_777_216 # EXACTLY 16MB\n",
    "\n",
    "\n",
    "# Store oversized files\n",
    "oversized_files = []\n",
    "\n",
    "for path, subdirs, files in os.walk(base_dir):\n",
    "    for name in files:\n",
    "        file_path = os.path.join(path, name)\n",
    "        try:\n",
    "            file_size = os.path.getsize(file_path)\n",
    "            if file_size >= size_limit_bytes:\n",
    "                oversized_files.append((file_path, file_size))\n",
    "        except Exception as e:\n",
    "            print(f\"Error checking file {file_path}: {e}\")\n",
    "\n",
    "# Report\n",
    "print(f\"\\n🔍 Found {len(oversized_files)} oversized files:\")\n",
    "for fpath, fsize in oversized_files:\n",
    "    print(f\"📁 {fpath} — {fsize / (1024 * 1024):.2f} MB\")"
   ]
  },
  {
   "cell_type": "markdown",
   "metadata": {},
   "source": [
    "# Insert New Filings into MongoDB"
   ]
  },
  {
   "cell_type": "code",
   "execution_count": 26,
   "metadata": {},
   "outputs": [
    {
     "data": {
      "text/plain": [
       "3469008"
      ]
     },
     "execution_count": 26,
     "metadata": {},
     "output_type": "execute_result"
    }
   ],
   "source": [
    "filings_990.estimated_document_count()"
   ]
  },
  {
   "cell_type": "code",
   "execution_count": 65,
   "metadata": {},
   "outputs": [],
   "source": [
    "#os.listdir(folder)"
   ]
  },
  {
   "cell_type": "code",
   "execution_count": null,
   "metadata": {},
   "outputs": [],
   "source": [
    "from json import loads, dumps\n",
    "from collections import OrderedDict"
   ]
  },
  {
   "cell_type": "code",
   "execution_count": 95,
   "metadata": {},
   "outputs": [
    {
     "name": "stdout",
     "output_type": "stream",
     "text": [
      "\n",
      "📁 Processing folder: 2024_TEOS_XML_03A\n"
     ]
    }
   ],
   "source": [
    "# Loop over each newly extracted subfolder\n",
    "for folder in new_subfolders[:1]:\n",
    "    print(\"\\n📁 Processing folder:\", os.path.basename(folder))"
   ]
  },
  {
   "cell_type": "code",
   "execution_count": null,
   "metadata": {},
   "outputs": [],
   "source": []
  },
  {
   "cell_type": "code",
   "execution_count": null,
   "metadata": {},
   "outputs": [],
   "source": []
  },
  {
   "cell_type": "code",
   "execution_count": null,
   "metadata": {},
   "outputs": [],
   "source": []
  },
  {
   "cell_type": "code",
   "execution_count": null,
   "metadata": {},
   "outputs": [],
   "source": []
  },
  {
   "cell_type": "code",
   "execution_count": null,
   "metadata": {},
   "outputs": [],
   "source": []
  },
  {
   "cell_type": "markdown",
   "metadata": {},
   "source": [
    "# 4/5/2025 - Main Updated Loop \n",
    "Note: `existing_urls = set(doc['URL'] for doc in filings_990.find({}, {'URL': 1}))` and `if url in existing_urls` instead of `if filings_990.count_documents({'URL': url}, limit=1) > 0:`        \n",
    "\n",
    "#### `existing_urls` can be processed in the next code block but I have commented it out in order to see how long it takes"
   ]
  },
  {
   "cell_type": "code",
   "execution_count": 28,
   "metadata": {},
   "outputs": [
    {
     "name": "stdout",
     "output_type": "stream",
     "text": [
      "CPU times: total: 29.5 s\n",
      "Wall time: 11min 13s\n"
     ]
    }
   ],
   "source": [
    "%%time\n",
    "existing_urls = set(doc['URL'] for doc in filings_990.find({}, {'URL': 1}))"
   ]
  },
  {
   "cell_type": "code",
   "execution_count": 29,
   "metadata": {},
   "outputs": [
    {
     "name": "stdout",
     "output_type": "stream",
     "text": [
      "3469008\n"
     ]
    }
   ],
   "source": [
    "print(len(existing_urls))"
   ]
  },
  {
   "cell_type": "code",
   "execution_count": 30,
   "metadata": {},
   "outputs": [
    {
     "data": {
      "text/plain": [
       "['https://s3.amazonaws.com/irs-form-990/201301619349300115_public.xml',\n",
       " 'https://s3.amazonaws.com/irs-form-990/201411059349300011_public.xml',\n",
       " 'https://s3.amazonaws.com/irs-form-990/202103079349302950_public.xml',\n",
       " 'https://s3.amazonaws.com/irs-form-990/202002289349300705_public.xml',\n",
       " 'https://s3.amazonaws.com/irs-form-990/202441359349300639_public.xml']"
      ]
     },
     "execution_count": 30,
     "metadata": {},
     "output_type": "execute_result"
    }
   ],
   "source": [
    "list(existing_urls)[:5]"
   ]
  },
  {
   "cell_type": "code",
   "execution_count": 62,
   "metadata": {},
   "outputs": [
    {
     "name": "stdout",
     "output_type": "stream",
     "text": [
      "Current date and time: 2025-04-09 22:32:37 \n",
      "\n",
      "\n",
      " Processing folder: download990xml_2017_7\n"
     ]
    },
    {
     "data": {
      "application/vnd.jupyter.widget-view+json": {
       "model_id": "ccf45c4f6e6d4f149021e73d9bb3f3a7",
       "version_major": 2,
       "version_minor": 0
      },
      "text/plain": [
       "  0%|          | 0/26515 [00:00<?, ?it/s]"
      ]
     },
     "metadata": {},
     "output_type": "display_data"
    },
    {
     "name": "stdout",
     "output_type": "stream",
     "text": [
      "\n",
      " Processing folder: 2021_TEOS_XML_01H\n"
     ]
    },
    {
     "data": {
      "application/vnd.jupyter.widget-view+json": {
       "model_id": "0cd1db9997f34cf7ab02cadc5f52111d",
       "version_major": 2,
       "version_minor": 0
      },
      "text/plain": [
       "  0%|          | 0/29904 [00:00<?, ?it/s]"
      ]
     },
     "metadata": {},
     "output_type": "display_data"
    },
    {
     "name": "stdout",
     "output_type": "stream",
     "text": [
      "\n",
      " Processing folder: download990xml_2019_8\n"
     ]
    },
    {
     "data": {
      "application/vnd.jupyter.widget-view+json": {
       "model_id": "0390504b74294569bf24134fc8369265",
       "version_major": 2,
       "version_minor": 0
      },
      "text/plain": [
       "  0%|          | 0/28954 [00:00<?, ?it/s]"
      ]
     },
     "metadata": {},
     "output_type": "display_data"
    },
    {
     "name": "stdout",
     "output_type": "stream",
     "text": [
      "\n",
      "📊 Final Summary\n",
      "📂 Total subfolders processed: 13\n",
      "📄 Total XMLs processed: 85373\n",
      "✅ Filings inserted: 0\n",
      "🔁 Duplicates skipped: 49420\n",
      "📄 Non-990s skipped: 35953\n",
      "🗃️ Total filings now in database: 3469008\n",
      "➕ New filings added this run: 0\n",
      "CPU times: total: 2min 22s\n",
      "Wall time: 16min 52s\n"
     ]
    }
   ],
   "source": [
    "%%time\n",
    "\n",
    "import datetime\n",
    "print(\"Current date and time:\", datetime.datetime.now().strftime(\"%Y-%m-%d %H:%M:%S\"), '\\n')\n",
    "\n",
    "import os\n",
    "import xml.etree.ElementTree as ET\n",
    "import xmltodict\n",
    "import json\n",
    "from pymongo import MongoClient, errors\n",
    "#from IPython.display import clear_output\n",
    "from tqdm.notebook import tqdm\n",
    "\n",
    "\n",
    "#ET.register_namespace('', 'http://www.irs.gov/efile')\n",
    "\n",
    "# Mongo setup\n",
    "# client = MongoClient()\n",
    "# db = client['irs_990_db']\n",
    "# filings_990 = db['filings_990']\n",
    "\n",
    "def to_dict(input_ordered_dict):\n",
    "    return json.loads(json.dumps(input_ordered_dict))\n",
    "\n",
    "start_count = filings_990.estimated_document_count()\n",
    "counter = 0\n",
    "duplicates = 0\n",
    "non_990 = 0\n",
    "inserted = 0\n",
    "\n",
    "#existing_urls = set(doc['URL'] for doc in filings_990.find({}, {'URL': 1}))\n",
    "\n",
    "# Loop over each newly extracted subfolder\n",
    "for folder in new_subfolders[12:]:\n",
    "#for folder in sampled_folders[:]:  #THIS IS FOR THE SAMPLED FOLDERS - lIKELY NO LONGER NEEDED\n",
    "    print(\"\\n Processing folder:\", os.path.basename(folder))\n",
    "    \n",
    "    #for filename in os.listdir(folder):   \n",
    "    for filename in tqdm(os.listdir(folder)):\n",
    "        if not filename.endswith('.xml'):\n",
    "            continue\n",
    "\n",
    "        counter += 1\n",
    "        url = 'https://s3.amazonaws.com/irs-form-990/' + filename    \n",
    "\n",
    "        #if filings_990.count_documents({'URL': url}, limit=1) > 0:        \n",
    "        if url in existing_urls:\n",
    "            duplicates += 1\n",
    "            #clear_output()\n",
    "            #print(\"Already in *filings_990*\")\n",
    "            #print(('counter: ', counter, 'duplicates: ', duplicates, 'non-990: ', non_990), '\\n')\n",
    "            continue\n",
    "\n",
    "        file_path = os.path.join(folder, filename)\n",
    "\n",
    "        try:\n",
    "            tree = ET.parse(file_path)\n",
    "            root = tree.getroot()\n",
    "            xmlstr = ET.tostring(root, encoding='utf-8', method='xml')\n",
    "            datax = dict(xmltodict.parse(xmlstr))\n",
    "        except Exception as e:\n",
    "            #print(\"Could not parse XML:\", filename, \"(\", str(e), \")\")\n",
    "            continue\n",
    "\n",
    "        try:\n",
    "            return_data = datax['Return']['ReturnData']\n",
    "            if 'IRS990' in return_data:\n",
    "                return_info = {k: v for k, v in datax['Return'].items() if k != 'ReturnData'}\n",
    "                schedules = {k: v for k, v in return_data.items() if k != 'IRS990'}\n",
    "                data = to_dict(return_data['IRS990'])\n",
    "\n",
    "                record = dict(**return_info, **schedules, **data)\n",
    "                record['URL'] = url\n",
    "                record.pop('_id', None)\n",
    "\n",
    "                filings_990.insert_one(record)\n",
    "                inserted += 1\n",
    "\n",
    "            else:\n",
    "                non_990 += 1\n",
    "        except KeyError:\n",
    "            non_990 += 1\n",
    "            continue\n",
    "\n",
    "            \n",
    "            \n",
    "        # Print status every file\n",
    "        #clear_output()\n",
    "        #print(('counter: ', counter, 'duplicates: ', duplicates, 'non-990: ', non_990), '\\n')\n",
    "\n",
    "# Final summary\n",
    "print(\"\\n📊 Final Summary\")\n",
    "print(\"📂 Total subfolders processed:\", len(new_subfolders))\n",
    "print(\"📄 Total XMLs processed:\", counter)\n",
    "print(\"✅ Filings inserted:\", inserted)\n",
    "print(\"🔁 Duplicates skipped:\", duplicates)\n",
    "print(\"📄 Non-990s skipped:\", non_990)\n",
    "print(\"🗃️ Total filings now in database:\", filings_990.estimated_document_count())\n",
    "print(\"➕ New filings added this run:\", filings_990.estimated_document_count() - start_count)"
   ]
  },
  {
   "cell_type": "markdown",
   "metadata": {},
   "source": [
    "#### Now look at a few random previously extracted folders and re-run main block"
   ]
  },
  {
   "cell_type": "code",
   "execution_count": 49,
   "metadata": {},
   "outputs": [
    {
     "name": "stdout",
     "output_type": "stream",
     "text": [
      "Total folders in new_dir: 80\n",
      "Already processed folders: 13\n",
      "Remaining folders: 67\n",
      "Sampled folders: ['D:\\\\IRS 990 Filings (XML) with folders\\\\2023_TEOS_XML_08A', 'D:\\\\IRS 990 Filings (XML) with folders\\\\2023_TEOS_XML_10A']\n"
     ]
    }
   ],
   "source": [
    "import os\n",
    "import random\n",
    "\n",
    "# Get all folders in new_dir\n",
    "all_subfolders = [os.path.join(new_dir, f) for f in os.listdir(new_dir) \n",
    "                  if os.path.isdir(os.path.join(new_dir, f))]\n",
    "\n",
    "# Get folders not in new_subfolders\n",
    "remaining_folders = list(set(all_subfolders) - set(new_subfolders))\n",
    "\n",
    "# Sample 2 at random (if at least 2 remain)\n",
    "sampled_folders = random.sample(remaining_folders, 2) if len(remaining_folders) >= 2 else remaining_folders\n",
    "\n",
    "# Output\n",
    "print(\"Total folders in new_dir:\", len(all_subfolders))\n",
    "print(\"Already processed folders:\", len(new_subfolders))\n",
    "print(\"Remaining folders:\", len(remaining_folders))\n",
    "print(\"Sampled folders:\", sampled_folders)"
   ]
  },
  {
   "cell_type": "code",
   "execution_count": 51,
   "metadata": {},
   "outputs": [
    {
     "name": "stdout",
     "output_type": "stream",
     "text": [
      "80\n",
      "['D:\\\\IRS 990 Filings (XML) with folders\\\\2017_TEOS_XML_CT1', 'D:\\\\IRS 990 Filings (XML) with folders\\\\2018_TEOS_XML_CT1', 'D:\\\\IRS 990 Filings (XML) with folders\\\\2018_TEOS_XML_CT2', 'D:\\\\IRS 990 Filings (XML) with folders\\\\2018_TEOS_XML_CT3', 'D:\\\\IRS 990 Filings (XML) with folders\\\\2019_TEOS_XML_CT1', 'D:\\\\IRS 990 Filings (XML) with folders\\\\2020_TEOS_XML_CT1', 'D:\\\\IRS 990 Filings (XML) with folders\\\\2021_TEOS_XML_01A', 'D:\\\\IRS 990 Filings (XML) with folders\\\\2021_TEOS_XML_01B', 'D:\\\\IRS 990 Filings (XML) with folders\\\\2021_TEOS_XML_01C', 'D:\\\\IRS 990 Filings (XML) with folders\\\\2021_TEOS_XML_01D', 'D:\\\\IRS 990 Filings (XML) with folders\\\\2021_TEOS_XML_01E', 'D:\\\\IRS 990 Filings (XML) with folders\\\\2021_TEOS_XML_01F', 'D:\\\\IRS 990 Filings (XML) with folders\\\\2021_TEOS_XML_01G', 'D:\\\\IRS 990 Filings (XML) with folders\\\\2021_TEOS_XML_01H', 'D:\\\\IRS 990 Filings (XML) with folders\\\\2022_TEOS_XML_01A', 'D:\\\\IRS 990 Filings (XML) with folders\\\\2022_TEOS_XML_01B', 'D:\\\\IRS 990 Filings (XML) with folders\\\\2022_TEOS_XML_01C', 'D:\\\\IRS 990 Filings (XML) with folders\\\\2022_TEOS_XML_01D', 'D:\\\\IRS 990 Filings (XML) with folders\\\\2022_TEOS_XML_01E', 'D:\\\\IRS 990 Filings (XML) with folders\\\\2022_TEOS_XML_01F', 'D:\\\\IRS 990 Filings (XML) with folders\\\\2022_TEOS_XML_11A', 'D:\\\\IRS 990 Filings (XML) with folders\\\\2022_TEOS_XML_11B', 'D:\\\\IRS 990 Filings (XML) with folders\\\\2022_TEOS_XML_11C', 'D:\\\\IRS 990 Filings (XML) with folders\\\\2023_TEOS_XML_01A', 'D:\\\\IRS 990 Filings (XML) with folders\\\\2023_TEOS_XML_02A', 'D:\\\\IRS 990 Filings (XML) with folders\\\\2023_TEOS_XML_03A', 'D:\\\\IRS 990 Filings (XML) with folders\\\\2023_TEOS_XML_04A', 'D:\\\\IRS 990 Filings (XML) with folders\\\\2023_TEOS_XML_05A', 'D:\\\\IRS 990 Filings (XML) with folders\\\\2023_TEOS_XML_05B', 'D:\\\\IRS 990 Filings (XML) with folders\\\\2023_TEOS_XML_06A', 'D:\\\\IRS 990 Filings (XML) with folders\\\\2023_TEOS_XML_07A', 'D:\\\\IRS 990 Filings (XML) with folders\\\\2023_TEOS_XML_08A', 'D:\\\\IRS 990 Filings (XML) with folders\\\\2023_TEOS_XML_09A', 'D:\\\\IRS 990 Filings (XML) with folders\\\\2023_TEOS_XML_10A', 'D:\\\\IRS 990 Filings (XML) with folders\\\\2023_TEOS_XML_11A', 'D:\\\\IRS 990 Filings (XML) with folders\\\\2023_TEOS_XML_11B', 'D:\\\\IRS 990 Filings (XML) with folders\\\\2023_TEOS_XML_11C', 'D:\\\\IRS 990 Filings (XML) with folders\\\\2024_TEOS_XML_02A', 'D:\\\\IRS 990 Filings (XML) with folders\\\\2024_TEOS_XML_03A', 'D:\\\\IRS 990 Filings (XML) with folders\\\\2024_TEOS_XML_04A', 'D:\\\\IRS 990 Filings (XML) with folders\\\\2024_TEOS_XML_05A', 'D:\\\\IRS 990 Filings (XML) with folders\\\\2024_TEOS_XML_06A', 'D:\\\\IRS 990 Filings (XML) with folders\\\\2024_TEOS_XML_07A', 'D:\\\\IRS 990 Filings (XML) with folders\\\\2024_TEOS_XML_08A', 'D:\\\\IRS 990 Filings (XML) with folders\\\\2024_TEOS_XML_09A', 'D:\\\\IRS 990 Filings (XML) with folders\\\\2024_TEOS_XML_10A', 'D:\\\\IRS 990 Filings (XML) with folders\\\\2024_TEOS_XML_11A', 'D:\\\\IRS 990 Filings (XML) with folders\\\\2024_TEOS_XML_12A', 'D:\\\\IRS 990 Filings (XML) with folders\\\\2025_TEOS_XML_01A', 'D:\\\\IRS 990 Filings (XML) with folders\\\\2025_TEOS_XML_02A', 'D:\\\\IRS 990 Filings (XML) with folders\\\\download990xml_2017_1', 'D:\\\\IRS 990 Filings (XML) with folders\\\\download990xml_2017_2', 'D:\\\\IRS 990 Filings (XML) with folders\\\\download990xml_2017_3', 'D:\\\\IRS 990 Filings (XML) with folders\\\\download990xml_2017_4', 'D:\\\\IRS 990 Filings (XML) with folders\\\\download990xml_2017_5', 'D:\\\\IRS 990 Filings (XML) with folders\\\\download990xml_2017_6', 'D:\\\\IRS 990 Filings (XML) with folders\\\\download990xml_2017_7', 'D:\\\\IRS 990 Filings (XML) with folders\\\\download990xml_2018_1', 'D:\\\\IRS 990 Filings (XML) with folders\\\\download990xml_2018_2', 'D:\\\\IRS 990 Filings (XML) with folders\\\\download990xml_2018_3', 'D:\\\\IRS 990 Filings (XML) with folders\\\\download990xml_2018_4', 'D:\\\\IRS 990 Filings (XML) with folders\\\\download990xml_2018_5', 'D:\\\\IRS 990 Filings (XML) with folders\\\\download990xml_2018_6', 'D:\\\\IRS 990 Filings (XML) with folders\\\\download990xml_2018_7', 'D:\\\\IRS 990 Filings (XML) with folders\\\\download990xml_2019_1', 'D:\\\\IRS 990 Filings (XML) with folders\\\\download990xml_2019_2', 'D:\\\\IRS 990 Filings (XML) with folders\\\\download990xml_2019_3', 'D:\\\\IRS 990 Filings (XML) with folders\\\\download990xml_2019_4', 'D:\\\\IRS 990 Filings (XML) with folders\\\\download990xml_2019_5', 'D:\\\\IRS 990 Filings (XML) with folders\\\\download990xml_2019_6', 'D:\\\\IRS 990 Filings (XML) with folders\\\\download990xml_2019_7', 'D:\\\\IRS 990 Filings (XML) with folders\\\\download990xml_2019_8', 'D:\\\\IRS 990 Filings (XML) with folders\\\\download990xml_2020_1', 'D:\\\\IRS 990 Filings (XML) with folders\\\\download990xml_2020_2', 'D:\\\\IRS 990 Filings (XML) with folders\\\\download990xml_2020_3', 'D:\\\\IRS 990 Filings (XML) with folders\\\\download990xml_2020_4', 'D:\\\\IRS 990 Filings (XML) with folders\\\\download990xml_2020_5', 'D:\\\\IRS 990 Filings (XML) with folders\\\\download990xml_2020_6', 'D:\\\\IRS 990 Filings (XML) with folders\\\\download990xml_2020_7', 'D:\\\\IRS 990 Filings (XML) with folders\\\\download990xml_2020_8']\n"
     ]
    }
   ],
   "source": [
    "print(len(all_subfolders))\n",
    "print(all_subfolders)"
   ]
  },
  {
   "cell_type": "code",
   "execution_count": 53,
   "metadata": {},
   "outputs": [
    {
     "name": "stdout",
     "output_type": "stream",
     "text": [
      "67\n",
      "['D:\\\\IRS 990 Filings (XML) with folders\\\\2021_TEOS_XML_01E', 'D:\\\\IRS 990 Filings (XML) with folders\\\\download990xml_2018_2', 'D:\\\\IRS 990 Filings (XML) with folders\\\\download990xml_2020_7', 'D:\\\\IRS 990 Filings (XML) with folders\\\\2021_TEOS_XML_01A', 'D:\\\\IRS 990 Filings (XML) with folders\\\\download990xml_2017_5', 'D:\\\\IRS 990 Filings (XML) with folders\\\\2021_TEOS_XML_01B', 'D:\\\\IRS 990 Filings (XML) with folders\\\\download990xml_2019_2', 'D:\\\\IRS 990 Filings (XML) with folders\\\\2020_TEOS_XML_CT1', 'D:\\\\IRS 990 Filings (XML) with folders\\\\download990xml_2020_4', 'D:\\\\IRS 990 Filings (XML) with folders\\\\2022_TEOS_XML_01F', 'D:\\\\IRS 990 Filings (XML) with folders\\\\download990xml_2019_3', 'D:\\\\IRS 990 Filings (XML) with folders\\\\2023_TEOS_XML_04A', 'D:\\\\IRS 990 Filings (XML) with folders\\\\2023_TEOS_XML_05A', 'D:\\\\IRS 990 Filings (XML) with folders\\\\2018_TEOS_XML_CT2', 'D:\\\\IRS 990 Filings (XML) with folders\\\\2023_TEOS_XML_09A', 'D:\\\\IRS 990 Filings (XML) with folders\\\\download990xml_2019_5', 'D:\\\\IRS 990 Filings (XML) with folders\\\\2022_TEOS_XML_01D', 'D:\\\\IRS 990 Filings (XML) with folders\\\\download990xml_2019_8', 'D:\\\\IRS 990 Filings (XML) with folders\\\\2023_TEOS_XML_07A', 'D:\\\\IRS 990 Filings (XML) with folders\\\\2021_TEOS_XML_01D', 'D:\\\\IRS 990 Filings (XML) with folders\\\\download990xml_2019_7', 'D:\\\\IRS 990 Filings (XML) with folders\\\\2021_TEOS_XML_01C', 'D:\\\\IRS 990 Filings (XML) with folders\\\\download990xml_2020_2', 'D:\\\\IRS 990 Filings (XML) with folders\\\\2021_TEOS_XML_01H', 'D:\\\\IRS 990 Filings (XML) with folders\\\\2022_TEOS_XML_01B', 'D:\\\\IRS 990 Filings (XML) with folders\\\\download990xml_2018_5', 'D:\\\\IRS 990 Filings (XML) with folders\\\\2022_TEOS_XML_11A', 'D:\\\\IRS 990 Filings (XML) with folders\\\\download990xml_2018_4', 'D:\\\\IRS 990 Filings (XML) with folders\\\\2022_TEOS_XML_01E', 'D:\\\\IRS 990 Filings (XML) with folders\\\\2022_TEOS_XML_01A', 'D:\\\\IRS 990 Filings (XML) with folders\\\\download990xml_2020_5', 'D:\\\\IRS 990 Filings (XML) with folders\\\\2022_TEOS_XML_11B', 'D:\\\\IRS 990 Filings (XML) with folders\\\\download990xml_2017_2', 'D:\\\\IRS 990 Filings (XML) with folders\\\\download990xml_2019_1', 'D:\\\\IRS 990 Filings (XML) with folders\\\\2019_TEOS_XML_CT1', 'D:\\\\IRS 990 Filings (XML) with folders\\\\download990xml_2020_1', 'D:\\\\IRS 990 Filings (XML) with folders\\\\download990xml_2017_6', 'D:\\\\IRS 990 Filings (XML) with folders\\\\download990xml_2017_7', 'D:\\\\IRS 990 Filings (XML) with folders\\\\2018_TEOS_XML_CT3', 'D:\\\\IRS 990 Filings (XML) with folders\\\\download990xml_2020_8', 'D:\\\\IRS 990 Filings (XML) with folders\\\\2018_TEOS_XML_CT1', 'D:\\\\IRS 990 Filings (XML) with folders\\\\download990xml_2017_4', 'D:\\\\IRS 990 Filings (XML) with folders\\\\2023_TEOS_XML_10A', 'D:\\\\IRS 990 Filings (XML) with folders\\\\download990xml_2018_3', 'D:\\\\IRS 990 Filings (XML) with folders\\\\2023_TEOS_XML_06A', 'D:\\\\IRS 990 Filings (XML) with folders\\\\2021_TEOS_XML_01G', 'D:\\\\IRS 990 Filings (XML) with folders\\\\2022_TEOS_XML_01C', 'D:\\\\IRS 990 Filings (XML) with folders\\\\2023_TEOS_XML_02A', 'D:\\\\IRS 990 Filings (XML) with folders\\\\download990xml_2019_4', 'D:\\\\IRS 990 Filings (XML) with folders\\\\download990xml_2018_7', 'D:\\\\IRS 990 Filings (XML) with folders\\\\2023_TEOS_XML_03A', 'D:\\\\IRS 990 Filings (XML) with folders\\\\2023_TEOS_XML_08A', 'D:\\\\IRS 990 Filings (XML) with folders\\\\download990xml_2018_1', 'D:\\\\IRS 990 Filings (XML) with folders\\\\download990xml_2018_6', 'D:\\\\IRS 990 Filings (XML) with folders\\\\download990xml_2020_3', 'D:\\\\IRS 990 Filings (XML) with folders\\\\2022_TEOS_XML_11C', 'D:\\\\IRS 990 Filings (XML) with folders\\\\2023_TEOS_XML_05B', 'D:\\\\IRS 990 Filings (XML) with folders\\\\2023_TEOS_XML_11A', 'D:\\\\IRS 990 Filings (XML) with folders\\\\2023_TEOS_XML_11C', 'D:\\\\IRS 990 Filings (XML) with folders\\\\2021_TEOS_XML_01F', 'D:\\\\IRS 990 Filings (XML) with folders\\\\download990xml_2017_1', 'D:\\\\IRS 990 Filings (XML) with folders\\\\download990xml_2017_3', 'D:\\\\IRS 990 Filings (XML) with folders\\\\2017_TEOS_XML_CT1', 'D:\\\\IRS 990 Filings (XML) with folders\\\\download990xml_2019_6', 'D:\\\\IRS 990 Filings (XML) with folders\\\\2023_TEOS_XML_11B', 'D:\\\\IRS 990 Filings (XML) with folders\\\\2023_TEOS_XML_01A', 'D:\\\\IRS 990 Filings (XML) with folders\\\\download990xml_2020_6']\n"
     ]
    }
   ],
   "source": [
    "print(len(remaining_folders))\n",
    "print(remaining_folders)"
   ]
  },
  {
   "cell_type": "code",
   "execution_count": 54,
   "metadata": {},
   "outputs": [
    {
     "data": {
      "text/plain": [
       "['D:\\\\IRS 990 Filings (XML) with folders\\\\2023_TEOS_XML_08A',\n",
       " 'D:\\\\IRS 990 Filings (XML) with folders\\\\2023_TEOS_XML_10A']"
      ]
     },
     "execution_count": 54,
     "metadata": {},
     "output_type": "execute_result"
    }
   ],
   "source": [
    "sampled_folders"
   ]
  },
  {
   "cell_type": "code",
   "execution_count": 61,
   "metadata": {},
   "outputs": [
    {
     "data": {
      "text/plain": [
       "['D:\\\\IRS 990 Filings (XML) with folders\\\\download990xml_2017_7',\n",
       " 'D:\\\\IRS 990 Filings (XML) with folders\\\\2021_TEOS_XML_01H',\n",
       " 'D:\\\\IRS 990 Filings (XML) with folders\\\\download990xml_2019_8']"
      ]
     },
     "execution_count": 61,
     "metadata": {},
     "output_type": "execute_result"
    }
   ],
   "source": [
    "sampled_folders = random.sample(remaining_folders, 3) if len(remaining_folders) >= 2 else remaining_folders\n",
    "sampled_folders"
   ]
  }
 ],
 "metadata": {
  "kernelspec": {
   "display_name": "Python 3 (ipykernel)",
   "language": "python",
   "name": "python3"
  },
  "language_info": {
   "codemirror_mode": {
    "name": "ipython",
    "version": 3
   },
   "file_extension": ".py",
   "mimetype": "text/x-python",
   "name": "python",
   "nbconvert_exporter": "python",
   "pygments_lexer": "ipython3",
   "version": "3.10.11"
  },
  "toc": {
   "colors": {
    "hover_highlight": "#DAA520",
    "navigate_num": "#000000",
    "navigate_text": "#333333",
    "running_highlight": "#FF0000",
    "selected_highlight": "#FFD700",
    "sidebar_border": "#EEEEEE",
    "wrapper_background": "#FFFFFF"
   },
   "moveMenuLeft": true,
   "nav_menu": {
    "height": "279px",
    "width": "252px"
   },
   "navigate_menu": true,
   "number_sections": true,
   "sideBar": true,
   "threshold": 4,
   "toc_cell": false,
   "toc_section_display": "block",
   "toc_window_display": false,
   "widenNotebook": false
  }
 },
 "nbformat": 4,
 "nbformat_minor": 1
}
