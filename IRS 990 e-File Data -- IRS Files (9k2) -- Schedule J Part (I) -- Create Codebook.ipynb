{
 "cells": [
  {
   "cell_type": "markdown",
   "metadata": {},
   "source": [
    "# Overview\n",
    "Create combined codebook and save files:\n",
    "- *Codebook - Schedule J (Part I).pkl*\n",
    "- *Codebook - Schedule J (Part I).xlsx*"
   ]
  },
  {
   "cell_type": "code",
   "execution_count": 1,
   "metadata": {},
   "outputs": [],
   "source": [
    "import numpy as np\n",
    "import pandas as pd\n",
    "from pandas import DataFrame\n",
    "from pandas import Series"
   ]
  },
  {
   "cell_type": "code",
   "execution_count": 2,
   "metadata": {},
   "outputs": [
    {
     "name": "stdout",
     "output_type": "stream",
     "text": [
      "1.4.3\n"
     ]
    }
   ],
   "source": [
    "print(pd.__version__)"
   ]
  },
  {
   "cell_type": "code",
   "execution_count": 3,
   "metadata": {},
   "outputs": [
    {
     "name": "stdout",
     "output_type": "stream",
     "text": [
      "3.8.13\n"
     ]
    }
   ],
   "source": [
    "from platform import python_version\n",
    "print(python_version())"
   ]
  },
  {
   "cell_type": "code",
   "execution_count": 4,
   "metadata": {},
   "outputs": [],
   "source": [
    "# http://pandas.pydata.org/pandas-docs/stable/options.html\n",
    "pd.set_option('display.max_columns', None)\n",
    "# http://pandas.pydata.org/pandas-docs/stable/options.html\n",
    "pd.set_option('display.max_colwidth', 500)"
   ]
  },
  {
   "cell_type": "code",
   "execution_count": 5,
   "metadata": {},
   "outputs": [],
   "source": [
    "pd.set_option('display.float_format', lambda x: '%.2f' % x)"
   ]
  },
  {
   "cell_type": "code",
   "execution_count": 6,
   "metadata": {},
   "outputs": [],
   "source": [
    "pd.options.display.float_format = '{:,.2f}'.format"
   ]
  },
  {
   "cell_type": "markdown",
   "metadata": {},
   "source": [
    "#### Set working directory"
   ]
  },
  {
   "cell_type": "code",
   "execution_count": 7,
   "metadata": {},
   "outputs": [
    {
     "name": "stdout",
     "output_type": "stream",
     "text": [
      "C:\\Users\\Gregory\\IRS 990 Control Variables\n"
     ]
    }
   ],
   "source": [
    "cd \"C:\\\\Users\\\\Gregory\\\\IRS 990 Control Variables\\\\\""
   ]
  },
  {
   "cell_type": "markdown",
   "metadata": {},
   "source": [
    "# Read in Control Variables"
   ]
  },
  {
   "cell_type": "code",
   "execution_count": 8,
   "metadata": {},
   "outputs": [
    {
     "name": "stdout",
     "output_type": "stream",
     "text": [
      "Current date and time :  2023-01-09 14:13:00 \n",
      "\n",
      "# of columns: 29\n",
      "# of observations: 497701\n",
      "Wall time: 1.03 s\n"
     ]
    },
    {
     "data": {
      "text/html": [
       "<div>\n",
       "<style scoped>\n",
       "    .dataframe tbody tr th:only-of-type {\n",
       "        vertical-align: middle;\n",
       "    }\n",
       "\n",
       "    .dataframe tbody tr th {\n",
       "        vertical-align: top;\n",
       "    }\n",
       "\n",
       "    .dataframe thead th {\n",
       "        text-align: right;\n",
       "    }\n",
       "</style>\n",
       "<table border=\"1\" class=\"dataframe\">\n",
       "  <thead>\n",
       "    <tr style=\"text-align: right;\">\n",
       "      <th></th>\n",
       "      <th>OrganizationName</th>\n",
       "      <th>URL</th>\n",
       "      <th>EIN</th>\n",
       "      <th>SJ_01_PC_BOARD_APPROVAL</th>\n",
       "      <th>SJ_01_PC_CLUB_FEES</th>\n",
       "      <th>SJ_01_PC_COMPANION_TRAVEL</th>\n",
       "      <th>SJ_01_PC_COMPENSATION_COMMITTEE</th>\n",
       "      <th>SJ_01_PC_COMPENSATION_SURVEY</th>\n",
       "      <th>SJ_01_PC_CONSULTANT</th>\n",
       "      <th>SJ_01_PC_CONTINGENT_NET_OWN</th>\n",
       "      <th>SJ_01_PC_CONTINGENT_NET_RELATED</th>\n",
       "      <th>SJ_01_PC_CONTINGENT_REV_OWN</th>\n",
       "      <th>SJ_01_PC_CONTINGENT_REV_RELATED</th>\n",
       "      <th>SJ_01_PC_CONTRACT</th>\n",
       "      <th>SJ_01_PC_CONTRACT_EXCEPTION</th>\n",
       "      <th>SJ_01_PC_DISCRETIONARY_ACCOUNT</th>\n",
       "      <th>SJ_01_PC_EQUITY_BASED_COMP</th>\n",
       "      <th>SJ_01_PC_FIRST_CLASS_TRAVEL</th>\n",
       "      <th>SJ_01_PC_HOME_OFFICE_SUBSIDY</th>\n",
       "      <th>SJ_01_PC_HOUSING_ALLOWANCE</th>\n",
       "      <th>SJ_01_PC_INDEMNIFICATION</th>\n",
       "      <th>SJ_01_PC_NON_FIXED_PAYMENTS</th>\n",
       "      <th>SJ_01_PC_OTHER_ORGS_990</th>\n",
       "      <th>SJ_01_PC_PERSONAL_SERVICES</th>\n",
       "      <th>SJ_01_PC_REBUTTABLE_PRESUMPTION</th>\n",
       "      <th>SJ_01_PC_SEVERANCE</th>\n",
       "      <th>SJ_01_PC_SUBSTANTIATION_REQUIRED</th>\n",
       "      <th>SJ_01_PC_SUPPLEMENTAL_RETIREMENT</th>\n",
       "      <th>SJ_01_PC_WRITTEN_POLICY</th>\n",
       "    </tr>\n",
       "  </thead>\n",
       "  <tbody>\n",
       "    <tr>\n",
       "      <th>0</th>\n",
       "      <td>TORRINGTON VOA ELDERLY HOUSING INC BELL PARK TOWER</td>\n",
       "      <td>https://s3.amazonaws.com/irs-form-990/201113139349301311_public.xml</td>\n",
       "      <td>581805618</td>\n",
       "      <td>1.00</td>\n",
       "      <td>NaN</td>\n",
       "      <td>NaN</td>\n",
       "      <td>1.00</td>\n",
       "      <td>1.00</td>\n",
       "      <td>NaN</td>\n",
       "      <td>0.00</td>\n",
       "      <td>0.00</td>\n",
       "      <td>0.00</td>\n",
       "      <td>0.00</td>\n",
       "      <td>NaN</td>\n",
       "      <td>0.00</td>\n",
       "      <td>NaN</td>\n",
       "      <td>0.00</td>\n",
       "      <td>NaN</td>\n",
       "      <td>NaN</td>\n",
       "      <td>NaN</td>\n",
       "      <td>NaN</td>\n",
       "      <td>0.00</td>\n",
       "      <td>NaN</td>\n",
       "      <td>NaN</td>\n",
       "      <td>0.00</td>\n",
       "      <td>0.00</td>\n",
       "      <td>NaN</td>\n",
       "      <td>1.00</td>\n",
       "      <td>NaN</td>\n",
       "    </tr>\n",
       "  </tbody>\n",
       "</table>\n",
       "</div>"
      ],
      "text/plain": [
       "                                     OrganizationName  \\\n",
       "0  TORRINGTON VOA ELDERLY HOUSING INC BELL PARK TOWER   \n",
       "\n",
       "                                                                   URL  \\\n",
       "0  https://s3.amazonaws.com/irs-form-990/201113139349301311_public.xml   \n",
       "\n",
       "         EIN  SJ_01_PC_BOARD_APPROVAL  SJ_01_PC_CLUB_FEES  \\\n",
       "0  581805618                     1.00                 NaN   \n",
       "\n",
       "   SJ_01_PC_COMPANION_TRAVEL  SJ_01_PC_COMPENSATION_COMMITTEE  \\\n",
       "0                        NaN                             1.00   \n",
       "\n",
       "   SJ_01_PC_COMPENSATION_SURVEY  SJ_01_PC_CONSULTANT  \\\n",
       "0                          1.00                  NaN   \n",
       "\n",
       "   SJ_01_PC_CONTINGENT_NET_OWN  SJ_01_PC_CONTINGENT_NET_RELATED  \\\n",
       "0                         0.00                             0.00   \n",
       "\n",
       "   SJ_01_PC_CONTINGENT_REV_OWN  SJ_01_PC_CONTINGENT_REV_RELATED  \\\n",
       "0                         0.00                             0.00   \n",
       "\n",
       "   SJ_01_PC_CONTRACT  SJ_01_PC_CONTRACT_EXCEPTION  \\\n",
       "0                NaN                         0.00   \n",
       "\n",
       "   SJ_01_PC_DISCRETIONARY_ACCOUNT  SJ_01_PC_EQUITY_BASED_COMP  \\\n",
       "0                             NaN                        0.00   \n",
       "\n",
       "   SJ_01_PC_FIRST_CLASS_TRAVEL  SJ_01_PC_HOME_OFFICE_SUBSIDY  \\\n",
       "0                          NaN                           NaN   \n",
       "\n",
       "   SJ_01_PC_HOUSING_ALLOWANCE  SJ_01_PC_INDEMNIFICATION  \\\n",
       "0                         NaN                       NaN   \n",
       "\n",
       "   SJ_01_PC_NON_FIXED_PAYMENTS  SJ_01_PC_OTHER_ORGS_990  \\\n",
       "0                         0.00                      NaN   \n",
       "\n",
       "   SJ_01_PC_PERSONAL_SERVICES  SJ_01_PC_REBUTTABLE_PRESUMPTION  \\\n",
       "0                         NaN                             0.00   \n",
       "\n",
       "   SJ_01_PC_SEVERANCE  SJ_01_PC_SUBSTANTIATION_REQUIRED  \\\n",
       "0                0.00                               NaN   \n",
       "\n",
       "   SJ_01_PC_SUPPLEMENTAL_RETIREMENT  SJ_01_PC_WRITTEN_POLICY  \n",
       "0                              1.00                      NaN  "
      ]
     },
     "execution_count": 8,
     "metadata": {},
     "output_type": "execute_result"
    }
   ],
   "source": [
    "%%time\n",
    "import datetime\n",
    "print (\"Current date and time : \", datetime.datetime.now().strftime(\"%Y-%m-%d %H:%M:%S\"), '\\n')\n",
    "df = pd.read_pickle('Excise Tax Project - Schedule J (Part I) - parsed.pkl.gz', compression='gzip')\n",
    "print('# of columns:', len(df.columns))\n",
    "print('# of observations:', len(df))\n",
    "df[:1]"
   ]
  },
  {
   "cell_type": "markdown",
   "metadata": {},
   "source": [
    "# Read in Concordance File"
   ]
  },
  {
   "cell_type": "code",
   "execution_count": 9,
   "metadata": {},
   "outputs": [
    {
     "name": "stdout",
     "output_type": "stream",
     "text": [
      "# of columns: 15\n",
      "# of observations: 52\n",
      "Wall time: 2.4 s\n"
     ]
    },
    {
     "data": {
      "text/html": [
       "<div>\n",
       "<style scoped>\n",
       "    .dataframe tbody tr th:only-of-type {\n",
       "        vertical-align: middle;\n",
       "    }\n",
       "\n",
       "    .dataframe tbody tr th {\n",
       "        vertical-align: top;\n",
       "    }\n",
       "\n",
       "    .dataframe thead th {\n",
       "        text-align: right;\n",
       "    }\n",
       "</style>\n",
       "<table border=\"1\" class=\"dataframe\">\n",
       "  <thead>\n",
       "    <tr style=\"text-align: right;\">\n",
       "      <th></th>\n",
       "      <th>xpath</th>\n",
       "      <th>variable_name_new</th>\n",
       "      <th># of Characters (newly named)</th>\n",
       "      <th>variable name notes</th>\n",
       "      <th>PARSING NOTES</th>\n",
       "      <th>OTHER NOTES</th>\n",
       "      <th>description</th>\n",
       "      <th>location_code</th>\n",
       "      <th>part</th>\n",
       "      <th>data_type_xsd</th>\n",
       "      <th>fill_null</th>\n",
       "      <th>BINARIZE</th>\n",
       "      <th>MongoDB_Name</th>\n",
       "      <th>sub_key</th>\n",
       "      <th>sub_sub_key</th>\n",
       "    </tr>\n",
       "  </thead>\n",
       "  <tbody>\n",
       "    <tr>\n",
       "      <th>0</th>\n",
       "      <td>/Return/ReturnData/IRS990ScheduleJ/ClubDuesOrFees</td>\n",
       "      <td>SJ_01_PC_CLUB_FEES</td>\n",
       "      <td>NaN</td>\n",
       "      <td>NaN</td>\n",
       "      <td>NaN</td>\n",
       "      <td>NaN</td>\n",
       "      <td>Club dues or fees</td>\n",
       "      <td>SCHED-J-PART-01-LINE-1a</td>\n",
       "      <td>PART-01</td>\n",
       "      <td>CheckboxType</td>\n",
       "      <td>NaN</td>\n",
       "      <td>binarize</td>\n",
       "      <td>ClubDuesOrFees</td>\n",
       "      <td>NaN</td>\n",
       "      <td>NaN</td>\n",
       "    </tr>\n",
       "  </tbody>\n",
       "</table>\n",
       "</div>"
      ],
      "text/plain": [
       "                                               xpath   variable_name_new  \\\n",
       "0  /Return/ReturnData/IRS990ScheduleJ/ClubDuesOrFees  SJ_01_PC_CLUB_FEES   \n",
       "\n",
       "   # of Characters (newly named)  variable name notes  PARSING NOTES  \\\n",
       "0                            NaN                  NaN            NaN   \n",
       "\n",
       "   OTHER NOTES        description            location_code     part  \\\n",
       "0          NaN  Club dues or fees  SCHED-J-PART-01-LINE-1a  PART-01   \n",
       "\n",
       "  data_type_xsd  fill_null  BINARIZE    MongoDB_Name  sub_key  sub_sub_key  \n",
       "0  CheckboxType        NaN  binarize  ClubDuesOrFees      NaN          NaN  "
      ]
     },
     "execution_count": 9,
     "metadata": {},
     "output_type": "execute_result"
    }
   ],
   "source": [
    "%%time\n",
    "concordance = pd.read_excel('concordance - Schedule J (Part I).xlsx')\n",
    "print('# of columns:', len(concordance.columns))\n",
    "print('# of observations:', len(concordance))\n",
    "concordance[:1]"
   ]
  },
  {
   "cell_type": "code",
   "execution_count": 10,
   "metadata": {},
   "outputs": [
    {
     "name": "stdout",
     "output_type": "stream",
     "text": [
      "# of variables: 26\n"
     ]
    },
    {
     "data": {
      "text/html": [
       "<div>\n",
       "<style scoped>\n",
       "    .dataframe tbody tr th:only-of-type {\n",
       "        vertical-align: middle;\n",
       "    }\n",
       "\n",
       "    .dataframe tbody tr th {\n",
       "        vertical-align: top;\n",
       "    }\n",
       "\n",
       "    .dataframe thead th {\n",
       "        text-align: right;\n",
       "    }\n",
       "</style>\n",
       "<table border=\"1\" class=\"dataframe\">\n",
       "  <thead>\n",
       "    <tr style=\"text-align: right;\">\n",
       "      <th></th>\n",
       "      <th>variable_name_new</th>\n",
       "      <th>description</th>\n",
       "      <th>location_code</th>\n",
       "      <th>data_type_xsd</th>\n",
       "    </tr>\n",
       "  </thead>\n",
       "  <tbody>\n",
       "    <tr>\n",
       "      <th>0</th>\n",
       "      <td>SJ_01_PC_BOARD_APPROVAL</td>\n",
       "      <td>Board or committee approval</td>\n",
       "      <td>SCHED-J-PART-01-LINE-3</td>\n",
       "      <td>CheckboxType</td>\n",
       "    </tr>\n",
       "    <tr>\n",
       "      <th>1</th>\n",
       "      <td>SJ_01_PC_CLUB_FEES</td>\n",
       "      <td>Club dues or fees</td>\n",
       "      <td>SCHED-J-PART-01-LINE-1a</td>\n",
       "      <td>CheckboxType</td>\n",
       "    </tr>\n",
       "    <tr>\n",
       "      <th>2</th>\n",
       "      <td>SJ_01_PC_COMPANION_TRAVEL</td>\n",
       "      <td>Travel for companions</td>\n",
       "      <td>SCHED-J-PART-01-LINE-1a</td>\n",
       "      <td>CheckboxType</td>\n",
       "    </tr>\n",
       "    <tr>\n",
       "      <th>3</th>\n",
       "      <td>SJ_01_PC_COMPENSATION_COMMITTEE</td>\n",
       "      <td>Compensation committee</td>\n",
       "      <td>SCHED-J-PART-01-LINE-3</td>\n",
       "      <td>CheckboxType</td>\n",
       "    </tr>\n",
       "    <tr>\n",
       "      <th>4</th>\n",
       "      <td>SJ_01_PC_COMPENSATION_SURVEY</td>\n",
       "      <td>Compensation survey</td>\n",
       "      <td>SCHED-J-PART-01-LINE-3</td>\n",
       "      <td>CheckboxType</td>\n",
       "    </tr>\n",
       "    <tr>\n",
       "      <th>5</th>\n",
       "      <td>SJ_01_PC_CONSULTANT</td>\n",
       "      <td>Independent consultant</td>\n",
       "      <td>SCHED-J-PART-01-LINE-3</td>\n",
       "      <td>CheckboxType</td>\n",
       "    </tr>\n",
       "    <tr>\n",
       "      <th>6</th>\n",
       "      <td>SJ_01_PC_CONTINGENT_NET_OWN</td>\n",
       "      <td>Compensation based on net earnings of filing org?</td>\n",
       "      <td>SCHED-J-PART-01-LINE-6a</td>\n",
       "      <td>BooleanType</td>\n",
       "    </tr>\n",
       "    <tr>\n",
       "      <th>7</th>\n",
       "      <td>SJ_01_PC_CONTINGENT_NET_RELATED</td>\n",
       "      <td>Compensation based on net earnings of related orgs?</td>\n",
       "      <td>SCHED-J-PART-01-LINE-6b</td>\n",
       "      <td>BooleanType</td>\n",
       "    </tr>\n",
       "    <tr>\n",
       "      <th>8</th>\n",
       "      <td>SJ_01_PC_CONTINGENT_REV_OWN</td>\n",
       "      <td>Compensation based on revenue of filing org?</td>\n",
       "      <td>SCHED-J-PART-01-LINE-5a</td>\n",
       "      <td>BooleanType</td>\n",
       "    </tr>\n",
       "    <tr>\n",
       "      <th>9</th>\n",
       "      <td>SJ_01_PC_CONTINGENT_REV_RELATED</td>\n",
       "      <td>Compensation based on revenue of related orgs?</td>\n",
       "      <td>SCHED-J-PART-01-LINE-5b</td>\n",
       "      <td>BooleanType</td>\n",
       "    </tr>\n",
       "    <tr>\n",
       "      <th>10</th>\n",
       "      <td>SJ_01_PC_CONTRACT</td>\n",
       "      <td>Written employment contract</td>\n",
       "      <td>SCHED-J-PART-01-LINE-3</td>\n",
       "      <td>CheckboxType</td>\n",
       "    </tr>\n",
       "    <tr>\n",
       "      <th>11</th>\n",
       "      <td>SJ_01_PC_CONTRACT_EXCEPTION</td>\n",
       "      <td>Initial contract exception?</td>\n",
       "      <td>SCHED-J-PART-01-LINE-8</td>\n",
       "      <td>BooleanType</td>\n",
       "    </tr>\n",
       "    <tr>\n",
       "      <th>12</th>\n",
       "      <td>SJ_01_PC_DISCRETIONARY_ACCOUNT</td>\n",
       "      <td>Discretionary spending account</td>\n",
       "      <td>SCHED-J-PART-01-LINE-1a</td>\n",
       "      <td>CheckboxType</td>\n",
       "    </tr>\n",
       "    <tr>\n",
       "      <th>13</th>\n",
       "      <td>SJ_01_PC_EQUITY_BASED_COMP</td>\n",
       "      <td>Equity based compensation arrangement?</td>\n",
       "      <td>SCHED-J-PART-01-LINE-4c</td>\n",
       "      <td>BooleanType</td>\n",
       "    </tr>\n",
       "    <tr>\n",
       "      <th>14</th>\n",
       "      <td>SJ_01_PC_FIRST_CLASS_TRAVEL</td>\n",
       "      <td>First class or charter travel</td>\n",
       "      <td>SCHED-J-PART-01-LINE-1a</td>\n",
       "      <td>CheckboxType</td>\n",
       "    </tr>\n",
       "    <tr>\n",
       "      <th>15</th>\n",
       "      <td>SJ_01_PC_HOME_OFFICE_SUBSIDY</td>\n",
       "      <td>Payments for use of residence</td>\n",
       "      <td>SCHED-J-PART-01-LINE-1a</td>\n",
       "      <td>CheckboxType</td>\n",
       "    </tr>\n",
       "    <tr>\n",
       "      <th>16</th>\n",
       "      <td>SJ_01_PC_HOUSING_ALLOWANCE</td>\n",
       "      <td>Housing allowance or residence</td>\n",
       "      <td>SCHED-J-PART-01-LINE-1a</td>\n",
       "      <td>CheckboxType</td>\n",
       "    </tr>\n",
       "    <tr>\n",
       "      <th>17</th>\n",
       "      <td>SJ_01_PC_INDEMNIFICATION</td>\n",
       "      <td>Idemnification and gross-up payments</td>\n",
       "      <td>SCHED-J-PART-01-LINE-1a</td>\n",
       "      <td>CheckboxType</td>\n",
       "    </tr>\n",
       "    <tr>\n",
       "      <th>18</th>\n",
       "      <td>SJ_01_PC_NON_FIXED_PAYMENTS</td>\n",
       "      <td>Any non-fixed payments?</td>\n",
       "      <td>SCHED-J-PART-01-LINE-7</td>\n",
       "      <td>BooleanType</td>\n",
       "    </tr>\n",
       "    <tr>\n",
       "      <th>19</th>\n",
       "      <td>SJ_01_PC_OTHER_ORGS_990</td>\n",
       "      <td>Form 990 of other organizations</td>\n",
       "      <td>SCHED-J-PART-01-LINE-3</td>\n",
       "      <td>CheckboxType</td>\n",
       "    </tr>\n",
       "    <tr>\n",
       "      <th>20</th>\n",
       "      <td>SJ_01_PC_PERSONAL_SERVICES</td>\n",
       "      <td>Personal services</td>\n",
       "      <td>SCHED-J-PART-01-LINE-1a</td>\n",
       "      <td>CheckboxType</td>\n",
       "    </tr>\n",
       "    <tr>\n",
       "      <th>21</th>\n",
       "      <td>SJ_01_PC_REBUTTABLE_PRESUMPTION</td>\n",
       "      <td>Rebuttable presumption procedure?</td>\n",
       "      <td>SCHED-J-PART-01-LINE-9</td>\n",
       "      <td>BooleanType</td>\n",
       "    </tr>\n",
       "    <tr>\n",
       "      <th>22</th>\n",
       "      <td>SJ_01_PC_SEVERANCE</td>\n",
       "      <td>Severance payment?</td>\n",
       "      <td>SCHED-J-PART-01-LINE-4a</td>\n",
       "      <td>BooleanType</td>\n",
       "    </tr>\n",
       "    <tr>\n",
       "      <th>23</th>\n",
       "      <td>SJ_01_PC_SUBSTANTIATION_REQUIRED</td>\n",
       "      <td>Substantiation required?</td>\n",
       "      <td>SCHED-J-PART-01-LINE-2</td>\n",
       "      <td>BooleanType</td>\n",
       "    </tr>\n",
       "    <tr>\n",
       "      <th>24</th>\n",
       "      <td>SJ_01_PC_SUPPLEMENTAL_RETIREMENT</td>\n",
       "      <td>Supplemental nonqualified retirement plan?</td>\n",
       "      <td>SCHED-J-PART-01-LINE-4b</td>\n",
       "      <td>BooleanType</td>\n",
       "    </tr>\n",
       "    <tr>\n",
       "      <th>25</th>\n",
       "      <td>SJ_01_PC_WRITTEN_POLICY</td>\n",
       "      <td>Written policy reference T and E expenses?</td>\n",
       "      <td>SCHED-J-PART-01-LINE-1b</td>\n",
       "      <td>BooleanType</td>\n",
       "    </tr>\n",
       "  </tbody>\n",
       "</table>\n",
       "</div>"
      ],
      "text/plain": [
       "                   variable_name_new  \\\n",
       "0            SJ_01_PC_BOARD_APPROVAL   \n",
       "1                 SJ_01_PC_CLUB_FEES   \n",
       "2          SJ_01_PC_COMPANION_TRAVEL   \n",
       "3    SJ_01_PC_COMPENSATION_COMMITTEE   \n",
       "4       SJ_01_PC_COMPENSATION_SURVEY   \n",
       "5                SJ_01_PC_CONSULTANT   \n",
       "6        SJ_01_PC_CONTINGENT_NET_OWN   \n",
       "7    SJ_01_PC_CONTINGENT_NET_RELATED   \n",
       "8        SJ_01_PC_CONTINGENT_REV_OWN   \n",
       "9    SJ_01_PC_CONTINGENT_REV_RELATED   \n",
       "10                 SJ_01_PC_CONTRACT   \n",
       "11       SJ_01_PC_CONTRACT_EXCEPTION   \n",
       "12    SJ_01_PC_DISCRETIONARY_ACCOUNT   \n",
       "13        SJ_01_PC_EQUITY_BASED_COMP   \n",
       "14       SJ_01_PC_FIRST_CLASS_TRAVEL   \n",
       "15      SJ_01_PC_HOME_OFFICE_SUBSIDY   \n",
       "16        SJ_01_PC_HOUSING_ALLOWANCE   \n",
       "17          SJ_01_PC_INDEMNIFICATION   \n",
       "18       SJ_01_PC_NON_FIXED_PAYMENTS   \n",
       "19           SJ_01_PC_OTHER_ORGS_990   \n",
       "20        SJ_01_PC_PERSONAL_SERVICES   \n",
       "21   SJ_01_PC_REBUTTABLE_PRESUMPTION   \n",
       "22                SJ_01_PC_SEVERANCE   \n",
       "23  SJ_01_PC_SUBSTANTIATION_REQUIRED   \n",
       "24  SJ_01_PC_SUPPLEMENTAL_RETIREMENT   \n",
       "25           SJ_01_PC_WRITTEN_POLICY   \n",
       "\n",
       "                                            description  \\\n",
       "0                           Board or committee approval   \n",
       "1                                     Club dues or fees   \n",
       "2                                 Travel for companions   \n",
       "3                                Compensation committee   \n",
       "4                                   Compensation survey   \n",
       "5                                Independent consultant   \n",
       "6     Compensation based on net earnings of filing org?   \n",
       "7   Compensation based on net earnings of related orgs?   \n",
       "8          Compensation based on revenue of filing org?   \n",
       "9        Compensation based on revenue of related orgs?   \n",
       "10                          Written employment contract   \n",
       "11                          Initial contract exception?   \n",
       "12                       Discretionary spending account   \n",
       "13               Equity based compensation arrangement?   \n",
       "14                        First class or charter travel   \n",
       "15                        Payments for use of residence   \n",
       "16                       Housing allowance or residence   \n",
       "17                 Idemnification and gross-up payments   \n",
       "18                              Any non-fixed payments?   \n",
       "19                      Form 990 of other organizations   \n",
       "20                                    Personal services   \n",
       "21                    Rebuttable presumption procedure?   \n",
       "22                                   Severance payment?   \n",
       "23                             Substantiation required?   \n",
       "24           Supplemental nonqualified retirement plan?   \n",
       "25           Written policy reference T and E expenses?   \n",
       "\n",
       "              location_code data_type_xsd  \n",
       "0    SCHED-J-PART-01-LINE-3  CheckboxType  \n",
       "1   SCHED-J-PART-01-LINE-1a  CheckboxType  \n",
       "2   SCHED-J-PART-01-LINE-1a  CheckboxType  \n",
       "3    SCHED-J-PART-01-LINE-3  CheckboxType  \n",
       "4    SCHED-J-PART-01-LINE-3  CheckboxType  \n",
       "5    SCHED-J-PART-01-LINE-3  CheckboxType  \n",
       "6   SCHED-J-PART-01-LINE-6a   BooleanType  \n",
       "7   SCHED-J-PART-01-LINE-6b   BooleanType  \n",
       "8   SCHED-J-PART-01-LINE-5a   BooleanType  \n",
       "9   SCHED-J-PART-01-LINE-5b   BooleanType  \n",
       "10   SCHED-J-PART-01-LINE-3  CheckboxType  \n",
       "11   SCHED-J-PART-01-LINE-8   BooleanType  \n",
       "12  SCHED-J-PART-01-LINE-1a  CheckboxType  \n",
       "13  SCHED-J-PART-01-LINE-4c   BooleanType  \n",
       "14  SCHED-J-PART-01-LINE-1a  CheckboxType  \n",
       "15  SCHED-J-PART-01-LINE-1a  CheckboxType  \n",
       "16  SCHED-J-PART-01-LINE-1a  CheckboxType  \n",
       "17  SCHED-J-PART-01-LINE-1a  CheckboxType  \n",
       "18   SCHED-J-PART-01-LINE-7   BooleanType  \n",
       "19   SCHED-J-PART-01-LINE-3  CheckboxType  \n",
       "20  SCHED-J-PART-01-LINE-1a  CheckboxType  \n",
       "21   SCHED-J-PART-01-LINE-9   BooleanType  \n",
       "22  SCHED-J-PART-01-LINE-4a   BooleanType  \n",
       "23   SCHED-J-PART-01-LINE-2   BooleanType  \n",
       "24  SCHED-J-PART-01-LINE-4b   BooleanType  \n",
       "25  SCHED-J-PART-01-LINE-1b   BooleanType  "
      ]
     },
     "execution_count": 10,
     "metadata": {},
     "output_type": "execute_result"
    }
   ],
   "source": [
    "def agg_funcs(x):\n",
    "    names = {\n",
    "        'description': x['description'].head(1).values[0],\n",
    "        'location_code': x['location_code'].head(1).values[0],        \n",
    "        'data_type_xsd': x['data_type_xsd'].head(1).values[0],\n",
    "        #'python_data_type': x['python_data_type'].head(1).values[0],\n",
    "        #'PARSING NOTES': x['PARSING NOTES'].head(1).values[0],       \n",
    "        #'OTHER NOTES': x['OTHER NOTES'].head(1).values[0],       \n",
    "    }\n",
    "    #THE FOLLOWING SHORTCUT WORKS BUT CHANGES THE ORDER OF THE COLUMNS\n",
    "    #return pd.Series(names, index = list(names.keys()))\n",
    "    return pd.Series(names, index=['description', 'location_code', 'data_type_xsd', #'python_data_type', \n",
    "                                  #'PARSING NOTES', 'OTHER NOTES'\n",
    "                                  ])\n",
    "new_variables_df = concordance.groupby(['variable_name_new']).apply(agg_funcs)\n",
    "new_variables_df = new_variables_df.reset_index()\n",
    "print('# of variables:', len(new_variables_df))\n",
    "new_variables_df[:]"
   ]
  },
  {
   "cell_type": "code",
   "execution_count": 11,
   "metadata": {},
   "outputs": [
    {
     "data": {
      "text/html": [
       "<div>\n",
       "<style scoped>\n",
       "    .dataframe tbody tr th:only-of-type {\n",
       "        vertical-align: middle;\n",
       "    }\n",
       "\n",
       "    .dataframe tbody tr th {\n",
       "        vertical-align: top;\n",
       "    }\n",
       "\n",
       "    .dataframe thead th {\n",
       "        text-align: right;\n",
       "    }\n",
       "</style>\n",
       "<table border=\"1\" class=\"dataframe\">\n",
       "  <thead>\n",
       "    <tr style=\"text-align: right;\">\n",
       "      <th></th>\n",
       "      <th>xpath</th>\n",
       "      <th>variable_name_new</th>\n",
       "      <th># of Characters (newly named)</th>\n",
       "      <th>variable name notes</th>\n",
       "      <th>PARSING NOTES</th>\n",
       "      <th>OTHER NOTES</th>\n",
       "      <th>description</th>\n",
       "      <th>location_code</th>\n",
       "      <th>part</th>\n",
       "      <th>data_type_xsd</th>\n",
       "      <th>fill_null</th>\n",
       "      <th>BINARIZE</th>\n",
       "      <th>MongoDB_Name</th>\n",
       "      <th>sub_key</th>\n",
       "      <th>sub_sub_key</th>\n",
       "    </tr>\n",
       "  </thead>\n",
       "  <tbody>\n",
       "  </tbody>\n",
       "</table>\n",
       "</div>"
      ],
      "text/plain": [
       "Empty DataFrame\n",
       "Columns: [xpath, variable_name_new, # of Characters (newly named), variable name notes, PARSING NOTES, OTHER NOTES, description, location_code, part, data_type_xsd, fill_null, BINARIZE, MongoDB_Name, sub_key, sub_sub_key]\n",
       "Index: []"
      ]
     },
     "execution_count": 11,
     "metadata": {},
     "output_type": "execute_result"
    }
   ],
   "source": [
    "concordance[concordance['description'].isnull()]"
   ]
  },
  {
   "cell_type": "code",
   "execution_count": 12,
   "metadata": {},
   "outputs": [
    {
     "data": {
      "text/html": [
       "<div>\n",
       "<style scoped>\n",
       "    .dataframe tbody tr th:only-of-type {\n",
       "        vertical-align: middle;\n",
       "    }\n",
       "\n",
       "    .dataframe tbody tr th {\n",
       "        vertical-align: top;\n",
       "    }\n",
       "\n",
       "    .dataframe thead th {\n",
       "        text-align: right;\n",
       "    }\n",
       "</style>\n",
       "<table border=\"1\" class=\"dataframe\">\n",
       "  <thead>\n",
       "    <tr style=\"text-align: right;\">\n",
       "      <th></th>\n",
       "      <th>variable_name_new</th>\n",
       "      <th>description</th>\n",
       "      <th>location_code</th>\n",
       "      <th>data_type_xsd</th>\n",
       "    </tr>\n",
       "  </thead>\n",
       "  <tbody>\n",
       "  </tbody>\n",
       "</table>\n",
       "</div>"
      ],
      "text/plain": [
       "Empty DataFrame\n",
       "Columns: [variable_name_new, description, location_code, data_type_xsd]\n",
       "Index: []"
      ]
     },
     "execution_count": 12,
     "metadata": {},
     "output_type": "execute_result"
    }
   ],
   "source": [
    "new_variables_df[new_variables_df['description'].isnull()]"
   ]
  },
  {
   "cell_type": "code",
   "execution_count": 13,
   "metadata": {},
   "outputs": [],
   "source": [
    "for index, row in new_variables_df.iterrows():\n",
    "    #if pd.isnull(row['python_data_type']):\n",
    "    #    print('Missing *python_data_type*', row['variable_name_new'], row['python_data_type'], '\\n')\n",
    "    if pd.isnull(row['location_code']):\n",
    "        print('Missing *location_code*',  row['variable_name_new'], '.....', row['location_code'], row['description'], '\\n')         \n",
    "    elif pd.isnull(row['data_type_xsd']):\n",
    "        print('Missing *data_type_xsd*', row['variable_name_new'], row['data_type_xsd'], '\\n')\n",
    "    elif pd.isnull(row['description']):\n",
    "        print('Missing *description*', row['variable_name_new'], '.....', row['description'])         "
   ]
  },
  {
   "cell_type": "code",
   "execution_count": 14,
   "metadata": {},
   "outputs": [
    {
     "data": {
      "text/plain": [
       "set()"
      ]
     },
     "execution_count": 14,
     "metadata": {},
     "output_type": "execute_result"
    }
   ],
   "source": [
    "set(new_variables_df['variable_name_new'].tolist()) - set(df.columns.tolist())"
   ]
  },
  {
   "cell_type": "code",
   "execution_count": 15,
   "metadata": {},
   "outputs": [
    {
     "data": {
      "text/plain": [
       "{'EIN', 'OrganizationName', 'URL'}"
      ]
     },
     "execution_count": 15,
     "metadata": {},
     "output_type": "execute_result"
    }
   ],
   "source": [
    "set(df.columns.tolist()) - set(new_variables_df['variable_name_new'].tolist())"
   ]
  },
  {
   "cell_type": "code",
   "execution_count": 16,
   "metadata": {},
   "outputs": [
    {
     "data": {
      "text/html": [
       "<div>\n",
       "<style scoped>\n",
       "    .dataframe tbody tr th:only-of-type {\n",
       "        vertical-align: middle;\n",
       "    }\n",
       "\n",
       "    .dataframe tbody tr th {\n",
       "        vertical-align: top;\n",
       "    }\n",
       "\n",
       "    .dataframe thead th {\n",
       "        text-align: right;\n",
       "    }\n",
       "</style>\n",
       "<table border=\"1\" class=\"dataframe\">\n",
       "  <thead>\n",
       "    <tr style=\"text-align: right;\">\n",
       "      <th></th>\n",
       "      <th>OrganizationName</th>\n",
       "      <th>URL</th>\n",
       "      <th>EIN</th>\n",
       "      <th>SJ_01_PC_BOARD_APPROVAL</th>\n",
       "      <th>SJ_01_PC_CLUB_FEES</th>\n",
       "      <th>SJ_01_PC_COMPANION_TRAVEL</th>\n",
       "      <th>SJ_01_PC_COMPENSATION_COMMITTEE</th>\n",
       "      <th>SJ_01_PC_COMPENSATION_SURVEY</th>\n",
       "      <th>SJ_01_PC_CONSULTANT</th>\n",
       "      <th>SJ_01_PC_CONTINGENT_NET_OWN</th>\n",
       "      <th>SJ_01_PC_CONTINGENT_NET_RELATED</th>\n",
       "      <th>SJ_01_PC_CONTINGENT_REV_OWN</th>\n",
       "      <th>SJ_01_PC_CONTINGENT_REV_RELATED</th>\n",
       "      <th>SJ_01_PC_CONTRACT</th>\n",
       "      <th>SJ_01_PC_CONTRACT_EXCEPTION</th>\n",
       "      <th>SJ_01_PC_DISCRETIONARY_ACCOUNT</th>\n",
       "      <th>SJ_01_PC_EQUITY_BASED_COMP</th>\n",
       "      <th>SJ_01_PC_FIRST_CLASS_TRAVEL</th>\n",
       "      <th>SJ_01_PC_HOME_OFFICE_SUBSIDY</th>\n",
       "      <th>SJ_01_PC_HOUSING_ALLOWANCE</th>\n",
       "      <th>SJ_01_PC_INDEMNIFICATION</th>\n",
       "      <th>SJ_01_PC_NON_FIXED_PAYMENTS</th>\n",
       "      <th>SJ_01_PC_OTHER_ORGS_990</th>\n",
       "      <th>SJ_01_PC_PERSONAL_SERVICES</th>\n",
       "      <th>SJ_01_PC_REBUTTABLE_PRESUMPTION</th>\n",
       "      <th>SJ_01_PC_SEVERANCE</th>\n",
       "      <th>SJ_01_PC_SUBSTANTIATION_REQUIRED</th>\n",
       "      <th>SJ_01_PC_SUPPLEMENTAL_RETIREMENT</th>\n",
       "      <th>SJ_01_PC_WRITTEN_POLICY</th>\n",
       "    </tr>\n",
       "  </thead>\n",
       "  <tbody>\n",
       "    <tr>\n",
       "      <th>0</th>\n",
       "      <td>TORRINGTON VOA ELDERLY HOUSING INC BELL PARK TOWER</td>\n",
       "      <td>https://s3.amazonaws.com/irs-form-990/201113139349301311_public.xml</td>\n",
       "      <td>581805618</td>\n",
       "      <td>1.00</td>\n",
       "      <td>NaN</td>\n",
       "      <td>NaN</td>\n",
       "      <td>1.00</td>\n",
       "      <td>1.00</td>\n",
       "      <td>NaN</td>\n",
       "      <td>0.00</td>\n",
       "      <td>0.00</td>\n",
       "      <td>0.00</td>\n",
       "      <td>0.00</td>\n",
       "      <td>NaN</td>\n",
       "      <td>0.00</td>\n",
       "      <td>NaN</td>\n",
       "      <td>0.00</td>\n",
       "      <td>NaN</td>\n",
       "      <td>NaN</td>\n",
       "      <td>NaN</td>\n",
       "      <td>NaN</td>\n",
       "      <td>0.00</td>\n",
       "      <td>NaN</td>\n",
       "      <td>NaN</td>\n",
       "      <td>0.00</td>\n",
       "      <td>0.00</td>\n",
       "      <td>NaN</td>\n",
       "      <td>1.00</td>\n",
       "      <td>NaN</td>\n",
       "    </tr>\n",
       "  </tbody>\n",
       "</table>\n",
       "</div>"
      ],
      "text/plain": [
       "                                     OrganizationName  \\\n",
       "0  TORRINGTON VOA ELDERLY HOUSING INC BELL PARK TOWER   \n",
       "\n",
       "                                                                   URL  \\\n",
       "0  https://s3.amazonaws.com/irs-form-990/201113139349301311_public.xml   \n",
       "\n",
       "         EIN  SJ_01_PC_BOARD_APPROVAL  SJ_01_PC_CLUB_FEES  \\\n",
       "0  581805618                     1.00                 NaN   \n",
       "\n",
       "   SJ_01_PC_COMPANION_TRAVEL  SJ_01_PC_COMPENSATION_COMMITTEE  \\\n",
       "0                        NaN                             1.00   \n",
       "\n",
       "   SJ_01_PC_COMPENSATION_SURVEY  SJ_01_PC_CONSULTANT  \\\n",
       "0                          1.00                  NaN   \n",
       "\n",
       "   SJ_01_PC_CONTINGENT_NET_OWN  SJ_01_PC_CONTINGENT_NET_RELATED  \\\n",
       "0                         0.00                             0.00   \n",
       "\n",
       "   SJ_01_PC_CONTINGENT_REV_OWN  SJ_01_PC_CONTINGENT_REV_RELATED  \\\n",
       "0                         0.00                             0.00   \n",
       "\n",
       "   SJ_01_PC_CONTRACT  SJ_01_PC_CONTRACT_EXCEPTION  \\\n",
       "0                NaN                         0.00   \n",
       "\n",
       "   SJ_01_PC_DISCRETIONARY_ACCOUNT  SJ_01_PC_EQUITY_BASED_COMP  \\\n",
       "0                             NaN                        0.00   \n",
       "\n",
       "   SJ_01_PC_FIRST_CLASS_TRAVEL  SJ_01_PC_HOME_OFFICE_SUBSIDY  \\\n",
       "0                          NaN                           NaN   \n",
       "\n",
       "   SJ_01_PC_HOUSING_ALLOWANCE  SJ_01_PC_INDEMNIFICATION  \\\n",
       "0                         NaN                       NaN   \n",
       "\n",
       "   SJ_01_PC_NON_FIXED_PAYMENTS  SJ_01_PC_OTHER_ORGS_990  \\\n",
       "0                         0.00                      NaN   \n",
       "\n",
       "   SJ_01_PC_PERSONAL_SERVICES  SJ_01_PC_REBUTTABLE_PRESUMPTION  \\\n",
       "0                         NaN                             0.00   \n",
       "\n",
       "   SJ_01_PC_SEVERANCE  SJ_01_PC_SUBSTANTIATION_REQUIRED  \\\n",
       "0                0.00                               NaN   \n",
       "\n",
       "   SJ_01_PC_SUPPLEMENTAL_RETIREMENT  SJ_01_PC_WRITTEN_POLICY  \n",
       "0                              1.00                      NaN  "
      ]
     },
     "execution_count": 16,
     "metadata": {},
     "output_type": "execute_result"
    }
   ],
   "source": [
    "df[:1]"
   ]
  },
  {
   "cell_type": "code",
   "execution_count": 17,
   "metadata": {},
   "outputs": [
    {
     "name": "stdout",
     "output_type": "stream",
     "text": [
      "497701\n"
     ]
    }
   ],
   "source": [
    "print(len(df))\n",
    "#df['501c3'].value_counts()"
   ]
  },
  {
   "cell_type": "code",
   "execution_count": 18,
   "metadata": {},
   "outputs": [
    {
     "data": {
      "text/html": [
       "<div>\n",
       "<style scoped>\n",
       "    .dataframe tbody tr th:only-of-type {\n",
       "        vertical-align: middle;\n",
       "    }\n",
       "\n",
       "    .dataframe tbody tr th {\n",
       "        vertical-align: top;\n",
       "    }\n",
       "\n",
       "    .dataframe thead th {\n",
       "        text-align: right;\n",
       "    }\n",
       "</style>\n",
       "<table border=\"1\" class=\"dataframe\">\n",
       "  <thead>\n",
       "    <tr style=\"text-align: right;\">\n",
       "      <th></th>\n",
       "      <th>variable_name_new</th>\n",
       "      <th>description</th>\n",
       "    </tr>\n",
       "  </thead>\n",
       "  <tbody>\n",
       "    <tr>\n",
       "      <th>0</th>\n",
       "      <td>EIN</td>\n",
       "      <td>EIN</td>\n",
       "    </tr>\n",
       "    <tr>\n",
       "      <th>1</th>\n",
       "      <td>OrganizationName</td>\n",
       "      <td>Organization Name</td>\n",
       "    </tr>\n",
       "    <tr>\n",
       "      <th>2</th>\n",
       "      <td>URL</td>\n",
       "      <td>Unique identifier for filing -- use for merging with filings-level datasets (also for seeing raw filing online)</td>\n",
       "    </tr>\n",
       "  </tbody>\n",
       "</table>\n",
       "</div>"
      ],
      "text/plain": [
       "  variable_name_new  \\\n",
       "0               EIN   \n",
       "1  OrganizationName   \n",
       "2               URL   \n",
       "\n",
       "                                                                                                       description  \n",
       "0                                                                                                              EIN  \n",
       "1                                                                                                Organization Name  \n",
       "2  Unique identifier for filing -- use for merging with filings-level datasets (also for seeing raw filing online)  "
      ]
     },
     "execution_count": 18,
     "metadata": {},
     "output_type": "execute_result"
    }
   ],
   "source": [
    "no_conc = ['EIN',\n",
    " 'OrganizationName',\n",
    " 'URL']\n",
    "vals = ['EIN', \n",
    "        'Organization Name',  \n",
    "        'Unique identifier for filing -- use for merging with filings-level datasets (also for seeing raw filing online)']\n",
    "\n",
    "#list(zip(lst, lst2)),\n",
    "no_concordance_df = pd.DataFrame(list(zip(no_conc,vals)), columns =['variable_name_new', 'description'])\n",
    "no_concordance_df"
   ]
  },
  {
   "cell_type": "code",
   "execution_count": 19,
   "metadata": {},
   "outputs": [
    {
     "name": "stdout",
     "output_type": "stream",
     "text": [
      "26\n",
      "29\n",
      "29\n"
     ]
    },
    {
     "name": "stderr",
     "output_type": "stream",
     "text": [
      "C:\\Users\\Gregory\\AppData\\Local\\Temp\\ipykernel_184020\\4262565202.py:2: FutureWarning: The frame.append method is deprecated and will be removed from pandas in a future version. Use pandas.concat instead.\n",
      "  print(len(new_variables_df.append(no_concordance_df)))\n",
      "C:\\Users\\Gregory\\AppData\\Local\\Temp\\ipykernel_184020\\4262565202.py:3: FutureWarning: The frame.append method is deprecated and will be removed from pandas in a future version. Use pandas.concat instead.\n",
      "  new_variables_df = new_variables_df.append(no_concordance_df)\n"
     ]
    }
   ],
   "source": [
    "print(len(new_variables_df))\n",
    "print(len(new_variables_df.append(no_concordance_df)))\n",
    "new_variables_df = new_variables_df.append(no_concordance_df)\n",
    "print(len(new_variables_df))"
   ]
  },
  {
   "cell_type": "code",
   "execution_count": 20,
   "metadata": {},
   "outputs": [
    {
     "data": {
      "text/html": [
       "<div>\n",
       "<style scoped>\n",
       "    .dataframe tbody tr th:only-of-type {\n",
       "        vertical-align: middle;\n",
       "    }\n",
       "\n",
       "    .dataframe tbody tr th {\n",
       "        vertical-align: top;\n",
       "    }\n",
       "\n",
       "    .dataframe thead th {\n",
       "        text-align: right;\n",
       "    }\n",
       "</style>\n",
       "<table border=\"1\" class=\"dataframe\">\n",
       "  <thead>\n",
       "    <tr style=\"text-align: right;\">\n",
       "      <th></th>\n",
       "      <th>variable_name_new</th>\n",
       "      <th>description</th>\n",
       "      <th>location_code</th>\n",
       "      <th>data_type_xsd</th>\n",
       "    </tr>\n",
       "  </thead>\n",
       "  <tbody>\n",
       "    <tr>\n",
       "      <th>0</th>\n",
       "      <td>EIN</td>\n",
       "      <td>EIN</td>\n",
       "      <td>NaN</td>\n",
       "      <td>NaN</td>\n",
       "    </tr>\n",
       "    <tr>\n",
       "      <th>1</th>\n",
       "      <td>OrganizationName</td>\n",
       "      <td>Organization Name</td>\n",
       "      <td>NaN</td>\n",
       "      <td>NaN</td>\n",
       "    </tr>\n",
       "    <tr>\n",
       "      <th>2</th>\n",
       "      <td>URL</td>\n",
       "      <td>Unique identifier for filing -- use for merging with filings-level datasets (also for seeing raw filing online)</td>\n",
       "      <td>NaN</td>\n",
       "      <td>NaN</td>\n",
       "    </tr>\n",
       "  </tbody>\n",
       "</table>\n",
       "</div>"
      ],
      "text/plain": [
       "  variable_name_new  \\\n",
       "0               EIN   \n",
       "1  OrganizationName   \n",
       "2               URL   \n",
       "\n",
       "                                                                                                       description  \\\n",
       "0                                                                                                              EIN   \n",
       "1                                                                                                Organization Name   \n",
       "2  Unique identifier for filing -- use for merging with filings-level datasets (also for seeing raw filing online)   \n",
       "\n",
       "  location_code data_type_xsd  \n",
       "0           NaN           NaN  \n",
       "1           NaN           NaN  \n",
       "2           NaN           NaN  "
      ]
     },
     "execution_count": 20,
     "metadata": {},
     "output_type": "execute_result"
    }
   ],
   "source": [
    "new_variables_df[new_variables_df['variable_name_new'].isin(no_conc)]"
   ]
  },
  {
   "cell_type": "markdown",
   "metadata": {},
   "source": [
    "### Inspect"
   ]
  },
  {
   "cell_type": "code",
   "execution_count": 21,
   "metadata": {},
   "outputs": [
    {
     "data": {
      "text/html": [
       "<div>\n",
       "<style scoped>\n",
       "    .dataframe tbody tr th:only-of-type {\n",
       "        vertical-align: middle;\n",
       "    }\n",
       "\n",
       "    .dataframe tbody tr th {\n",
       "        vertical-align: top;\n",
       "    }\n",
       "\n",
       "    .dataframe thead th {\n",
       "        text-align: right;\n",
       "    }\n",
       "</style>\n",
       "<table border=\"1\" class=\"dataframe\">\n",
       "  <thead>\n",
       "    <tr style=\"text-align: right;\">\n",
       "      <th></th>\n",
       "      <th>variable_name_new</th>\n",
       "      <th>description</th>\n",
       "      <th>location_code</th>\n",
       "      <th>data_type_xsd</th>\n",
       "    </tr>\n",
       "  </thead>\n",
       "  <tbody>\n",
       "  </tbody>\n",
       "</table>\n",
       "</div>"
      ],
      "text/plain": [
       "Empty DataFrame\n",
       "Columns: [variable_name_new, description, location_code, data_type_xsd]\n",
       "Index: []"
      ]
     },
     "execution_count": 21,
     "metadata": {},
     "output_type": "execute_result"
    }
   ],
   "source": [
    "new_variables_df[new_variables_df['description'].isnull()]"
   ]
  },
  {
   "cell_type": "code",
   "execution_count": 22,
   "metadata": {},
   "outputs": [
    {
     "data": {
      "text/plain": [
       "set()"
      ]
     },
     "execution_count": 22,
     "metadata": {},
     "output_type": "execute_result"
    }
   ],
   "source": [
    "set(new_variables_df['variable_name_new'].tolist()) - set(df.columns.tolist())"
   ]
  },
  {
   "cell_type": "code",
   "execution_count": 23,
   "metadata": {},
   "outputs": [
    {
     "data": {
      "text/plain": [
       "set()"
      ]
     },
     "execution_count": 23,
     "metadata": {},
     "output_type": "execute_result"
    }
   ],
   "source": [
    "set(df.columns.tolist()) - set(new_variables_df['variable_name_new'].tolist())"
   ]
  },
  {
   "cell_type": "code",
   "execution_count": 24,
   "metadata": {},
   "outputs": [
    {
     "data": {
      "text/html": [
       "<div>\n",
       "<style scoped>\n",
       "    .dataframe tbody tr th:only-of-type {\n",
       "        vertical-align: middle;\n",
       "    }\n",
       "\n",
       "    .dataframe tbody tr th {\n",
       "        vertical-align: top;\n",
       "    }\n",
       "\n",
       "    .dataframe thead th {\n",
       "        text-align: right;\n",
       "    }\n",
       "</style>\n",
       "<table border=\"1\" class=\"dataframe\">\n",
       "  <thead>\n",
       "    <tr style=\"text-align: right;\">\n",
       "      <th></th>\n",
       "      <th>OrganizationName</th>\n",
       "      <th>URL</th>\n",
       "      <th>EIN</th>\n",
       "      <th>SJ_01_PC_BOARD_APPROVAL</th>\n",
       "      <th>SJ_01_PC_CLUB_FEES</th>\n",
       "      <th>SJ_01_PC_COMPANION_TRAVEL</th>\n",
       "      <th>SJ_01_PC_COMPENSATION_COMMITTEE</th>\n",
       "      <th>SJ_01_PC_COMPENSATION_SURVEY</th>\n",
       "      <th>SJ_01_PC_CONSULTANT</th>\n",
       "      <th>SJ_01_PC_CONTINGENT_NET_OWN</th>\n",
       "      <th>SJ_01_PC_CONTINGENT_NET_RELATED</th>\n",
       "      <th>SJ_01_PC_CONTINGENT_REV_OWN</th>\n",
       "      <th>SJ_01_PC_CONTINGENT_REV_RELATED</th>\n",
       "      <th>SJ_01_PC_CONTRACT</th>\n",
       "      <th>SJ_01_PC_CONTRACT_EXCEPTION</th>\n",
       "      <th>SJ_01_PC_DISCRETIONARY_ACCOUNT</th>\n",
       "      <th>SJ_01_PC_EQUITY_BASED_COMP</th>\n",
       "      <th>SJ_01_PC_FIRST_CLASS_TRAVEL</th>\n",
       "      <th>SJ_01_PC_HOME_OFFICE_SUBSIDY</th>\n",
       "      <th>SJ_01_PC_HOUSING_ALLOWANCE</th>\n",
       "      <th>SJ_01_PC_INDEMNIFICATION</th>\n",
       "      <th>SJ_01_PC_NON_FIXED_PAYMENTS</th>\n",
       "      <th>SJ_01_PC_OTHER_ORGS_990</th>\n",
       "      <th>SJ_01_PC_PERSONAL_SERVICES</th>\n",
       "      <th>SJ_01_PC_REBUTTABLE_PRESUMPTION</th>\n",
       "      <th>SJ_01_PC_SEVERANCE</th>\n",
       "      <th>SJ_01_PC_SUBSTANTIATION_REQUIRED</th>\n",
       "      <th>SJ_01_PC_SUPPLEMENTAL_RETIREMENT</th>\n",
       "      <th>SJ_01_PC_WRITTEN_POLICY</th>\n",
       "    </tr>\n",
       "  </thead>\n",
       "  <tbody>\n",
       "    <tr>\n",
       "      <th>0</th>\n",
       "      <td>TORRINGTON VOA ELDERLY HOUSING INC BELL PARK TOWER</td>\n",
       "      <td>https://s3.amazonaws.com/irs-form-990/201113139349301311_public.xml</td>\n",
       "      <td>581805618</td>\n",
       "      <td>1.00</td>\n",
       "      <td>NaN</td>\n",
       "      <td>NaN</td>\n",
       "      <td>1.00</td>\n",
       "      <td>1.00</td>\n",
       "      <td>NaN</td>\n",
       "      <td>0.00</td>\n",
       "      <td>0.00</td>\n",
       "      <td>0.00</td>\n",
       "      <td>0.00</td>\n",
       "      <td>NaN</td>\n",
       "      <td>0.00</td>\n",
       "      <td>NaN</td>\n",
       "      <td>0.00</td>\n",
       "      <td>NaN</td>\n",
       "      <td>NaN</td>\n",
       "      <td>NaN</td>\n",
       "      <td>NaN</td>\n",
       "      <td>0.00</td>\n",
       "      <td>NaN</td>\n",
       "      <td>NaN</td>\n",
       "      <td>0.00</td>\n",
       "      <td>0.00</td>\n",
       "      <td>NaN</td>\n",
       "      <td>1.00</td>\n",
       "      <td>NaN</td>\n",
       "    </tr>\n",
       "  </tbody>\n",
       "</table>\n",
       "</div>"
      ],
      "text/plain": [
       "                                     OrganizationName  \\\n",
       "0  TORRINGTON VOA ELDERLY HOUSING INC BELL PARK TOWER   \n",
       "\n",
       "                                                                   URL  \\\n",
       "0  https://s3.amazonaws.com/irs-form-990/201113139349301311_public.xml   \n",
       "\n",
       "         EIN  SJ_01_PC_BOARD_APPROVAL  SJ_01_PC_CLUB_FEES  \\\n",
       "0  581805618                     1.00                 NaN   \n",
       "\n",
       "   SJ_01_PC_COMPANION_TRAVEL  SJ_01_PC_COMPENSATION_COMMITTEE  \\\n",
       "0                        NaN                             1.00   \n",
       "\n",
       "   SJ_01_PC_COMPENSATION_SURVEY  SJ_01_PC_CONSULTANT  \\\n",
       "0                          1.00                  NaN   \n",
       "\n",
       "   SJ_01_PC_CONTINGENT_NET_OWN  SJ_01_PC_CONTINGENT_NET_RELATED  \\\n",
       "0                         0.00                             0.00   \n",
       "\n",
       "   SJ_01_PC_CONTINGENT_REV_OWN  SJ_01_PC_CONTINGENT_REV_RELATED  \\\n",
       "0                         0.00                             0.00   \n",
       "\n",
       "   SJ_01_PC_CONTRACT  SJ_01_PC_CONTRACT_EXCEPTION  \\\n",
       "0                NaN                         0.00   \n",
       "\n",
       "   SJ_01_PC_DISCRETIONARY_ACCOUNT  SJ_01_PC_EQUITY_BASED_COMP  \\\n",
       "0                             NaN                        0.00   \n",
       "\n",
       "   SJ_01_PC_FIRST_CLASS_TRAVEL  SJ_01_PC_HOME_OFFICE_SUBSIDY  \\\n",
       "0                          NaN                           NaN   \n",
       "\n",
       "   SJ_01_PC_HOUSING_ALLOWANCE  SJ_01_PC_INDEMNIFICATION  \\\n",
       "0                         NaN                       NaN   \n",
       "\n",
       "   SJ_01_PC_NON_FIXED_PAYMENTS  SJ_01_PC_OTHER_ORGS_990  \\\n",
       "0                         0.00                      NaN   \n",
       "\n",
       "   SJ_01_PC_PERSONAL_SERVICES  SJ_01_PC_REBUTTABLE_PRESUMPTION  \\\n",
       "0                         NaN                             0.00   \n",
       "\n",
       "   SJ_01_PC_SEVERANCE  SJ_01_PC_SUBSTANTIATION_REQUIRED  \\\n",
       "0                0.00                               NaN   \n",
       "\n",
       "   SJ_01_PC_SUPPLEMENTAL_RETIREMENT  SJ_01_PC_WRITTEN_POLICY  \n",
       "0                              1.00                      NaN  "
      ]
     },
     "execution_count": 24,
     "metadata": {},
     "output_type": "execute_result"
    }
   ],
   "source": [
    "df[:1]"
   ]
  },
  {
   "cell_type": "code",
   "execution_count": 25,
   "metadata": {},
   "outputs": [
    {
     "data": {
      "text/html": [
       "<div>\n",
       "<style scoped>\n",
       "    .dataframe tbody tr th:only-of-type {\n",
       "        vertical-align: middle;\n",
       "    }\n",
       "\n",
       "    .dataframe tbody tr th {\n",
       "        vertical-align: top;\n",
       "    }\n",
       "\n",
       "    .dataframe thead th {\n",
       "        text-align: right;\n",
       "    }\n",
       "</style>\n",
       "<table border=\"1\" class=\"dataframe\">\n",
       "  <thead>\n",
       "    <tr style=\"text-align: right;\">\n",
       "      <th></th>\n",
       "      <th>variable_name_new</th>\n",
       "      <th>description</th>\n",
       "      <th>location_code</th>\n",
       "      <th>data_type_xsd</th>\n",
       "    </tr>\n",
       "  </thead>\n",
       "  <tbody>\n",
       "    <tr>\n",
       "      <th>0</th>\n",
       "      <td>SJ_01_PC_BOARD_APPROVAL</td>\n",
       "      <td>Board or committee approval</td>\n",
       "      <td>SCHED-J-PART-01-LINE-3</td>\n",
       "      <td>CheckboxType</td>\n",
       "    </tr>\n",
       "  </tbody>\n",
       "</table>\n",
       "</div>"
      ],
      "text/plain": [
       "         variable_name_new                  description  \\\n",
       "0  SJ_01_PC_BOARD_APPROVAL  Board or committee approval   \n",
       "\n",
       "            location_code data_type_xsd  \n",
       "0  SCHED-J-PART-01-LINE-3  CheckboxType  "
      ]
     },
     "execution_count": 25,
     "metadata": {},
     "output_type": "execute_result"
    }
   ],
   "source": [
    "new_variables_df[:1]"
   ]
  },
  {
   "cell_type": "markdown",
   "metadata": {},
   "source": [
    "#### Reset Index"
   ]
  },
  {
   "cell_type": "code",
   "execution_count": 26,
   "metadata": {},
   "outputs": [
    {
     "data": {
      "text/html": [
       "<div>\n",
       "<style scoped>\n",
       "    .dataframe tbody tr th:only-of-type {\n",
       "        vertical-align: middle;\n",
       "    }\n",
       "\n",
       "    .dataframe tbody tr th {\n",
       "        vertical-align: top;\n",
       "    }\n",
       "\n",
       "    .dataframe thead th {\n",
       "        text-align: right;\n",
       "    }\n",
       "</style>\n",
       "<table border=\"1\" class=\"dataframe\">\n",
       "  <thead>\n",
       "    <tr style=\"text-align: right;\">\n",
       "      <th></th>\n",
       "      <th>description</th>\n",
       "      <th>location_code</th>\n",
       "      <th>data_type_xsd</th>\n",
       "    </tr>\n",
       "    <tr>\n",
       "      <th>variable_name_new</th>\n",
       "      <th></th>\n",
       "      <th></th>\n",
       "      <th></th>\n",
       "    </tr>\n",
       "  </thead>\n",
       "  <tbody>\n",
       "    <tr>\n",
       "      <th>SJ_01_PC_BOARD_APPROVAL</th>\n",
       "      <td>Board or committee approval</td>\n",
       "      <td>SCHED-J-PART-01-LINE-3</td>\n",
       "      <td>CheckboxType</td>\n",
       "    </tr>\n",
       "    <tr>\n",
       "      <th>SJ_01_PC_CLUB_FEES</th>\n",
       "      <td>Club dues or fees</td>\n",
       "      <td>SCHED-J-PART-01-LINE-1a</td>\n",
       "      <td>CheckboxType</td>\n",
       "    </tr>\n",
       "    <tr>\n",
       "      <th>SJ_01_PC_COMPANION_TRAVEL</th>\n",
       "      <td>Travel for companions</td>\n",
       "      <td>SCHED-J-PART-01-LINE-1a</td>\n",
       "      <td>CheckboxType</td>\n",
       "    </tr>\n",
       "    <tr>\n",
       "      <th>SJ_01_PC_COMPENSATION_COMMITTEE</th>\n",
       "      <td>Compensation committee</td>\n",
       "      <td>SCHED-J-PART-01-LINE-3</td>\n",
       "      <td>CheckboxType</td>\n",
       "    </tr>\n",
       "    <tr>\n",
       "      <th>SJ_01_PC_COMPENSATION_SURVEY</th>\n",
       "      <td>Compensation survey</td>\n",
       "      <td>SCHED-J-PART-01-LINE-3</td>\n",
       "      <td>CheckboxType</td>\n",
       "    </tr>\n",
       "  </tbody>\n",
       "</table>\n",
       "</div>"
      ],
      "text/plain": [
       "                                                 description  \\\n",
       "variable_name_new                                              \n",
       "SJ_01_PC_BOARD_APPROVAL          Board or committee approval   \n",
       "SJ_01_PC_CLUB_FEES                         Club dues or fees   \n",
       "SJ_01_PC_COMPANION_TRAVEL              Travel for companions   \n",
       "SJ_01_PC_COMPENSATION_COMMITTEE       Compensation committee   \n",
       "SJ_01_PC_COMPENSATION_SURVEY             Compensation survey   \n",
       "\n",
       "                                           location_code data_type_xsd  \n",
       "variable_name_new                                                       \n",
       "SJ_01_PC_BOARD_APPROVAL           SCHED-J-PART-01-LINE-3  CheckboxType  \n",
       "SJ_01_PC_CLUB_FEES               SCHED-J-PART-01-LINE-1a  CheckboxType  \n",
       "SJ_01_PC_COMPANION_TRAVEL        SCHED-J-PART-01-LINE-1a  CheckboxType  \n",
       "SJ_01_PC_COMPENSATION_COMMITTEE   SCHED-J-PART-01-LINE-3  CheckboxType  \n",
       "SJ_01_PC_COMPENSATION_SURVEY      SCHED-J-PART-01-LINE-3  CheckboxType  "
      ]
     },
     "execution_count": 26,
     "metadata": {},
     "output_type": "execute_result"
    }
   ],
   "source": [
    "new_variables_df = new_variables_df.set_index('variable_name_new')\n",
    "new_variables_df[:5]"
   ]
  },
  {
   "cell_type": "code",
   "execution_count": 27,
   "metadata": {},
   "outputs": [
    {
     "data": {
      "text/plain": [
       "29"
      ]
     },
     "execution_count": 27,
     "metadata": {},
     "output_type": "execute_result"
    }
   ],
   "source": [
    "len(new_variables_df)"
   ]
  },
  {
   "cell_type": "code",
   "execution_count": 28,
   "metadata": {},
   "outputs": [
    {
     "data": {
      "text/plain": [
       "29"
      ]
     },
     "execution_count": 28,
     "metadata": {},
     "output_type": "execute_result"
    }
   ],
   "source": [
    "len(df.columns.tolist())"
   ]
  },
  {
   "cell_type": "code",
   "execution_count": 29,
   "metadata": {},
   "outputs": [
    {
     "name": "stdout",
     "output_type": "stream",
     "text": [
      "29\n",
      "29\n"
     ]
    }
   ],
   "source": [
    "print(len(new_variables_df.reindex(df.columns.tolist())))\n",
    "new_variables_df = new_variables_df.reindex(df.columns.tolist())\n",
    "print(len(new_variables_df))"
   ]
  },
  {
   "cell_type": "code",
   "execution_count": 30,
   "metadata": {},
   "outputs": [
    {
     "name": "stdout",
     "output_type": "stream",
     "text": [
      "29\n",
      "29\n"
     ]
    },
    {
     "data": {
      "text/html": [
       "<div>\n",
       "<style scoped>\n",
       "    .dataframe tbody tr th:only-of-type {\n",
       "        vertical-align: middle;\n",
       "    }\n",
       "\n",
       "    .dataframe tbody tr th {\n",
       "        vertical-align: top;\n",
       "    }\n",
       "\n",
       "    .dataframe thead th {\n",
       "        text-align: right;\n",
       "    }\n",
       "</style>\n",
       "<table border=\"1\" class=\"dataframe\">\n",
       "  <thead>\n",
       "    <tr style=\"text-align: right;\">\n",
       "      <th></th>\n",
       "      <th>variable_name_new</th>\n",
       "      <th>description</th>\n",
       "      <th>location_code</th>\n",
       "      <th>data_type_xsd</th>\n",
       "    </tr>\n",
       "  </thead>\n",
       "  <tbody>\n",
       "    <tr>\n",
       "      <th>0</th>\n",
       "      <td>OrganizationName</td>\n",
       "      <td>Organization Name</td>\n",
       "      <td>NaN</td>\n",
       "      <td>NaN</td>\n",
       "    </tr>\n",
       "  </tbody>\n",
       "</table>\n",
       "</div>"
      ],
      "text/plain": [
       "  variable_name_new        description location_code data_type_xsd\n",
       "0  OrganizationName  Organization Name           NaN           NaN"
      ]
     },
     "execution_count": 30,
     "metadata": {},
     "output_type": "execute_result"
    }
   ],
   "source": [
    "print(len(new_variables_df.reindex(df.columns.tolist())))\n",
    "new_variables_df = new_variables_df.reset_index()\n",
    "print(len(new_variables_df))\n",
    "new_variables_df[:1]"
   ]
  },
  {
   "cell_type": "code",
   "execution_count": 31,
   "metadata": {},
   "outputs": [
    {
     "data": {
      "text/html": [
       "<div>\n",
       "<style scoped>\n",
       "    .dataframe tbody tr th:only-of-type {\n",
       "        vertical-align: middle;\n",
       "    }\n",
       "\n",
       "    .dataframe tbody tr th {\n",
       "        vertical-align: top;\n",
       "    }\n",
       "\n",
       "    .dataframe thead th {\n",
       "        text-align: right;\n",
       "    }\n",
       "</style>\n",
       "<table border=\"1\" class=\"dataframe\">\n",
       "  <thead>\n",
       "    <tr style=\"text-align: right;\">\n",
       "      <th></th>\n",
       "      <th>variable_name_new</th>\n",
       "      <th>description</th>\n",
       "      <th>location_code</th>\n",
       "      <th>data_type_xsd</th>\n",
       "    </tr>\n",
       "  </thead>\n",
       "  <tbody>\n",
       "    <tr>\n",
       "      <th>0</th>\n",
       "      <td>OrganizationName</td>\n",
       "      <td>Organization Name</td>\n",
       "      <td>NaN</td>\n",
       "      <td>NaN</td>\n",
       "    </tr>\n",
       "    <tr>\n",
       "      <th>1</th>\n",
       "      <td>URL</td>\n",
       "      <td>Unique identifier for filing -- use for merging with filings-level datasets (also for seeing raw filing online)</td>\n",
       "      <td>NaN</td>\n",
       "      <td>NaN</td>\n",
       "    </tr>\n",
       "    <tr>\n",
       "      <th>2</th>\n",
       "      <td>EIN</td>\n",
       "      <td>EIN</td>\n",
       "      <td>NaN</td>\n",
       "      <td>NaN</td>\n",
       "    </tr>\n",
       "    <tr>\n",
       "      <th>3</th>\n",
       "      <td>SJ_01_PC_BOARD_APPROVAL</td>\n",
       "      <td>Board or committee approval</td>\n",
       "      <td>SCHED-J-PART-01-LINE-3</td>\n",
       "      <td>CheckboxType</td>\n",
       "    </tr>\n",
       "    <tr>\n",
       "      <th>4</th>\n",
       "      <td>SJ_01_PC_CLUB_FEES</td>\n",
       "      <td>Club dues or fees</td>\n",
       "      <td>SCHED-J-PART-01-LINE-1a</td>\n",
       "      <td>CheckboxType</td>\n",
       "    </tr>\n",
       "    <tr>\n",
       "      <th>5</th>\n",
       "      <td>SJ_01_PC_COMPANION_TRAVEL</td>\n",
       "      <td>Travel for companions</td>\n",
       "      <td>SCHED-J-PART-01-LINE-1a</td>\n",
       "      <td>CheckboxType</td>\n",
       "    </tr>\n",
       "    <tr>\n",
       "      <th>6</th>\n",
       "      <td>SJ_01_PC_COMPENSATION_COMMITTEE</td>\n",
       "      <td>Compensation committee</td>\n",
       "      <td>SCHED-J-PART-01-LINE-3</td>\n",
       "      <td>CheckboxType</td>\n",
       "    </tr>\n",
       "    <tr>\n",
       "      <th>7</th>\n",
       "      <td>SJ_01_PC_COMPENSATION_SURVEY</td>\n",
       "      <td>Compensation survey</td>\n",
       "      <td>SCHED-J-PART-01-LINE-3</td>\n",
       "      <td>CheckboxType</td>\n",
       "    </tr>\n",
       "    <tr>\n",
       "      <th>8</th>\n",
       "      <td>SJ_01_PC_CONSULTANT</td>\n",
       "      <td>Independent consultant</td>\n",
       "      <td>SCHED-J-PART-01-LINE-3</td>\n",
       "      <td>CheckboxType</td>\n",
       "    </tr>\n",
       "    <tr>\n",
       "      <th>9</th>\n",
       "      <td>SJ_01_PC_CONTINGENT_NET_OWN</td>\n",
       "      <td>Compensation based on net earnings of filing org?</td>\n",
       "      <td>SCHED-J-PART-01-LINE-6a</td>\n",
       "      <td>BooleanType</td>\n",
       "    </tr>\n",
       "    <tr>\n",
       "      <th>10</th>\n",
       "      <td>SJ_01_PC_CONTINGENT_NET_RELATED</td>\n",
       "      <td>Compensation based on net earnings of related orgs?</td>\n",
       "      <td>SCHED-J-PART-01-LINE-6b</td>\n",
       "      <td>BooleanType</td>\n",
       "    </tr>\n",
       "    <tr>\n",
       "      <th>11</th>\n",
       "      <td>SJ_01_PC_CONTINGENT_REV_OWN</td>\n",
       "      <td>Compensation based on revenue of filing org?</td>\n",
       "      <td>SCHED-J-PART-01-LINE-5a</td>\n",
       "      <td>BooleanType</td>\n",
       "    </tr>\n",
       "    <tr>\n",
       "      <th>12</th>\n",
       "      <td>SJ_01_PC_CONTINGENT_REV_RELATED</td>\n",
       "      <td>Compensation based on revenue of related orgs?</td>\n",
       "      <td>SCHED-J-PART-01-LINE-5b</td>\n",
       "      <td>BooleanType</td>\n",
       "    </tr>\n",
       "    <tr>\n",
       "      <th>13</th>\n",
       "      <td>SJ_01_PC_CONTRACT</td>\n",
       "      <td>Written employment contract</td>\n",
       "      <td>SCHED-J-PART-01-LINE-3</td>\n",
       "      <td>CheckboxType</td>\n",
       "    </tr>\n",
       "    <tr>\n",
       "      <th>14</th>\n",
       "      <td>SJ_01_PC_CONTRACT_EXCEPTION</td>\n",
       "      <td>Initial contract exception?</td>\n",
       "      <td>SCHED-J-PART-01-LINE-8</td>\n",
       "      <td>BooleanType</td>\n",
       "    </tr>\n",
       "    <tr>\n",
       "      <th>15</th>\n",
       "      <td>SJ_01_PC_DISCRETIONARY_ACCOUNT</td>\n",
       "      <td>Discretionary spending account</td>\n",
       "      <td>SCHED-J-PART-01-LINE-1a</td>\n",
       "      <td>CheckboxType</td>\n",
       "    </tr>\n",
       "    <tr>\n",
       "      <th>16</th>\n",
       "      <td>SJ_01_PC_EQUITY_BASED_COMP</td>\n",
       "      <td>Equity based compensation arrangement?</td>\n",
       "      <td>SCHED-J-PART-01-LINE-4c</td>\n",
       "      <td>BooleanType</td>\n",
       "    </tr>\n",
       "    <tr>\n",
       "      <th>17</th>\n",
       "      <td>SJ_01_PC_FIRST_CLASS_TRAVEL</td>\n",
       "      <td>First class or charter travel</td>\n",
       "      <td>SCHED-J-PART-01-LINE-1a</td>\n",
       "      <td>CheckboxType</td>\n",
       "    </tr>\n",
       "    <tr>\n",
       "      <th>18</th>\n",
       "      <td>SJ_01_PC_HOME_OFFICE_SUBSIDY</td>\n",
       "      <td>Payments for use of residence</td>\n",
       "      <td>SCHED-J-PART-01-LINE-1a</td>\n",
       "      <td>CheckboxType</td>\n",
       "    </tr>\n",
       "    <tr>\n",
       "      <th>19</th>\n",
       "      <td>SJ_01_PC_HOUSING_ALLOWANCE</td>\n",
       "      <td>Housing allowance or residence</td>\n",
       "      <td>SCHED-J-PART-01-LINE-1a</td>\n",
       "      <td>CheckboxType</td>\n",
       "    </tr>\n",
       "    <tr>\n",
       "      <th>20</th>\n",
       "      <td>SJ_01_PC_INDEMNIFICATION</td>\n",
       "      <td>Idemnification and gross-up payments</td>\n",
       "      <td>SCHED-J-PART-01-LINE-1a</td>\n",
       "      <td>CheckboxType</td>\n",
       "    </tr>\n",
       "    <tr>\n",
       "      <th>21</th>\n",
       "      <td>SJ_01_PC_NON_FIXED_PAYMENTS</td>\n",
       "      <td>Any non-fixed payments?</td>\n",
       "      <td>SCHED-J-PART-01-LINE-7</td>\n",
       "      <td>BooleanType</td>\n",
       "    </tr>\n",
       "    <tr>\n",
       "      <th>22</th>\n",
       "      <td>SJ_01_PC_OTHER_ORGS_990</td>\n",
       "      <td>Form 990 of other organizations</td>\n",
       "      <td>SCHED-J-PART-01-LINE-3</td>\n",
       "      <td>CheckboxType</td>\n",
       "    </tr>\n",
       "    <tr>\n",
       "      <th>23</th>\n",
       "      <td>SJ_01_PC_PERSONAL_SERVICES</td>\n",
       "      <td>Personal services</td>\n",
       "      <td>SCHED-J-PART-01-LINE-1a</td>\n",
       "      <td>CheckboxType</td>\n",
       "    </tr>\n",
       "    <tr>\n",
       "      <th>24</th>\n",
       "      <td>SJ_01_PC_REBUTTABLE_PRESUMPTION</td>\n",
       "      <td>Rebuttable presumption procedure?</td>\n",
       "      <td>SCHED-J-PART-01-LINE-9</td>\n",
       "      <td>BooleanType</td>\n",
       "    </tr>\n",
       "    <tr>\n",
       "      <th>25</th>\n",
       "      <td>SJ_01_PC_SEVERANCE</td>\n",
       "      <td>Severance payment?</td>\n",
       "      <td>SCHED-J-PART-01-LINE-4a</td>\n",
       "      <td>BooleanType</td>\n",
       "    </tr>\n",
       "    <tr>\n",
       "      <th>26</th>\n",
       "      <td>SJ_01_PC_SUBSTANTIATION_REQUIRED</td>\n",
       "      <td>Substantiation required?</td>\n",
       "      <td>SCHED-J-PART-01-LINE-2</td>\n",
       "      <td>BooleanType</td>\n",
       "    </tr>\n",
       "    <tr>\n",
       "      <th>27</th>\n",
       "      <td>SJ_01_PC_SUPPLEMENTAL_RETIREMENT</td>\n",
       "      <td>Supplemental nonqualified retirement plan?</td>\n",
       "      <td>SCHED-J-PART-01-LINE-4b</td>\n",
       "      <td>BooleanType</td>\n",
       "    </tr>\n",
       "    <tr>\n",
       "      <th>28</th>\n",
       "      <td>SJ_01_PC_WRITTEN_POLICY</td>\n",
       "      <td>Written policy reference T and E expenses?</td>\n",
       "      <td>SCHED-J-PART-01-LINE-1b</td>\n",
       "      <td>BooleanType</td>\n",
       "    </tr>\n",
       "  </tbody>\n",
       "</table>\n",
       "</div>"
      ],
      "text/plain": [
       "                   variable_name_new  \\\n",
       "0                   OrganizationName   \n",
       "1                                URL   \n",
       "2                                EIN   \n",
       "3            SJ_01_PC_BOARD_APPROVAL   \n",
       "4                 SJ_01_PC_CLUB_FEES   \n",
       "5          SJ_01_PC_COMPANION_TRAVEL   \n",
       "6    SJ_01_PC_COMPENSATION_COMMITTEE   \n",
       "7       SJ_01_PC_COMPENSATION_SURVEY   \n",
       "8                SJ_01_PC_CONSULTANT   \n",
       "9        SJ_01_PC_CONTINGENT_NET_OWN   \n",
       "10   SJ_01_PC_CONTINGENT_NET_RELATED   \n",
       "11       SJ_01_PC_CONTINGENT_REV_OWN   \n",
       "12   SJ_01_PC_CONTINGENT_REV_RELATED   \n",
       "13                 SJ_01_PC_CONTRACT   \n",
       "14       SJ_01_PC_CONTRACT_EXCEPTION   \n",
       "15    SJ_01_PC_DISCRETIONARY_ACCOUNT   \n",
       "16        SJ_01_PC_EQUITY_BASED_COMP   \n",
       "17       SJ_01_PC_FIRST_CLASS_TRAVEL   \n",
       "18      SJ_01_PC_HOME_OFFICE_SUBSIDY   \n",
       "19        SJ_01_PC_HOUSING_ALLOWANCE   \n",
       "20          SJ_01_PC_INDEMNIFICATION   \n",
       "21       SJ_01_PC_NON_FIXED_PAYMENTS   \n",
       "22           SJ_01_PC_OTHER_ORGS_990   \n",
       "23        SJ_01_PC_PERSONAL_SERVICES   \n",
       "24   SJ_01_PC_REBUTTABLE_PRESUMPTION   \n",
       "25                SJ_01_PC_SEVERANCE   \n",
       "26  SJ_01_PC_SUBSTANTIATION_REQUIRED   \n",
       "27  SJ_01_PC_SUPPLEMENTAL_RETIREMENT   \n",
       "28           SJ_01_PC_WRITTEN_POLICY   \n",
       "\n",
       "                                                                                                        description  \\\n",
       "0                                                                                                 Organization Name   \n",
       "1   Unique identifier for filing -- use for merging with filings-level datasets (also for seeing raw filing online)   \n",
       "2                                                                                                               EIN   \n",
       "3                                                                                       Board or committee approval   \n",
       "4                                                                                                 Club dues or fees   \n",
       "5                                                                                             Travel for companions   \n",
       "6                                                                                            Compensation committee   \n",
       "7                                                                                               Compensation survey   \n",
       "8                                                                                            Independent consultant   \n",
       "9                                                                 Compensation based on net earnings of filing org?   \n",
       "10                                                              Compensation based on net earnings of related orgs?   \n",
       "11                                                                     Compensation based on revenue of filing org?   \n",
       "12                                                                   Compensation based on revenue of related orgs?   \n",
       "13                                                                                      Written employment contract   \n",
       "14                                                                                      Initial contract exception?   \n",
       "15                                                                                   Discretionary spending account   \n",
       "16                                                                           Equity based compensation arrangement?   \n",
       "17                                                                                    First class or charter travel   \n",
       "18                                                                                    Payments for use of residence   \n",
       "19                                                                                   Housing allowance or residence   \n",
       "20                                                                             Idemnification and gross-up payments   \n",
       "21                                                                                          Any non-fixed payments?   \n",
       "22                                                                                  Form 990 of other organizations   \n",
       "23                                                                                                Personal services   \n",
       "24                                                                                Rebuttable presumption procedure?   \n",
       "25                                                                                               Severance payment?   \n",
       "26                                                                                         Substantiation required?   \n",
       "27                                                                       Supplemental nonqualified retirement plan?   \n",
       "28                                                                       Written policy reference T and E expenses?   \n",
       "\n",
       "              location_code data_type_xsd  \n",
       "0                       NaN           NaN  \n",
       "1                       NaN           NaN  \n",
       "2                       NaN           NaN  \n",
       "3    SCHED-J-PART-01-LINE-3  CheckboxType  \n",
       "4   SCHED-J-PART-01-LINE-1a  CheckboxType  \n",
       "5   SCHED-J-PART-01-LINE-1a  CheckboxType  \n",
       "6    SCHED-J-PART-01-LINE-3  CheckboxType  \n",
       "7    SCHED-J-PART-01-LINE-3  CheckboxType  \n",
       "8    SCHED-J-PART-01-LINE-3  CheckboxType  \n",
       "9   SCHED-J-PART-01-LINE-6a   BooleanType  \n",
       "10  SCHED-J-PART-01-LINE-6b   BooleanType  \n",
       "11  SCHED-J-PART-01-LINE-5a   BooleanType  \n",
       "12  SCHED-J-PART-01-LINE-5b   BooleanType  \n",
       "13   SCHED-J-PART-01-LINE-3  CheckboxType  \n",
       "14   SCHED-J-PART-01-LINE-8   BooleanType  \n",
       "15  SCHED-J-PART-01-LINE-1a  CheckboxType  \n",
       "16  SCHED-J-PART-01-LINE-4c   BooleanType  \n",
       "17  SCHED-J-PART-01-LINE-1a  CheckboxType  \n",
       "18  SCHED-J-PART-01-LINE-1a  CheckboxType  \n",
       "19  SCHED-J-PART-01-LINE-1a  CheckboxType  \n",
       "20  SCHED-J-PART-01-LINE-1a  CheckboxType  \n",
       "21   SCHED-J-PART-01-LINE-7   BooleanType  \n",
       "22   SCHED-J-PART-01-LINE-3  CheckboxType  \n",
       "23  SCHED-J-PART-01-LINE-1a  CheckboxType  \n",
       "24   SCHED-J-PART-01-LINE-9   BooleanType  \n",
       "25  SCHED-J-PART-01-LINE-4a   BooleanType  \n",
       "26   SCHED-J-PART-01-LINE-2   BooleanType  \n",
       "27  SCHED-J-PART-01-LINE-4b   BooleanType  \n",
       "28  SCHED-J-PART-01-LINE-1b   BooleanType  "
      ]
     },
     "execution_count": 31,
     "metadata": {},
     "output_type": "execute_result"
    }
   ],
   "source": [
    "new_variables_df"
   ]
  },
  {
   "cell_type": "code",
   "execution_count": 32,
   "metadata": {},
   "outputs": [
    {
     "data": {
      "text/plain": [
       "set()"
      ]
     },
     "execution_count": 32,
     "metadata": {},
     "output_type": "execute_result"
    }
   ],
   "source": [
    "set(new_variables_df['variable_name_new'].tolist()) - set(df.columns.tolist())"
   ]
  },
  {
   "cell_type": "code",
   "execution_count": 33,
   "metadata": {},
   "outputs": [
    {
     "data": {
      "text/plain": [
       "set()"
      ]
     },
     "execution_count": 33,
     "metadata": {},
     "output_type": "execute_result"
    }
   ],
   "source": [
    "set(df.columns.tolist()) - set(new_variables_df['variable_name_new'].tolist()) "
   ]
  },
  {
   "cell_type": "code",
   "execution_count": 34,
   "metadata": {},
   "outputs": [
    {
     "name": "stdout",
     "output_type": "stream",
     "text": [
      "29\n"
     ]
    },
    {
     "data": {
      "text/html": [
       "<div>\n",
       "<style scoped>\n",
       "    .dataframe tbody tr th:only-of-type {\n",
       "        vertical-align: middle;\n",
       "    }\n",
       "\n",
       "    .dataframe tbody tr th {\n",
       "        vertical-align: top;\n",
       "    }\n",
       "\n",
       "    .dataframe thead th {\n",
       "        text-align: right;\n",
       "    }\n",
       "</style>\n",
       "<table border=\"1\" class=\"dataframe\">\n",
       "  <thead>\n",
       "    <tr style=\"text-align: right;\">\n",
       "      <th></th>\n",
       "      <th>variable_name_new</th>\n",
       "      <th>description</th>\n",
       "      <th>location_code</th>\n",
       "      <th>data_type_xsd</th>\n",
       "    </tr>\n",
       "  </thead>\n",
       "  <tbody>\n",
       "    <tr>\n",
       "      <th>0</th>\n",
       "      <td>OrganizationName</td>\n",
       "      <td>Organization Name</td>\n",
       "      <td>NaN</td>\n",
       "      <td>NaN</td>\n",
       "    </tr>\n",
       "  </tbody>\n",
       "</table>\n",
       "</div>"
      ],
      "text/plain": [
       "  variable_name_new        description location_code data_type_xsd\n",
       "0  OrganizationName  Organization Name           NaN           NaN"
      ]
     },
     "execution_count": 34,
     "metadata": {},
     "output_type": "execute_result"
    }
   ],
   "source": [
    "print(len(new_variables_df))\n",
    "new_variables_df[:1]"
   ]
  },
  {
   "cell_type": "markdown",
   "metadata": {},
   "source": [
    "#### Save DF"
   ]
  },
  {
   "cell_type": "code",
   "execution_count": 37,
   "metadata": {},
   "outputs": [],
   "source": [
    "%%time\n",
    "import datetime\n",
    "print (\"Current date and time : \", datetime.datetime.now().strftime(\"%Y-%m-%d %H:%M:%S\"), '\\n')\n",
    "new_variables_df.to_pickle('Codebook - Schedule J (Part I).pkl')"
   ]
  },
  {
   "cell_type": "code",
   "execution_count": 35,
   "metadata": {},
   "outputs": [
    {
     "name": "stdout",
     "output_type": "stream",
     "text": [
      "Current date and time :  2023-01-09 14:14:06 \n",
      "\n",
      "Wall time: 708 ms\n"
     ]
    }
   ],
   "source": [
    "%%time\n",
    "import datetime\n",
    "print (\"Current date and time : \", datetime.datetime.now().strftime(\"%Y-%m-%d %H:%M:%S\"), '\\n')\n",
    "new_variables_df.to_excel('Codebook - Schedule J (Part I) v2.xlsx', index=False)"
   ]
  },
  {
   "cell_type": "code",
   "execution_count": null,
   "metadata": {},
   "outputs": [],
   "source": []
  }
 ],
 "metadata": {
  "anaconda-cloud": {},
  "kernelspec": {
   "display_name": "Python 3 (ipykernel)",
   "language": "python",
   "name": "python3"
  },
  "language_info": {
   "codemirror_mode": {
    "name": "ipython",
    "version": 3
   },
   "file_extension": ".py",
   "mimetype": "text/x-python",
   "name": "python",
   "nbconvert_exporter": "python",
   "pygments_lexer": "ipython3",
   "version": "3.10.11"
  },
  "toc": {
   "colors": {
    "hover_highlight": "#DAA520",
    "navigate_num": "#000000",
    "navigate_text": "#333333",
    "running_highlight": "#FF0000",
    "selected_highlight": "#FFD700",
    "sidebar_border": "#EEEEEE",
    "wrapper_background": "#FFFFFF"
   },
   "moveMenuLeft": true,
   "nav_menu": {
    "height": "171px",
    "width": "252px"
   },
   "navigate_menu": true,
   "number_sections": true,
   "sideBar": true,
   "threshold": 4,
   "toc_cell": false,
   "toc_section_display": "block",
   "toc_window_display": false,
   "widenNotebook": false
  }
 },
 "nbformat": 4,
 "nbformat_minor": 2
}
