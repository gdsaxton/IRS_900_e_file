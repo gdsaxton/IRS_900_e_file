{
 "cells": [
  {
   "cell_type": "markdown",
   "metadata": {},
   "source": [
    "# Overview\n",
    "\n",
    "Based off *IRS 990 e-File Data -- Excise Tax Project (3) -- Schedule J Part (II) -- Combine, Flatten, and Parse Part II.ipynb* \n",
    "\n",
    "Read in DF from first notebook:\n",
    "-*Schedule J (Part II).pkl.gz*\n",
    "\n",
    "Combine columns then save:\n",
    "- *Schedule J (Part II) - combined two columns.pkl.gz*\n",
    "\n",
    "Split by person and save DF:\n",
    "- *Schedule J Part II (PERSON-LEVEL DF).pkl.gz*\n",
    "- There are on average 6.03 individuals per Schedule J filing for filings with more than one person\n",
    "- Overall, there are 3.999 individuals per Schedule J filing\n",
    "\n",
    "*Note:*\n",
    "- 26,672 of the filings have no data for Part II. In this notebook I verify three of these filings and then delete all 26,672 rows."
   ]
  },
  {
   "cell_type": "markdown",
   "metadata": {},
   "source": [
    "# Overview of Form 990 Compensation Variables, Sections, and Schedules\n",
    "\n",
    "A review of the 990 shows three main locations for compensation data:\n",
    "\n",
    "1. 990 (main)\n",
    "    - Part IV # 23 (checkbox for Part VII)\n",
    "        - \"Did the organization answer “Yes” to Part VII, Section A, line 3, 4, or 5 about compensation of the organization’s current and former officers, directors, trustees, key employees, and highest compensated employees? If “Yes,” complete Schedule J\"\n",
    "    - Part VI, Section B, #15 - review process for compensation\n",
    "        - \"Did the process for determining compensation of the following persons include a review and approval by independent persons, comparability data, and contemporaneous substantiation of the deliberation and decision?\"\n",
    "            - (a) The organization’s CEO, Executive Director, or top management official . . . . . . . . . . . . \n",
    "            - (b) Other officers or key employees of the organization \n",
    "    - Part VII (entire section)\n",
    "    - Part IX, #5, \n",
    "        - \"Compensation of current officers, directors, trustees, and key employees\"\n",
    "    - Part IX, #6,         \n",
    "        6 - \"Compensation not included above, to disqualified persons (as defined under section 4958(f)(1)) and persons described in section 4958(c)(3)(B)\"      \n",
    "2. Schedule O \n",
    "    - explanation for compensation review process (see Part VI, Section B, 15)\n",
    "3. Schedule J\n",
    "    - compensation details"
   ]
  },
  {
   "cell_type": "markdown",
   "metadata": {},
   "source": [
    "# Overview\n",
    "This notebook is where much of the hard work takes place. It took a lot of trial and error to develop the best approach for manipulating the data. As you may recall from prior tutorials, the two key issues with the data were 1) that different years can have different variable names and 2) many of the columns contain 'nested' data, with multiple variables contained in a column. We need to fix this issues. At the same time, we want to have a standardized set of variable names. So, for renaming the variables we will be using the *concordance* file provided by the e-file team.\n",
    "\n",
    "The basic strategy I take here is to read in the PANDAS dataframe as well as the concordance file, and then work through the nested columns in turn. Many of these operations took 20 minutes or so on my MacBook Pro with 16GB of RAM, so I would not want to run it on a less powerful machine. Because of the length of time for each step I saved a different versions of the dataset at each stage -- this also helps save time in the event a mistake was caused in a step and we need to revert to a prior version.\n",
    "\n",
    "After all of the 'flattening' and 'combining' and 'renaming', I conducted verifications to make sure we have all of the expected variables.\n",
    "\n",
    "The final output is a dataset (*all filings - compensation data.pkl*) with 1,338,852 observations (filings) and 36 columns. The columns include 4 filing/organization identifier columns and 32 'compensation' columns from the main 990 form (Schedule J and Schedule O) data are treated in separate notebooks. Specifically, based on our earlier review of the 990 form, these 32 columns contain compensation data from three main locations in the 990 form:\n",
    "\n",
    "- Part IV # 23 (checkbox for Part VII)\n",
    "        - \"Did the organization answer “Yes” to Part VII, Section A, line 3, 4, or 5 about compensation of the organization’s current and former officers, directors, trustees, key employees, and highest compensated employees? If “Yes,” complete Schedule J\"\n",
    "- Part VI, Section B, #15 - review process for compensation\n",
    "        - \"Did the process for determining compensation of the following persons include a review and approval by independent persons, comparability data, and contemporaneous substantiation of the deliberation and decision?\"\n",
    "            - (a) The organization’s CEO, Executive Director, or top management official . . . . . . . . . . . . \n",
    "            - (b) Other officers or key employees of the organization \n",
    "- Part VII (entire section)\n",
    "- Part IX, #5, \n",
    "        - \"Compensation of current officers, directors, trustees, and key employees\"\n",
    "- Part IX, #6,         \n",
    "        6 - \"Compensation not included above, to disqualified persons (as defined under section 4958(f)(1)) and persons described in section 4958(c)(3)(B)\"      "
   ]
  },
  {
   "cell_type": "markdown",
   "metadata": {},
   "source": [
    "# Load Packages and Set Working Directory"
   ]
  },
  {
   "cell_type": "code",
   "execution_count": 1,
   "metadata": {},
   "outputs": [],
   "source": [
    "import numpy as np\n",
    "import pandas as pd\n",
    "from pandas import DataFrame\n",
    "from pandas import Series"
   ]
  },
  {
   "cell_type": "code",
   "execution_count": 2,
   "metadata": {},
   "outputs": [
    {
     "name": "stdout",
     "output_type": "stream",
     "text": [
      "2.2.2\n"
     ]
    }
   ],
   "source": [
    "print(pd.__version__)"
   ]
  },
  {
   "cell_type": "code",
   "execution_count": 3,
   "metadata": {},
   "outputs": [
    {
     "name": "stdout",
     "output_type": "stream",
     "text": [
      "3.10.11\n"
     ]
    }
   ],
   "source": [
    "from platform import python_version\n",
    "print(python_version())"
   ]
  },
  {
   "cell_type": "code",
   "execution_count": 4,
   "metadata": {},
   "outputs": [],
   "source": [
    "#http://pandas.pydata.org/pandas-docs/stable/options.html\n",
    "pd.set_option('display.max_columns', None)\n",
    "pd.set_option('max_colwidth', 2500)"
   ]
  },
  {
   "cell_type": "code",
   "execution_count": 5,
   "metadata": {},
   "outputs": [],
   "source": [
    "import warnings\n",
    "warnings.simplefilter(action='ignore', category=FutureWarning)\n",
    "warnings.simplefilter(action='ignore', category=pd.errors.PerformanceWarning)\n",
    "warnings.simplefilter(action='ignore', category=pd.errors.SettingWithCopyWarning)"
   ]
  },
  {
   "cell_type": "markdown",
   "metadata": {
    "collapsed": true
   },
   "source": [
    "#### Set working directory"
   ]
  },
  {
   "cell_type": "code",
   "execution_count": 6,
   "metadata": {},
   "outputs": [
    {
     "name": "stdout",
     "output_type": "stream",
     "text": [
      "C:\\Users\\Gregory\\IRS 990 Control Variables\n"
     ]
    }
   ],
   "source": [
    "cd \"C:\\\\Users\\\\Gregory\\\\IRS 990 Control Variables\\\\\""
   ]
  },
  {
   "cell_type": "markdown",
   "metadata": {},
   "source": [
    "# Read PANDAS DF"
   ]
  },
  {
   "cell_type": "code",
   "execution_count": 7,
   "metadata": {},
   "outputs": [
    {
     "name": "stdout",
     "output_type": "stream",
     "text": [
      "Current date and time :  2025-06-26 23:13:03 \n",
      "\n",
      "# of columns: 3\n",
      "# of observations: 773114\n",
      "CPU times: total: 18.9 s\n",
      "Wall time: 32.4 s\n"
     ]
    },
    {
     "data": {
      "text/html": [
       "<div>\n",
       "<style scoped>\n",
       "    .dataframe tbody tr th:only-of-type {\n",
       "        vertical-align: middle;\n",
       "    }\n",
       "\n",
       "    .dataframe tbody tr th {\n",
       "        vertical-align: top;\n",
       "    }\n",
       "\n",
       "    .dataframe thead th {\n",
       "        text-align: right;\n",
       "    }\n",
       "</style>\n",
       "<table border=\"1\" class=\"dataframe\">\n",
       "  <thead>\n",
       "    <tr style=\"text-align: right;\">\n",
       "      <th></th>\n",
       "      <th>URL</th>\n",
       "      <th>Form990ScheduleJPartII</th>\n",
       "      <th>RltdOrgOfficerTrstKeyEmplGrp</th>\n",
       "    </tr>\n",
       "  </thead>\n",
       "  <tbody>\n",
       "    <tr>\n",
       "      <th>0</th>\n",
       "      <td>https://s3.amazonaws.com/irs-form-990/201113139349301311_public.xml</td>\n",
       "      <td>[{'NamePerson': 'THOMAS D TURNBULL', 'CompBasedOnRelatedOrgs': '100712', 'BonusRelatedOrgs': '790', 'OtherCompensationRelatedOrgs': '1257', 'DeferredCompRelatedOrgs': '54308', 'NontaxableBenefitsRelatedOrgs': '62342', 'TotalCompensationRelatedOrgs': '219409'}, {'NamePerson': 'RONALD W PATTERSON', 'CompBasedOnRelatedOrgs': '192455', 'BonusRelatedOrgs': '814', 'OtherCompensationRelatedOrgs': '2071', 'DeferredCompRelatedOrgs': '17271', 'NontaxableBenefitsRelatedOrgs': '23201', 'TotalCompensationRelatedOrgs': '235812'}, {'NamePerson': 'ROBIN KELLER', 'CompBasedOnRelatedOrgs': '78098', 'BonusRelatedOrgs': '790', 'OtherCompensationRelatedOrgs': '755', 'DeferredCompRelatedOrgs': '10371', 'NontaxableBenefitsRelatedOrgs': '78922', 'TotalCompensationRelatedOrgs': '168936'}, {'NamePerson': 'PATRICK SHERIDAN', 'CompBasedOnRelatedOrgs': '172631', 'BonusRelatedOrgs': '836', 'OtherCompensationRelatedOrgs': '1195', 'DeferredCompRelatedOrgs': '33690', 'NontaxableBenefitsRelatedOrgs': '206', 'TotalCompensationRelatedOrgs': '208558'}, {'NamePerson': 'MICHAEL W KING', 'CompBasedOnRelatedOrgs': '153811', 'BonusRelatedOrgs': '133', 'OtherCompensationRelatedOrgs': '875', 'DeferredCompRelatedOrgs': '12395', 'NontaxableBenefitsRelatedOrgs': '31037', 'TotalCompensationRelatedOrgs': '198251'}, {'NamePerson': 'DAVID T BOWMAN', 'CompBasedOnRelatedOrgs': '170752', 'BonusRelatedOrgs': '790', 'OtherCompensationRelatedOrgs': '1347', 'NontaxableBenefitsRelatedOrgs': '58951', 'TotalCompensationRelatedOrgs': '231840'}, {'NamePerson': 'CHARLES W GOULD', 'CompBasedOnRelatedOrgs': '200426', 'BonusRelatedOrgs': '656', 'OtherCompensationRelatedOrgs': '99161', 'DeferredCompRelatedOrgs': '19907', 'NontaxableBenefitsRelatedOrgs': '9047', 'TotalCompensationRelatedOrgs': '329197'}]</td>\n",
       "      <td>NaN</td>\n",
       "    </tr>\n",
       "  </tbody>\n",
       "</table>\n",
       "</div>"
      ],
      "text/plain": [
       "                                                                   URL  \\\n",
       "0  https://s3.amazonaws.com/irs-form-990/201113139349301311_public.xml   \n",
       "\n",
       "                                                                                                                                                                                                                                                                                                                                                                                                                                                                                                                                                                                                                                                                                                                                                                                                                                                                                                                                                                                                                                                                                                                                                                                                                                                                                                                                                                                                                                                                                                                                                                                                                                                                                                                                                                                                                   Form990ScheduleJPartII  \\\n",
       "0  [{'NamePerson': 'THOMAS D TURNBULL', 'CompBasedOnRelatedOrgs': '100712', 'BonusRelatedOrgs': '790', 'OtherCompensationRelatedOrgs': '1257', 'DeferredCompRelatedOrgs': '54308', 'NontaxableBenefitsRelatedOrgs': '62342', 'TotalCompensationRelatedOrgs': '219409'}, {'NamePerson': 'RONALD W PATTERSON', 'CompBasedOnRelatedOrgs': '192455', 'BonusRelatedOrgs': '814', 'OtherCompensationRelatedOrgs': '2071', 'DeferredCompRelatedOrgs': '17271', 'NontaxableBenefitsRelatedOrgs': '23201', 'TotalCompensationRelatedOrgs': '235812'}, {'NamePerson': 'ROBIN KELLER', 'CompBasedOnRelatedOrgs': '78098', 'BonusRelatedOrgs': '790', 'OtherCompensationRelatedOrgs': '755', 'DeferredCompRelatedOrgs': '10371', 'NontaxableBenefitsRelatedOrgs': '78922', 'TotalCompensationRelatedOrgs': '168936'}, {'NamePerson': 'PATRICK SHERIDAN', 'CompBasedOnRelatedOrgs': '172631', 'BonusRelatedOrgs': '836', 'OtherCompensationRelatedOrgs': '1195', 'DeferredCompRelatedOrgs': '33690', 'NontaxableBenefitsRelatedOrgs': '206', 'TotalCompensationRelatedOrgs': '208558'}, {'NamePerson': 'MICHAEL W KING', 'CompBasedOnRelatedOrgs': '153811', 'BonusRelatedOrgs': '133', 'OtherCompensationRelatedOrgs': '875', 'DeferredCompRelatedOrgs': '12395', 'NontaxableBenefitsRelatedOrgs': '31037', 'TotalCompensationRelatedOrgs': '198251'}, {'NamePerson': 'DAVID T BOWMAN', 'CompBasedOnRelatedOrgs': '170752', 'BonusRelatedOrgs': '790', 'OtherCompensationRelatedOrgs': '1347', 'NontaxableBenefitsRelatedOrgs': '58951', 'TotalCompensationRelatedOrgs': '231840'}, {'NamePerson': 'CHARLES W GOULD', 'CompBasedOnRelatedOrgs': '200426', 'BonusRelatedOrgs': '656', 'OtherCompensationRelatedOrgs': '99161', 'DeferredCompRelatedOrgs': '19907', 'NontaxableBenefitsRelatedOrgs': '9047', 'TotalCompensationRelatedOrgs': '329197'}]   \n",
       "\n",
       "  RltdOrgOfficerTrstKeyEmplGrp  \n",
       "0                          NaN  "
      ]
     },
     "execution_count": 7,
     "metadata": {},
     "output_type": "execute_result"
    }
   ],
   "source": [
    "%%time\n",
    "import datetime\n",
    "print (\"Current date and time : \", datetime.datetime.now().strftime(\"%Y-%m-%d %H:%M:%S\"), '\\n')\n",
    "df = pd.read_pickle('Schedule J (Part II).pkl.gz', compression='gzip')\n",
    "print('# of columns:', len(df.columns))\n",
    "print('# of observations:', len(df))\n",
    "df[:1]"
   ]
  },
  {
   "cell_type": "code",
   "execution_count": 8,
   "metadata": {},
   "outputs": [
    {
     "data": {
      "text/html": [
       "<div>\n",
       "<style scoped>\n",
       "    .dataframe tbody tr th:only-of-type {\n",
       "        vertical-align: middle;\n",
       "    }\n",
       "\n",
       "    .dataframe tbody tr th {\n",
       "        vertical-align: top;\n",
       "    }\n",
       "\n",
       "    .dataframe thead th {\n",
       "        text-align: right;\n",
       "    }\n",
       "</style>\n",
       "<table border=\"1\" class=\"dataframe\">\n",
       "  <thead>\n",
       "    <tr style=\"text-align: right;\">\n",
       "      <th></th>\n",
       "      <th>URL</th>\n",
       "      <th>Form990ScheduleJPartII</th>\n",
       "      <th>RltdOrgOfficerTrstKeyEmplGrp</th>\n",
       "    </tr>\n",
       "  </thead>\n",
       "  <tbody>\n",
       "    <tr>\n",
       "      <th>773113</th>\n",
       "      <td>https://s3.amazonaws.com/irs-form-990/202441449349301564_public.xml</td>\n",
       "      <td>NaN</td>\n",
       "      <td>{'BusinessName': {'BusinessNameLine1Txt': 'Larry L Parker'}, 'TitleTxt': 'CEO', 'BaseCompensationFilingOrgAmt': '126782', 'CompensationBasedOnRltdOrgsAmt': '0', 'BonusFilingOrganizationAmount': '0', 'BonusRelatedOrganizationsAmt': '0', 'OtherCompensationFilingOrgAmt': '0', 'OtherCompensationRltdOrgsAmt': '0', 'DeferredCompensationFlngOrgAmt': '0', 'DeferredCompRltdOrgsAmt': '0', 'NontaxableBenefitsFilingOrgAmt': '42528', 'NontaxableBenefitsRltdOrgsAmt': '0', 'TotalCompensationFilingOrgAmt': '169310', 'TotalCompensationRltdOrgsAmt': '0', 'CompReportPrior990FilingOrgAmt': '0', 'CompReportPrior990RltdOrgsAmt': '0'}</td>\n",
       "    </tr>\n",
       "  </tbody>\n",
       "</table>\n",
       "</div>"
      ],
      "text/plain": [
       "                                                                        URL  \\\n",
       "773113  https://s3.amazonaws.com/irs-form-990/202441449349301564_public.xml   \n",
       "\n",
       "       Form990ScheduleJPartII  \\\n",
       "773113                    NaN   \n",
       "\n",
       "                                                                                                                                                                                                                                                                                                                                                                                                                                                                                                                                                                                                                       RltdOrgOfficerTrstKeyEmplGrp  \n",
       "773113  {'BusinessName': {'BusinessNameLine1Txt': 'Larry L Parker'}, 'TitleTxt': 'CEO', 'BaseCompensationFilingOrgAmt': '126782', 'CompensationBasedOnRltdOrgsAmt': '0', 'BonusFilingOrganizationAmount': '0', 'BonusRelatedOrganizationsAmt': '0', 'OtherCompensationFilingOrgAmt': '0', 'OtherCompensationRltdOrgsAmt': '0', 'DeferredCompensationFlngOrgAmt': '0', 'DeferredCompRltdOrgsAmt': '0', 'NontaxableBenefitsFilingOrgAmt': '42528', 'NontaxableBenefitsRltdOrgsAmt': '0', 'TotalCompensationFilingOrgAmt': '169310', 'TotalCompensationRltdOrgsAmt': '0', 'CompReportPrior990FilingOrgAmt': '0', 'CompReportPrior990RltdOrgsAmt': '0'}  "
      ]
     },
     "execution_count": 8,
     "metadata": {},
     "output_type": "execute_result"
    }
   ],
   "source": [
    "df[-1:]"
   ]
  },
  {
   "cell_type": "code",
   "execution_count": 9,
   "metadata": {},
   "outputs": [
    {
     "name": "stdout",
     "output_type": "stream",
     "text": [
      "Current date and time :  2025-06-26 23:14:37 \n",
      "\n",
      "0\n",
      "652224\n",
      "150319\n",
      "CPU times: total: 266 ms\n",
      "Wall time: 1.12 s\n"
     ]
    }
   ],
   "source": [
    "%%time\n",
    "import datetime\n",
    "print (\"Current date and time : \", datetime.datetime.now().strftime(\"%Y-%m-%d %H:%M:%S\"), '\\n')\n",
    "print(len(df[df['URL'].isnull()]))\n",
    "print(len(df[(df['Form990ScheduleJPartII'].isnull())]))\n",
    "print(len(df[(df['RltdOrgOfficerTrstKeyEmplGrp'].isnull())]))"
   ]
  },
  {
   "cell_type": "markdown",
   "metadata": {},
   "source": [
    "# Combine columns"
   ]
  },
  {
   "cell_type": "markdown",
   "metadata": {},
   "source": [
    "### Define Function to combine columns\n",
    "In Python we can create a series of functions that can be used as shortcuts. First we'll create a function called 'combine_dict' that will combine two variables that contain nested data. It takes as *inputs* four things: our dataset/dataframe (*df*), the name we'd like for our new variable (*newvar*), the name of the first variable to combine (*var1*), and the name of the second variable to combine (*var2*)."
   ]
  },
  {
   "cell_type": "code",
   "execution_count": 10,
   "metadata": {},
   "outputs": [],
   "source": [
    "def combine_dict(df, newvar, var1, var2):\n",
    "    df[newvar] = np.where(df[var1].notnull(), df[var1], df[var2])\n",
    "    #print(df[newvar].value_counts()[:5], '\\n')\n",
    "    print('# of missing observations:', len(df[df[newvar].isnull()]))\n",
    "    print('# of valid observations:', len(df[df[newvar].notnull()]), '\\n')\n",
    "    #return df[[newvar, var1, var2, 'DLN']][:5]"
   ]
  },
  {
   "cell_type": "code",
   "execution_count": 11,
   "metadata": {},
   "outputs": [
    {
     "name": "stdout",
     "output_type": "stream",
     "text": [
      "652224\n",
      "120890\n"
     ]
    }
   ],
   "source": [
    "print(len(df[df['Form990ScheduleJPartII'].isnull()]))\n",
    "print(len(df[df['Form990ScheduleJPartII'].notnull()]))"
   ]
  },
  {
   "cell_type": "code",
   "execution_count": 12,
   "metadata": {},
   "outputs": [
    {
     "name": "stdout",
     "output_type": "stream",
     "text": [
      "150319\n",
      "622795\n"
     ]
    }
   ],
   "source": [
    "print(len(df[df['RltdOrgOfficerTrstKeyEmplGrp'].isnull()]))\n",
    "print(len(df[df['RltdOrgOfficerTrstKeyEmplGrp'].notnull()]))"
   ]
  },
  {
   "cell_type": "code",
   "execution_count": 13,
   "metadata": {},
   "outputs": [
    {
     "name": "stdout",
     "output_type": "stream",
     "text": [
      "29429\n"
     ]
    }
   ],
   "source": [
    "print(len(df[(df['Form990ScheduleJPartII'].isnull()) & (df['RltdOrgOfficerTrstKeyEmplGrp'].isnull())]))"
   ]
  },
  {
   "cell_type": "markdown",
   "metadata": {},
   "source": [
    "<br>There are no rows that have both variables. So, we're safe combining them."
   ]
  },
  {
   "cell_type": "code",
   "execution_count": 14,
   "metadata": {},
   "outputs": [
    {
     "name": "stdout",
     "output_type": "stream",
     "text": [
      "0\n"
     ]
    }
   ],
   "source": [
    "print(len(df[(df['Form990ScheduleJPartII'].notnull()) & (df['RltdOrgOfficerTrstKeyEmplGrp'].notnull())]))"
   ]
  },
  {
   "cell_type": "code",
   "execution_count": 15,
   "metadata": {},
   "outputs": [
    {
     "name": "stdout",
     "output_type": "stream",
     "text": [
      "Current date and time :  2025-06-26 23:16:28 \n",
      "\n",
      "# of missing observations: 29429\n",
      "# of valid observations: 743685 \n",
      "\n",
      "CPU times: total: 422 ms\n",
      "Wall time: 897 ms\n"
     ]
    }
   ],
   "source": [
    "%%time\n",
    "import datetime\n",
    "print (\"Current date and time : \", datetime.datetime.now().strftime(\"%Y-%m-%d %H:%M:%S\"), '\\n')\n",
    "combine_dict(df, 'Form990ScheduleJPartII', 'Form990ScheduleJPartII', 'RltdOrgOfficerTrstKeyEmplGrp')"
   ]
  },
  {
   "cell_type": "code",
   "execution_count": 17,
   "metadata": {},
   "outputs": [
    {
     "data": {
      "text/html": [
       "<div>\n",
       "<style scoped>\n",
       "    .dataframe tbody tr th:only-of-type {\n",
       "        vertical-align: middle;\n",
       "    }\n",
       "\n",
       "    .dataframe tbody tr th {\n",
       "        vertical-align: top;\n",
       "    }\n",
       "\n",
       "    .dataframe thead th {\n",
       "        text-align: right;\n",
       "    }\n",
       "</style>\n",
       "<table border=\"1\" class=\"dataframe\">\n",
       "  <thead>\n",
       "    <tr style=\"text-align: right;\">\n",
       "      <th></th>\n",
       "      <th>Form990ScheduleJPartII</th>\n",
       "      <th>RltdOrgOfficerTrstKeyEmplGrp</th>\n",
       "    </tr>\n",
       "  </thead>\n",
       "  <tbody>\n",
       "    <tr>\n",
       "      <th>242422</th>\n",
       "      <td>{'PersonNm': 'JACKIE BARGER', 'TitleTxt': 'EXECUTIVE DIRECTOR', 'BaseCompensationFilingOrgAmt': '67459', 'NontaxableBenefitsFilingOrgAmt': '7599', 'TotalCompensationFilingOrgAmt': '75058'}</td>\n",
       "      <td>{'PersonNm': 'JACKIE BARGER', 'TitleTxt': 'EXECUTIVE DIRECTOR', 'BaseCompensationFilingOrgAmt': '67459', 'NontaxableBenefitsFilingOrgAmt': '7599', 'TotalCompensationFilingOrgAmt': '75058'}</td>\n",
       "    </tr>\n",
       "    <tr>\n",
       "      <th>19606</th>\n",
       "      <td>[{'NamePerson': 'Henderschedt Robert R', 'BaseCompensationFilingOrg': '573822', 'CompBasedOnRelatedOrgs': '0', 'BonusFilingOrg': '166156', 'BonusRelatedOrgs': '0', 'OtherCompensationFilingOrg': '221069', 'OtherCompensationRelatedOrgs': '0', 'DeferredCompFilingOrg': '103853', 'DeferredCompRelatedOrgs': '0', 'NontaxableBenefitsFilingOrg': '27815', 'NontaxableBenefitsRelatedOrgs': '0', 'TotalCompensationFilingOrg': '1092715', 'TotalCompensationRelatedOrgs': '0', 'CompReportPrior990FilingOrg': '0', 'CompReportPrior990RelatedOrgs': '0'}, {'NamePerson': 'Houmann Lars', 'BaseCompensationFilingOrg': '805019', 'CompBasedOnRelatedOrgs': '0', 'BonusFilingOrg': '232797', 'BonusRelatedOrgs': '0', 'OtherCompensationFilingOrg': '1670573', 'OtherCompensationRelatedOrgs': '3091', 'DeferredCompFilingOrg': '171790', 'DeferredCompRelatedOrgs': '0', 'NontaxableBenefitsFilingOrg': '42086', 'NontaxableBenefitsRelatedOrgs': '0', 'TotalCompensationFilingOrg': '2922265', 'TotalCompensationRelatedOrgs': '3091', 'CompReportPrior990FilingOrg': '0', 'CompReportPrior990RelatedOrgs': '0'}, {'NamePerson': 'Jernigan PhD Donald L', 'BaseCompensationFilingOrg': '903442', 'CompBasedOnRelatedOrgs': '0', 'BonusFilingOrg': '261600', 'BonusRelatedOrgs': '0', 'OtherCompensationFilingOrg': '501349', 'OtherCompensationRelatedOrgs': '0', 'DeferredCompFilingOrg': '186905', 'DeferredCompRelatedOrgs': '0', 'NontaxableBenefitsFilingOrg': '100232', 'NontaxableBenefitsRelatedOrgs': '0', 'TotalCompensationFilingOrg': '1953528', 'TotalCompensationRelatedOrgs': '0', 'CompReportPrior990FilingOrg': '186046', 'CompReportPrior990RelatedOrgs': '0'}, {'NamePerson': 'Johnson Sandra K', 'BaseCompensationFilingOrg': '370185', 'CompBasedOnRelatedOrgs': '0', 'BonusFilingOrg': '89695', 'BonusRelatedOrgs': '0', 'OtherCompensationFilingOrg': '537495', 'OtherCompensationRelatedOrgs': '0', 'DeferredCompFilingOrg': '43106', 'DeferredCompRelatedOrgs': '0', 'NontaxableBenefitsFilingOrg': '38234', 'NontaxableBenefitsRelatedOrgs': '0', 'TotalCompensationFilingOrg': '1078715', 'TotalCompensationRelatedOrgs': '0', 'CompReportPrior990FilingOrg': '0', 'CompReportPrior990RelatedOrgs': '0'}, {'NamePerson': 'Reed MD Monica P', 'BaseCompensationFilingOrg': '394740', 'CompBasedOnRelatedOrgs': '0', 'BonusFilingOrg': '92617', 'BonusRelatedOrgs': '0', 'OtherCompensationFilingOrg': '15471', 'OtherCompensationRelatedOrgs': '1434', 'DeferredCompFilingOrg': '68429', 'DeferredCompRelatedOrgs': '0', 'NontaxableBenefitsFilingOrg': '48530', 'Non...</td>\n",
       "      <td>NaN</td>\n",
       "    </tr>\n",
       "    <tr>\n",
       "      <th>327639</th>\n",
       "      <td>[{'PersonNm': 'Alexa Sewell', 'TitleTxt': 'Chairman', 'CompensationBasedOnRltdOrgsAmt': '245665', 'NontaxableBenefitsRltdOrgsAmt': '39311', 'TotalCompensationRltdOrgsAmt': '284976'}, {'PersonNm': 'Lee Warshavsky', 'TitleTxt': 'Treasurer', 'CompensationBasedOnRltdOrgsAmt': '142564', 'NontaxableBenefitsRltdOrgsAmt': '9948', 'TotalCompensationRltdOrgsAmt': '152512'}]</td>\n",
       "      <td>[{'PersonNm': 'Alexa Sewell', 'TitleTxt': 'Chairman', 'CompensationBasedOnRltdOrgsAmt': '245665', 'NontaxableBenefitsRltdOrgsAmt': '39311', 'TotalCompensationRltdOrgsAmt': '284976'}, {'PersonNm': 'Lee Warshavsky', 'TitleTxt': 'Treasurer', 'CompensationBasedOnRltdOrgsAmt': '142564', 'NontaxableBenefitsRltdOrgsAmt': '9948', 'TotalCompensationRltdOrgsAmt': '152512'}]</td>\n",
       "    </tr>\n",
       "    <tr>\n",
       "      <th>581163</th>\n",
       "      <td>{'PersonNm': 'Milan Yager', 'BaseCompensationFilingOrgAmt': '244848', 'CompensationBasedOnRltdOrgsAmt': '0', 'BonusFilingOrganizationAmount': '19650', 'BonusRelatedOrganizationsAmt': '0', 'OtherCompensationFilingOrgAmt': '0', 'OtherCompensationRltdOrgsAmt': '0', 'DeferredCompensationFlngOrgAmt': '7755', 'DeferredCompRltdOrgsAmt': '0', 'NontaxableBenefitsFilingOrgAmt': '28880', 'NontaxableBenefitsRltdOrgsAmt': '0', 'TotalCompensationFilingOrgAmt': '301133', 'TotalCompensationRltdOrgsAmt': '0', 'CompReportPrior990FilingOrgAmt': '0', 'CompReportPrior990RltdOrgsAmt': '0'}</td>\n",
       "      <td>{'PersonNm': 'Milan Yager', 'BaseCompensationFilingOrgAmt': '244848', 'CompensationBasedOnRltdOrgsAmt': '0', 'BonusFilingOrganizationAmount': '19650', 'BonusRelatedOrganizationsAmt': '0', 'OtherCompensationFilingOrgAmt': '0', 'OtherCompensationRltdOrgsAmt': '0', 'DeferredCompensationFlngOrgAmt': '7755', 'DeferredCompRltdOrgsAmt': '0', 'NontaxableBenefitsFilingOrgAmt': '28880', 'NontaxableBenefitsRltdOrgsAmt': '0', 'TotalCompensationFilingOrgAmt': '301133', 'TotalCompensationRltdOrgsAmt': '0', 'CompReportPrior990FilingOrgAmt': '0', 'CompReportPrior990RltdOrgsAmt': '0'}</td>\n",
       "    </tr>\n",
       "    <tr>\n",
       "      <th>481122</th>\n",
       "      <td>[{'PersonNm': 'ROBIN SOMERS', 'TitleTxt': 'PRESIDENT/CEO AS OF FEB 2020, COO', 'BaseCompensationFilingOrgAmt': '0', 'CompensationBasedOnRltdOrgsAmt': '223310', 'BonusFilingOrganizationAmount': '0', 'BonusRelatedOrganizationsAmt': '7086', 'OtherCompensationFilingOrgAmt': '0', 'OtherCompensationRltdOrgsAmt': '10636', 'DeferredCompensationFlngOrgAmt': '0', 'DeferredCompRltdOrgsAmt': '6891', 'NontaxableBenefitsFilingOrgAmt': '0', 'NontaxableBenefitsRltdOrgsAmt': '35520', 'TotalCompensationFilingOrgAmt': '0', 'TotalCompensationRltdOrgsAmt': '283443', 'CompReportPrior990FilingOrgAmt': '0', 'CompReportPrior990RltdOrgsAmt': '0'}, {'PersonNm': 'JOHN J PALKOVITZ JR', 'TitleTxt': 'TREASURER/CFO', 'BaseCompensationFilingOrgAmt': '0', 'CompensationBasedOnRltdOrgsAmt': '230853', 'BonusFilingOrganizationAmount': '0', 'BonusRelatedOrganizationsAmt': '7086', 'OtherCompensationFilingOrgAmt': '0', 'OtherCompensationRltdOrgsAmt': '12391', 'DeferredCompensationFlngOrgAmt': '0', 'DeferredCompRltdOrgsAmt': '8016', 'NontaxableBenefitsFilingOrgAmt': '0', 'NontaxableBenefitsRltdOrgsAmt': '14046', 'TotalCompensationFilingOrgAmt': '0', 'TotalCompensationRltdOrgsAmt': '272392', 'CompReportPrior990FilingOrgAmt': '0', 'CompReportPrior990RltdOrgsAmt': '0'}, {'PersonNm': 'JOHN HOWL', 'TitleTxt': 'PRESIDENT/CEO TO FEB 2020', 'BaseCompensationFilingOrgAmt': '0', 'CompensationBasedOnRltdOrgsAmt': '264523', 'BonusFilingOrganizationAmount': '0', 'BonusRelatedOrganizationsAmt': '20000', 'OtherCompensationFilingOrgAmt': '0', 'OtherCompensationRltdOrgsAmt': '54370', 'DeferredCompensationFlngOrgAmt': '0', 'DeferredCompRltdOrgsAmt': '11428', 'NontaxableBenefitsFilingOrgAmt': '0', 'NontaxableBenefitsRltdOrgsAmt': '14142', 'TotalCompensationFilingOrgAmt': '0', 'TotalCompensationRltdOrgsAmt': '364463', 'CompReportPrior990FilingOrgAmt': '0', 'CompReportPrior990RltdOrgsAmt': '0'}]</td>\n",
       "      <td>[{'PersonNm': 'ROBIN SOMERS', 'TitleTxt': 'PRESIDENT/CEO AS OF FEB 2020, COO', 'BaseCompensationFilingOrgAmt': '0', 'CompensationBasedOnRltdOrgsAmt': '223310', 'BonusFilingOrganizationAmount': '0', 'BonusRelatedOrganizationsAmt': '7086', 'OtherCompensationFilingOrgAmt': '0', 'OtherCompensationRltdOrgsAmt': '10636', 'DeferredCompensationFlngOrgAmt': '0', 'DeferredCompRltdOrgsAmt': '6891', 'NontaxableBenefitsFilingOrgAmt': '0', 'NontaxableBenefitsRltdOrgsAmt': '35520', 'TotalCompensationFilingOrgAmt': '0', 'TotalCompensationRltdOrgsAmt': '283443', 'CompReportPrior990FilingOrgAmt': '0', 'CompReportPrior990RltdOrgsAmt': '0'}, {'PersonNm': 'JOHN J PALKOVITZ JR', 'TitleTxt': 'TREASURER/CFO', 'BaseCompensationFilingOrgAmt': '0', 'CompensationBasedOnRltdOrgsAmt': '230853', 'BonusFilingOrganizationAmount': '0', 'BonusRelatedOrganizationsAmt': '7086', 'OtherCompensationFilingOrgAmt': '0', 'OtherCompensationRltdOrgsAmt': '12391', 'DeferredCompensationFlngOrgAmt': '0', 'DeferredCompRltdOrgsAmt': '8016', 'NontaxableBenefitsFilingOrgAmt': '0', 'NontaxableBenefitsRltdOrgsAmt': '14046', 'TotalCompensationFilingOrgAmt': '0', 'TotalCompensationRltdOrgsAmt': '272392', 'CompReportPrior990FilingOrgAmt': '0', 'CompReportPrior990RltdOrgsAmt': '0'}, {'PersonNm': 'JOHN HOWL', 'TitleTxt': 'PRESIDENT/CEO TO FEB 2020', 'BaseCompensationFilingOrgAmt': '0', 'CompensationBasedOnRltdOrgsAmt': '264523', 'BonusFilingOrganizationAmount': '0', 'BonusRelatedOrganizationsAmt': '20000', 'OtherCompensationFilingOrgAmt': '0', 'OtherCompensationRltdOrgsAmt': '54370', 'DeferredCompensationFlngOrgAmt': '0', 'DeferredCompRltdOrgsAmt': '11428', 'NontaxableBenefitsFilingOrgAmt': '0', 'NontaxableBenefitsRltdOrgsAmt': '14142', 'TotalCompensationFilingOrgAmt': '0', 'TotalCompensationRltdOrgsAmt': '364463', 'CompReportPrior990FilingOrgAmt': '0', 'CompReportPrior990RltdOrgsAmt': '0'}]</td>\n",
       "    </tr>\n",
       "  </tbody>\n",
       "</table>\n",
       "</div>"
      ],
      "text/plain": [
       "                                                                                                                                                                                                                                                                                                                                                                                                                                                                                                                                                                                                                                                                                                                                                                                                                                                                                                                                                                                                                                                                                                                                                                                                                                                                                                                                                                                                                                                                                                                                                                                                                                                                                                                                                                                                                                                                                                                                                                                                                                                                                                                                                                                                                                                                                                                                                                                                                                                                                                                                                                                     Form990ScheduleJPartII  \\\n",
       "242422                                                                                                                                                                                                                                                                                                                                                                                                                                                                                                                                                                                                                                                                                                                                                                                                                                                                                                                                                                                                                                                                                                                                                                                                                                                                                                                                                                                                                                                                                                                                                                                                                                                                                                                                                                                                                                                                                                                                                                                                                                                                                                                                                                                                                                                                                                                                                                                                         {'PersonNm': 'JACKIE BARGER', 'TitleTxt': 'EXECUTIVE DIRECTOR', 'BaseCompensationFilingOrgAmt': '67459', 'NontaxableBenefitsFilingOrgAmt': '7599', 'TotalCompensationFilingOrgAmt': '75058'}   \n",
       "19606   [{'NamePerson': 'Henderschedt Robert R', 'BaseCompensationFilingOrg': '573822', 'CompBasedOnRelatedOrgs': '0', 'BonusFilingOrg': '166156', 'BonusRelatedOrgs': '0', 'OtherCompensationFilingOrg': '221069', 'OtherCompensationRelatedOrgs': '0', 'DeferredCompFilingOrg': '103853', 'DeferredCompRelatedOrgs': '0', 'NontaxableBenefitsFilingOrg': '27815', 'NontaxableBenefitsRelatedOrgs': '0', 'TotalCompensationFilingOrg': '1092715', 'TotalCompensationRelatedOrgs': '0', 'CompReportPrior990FilingOrg': '0', 'CompReportPrior990RelatedOrgs': '0'}, {'NamePerson': 'Houmann Lars', 'BaseCompensationFilingOrg': '805019', 'CompBasedOnRelatedOrgs': '0', 'BonusFilingOrg': '232797', 'BonusRelatedOrgs': '0', 'OtherCompensationFilingOrg': '1670573', 'OtherCompensationRelatedOrgs': '3091', 'DeferredCompFilingOrg': '171790', 'DeferredCompRelatedOrgs': '0', 'NontaxableBenefitsFilingOrg': '42086', 'NontaxableBenefitsRelatedOrgs': '0', 'TotalCompensationFilingOrg': '2922265', 'TotalCompensationRelatedOrgs': '3091', 'CompReportPrior990FilingOrg': '0', 'CompReportPrior990RelatedOrgs': '0'}, {'NamePerson': 'Jernigan PhD Donald L', 'BaseCompensationFilingOrg': '903442', 'CompBasedOnRelatedOrgs': '0', 'BonusFilingOrg': '261600', 'BonusRelatedOrgs': '0', 'OtherCompensationFilingOrg': '501349', 'OtherCompensationRelatedOrgs': '0', 'DeferredCompFilingOrg': '186905', 'DeferredCompRelatedOrgs': '0', 'NontaxableBenefitsFilingOrg': '100232', 'NontaxableBenefitsRelatedOrgs': '0', 'TotalCompensationFilingOrg': '1953528', 'TotalCompensationRelatedOrgs': '0', 'CompReportPrior990FilingOrg': '186046', 'CompReportPrior990RelatedOrgs': '0'}, {'NamePerson': 'Johnson Sandra K', 'BaseCompensationFilingOrg': '370185', 'CompBasedOnRelatedOrgs': '0', 'BonusFilingOrg': '89695', 'BonusRelatedOrgs': '0', 'OtherCompensationFilingOrg': '537495', 'OtherCompensationRelatedOrgs': '0', 'DeferredCompFilingOrg': '43106', 'DeferredCompRelatedOrgs': '0', 'NontaxableBenefitsFilingOrg': '38234', 'NontaxableBenefitsRelatedOrgs': '0', 'TotalCompensationFilingOrg': '1078715', 'TotalCompensationRelatedOrgs': '0', 'CompReportPrior990FilingOrg': '0', 'CompReportPrior990RelatedOrgs': '0'}, {'NamePerson': 'Reed MD Monica P', 'BaseCompensationFilingOrg': '394740', 'CompBasedOnRelatedOrgs': '0', 'BonusFilingOrg': '92617', 'BonusRelatedOrgs': '0', 'OtherCompensationFilingOrg': '15471', 'OtherCompensationRelatedOrgs': '1434', 'DeferredCompFilingOrg': '68429', 'DeferredCompRelatedOrgs': '0', 'NontaxableBenefitsFilingOrg': '48530', 'Non...   \n",
       "327639                                                                                                                                                                                                                                                                                                                                                                                                                                                                                                                                                                                                                                                                                                                                                                                                                                                                                                                                                                                                                                                                                                                                                                                                                                                                                                                                                                                                                                                                                                                                                                                                                                                                                                                                                                                                                                                                                                                                                                                                                                                                                                                                                                                                                       [{'PersonNm': 'Alexa Sewell', 'TitleTxt': 'Chairman', 'CompensationBasedOnRltdOrgsAmt': '245665', 'NontaxableBenefitsRltdOrgsAmt': '39311', 'TotalCompensationRltdOrgsAmt': '284976'}, {'PersonNm': 'Lee Warshavsky', 'TitleTxt': 'Treasurer', 'CompensationBasedOnRltdOrgsAmt': '142564', 'NontaxableBenefitsRltdOrgsAmt': '9948', 'TotalCompensationRltdOrgsAmt': '152512'}]   \n",
       "581163                                                                                                                                                                                                                                                                                                                                                                                                                                                                                                                                                                                                                                                                                                                                                                                                                                                                                                                                                                                                                                                                                                                                                                                                                                                                                                                                                                                                                                                                                                                                                                                                                                                                                                                                                                                                                                                                                                                                                                                                       {'PersonNm': 'Milan Yager', 'BaseCompensationFilingOrgAmt': '244848', 'CompensationBasedOnRltdOrgsAmt': '0', 'BonusFilingOrganizationAmount': '19650', 'BonusRelatedOrganizationsAmt': '0', 'OtherCompensationFilingOrgAmt': '0', 'OtherCompensationRltdOrgsAmt': '0', 'DeferredCompensationFlngOrgAmt': '7755', 'DeferredCompRltdOrgsAmt': '0', 'NontaxableBenefitsFilingOrgAmt': '28880', 'NontaxableBenefitsRltdOrgsAmt': '0', 'TotalCompensationFilingOrgAmt': '301133', 'TotalCompensationRltdOrgsAmt': '0', 'CompReportPrior990FilingOrgAmt': '0', 'CompReportPrior990RltdOrgsAmt': '0'}   \n",
       "481122                                                                                                                                                                                                                                                                                                                                                                                                                                                                                                                                                                                                                                                            [{'PersonNm': 'ROBIN SOMERS', 'TitleTxt': 'PRESIDENT/CEO AS OF FEB 2020, COO', 'BaseCompensationFilingOrgAmt': '0', 'CompensationBasedOnRltdOrgsAmt': '223310', 'BonusFilingOrganizationAmount': '0', 'BonusRelatedOrganizationsAmt': '7086', 'OtherCompensationFilingOrgAmt': '0', 'OtherCompensationRltdOrgsAmt': '10636', 'DeferredCompensationFlngOrgAmt': '0', 'DeferredCompRltdOrgsAmt': '6891', 'NontaxableBenefitsFilingOrgAmt': '0', 'NontaxableBenefitsRltdOrgsAmt': '35520', 'TotalCompensationFilingOrgAmt': '0', 'TotalCompensationRltdOrgsAmt': '283443', 'CompReportPrior990FilingOrgAmt': '0', 'CompReportPrior990RltdOrgsAmt': '0'}, {'PersonNm': 'JOHN J PALKOVITZ JR', 'TitleTxt': 'TREASURER/CFO', 'BaseCompensationFilingOrgAmt': '0', 'CompensationBasedOnRltdOrgsAmt': '230853', 'BonusFilingOrganizationAmount': '0', 'BonusRelatedOrganizationsAmt': '7086', 'OtherCompensationFilingOrgAmt': '0', 'OtherCompensationRltdOrgsAmt': '12391', 'DeferredCompensationFlngOrgAmt': '0', 'DeferredCompRltdOrgsAmt': '8016', 'NontaxableBenefitsFilingOrgAmt': '0', 'NontaxableBenefitsRltdOrgsAmt': '14046', 'TotalCompensationFilingOrgAmt': '0', 'TotalCompensationRltdOrgsAmt': '272392', 'CompReportPrior990FilingOrgAmt': '0', 'CompReportPrior990RltdOrgsAmt': '0'}, {'PersonNm': 'JOHN HOWL', 'TitleTxt': 'PRESIDENT/CEO TO FEB 2020', 'BaseCompensationFilingOrgAmt': '0', 'CompensationBasedOnRltdOrgsAmt': '264523', 'BonusFilingOrganizationAmount': '0', 'BonusRelatedOrganizationsAmt': '20000', 'OtherCompensationFilingOrgAmt': '0', 'OtherCompensationRltdOrgsAmt': '54370', 'DeferredCompensationFlngOrgAmt': '0', 'DeferredCompRltdOrgsAmt': '11428', 'NontaxableBenefitsFilingOrgAmt': '0', 'NontaxableBenefitsRltdOrgsAmt': '14142', 'TotalCompensationFilingOrgAmt': '0', 'TotalCompensationRltdOrgsAmt': '364463', 'CompReportPrior990FilingOrgAmt': '0', 'CompReportPrior990RltdOrgsAmt': '0'}]   \n",
       "\n",
       "                                                                                                                                                                                                                                                                                                                                                                                                                                                                                                                                                                                                                                                                                                                                                                                                                                                                                                                                                                                                                                                                                                                                                                                                                                                                                                                                                                                                                                                                                                                                                                                                                                                                                                                                                                                                                                                                                                                     RltdOrgOfficerTrstKeyEmplGrp  \n",
       "242422                                                                                                                                                                                                                                                                                                                                                                                                                                                                                                                                                                                                                                                                                                                                                                                                                                                                                                                                                                                                                                                                                                                                                                                                                                                                                                                                                                                                                                                                                                                                                                                                                                                                                                                                               {'PersonNm': 'JACKIE BARGER', 'TitleTxt': 'EXECUTIVE DIRECTOR', 'BaseCompensationFilingOrgAmt': '67459', 'NontaxableBenefitsFilingOrgAmt': '7599', 'TotalCompensationFilingOrgAmt': '75058'}  \n",
       "19606                                                                                                                                                                                                                                                                                                                                                                                                                                                                                                                                                                                                                                                                                                                                                                                                                                                                                                                                                                                                                                                                                                                                                                                                                                                                                                                                                                                                                                                                                                                                                                                                                                                                                                                                                                                                                                                                                                                                         NaN  \n",
       "327639                                                                                                                                                                                                                                                                                                                                                                                                                                                                                                                                                                                                                                                                                                                                                                                                                                                                                                                                                                                                                                                                                                                                                                                                                                                                                                                                                                                                                                                                                                                                                             [{'PersonNm': 'Alexa Sewell', 'TitleTxt': 'Chairman', 'CompensationBasedOnRltdOrgsAmt': '245665', 'NontaxableBenefitsRltdOrgsAmt': '39311', 'TotalCompensationRltdOrgsAmt': '284976'}, {'PersonNm': 'Lee Warshavsky', 'TitleTxt': 'Treasurer', 'CompensationBasedOnRltdOrgsAmt': '142564', 'NontaxableBenefitsRltdOrgsAmt': '9948', 'TotalCompensationRltdOrgsAmt': '152512'}]  \n",
       "581163                                                                                                                                                                                                                                                                                                                                                                                                                                                                                                                                                                                                                                                                                                                                                                                                                                                                                                                                                                                                                                                                                                                                                                                                                                                                                                                                             {'PersonNm': 'Milan Yager', 'BaseCompensationFilingOrgAmt': '244848', 'CompensationBasedOnRltdOrgsAmt': '0', 'BonusFilingOrganizationAmount': '19650', 'BonusRelatedOrganizationsAmt': '0', 'OtherCompensationFilingOrgAmt': '0', 'OtherCompensationRltdOrgsAmt': '0', 'DeferredCompensationFlngOrgAmt': '7755', 'DeferredCompRltdOrgsAmt': '0', 'NontaxableBenefitsFilingOrgAmt': '28880', 'NontaxableBenefitsRltdOrgsAmt': '0', 'TotalCompensationFilingOrgAmt': '301133', 'TotalCompensationRltdOrgsAmt': '0', 'CompReportPrior990FilingOrgAmt': '0', 'CompReportPrior990RltdOrgsAmt': '0'}  \n",
       "481122  [{'PersonNm': 'ROBIN SOMERS', 'TitleTxt': 'PRESIDENT/CEO AS OF FEB 2020, COO', 'BaseCompensationFilingOrgAmt': '0', 'CompensationBasedOnRltdOrgsAmt': '223310', 'BonusFilingOrganizationAmount': '0', 'BonusRelatedOrganizationsAmt': '7086', 'OtherCompensationFilingOrgAmt': '0', 'OtherCompensationRltdOrgsAmt': '10636', 'DeferredCompensationFlngOrgAmt': '0', 'DeferredCompRltdOrgsAmt': '6891', 'NontaxableBenefitsFilingOrgAmt': '0', 'NontaxableBenefitsRltdOrgsAmt': '35520', 'TotalCompensationFilingOrgAmt': '0', 'TotalCompensationRltdOrgsAmt': '283443', 'CompReportPrior990FilingOrgAmt': '0', 'CompReportPrior990RltdOrgsAmt': '0'}, {'PersonNm': 'JOHN J PALKOVITZ JR', 'TitleTxt': 'TREASURER/CFO', 'BaseCompensationFilingOrgAmt': '0', 'CompensationBasedOnRltdOrgsAmt': '230853', 'BonusFilingOrganizationAmount': '0', 'BonusRelatedOrganizationsAmt': '7086', 'OtherCompensationFilingOrgAmt': '0', 'OtherCompensationRltdOrgsAmt': '12391', 'DeferredCompensationFlngOrgAmt': '0', 'DeferredCompRltdOrgsAmt': '8016', 'NontaxableBenefitsFilingOrgAmt': '0', 'NontaxableBenefitsRltdOrgsAmt': '14046', 'TotalCompensationFilingOrgAmt': '0', 'TotalCompensationRltdOrgsAmt': '272392', 'CompReportPrior990FilingOrgAmt': '0', 'CompReportPrior990RltdOrgsAmt': '0'}, {'PersonNm': 'JOHN HOWL', 'TitleTxt': 'PRESIDENT/CEO TO FEB 2020', 'BaseCompensationFilingOrgAmt': '0', 'CompensationBasedOnRltdOrgsAmt': '264523', 'BonusFilingOrganizationAmount': '0', 'BonusRelatedOrganizationsAmt': '20000', 'OtherCompensationFilingOrgAmt': '0', 'OtherCompensationRltdOrgsAmt': '54370', 'DeferredCompensationFlngOrgAmt': '0', 'DeferredCompRltdOrgsAmt': '11428', 'NontaxableBenefitsFilingOrgAmt': '0', 'NontaxableBenefitsRltdOrgsAmt': '14142', 'TotalCompensationFilingOrgAmt': '0', 'TotalCompensationRltdOrgsAmt': '364463', 'CompReportPrior990FilingOrgAmt': '0', 'CompReportPrior990RltdOrgsAmt': '0'}]  "
      ]
     },
     "execution_count": 17,
     "metadata": {},
     "output_type": "execute_result"
    }
   ],
   "source": [
    "df.sample(5)[['Form990ScheduleJPartII', 'RltdOrgOfficerTrstKeyEmplGrp']]"
   ]
  },
  {
   "cell_type": "code",
   "execution_count": 18,
   "metadata": {},
   "outputs": [
    {
     "name": "stdout",
     "output_type": "stream",
     "text": [
      "29429\n",
      "743685\n"
     ]
    }
   ],
   "source": [
    "print(len(df[df['Form990ScheduleJPartII'].isnull()]))\n",
    "print(len(df[df['Form990ScheduleJPartII'].notnull()]))"
   ]
  },
  {
   "cell_type": "markdown",
   "metadata": {},
   "source": [
    "<br>Note: In the original notebook I checked samples of the rows with no Part II data. "
   ]
  },
  {
   "cell_type": "markdown",
   "metadata": {},
   "source": [
    "##### Delete empty rows"
   ]
  },
  {
   "cell_type": "markdown",
   "metadata": {},
   "source": [
    "<br>\n",
    "412,546 is the correct number of rows for 'RltdOrgOfficerTrstKeyEmplGrp' plus 'Form990ScheduleJPartII'"
   ]
  },
  {
   "cell_type": "code",
   "execution_count": 19,
   "metadata": {},
   "outputs": [
    {
     "name": "stdout",
     "output_type": "stream",
     "text": [
      "29429\n",
      "743685\n"
     ]
    }
   ],
   "source": [
    "print(len(df[df['Form990ScheduleJPartII'].isnull()]))\n",
    "print(len(df[df['Form990ScheduleJPartII'].notnull()]))"
   ]
  },
  {
   "cell_type": "code",
   "execution_count": 20,
   "metadata": {},
   "outputs": [
    {
     "name": "stdout",
     "output_type": "stream",
     "text": [
      "773114\n",
      "29429\n",
      "743685\n",
      "743685\n",
      "0\n",
      "743685\n"
     ]
    },
    {
     "data": {
      "text/html": [
       "<div>\n",
       "<style scoped>\n",
       "    .dataframe tbody tr th:only-of-type {\n",
       "        vertical-align: middle;\n",
       "    }\n",
       "\n",
       "    .dataframe tbody tr th {\n",
       "        vertical-align: top;\n",
       "    }\n",
       "\n",
       "    .dataframe thead th {\n",
       "        text-align: right;\n",
       "    }\n",
       "</style>\n",
       "<table border=\"1\" class=\"dataframe\">\n",
       "  <thead>\n",
       "    <tr style=\"text-align: right;\">\n",
       "      <th></th>\n",
       "      <th>URL</th>\n",
       "      <th>Form990ScheduleJPartII</th>\n",
       "      <th>RltdOrgOfficerTrstKeyEmplGrp</th>\n",
       "    </tr>\n",
       "  </thead>\n",
       "  <tbody>\n",
       "    <tr>\n",
       "      <th>0</th>\n",
       "      <td>https://s3.amazonaws.com/irs-form-990/201113139349301311_public.xml</td>\n",
       "      <td>[{'NamePerson': 'THOMAS D TURNBULL', 'CompBasedOnRelatedOrgs': '100712', 'BonusRelatedOrgs': '790', 'OtherCompensationRelatedOrgs': '1257', 'DeferredCompRelatedOrgs': '54308', 'NontaxableBenefitsRelatedOrgs': '62342', 'TotalCompensationRelatedOrgs': '219409'}, {'NamePerson': 'RONALD W PATTERSON', 'CompBasedOnRelatedOrgs': '192455', 'BonusRelatedOrgs': '814', 'OtherCompensationRelatedOrgs': '2071', 'DeferredCompRelatedOrgs': '17271', 'NontaxableBenefitsRelatedOrgs': '23201', 'TotalCompensationRelatedOrgs': '235812'}, {'NamePerson': 'ROBIN KELLER', 'CompBasedOnRelatedOrgs': '78098', 'BonusRelatedOrgs': '790', 'OtherCompensationRelatedOrgs': '755', 'DeferredCompRelatedOrgs': '10371', 'NontaxableBenefitsRelatedOrgs': '78922', 'TotalCompensationRelatedOrgs': '168936'}, {'NamePerson': 'PATRICK SHERIDAN', 'CompBasedOnRelatedOrgs': '172631', 'BonusRelatedOrgs': '836', 'OtherCompensationRelatedOrgs': '1195', 'DeferredCompRelatedOrgs': '33690', 'NontaxableBenefitsRelatedOrgs': '206', 'TotalCompensationRelatedOrgs': '208558'}, {'NamePerson': 'MICHAEL W KING', 'CompBasedOnRelatedOrgs': '153811', 'BonusRelatedOrgs': '133', 'OtherCompensationRelatedOrgs': '875', 'DeferredCompRelatedOrgs': '12395', 'NontaxableBenefitsRelatedOrgs': '31037', 'TotalCompensationRelatedOrgs': '198251'}, {'NamePerson': 'DAVID T BOWMAN', 'CompBasedOnRelatedOrgs': '170752', 'BonusRelatedOrgs': '790', 'OtherCompensationRelatedOrgs': '1347', 'NontaxableBenefitsRelatedOrgs': '58951', 'TotalCompensationRelatedOrgs': '231840'}, {'NamePerson': 'CHARLES W GOULD', 'CompBasedOnRelatedOrgs': '200426', 'BonusRelatedOrgs': '656', 'OtherCompensationRelatedOrgs': '99161', 'DeferredCompRelatedOrgs': '19907', 'NontaxableBenefitsRelatedOrgs': '9047', 'TotalCompensationRelatedOrgs': '329197'}]</td>\n",
       "      <td>NaN</td>\n",
       "    </tr>\n",
       "  </tbody>\n",
       "</table>\n",
       "</div>"
      ],
      "text/plain": [
       "                                                                   URL  \\\n",
       "0  https://s3.amazonaws.com/irs-form-990/201113139349301311_public.xml   \n",
       "\n",
       "                                                                                                                                                                                                                                                                                                                                                                                                                                                                                                                                                                                                                                                                                                                                                                                                                                                                                                                                                                                                                                                                                                                                                                                                                                                                                                                                                                                                                                                                                                                                                                                                                                                                                                                                                                                                                   Form990ScheduleJPartII  \\\n",
       "0  [{'NamePerson': 'THOMAS D TURNBULL', 'CompBasedOnRelatedOrgs': '100712', 'BonusRelatedOrgs': '790', 'OtherCompensationRelatedOrgs': '1257', 'DeferredCompRelatedOrgs': '54308', 'NontaxableBenefitsRelatedOrgs': '62342', 'TotalCompensationRelatedOrgs': '219409'}, {'NamePerson': 'RONALD W PATTERSON', 'CompBasedOnRelatedOrgs': '192455', 'BonusRelatedOrgs': '814', 'OtherCompensationRelatedOrgs': '2071', 'DeferredCompRelatedOrgs': '17271', 'NontaxableBenefitsRelatedOrgs': '23201', 'TotalCompensationRelatedOrgs': '235812'}, {'NamePerson': 'ROBIN KELLER', 'CompBasedOnRelatedOrgs': '78098', 'BonusRelatedOrgs': '790', 'OtherCompensationRelatedOrgs': '755', 'DeferredCompRelatedOrgs': '10371', 'NontaxableBenefitsRelatedOrgs': '78922', 'TotalCompensationRelatedOrgs': '168936'}, {'NamePerson': 'PATRICK SHERIDAN', 'CompBasedOnRelatedOrgs': '172631', 'BonusRelatedOrgs': '836', 'OtherCompensationRelatedOrgs': '1195', 'DeferredCompRelatedOrgs': '33690', 'NontaxableBenefitsRelatedOrgs': '206', 'TotalCompensationRelatedOrgs': '208558'}, {'NamePerson': 'MICHAEL W KING', 'CompBasedOnRelatedOrgs': '153811', 'BonusRelatedOrgs': '133', 'OtherCompensationRelatedOrgs': '875', 'DeferredCompRelatedOrgs': '12395', 'NontaxableBenefitsRelatedOrgs': '31037', 'TotalCompensationRelatedOrgs': '198251'}, {'NamePerson': 'DAVID T BOWMAN', 'CompBasedOnRelatedOrgs': '170752', 'BonusRelatedOrgs': '790', 'OtherCompensationRelatedOrgs': '1347', 'NontaxableBenefitsRelatedOrgs': '58951', 'TotalCompensationRelatedOrgs': '231840'}, {'NamePerson': 'CHARLES W GOULD', 'CompBasedOnRelatedOrgs': '200426', 'BonusRelatedOrgs': '656', 'OtherCompensationRelatedOrgs': '99161', 'DeferredCompRelatedOrgs': '19907', 'NontaxableBenefitsRelatedOrgs': '9047', 'TotalCompensationRelatedOrgs': '329197'}]   \n",
       "\n",
       "  RltdOrgOfficerTrstKeyEmplGrp  \n",
       "0                          NaN  "
      ]
     },
     "execution_count": 20,
     "metadata": {},
     "output_type": "execute_result"
    }
   ],
   "source": [
    "print(len(df))\n",
    "print(len(df[df['Form990ScheduleJPartII'].isnull()]))\n",
    "print(len(df[df['Form990ScheduleJPartII'].notnull()]))\n",
    "df = df[df['Form990ScheduleJPartII'].notnull()]\n",
    "print(len(df))\n",
    "print(len(df[df['Form990ScheduleJPartII'].isnull()]))\n",
    "print(len(df[df['Form990ScheduleJPartII'].notnull()]))\n",
    "df[:1]"
   ]
  },
  {
   "cell_type": "markdown",
   "metadata": {},
   "source": [
    "### Drop Extra Columns"
   ]
  },
  {
   "cell_type": "code",
   "execution_count": 21,
   "metadata": {},
   "outputs": [
    {
     "data": {
      "text/html": [
       "<div>\n",
       "<style scoped>\n",
       "    .dataframe tbody tr th:only-of-type {\n",
       "        vertical-align: middle;\n",
       "    }\n",
       "\n",
       "    .dataframe tbody tr th {\n",
       "        vertical-align: top;\n",
       "    }\n",
       "\n",
       "    .dataframe thead th {\n",
       "        text-align: right;\n",
       "    }\n",
       "</style>\n",
       "<table border=\"1\" class=\"dataframe\">\n",
       "  <thead>\n",
       "    <tr style=\"text-align: right;\">\n",
       "      <th></th>\n",
       "      <th>URL</th>\n",
       "      <th>Form990ScheduleJPartII</th>\n",
       "    </tr>\n",
       "  </thead>\n",
       "  <tbody>\n",
       "    <tr>\n",
       "      <th>0</th>\n",
       "      <td>https://s3.amazonaws.com/irs-form-990/201113139349301311_public.xml</td>\n",
       "      <td>[{'NamePerson': 'THOMAS D TURNBULL', 'CompBasedOnRelatedOrgs': '100712', 'BonusRelatedOrgs': '790', 'OtherCompensationRelatedOrgs': '1257', 'DeferredCompRelatedOrgs': '54308', 'NontaxableBenefitsRelatedOrgs': '62342', 'TotalCompensationRelatedOrgs': '219409'}, {'NamePerson': 'RONALD W PATTERSON', 'CompBasedOnRelatedOrgs': '192455', 'BonusRelatedOrgs': '814', 'OtherCompensationRelatedOrgs': '2071', 'DeferredCompRelatedOrgs': '17271', 'NontaxableBenefitsRelatedOrgs': '23201', 'TotalCompensationRelatedOrgs': '235812'}, {'NamePerson': 'ROBIN KELLER', 'CompBasedOnRelatedOrgs': '78098', 'BonusRelatedOrgs': '790', 'OtherCompensationRelatedOrgs': '755', 'DeferredCompRelatedOrgs': '10371', 'NontaxableBenefitsRelatedOrgs': '78922', 'TotalCompensationRelatedOrgs': '168936'}, {'NamePerson': 'PATRICK SHERIDAN', 'CompBasedOnRelatedOrgs': '172631', 'BonusRelatedOrgs': '836', 'OtherCompensationRelatedOrgs': '1195', 'DeferredCompRelatedOrgs': '33690', 'NontaxableBenefitsRelatedOrgs': '206', 'TotalCompensationRelatedOrgs': '208558'}, {'NamePerson': 'MICHAEL W KING', 'CompBasedOnRelatedOrgs': '153811', 'BonusRelatedOrgs': '133', 'OtherCompensationRelatedOrgs': '875', 'DeferredCompRelatedOrgs': '12395', 'NontaxableBenefitsRelatedOrgs': '31037', 'TotalCompensationRelatedOrgs': '198251'}, {'NamePerson': 'DAVID T BOWMAN', 'CompBasedOnRelatedOrgs': '170752', 'BonusRelatedOrgs': '790', 'OtherCompensationRelatedOrgs': '1347', 'NontaxableBenefitsRelatedOrgs': '58951', 'TotalCompensationRelatedOrgs': '231840'}, {'NamePerson': 'CHARLES W GOULD', 'CompBasedOnRelatedOrgs': '200426', 'BonusRelatedOrgs': '656', 'OtherCompensationRelatedOrgs': '99161', 'DeferredCompRelatedOrgs': '19907', 'NontaxableBenefitsRelatedOrgs': '9047', 'TotalCompensationRelatedOrgs': '329197'}]</td>\n",
       "    </tr>\n",
       "  </tbody>\n",
       "</table>\n",
       "</div>"
      ],
      "text/plain": [
       "                                                                   URL  \\\n",
       "0  https://s3.amazonaws.com/irs-form-990/201113139349301311_public.xml   \n",
       "\n",
       "                                                                                                                                                                                                                                                                                                                                                                                                                                                                                                                                                                                                                                                                                                                                                                                                                                                                                                                                                                                                                                                                                                                                                                                                                                                                                                                                                                                                                                                                                                                                                                                                                                                                                                                                                                                                                   Form990ScheduleJPartII  \n",
       "0  [{'NamePerson': 'THOMAS D TURNBULL', 'CompBasedOnRelatedOrgs': '100712', 'BonusRelatedOrgs': '790', 'OtherCompensationRelatedOrgs': '1257', 'DeferredCompRelatedOrgs': '54308', 'NontaxableBenefitsRelatedOrgs': '62342', 'TotalCompensationRelatedOrgs': '219409'}, {'NamePerson': 'RONALD W PATTERSON', 'CompBasedOnRelatedOrgs': '192455', 'BonusRelatedOrgs': '814', 'OtherCompensationRelatedOrgs': '2071', 'DeferredCompRelatedOrgs': '17271', 'NontaxableBenefitsRelatedOrgs': '23201', 'TotalCompensationRelatedOrgs': '235812'}, {'NamePerson': 'ROBIN KELLER', 'CompBasedOnRelatedOrgs': '78098', 'BonusRelatedOrgs': '790', 'OtherCompensationRelatedOrgs': '755', 'DeferredCompRelatedOrgs': '10371', 'NontaxableBenefitsRelatedOrgs': '78922', 'TotalCompensationRelatedOrgs': '168936'}, {'NamePerson': 'PATRICK SHERIDAN', 'CompBasedOnRelatedOrgs': '172631', 'BonusRelatedOrgs': '836', 'OtherCompensationRelatedOrgs': '1195', 'DeferredCompRelatedOrgs': '33690', 'NontaxableBenefitsRelatedOrgs': '206', 'TotalCompensationRelatedOrgs': '208558'}, {'NamePerson': 'MICHAEL W KING', 'CompBasedOnRelatedOrgs': '153811', 'BonusRelatedOrgs': '133', 'OtherCompensationRelatedOrgs': '875', 'DeferredCompRelatedOrgs': '12395', 'NontaxableBenefitsRelatedOrgs': '31037', 'TotalCompensationRelatedOrgs': '198251'}, {'NamePerson': 'DAVID T BOWMAN', 'CompBasedOnRelatedOrgs': '170752', 'BonusRelatedOrgs': '790', 'OtherCompensationRelatedOrgs': '1347', 'NontaxableBenefitsRelatedOrgs': '58951', 'TotalCompensationRelatedOrgs': '231840'}, {'NamePerson': 'CHARLES W GOULD', 'CompBasedOnRelatedOrgs': '200426', 'BonusRelatedOrgs': '656', 'OtherCompensationRelatedOrgs': '99161', 'DeferredCompRelatedOrgs': '19907', 'NontaxableBenefitsRelatedOrgs': '9047', 'TotalCompensationRelatedOrgs': '329197'}]  "
      ]
     },
     "execution_count": 21,
     "metadata": {},
     "output_type": "execute_result"
    }
   ],
   "source": [
    "df = df.drop('RltdOrgOfficerTrstKeyEmplGrp', axis=1)\n",
    "df[:1]"
   ]
  },
  {
   "cell_type": "markdown",
   "metadata": {},
   "source": [
    "#### Save DF"
   ]
  },
  {
   "cell_type": "code",
   "execution_count": 22,
   "metadata": {},
   "outputs": [
    {
     "name": "stdout",
     "output_type": "stream",
     "text": [
      "# of columns: 2\n",
      "# of observations: 743685\n"
     ]
    }
   ],
   "source": [
    "print('# of columns:', len(df.columns))\n",
    "print('# of observations:', len(df))"
   ]
  },
  {
   "cell_type": "code",
   "execution_count": 23,
   "metadata": {},
   "outputs": [
    {
     "name": "stdout",
     "output_type": "stream",
     "text": [
      "Current date and time :  2025-06-26 23:17:21 \n",
      "\n",
      "CPU times: total: 1min 20s\n",
      "Wall time: 1min 25s\n"
     ]
    }
   ],
   "source": [
    "%%time\n",
    "import datetime\n",
    "print (\"Current date and time : \", datetime.datetime.now().strftime(\"%Y-%m-%d %H:%M:%S\"), '\\n')\n",
    "df.to_pickle('Schedule J (Part II) - combined two columns.pkl.gz', compression='gzip')"
   ]
  },
  {
   "cell_type": "markdown",
   "metadata": {},
   "source": [
    "#### Quick verifications "
   ]
  },
  {
   "cell_type": "code",
   "execution_count": 24,
   "metadata": {},
   "outputs": [
    {
     "data": {
      "text/html": [
       "<div>\n",
       "<style scoped>\n",
       "    .dataframe tbody tr th:only-of-type {\n",
       "        vertical-align: middle;\n",
       "    }\n",
       "\n",
       "    .dataframe tbody tr th {\n",
       "        vertical-align: top;\n",
       "    }\n",
       "\n",
       "    .dataframe thead th {\n",
       "        text-align: right;\n",
       "    }\n",
       "</style>\n",
       "<table border=\"1\" class=\"dataframe\">\n",
       "  <thead>\n",
       "    <tr style=\"text-align: right;\">\n",
       "      <th></th>\n",
       "      <th>URL</th>\n",
       "      <th>Form990ScheduleJPartII</th>\n",
       "    </tr>\n",
       "  </thead>\n",
       "  <tbody>\n",
       "  </tbody>\n",
       "</table>\n",
       "</div>"
      ],
      "text/plain": [
       "Empty DataFrame\n",
       "Columns: [URL, Form990ScheduleJPartII]\n",
       "Index: []"
      ]
     },
     "execution_count": 24,
     "metadata": {},
     "output_type": "execute_result"
    }
   ],
   "source": [
    "df[df['URL'].isnull()]"
   ]
  },
  {
   "cell_type": "markdown",
   "metadata": {},
   "source": [
    "# Split column by person\n",
    "First, we write create a new variable, *part_2_len* that captures the 'length' of the *Form990ScheduleJPartII* variable. If the value is a *list*, then the new value will be the number of persons entered in Part II. If the value is a dictionary, in contrast, this means there is only 1 entry. This new variable will not only serve to differentiate the *list* values from *dictionary* values, but it will help us in the verifying the data after splitting into separate rows."
   ]
  },
  {
   "cell_type": "code",
   "execution_count": 25,
   "metadata": {},
   "outputs": [
    {
     "name": "stdout",
     "output_type": "stream",
     "text": [
      "Current date and time :  2025-06-27 12:23:37 \n",
      "\n",
      "299590\n",
      "444095 \n",
      "\n",
      "part_2_len\n",
      "2.0    119929\n",
      "3.0     72511\n",
      "4.0     47849\n",
      "5.0     35888\n",
      "6.0     29409\n",
      "Name: count, dtype: int64 \n",
      "\n",
      "count    444095.000000\n",
      "mean          6.017798\n",
      "std           5.886455\n",
      "min           2.000000\n",
      "25%           2.000000\n",
      "50%           4.000000\n",
      "75%           8.000000\n",
      "max         316.000000\n",
      "Name: part_2_len, dtype: float64 \n",
      "\n",
      "CPU times: total: 438 ms\n",
      "Wall time: 922 ms\n"
     ]
    }
   ],
   "source": [
    "%%time\n",
    "import datetime\n",
    "print (\"Current date and time : \", datetime.datetime.now().strftime(\"%Y-%m-%d %H:%M:%S\"), '\\n')\n",
    "df['part_2_len'] = df['Form990ScheduleJPartII'].apply(lambda x: len(x) if type(x) is list else np.nan)\n",
    "print(len(df[df['part_2_len'].isnull()]))\n",
    "print(len(df[df['part_2_len'].notnull()]), '\\n')\n",
    "print(df['part_2_len'].value_counts().head(), '\\n')\n",
    "print(df['part_2_len'].describe().T, '\\n')"
   ]
  },
  {
   "cell_type": "code",
   "execution_count": 26,
   "metadata": {},
   "outputs": [
    {
     "name": "stdout",
     "output_type": "stream",
     "text": [
      "299590\n"
     ]
    },
    {
     "data": {
      "text/html": [
       "<div>\n",
       "<style scoped>\n",
       "    .dataframe tbody tr th:only-of-type {\n",
       "        vertical-align: middle;\n",
       "    }\n",
       "\n",
       "    .dataframe tbody tr th {\n",
       "        vertical-align: top;\n",
       "    }\n",
       "\n",
       "    .dataframe thead th {\n",
       "        text-align: right;\n",
       "    }\n",
       "</style>\n",
       "<table border=\"1\" class=\"dataframe\">\n",
       "  <thead>\n",
       "    <tr style=\"text-align: right;\">\n",
       "      <th></th>\n",
       "      <th>URL</th>\n",
       "      <th>Form990ScheduleJPartII</th>\n",
       "      <th>part_2_len</th>\n",
       "    </tr>\n",
       "  </thead>\n",
       "  <tbody>\n",
       "    <tr>\n",
       "      <th>418853</th>\n",
       "      <td>https://s3.amazonaws.com/irs-form-990/201943169349304849_public.xml</td>\n",
       "      <td>{'PersonNm': 'RANDAL WARD', 'TitleTxt': 'FUND ADMINISTRATOR', 'CompensationBasedOnRltdOrgsAmt': '375784', 'DeferredCompRltdOrgsAmt': '27500', 'TotalCompensationRltdOrgsAmt': '403284'}</td>\n",
       "      <td>NaN</td>\n",
       "    </tr>\n",
       "    <tr>\n",
       "      <th>328640</th>\n",
       "      <td>https://s3.amazonaws.com/irs-form-990/201801669349301355_public.xml</td>\n",
       "      <td>{'PersonNm': 'Nora Garcia', 'TitleTxt': 'EXECUTIVE DIRECTOR', 'BaseCompensationFilingOrgAmt': '181946', 'DeferredCompensationFlngOrgAmt': '5067', 'NontaxableBenefitsFilingOrgAmt': '6935', 'TotalCompensationFilingOrgAmt': '193948'}</td>\n",
       "      <td>NaN</td>\n",
       "    </tr>\n",
       "    <tr>\n",
       "      <th>217732</th>\n",
       "      <td>https://s3.amazonaws.com/irs-form-990/201620919349300032_public.xml</td>\n",
       "      <td>{'PersonNm': 'GREGORY MCTAGGART', 'TitleTxt': 'President', 'BaseCompensationFilingOrgAmt': '295378', 'NontaxableBenefitsFilingOrgAmt': '13808', 'TotalCompensationFilingOrgAmt': '309186'}</td>\n",
       "      <td>NaN</td>\n",
       "    </tr>\n",
       "  </tbody>\n",
       "</table>\n",
       "</div>"
      ],
      "text/plain": [
       "                                                                        URL  \\\n",
       "418853  https://s3.amazonaws.com/irs-form-990/201943169349304849_public.xml   \n",
       "328640  https://s3.amazonaws.com/irs-form-990/201801669349301355_public.xml   \n",
       "217732  https://s3.amazonaws.com/irs-form-990/201620919349300032_public.xml   \n",
       "\n",
       "                                                                                                                                                                                                                        Form990ScheduleJPartII  \\\n",
       "418853                                                 {'PersonNm': 'RANDAL WARD', 'TitleTxt': 'FUND ADMINISTRATOR', 'CompensationBasedOnRltdOrgsAmt': '375784', 'DeferredCompRltdOrgsAmt': '27500', 'TotalCompensationRltdOrgsAmt': '403284'}   \n",
       "328640  {'PersonNm': 'Nora Garcia', 'TitleTxt': 'EXECUTIVE DIRECTOR', 'BaseCompensationFilingOrgAmt': '181946', 'DeferredCompensationFlngOrgAmt': '5067', 'NontaxableBenefitsFilingOrgAmt': '6935', 'TotalCompensationFilingOrgAmt': '193948'}   \n",
       "217732                                              {'PersonNm': 'GREGORY MCTAGGART', 'TitleTxt': 'President', 'BaseCompensationFilingOrgAmt': '295378', 'NontaxableBenefitsFilingOrgAmt': '13808', 'TotalCompensationFilingOrgAmt': '309186'}   \n",
       "\n",
       "        part_2_len  \n",
       "418853         NaN  \n",
       "328640         NaN  \n",
       "217732         NaN  "
      ]
     },
     "execution_count": 26,
     "metadata": {},
     "output_type": "execute_result"
    }
   ],
   "source": [
    "print(len(df[df['part_2_len'].isnull()]))\n",
    "df[df['part_2_len'].isnull()].sample(3)"
   ]
  },
  {
   "cell_type": "code",
   "execution_count": 27,
   "metadata": {},
   "outputs": [
    {
     "name": "stdout",
     "output_type": "stream",
     "text": [
      "299590\n",
      "444095\n"
     ]
    }
   ],
   "source": [
    "print(len(df[df['part_2_len'].isnull()]))\n",
    "print(len(df[df['part_2_len'].notnull()]))"
   ]
  },
  {
   "cell_type": "markdown",
   "metadata": {},
   "source": [
    "### Create version of dataset with only multiple people per filing \n",
    "This is the one we will split. Then we'll append the single-person dataset to the split file."
   ]
  },
  {
   "cell_type": "code",
   "execution_count": 28,
   "metadata": {},
   "outputs": [
    {
     "name": "stdout",
     "output_type": "stream",
     "text": [
      "Current date and time :  2025-06-27 12:24:44 \n",
      "\n",
      "299590\n",
      "444095 \n",
      "\n",
      "0\n",
      "444095\n",
      "444095\n",
      "CPU times: total: 375 ms\n",
      "Wall time: 388 ms\n"
     ]
    }
   ],
   "source": [
    "%%time\n",
    "import datetime\n",
    "print (\"Current date and time : \", datetime.datetime.now().strftime(\"%Y-%m-%d %H:%M:%S\"), '\\n')\n",
    "print(len(df[df['part_2_len'].isnull()]))\n",
    "print(len(df[df['part_2_len'].notnull()]), '\\n')\n",
    "df2 = df[df['part_2_len'].notnull()].copy()\n",
    "print(len(df2[df2['part_2_len'].isnull()]))\n",
    "print(len(df2[df2['part_2_len'].notnull()]))\n",
    "print(len(df2))"
   ]
  },
  {
   "cell_type": "code",
   "execution_count": 30,
   "metadata": {},
   "outputs": [],
   "source": [
    "import numpy as np\n",
    "from itertools import chain\n",
    "\n",
    "# return list from series of comma-separated strings\n",
    "def chainer(s):\n",
    "    #return list(chain.from_iterable(s.str.split(',')))\n",
    "    #return list(chain.from_iterable(s.values.tolist()) #ALSO WORKS\n",
    "    return list(chain.from_iterable(s))"
   ]
  },
  {
   "cell_type": "code",
   "execution_count": 31,
   "metadata": {},
   "outputs": [
    {
     "name": "stdout",
     "output_type": "stream",
     "text": [
      "Current date and time :  2025-06-27 12:25:42 \n",
      "\n",
      "2672474\n",
      "CPU times: total: 1.38 s\n",
      "Wall time: 1.41 s\n"
     ]
    },
    {
     "data": {
      "text/html": [
       "<div>\n",
       "<style scoped>\n",
       "    .dataframe tbody tr th:only-of-type {\n",
       "        vertical-align: middle;\n",
       "    }\n",
       "\n",
       "    .dataframe tbody tr th {\n",
       "        vertical-align: top;\n",
       "    }\n",
       "\n",
       "    .dataframe thead th {\n",
       "        text-align: right;\n",
       "    }\n",
       "</style>\n",
       "<table border=\"1\" class=\"dataframe\">\n",
       "  <thead>\n",
       "    <tr style=\"text-align: right;\">\n",
       "      <th></th>\n",
       "      <th>URL</th>\n",
       "      <th>Form990ScheduleJPartII</th>\n",
       "    </tr>\n",
       "  </thead>\n",
       "  <tbody>\n",
       "    <tr>\n",
       "      <th>773111</th>\n",
       "      <td>https://s3.amazonaws.com/irs-form-990/202441449349301404_public.xml</td>\n",
       "      <td>{'PersonNm': 'Thomas A Farrington', 'BaseCompensationFilingOrgAmt': '474600', 'CompensationBasedOnRltdOrgsAmt': '0', 'BonusFilingOrganizationAmount': '0', 'BonusRelatedOrganizationsAmt': '0', 'OtherCompensationFilingOrgAmt': '0', 'OtherCompensationRltdOrgsAmt': '0', 'DeferredCompensationFlngOrgAmt': '0', 'DeferredCompRltdOrgsAmt': '0', 'NontaxableBenefitsFilingOrgAmt': '0', 'NontaxableBenefitsRltdOrgsAmt': '0', 'TotalCompensationFilingOrgAmt': '474600', 'TotalCompensationRltdOrgsAmt': '0', 'CompReportPrior990FilingOrgAmt': '0', 'CompReportPrior990RltdOrgsAmt': '0'}</td>\n",
       "    </tr>\n",
       "    <tr>\n",
       "      <th>773111</th>\n",
       "      <td>https://s3.amazonaws.com/irs-form-990/202441449349301404_public.xml</td>\n",
       "      <td>{'PersonNm': 'Juarez Farrington', 'BaseCompensationFilingOrgAmt': '210010', 'CompensationBasedOnRltdOrgsAmt': '0', 'BonusFilingOrganizationAmount': '0', 'BonusRelatedOrganizationsAmt': '0', 'OtherCompensationFilingOrgAmt': '0', 'OtherCompensationRltdOrgsAmt': '0', 'DeferredCompensationFlngOrgAmt': '0', 'DeferredCompRltdOrgsAmt': '0', 'NontaxableBenefitsFilingOrgAmt': '0', 'NontaxableBenefitsRltdOrgsAmt': '0', 'TotalCompensationFilingOrgAmt': '210010', 'TotalCompensationRltdOrgsAmt': '0', 'CompReportPrior990FilingOrgAmt': '0', 'CompReportPrior990RltdOrgsAmt': '0'}</td>\n",
       "    </tr>\n",
       "    <tr>\n",
       "      <th>773112</th>\n",
       "      <td>https://s3.amazonaws.com/irs-form-990/202441449349301409_public.xml</td>\n",
       "      <td>{'PersonNm': 'BRYAN GOODWIN', 'TitleTxt': 'CEO &amp; PRESIDENT', 'BaseCompensationFilingOrgAmt': '267586', 'DeferredCompensationFlngOrgAmt': '27091', 'NontaxableBenefitsFilingOrgAmt': '32850', 'TotalCompensationFilingOrgAmt': '327527'}</td>\n",
       "    </tr>\n",
       "    <tr>\n",
       "      <th>773112</th>\n",
       "      <td>https://s3.amazonaws.com/irs-form-990/202441449349301409_public.xml</td>\n",
       "      <td>{'PersonNm': 'RONALD MILETTA', 'TitleTxt': 'CHIEF MKTG &amp; INNOVTN', 'BaseCompensationFilingOrgAmt': '198799', 'DeferredCompensationFlngOrgAmt': '19926', 'NontaxableBenefitsFilingOrgAmt': '11493', 'TotalCompensationFilingOrgAmt': '230218'}</td>\n",
       "    </tr>\n",
       "    <tr>\n",
       "      <th>773112</th>\n",
       "      <td>https://s3.amazonaws.com/irs-form-990/202441449349301409_public.xml</td>\n",
       "      <td>{'PersonNm': 'SUE DESCH', 'TitleTxt': 'CFO', 'BaseCompensationFilingOrgAmt': '180137', 'DeferredCompensationFlngOrgAmt': '18060', 'NontaxableBenefitsFilingOrgAmt': '11427', 'TotalCompensationFilingOrgAmt': '209624'}</td>\n",
       "    </tr>\n",
       "    <tr>\n",
       "      <th>773112</th>\n",
       "      <td>https://s3.amazonaws.com/irs-form-990/202441449349301409_public.xml</td>\n",
       "      <td>{'PersonNm': 'DALE LEWIS', 'TitleTxt': 'VP LARGE PROGRAMS', 'BaseCompensationFilingOrgAmt': '177982', 'DeferredCompensationFlngOrgAmt': '18091', 'NontaxableBenefitsFilingOrgAmt': '21325', 'TotalCompensationFilingOrgAmt': '217398'}</td>\n",
       "    </tr>\n",
       "    <tr>\n",
       "      <th>773112</th>\n",
       "      <td>https://s3.amazonaws.com/irs-form-990/202441449349301409_public.xml</td>\n",
       "      <td>{'PersonNm': 'SHEILA ARENS OLENE', 'TitleTxt': 'ED RESEARCH &amp; EVAL', 'BaseCompensationFilingOrgAmt': '164866', 'DeferredCompensationFlngOrgAmt': '16654', 'NontaxableBenefitsFilingOrgAmt': '19525', 'TotalCompensationFilingOrgAmt': '201045'}</td>\n",
       "    </tr>\n",
       "    <tr>\n",
       "      <th>773112</th>\n",
       "      <td>https://s3.amazonaws.com/irs-form-990/202441449349301409_public.xml</td>\n",
       "      <td>{'PersonNm': 'ELIZABETH WATSON', 'TitleTxt': 'SNR DIR OF SALES', 'BaseCompensationFilingOrgAmt': '161500', 'DeferredCompensationFlngOrgAmt': '16459', 'NontaxableBenefitsFilingOrgAmt': '29901', 'TotalCompensationFilingOrgAmt': '207860'}</td>\n",
       "    </tr>\n",
       "    <tr>\n",
       "      <th>773112</th>\n",
       "      <td>https://s3.amazonaws.com/irs-form-990/202441449349301409_public.xml</td>\n",
       "      <td>{'PersonNm': 'CHRISTINA TYDEMAN', 'TitleTxt': 'EXEC. PROGRAM DIR.', 'BaseCompensationFilingOrgAmt': '161116', 'DeferredCompensationFlngOrgAmt': '16128', 'NontaxableBenefitsFilingOrgAmt': '7637', 'TotalCompensationFilingOrgAmt': '184881'}</td>\n",
       "    </tr>\n",
       "    <tr>\n",
       "      <th>773112</th>\n",
       "      <td>https://s3.amazonaws.com/irs-form-990/202441449349301409_public.xml</td>\n",
       "      <td>{'PersonNm': 'KRIS ROULEAU', 'TitleTxt': 'VP LEARNING SERVICES', 'BaseCompensationFilingOrgAmt': '159957', 'DeferredCompensationFlngOrgAmt': '16338', 'NontaxableBenefitsFilingOrgAmt': '31839', 'TotalCompensationFilingOrgAmt': '208134'}</td>\n",
       "    </tr>\n",
       "  </tbody>\n",
       "</table>\n",
       "</div>"
      ],
      "text/plain": [
       "                                                                        URL  \\\n",
       "773111  https://s3.amazonaws.com/irs-form-990/202441449349301404_public.xml   \n",
       "773111  https://s3.amazonaws.com/irs-form-990/202441449349301404_public.xml   \n",
       "773112  https://s3.amazonaws.com/irs-form-990/202441449349301409_public.xml   \n",
       "773112  https://s3.amazonaws.com/irs-form-990/202441449349301409_public.xml   \n",
       "773112  https://s3.amazonaws.com/irs-form-990/202441449349301409_public.xml   \n",
       "773112  https://s3.amazonaws.com/irs-form-990/202441449349301409_public.xml   \n",
       "773112  https://s3.amazonaws.com/irs-form-990/202441449349301409_public.xml   \n",
       "773112  https://s3.amazonaws.com/irs-form-990/202441449349301409_public.xml   \n",
       "773112  https://s3.amazonaws.com/irs-form-990/202441449349301409_public.xml   \n",
       "773112  https://s3.amazonaws.com/irs-form-990/202441449349301409_public.xml   \n",
       "\n",
       "                                                                                                                                                                                                                                                                                                                                                                                                                                                                                                                                                                             Form990ScheduleJPartII  \n",
       "773111  {'PersonNm': 'Thomas A Farrington', 'BaseCompensationFilingOrgAmt': '474600', 'CompensationBasedOnRltdOrgsAmt': '0', 'BonusFilingOrganizationAmount': '0', 'BonusRelatedOrganizationsAmt': '0', 'OtherCompensationFilingOrgAmt': '0', 'OtherCompensationRltdOrgsAmt': '0', 'DeferredCompensationFlngOrgAmt': '0', 'DeferredCompRltdOrgsAmt': '0', 'NontaxableBenefitsFilingOrgAmt': '0', 'NontaxableBenefitsRltdOrgsAmt': '0', 'TotalCompensationFilingOrgAmt': '474600', 'TotalCompensationRltdOrgsAmt': '0', 'CompReportPrior990FilingOrgAmt': '0', 'CompReportPrior990RltdOrgsAmt': '0'}  \n",
       "773111    {'PersonNm': 'Juarez Farrington', 'BaseCompensationFilingOrgAmt': '210010', 'CompensationBasedOnRltdOrgsAmt': '0', 'BonusFilingOrganizationAmount': '0', 'BonusRelatedOrganizationsAmt': '0', 'OtherCompensationFilingOrgAmt': '0', 'OtherCompensationRltdOrgsAmt': '0', 'DeferredCompensationFlngOrgAmt': '0', 'DeferredCompRltdOrgsAmt': '0', 'NontaxableBenefitsFilingOrgAmt': '0', 'NontaxableBenefitsRltdOrgsAmt': '0', 'TotalCompensationFilingOrgAmt': '210010', 'TotalCompensationRltdOrgsAmt': '0', 'CompReportPrior990FilingOrgAmt': '0', 'CompReportPrior990RltdOrgsAmt': '0'}  \n",
       "773112                                                                                                                                                                                                                                                                                                                                                      {'PersonNm': 'BRYAN GOODWIN', 'TitleTxt': 'CEO & PRESIDENT', 'BaseCompensationFilingOrgAmt': '267586', 'DeferredCompensationFlngOrgAmt': '27091', 'NontaxableBenefitsFilingOrgAmt': '32850', 'TotalCompensationFilingOrgAmt': '327527'}  \n",
       "773112                                                                                                                                                                                                                                                                                                                                                {'PersonNm': 'RONALD MILETTA', 'TitleTxt': 'CHIEF MKTG & INNOVTN', 'BaseCompensationFilingOrgAmt': '198799', 'DeferredCompensationFlngOrgAmt': '19926', 'NontaxableBenefitsFilingOrgAmt': '11493', 'TotalCompensationFilingOrgAmt': '230218'}  \n",
       "773112                                                                                                                                                                                                                                                                                                                                                                      {'PersonNm': 'SUE DESCH', 'TitleTxt': 'CFO', 'BaseCompensationFilingOrgAmt': '180137', 'DeferredCompensationFlngOrgAmt': '18060', 'NontaxableBenefitsFilingOrgAmt': '11427', 'TotalCompensationFilingOrgAmt': '209624'}  \n",
       "773112                                                                                                                                                                                                                                                                                                                                                       {'PersonNm': 'DALE LEWIS', 'TitleTxt': 'VP LARGE PROGRAMS', 'BaseCompensationFilingOrgAmt': '177982', 'DeferredCompensationFlngOrgAmt': '18091', 'NontaxableBenefitsFilingOrgAmt': '21325', 'TotalCompensationFilingOrgAmt': '217398'}  \n",
       "773112                                                                                                                                                                                                                                                                                                                                              {'PersonNm': 'SHEILA ARENS OLENE', 'TitleTxt': 'ED RESEARCH & EVAL', 'BaseCompensationFilingOrgAmt': '164866', 'DeferredCompensationFlngOrgAmt': '16654', 'NontaxableBenefitsFilingOrgAmt': '19525', 'TotalCompensationFilingOrgAmt': '201045'}  \n",
       "773112                                                                                                                                                                                                                                                                                                                                                  {'PersonNm': 'ELIZABETH WATSON', 'TitleTxt': 'SNR DIR OF SALES', 'BaseCompensationFilingOrgAmt': '161500', 'DeferredCompensationFlngOrgAmt': '16459', 'NontaxableBenefitsFilingOrgAmt': '29901', 'TotalCompensationFilingOrgAmt': '207860'}  \n",
       "773112                                                                                                                                                                                                                                                                                                                                                {'PersonNm': 'CHRISTINA TYDEMAN', 'TitleTxt': 'EXEC. PROGRAM DIR.', 'BaseCompensationFilingOrgAmt': '161116', 'DeferredCompensationFlngOrgAmt': '16128', 'NontaxableBenefitsFilingOrgAmt': '7637', 'TotalCompensationFilingOrgAmt': '184881'}  \n",
       "773112                                                                                                                                                                                                                                                                                                                                                  {'PersonNm': 'KRIS ROULEAU', 'TitleTxt': 'VP LEARNING SERVICES', 'BaseCompensationFilingOrgAmt': '159957', 'DeferredCompensationFlngOrgAmt': '16338', 'NontaxableBenefitsFilingOrgAmt': '31839', 'TotalCompensationFilingOrgAmt': '208134'}  "
      ]
     },
     "execution_count": 31,
     "metadata": {},
     "output_type": "execute_result"
    }
   ],
   "source": [
    "%%time\n",
    "import datetime\n",
    "print (\"Current date and time : \", datetime.datetime.now().strftime(\"%Y-%m-%d %H:%M:%S\"), '\\n')\n",
    "# calculate lengths of splits\n",
    "lens = df2['part_2_len']#.str.split(',').map(len)\n",
    "# create new dataframe, repeating or chaining as appropriate\n",
    "res = pd.DataFrame({'URL': np.repeat(df2['URL'], lens),\n",
    "                    'Form990ScheduleJPartII': chainer(df2['Form990ScheduleJPartII'])})\n",
    "print(len(res))\n",
    "res[-10:]"
   ]
  },
  {
   "cell_type": "markdown",
   "metadata": {},
   "source": [
    "#### Save DF"
   ]
  },
  {
   "cell_type": "code",
   "execution_count": 32,
   "metadata": {},
   "outputs": [
    {
     "data": {
      "text/plain": [
       "2672474"
      ]
     },
     "execution_count": 32,
     "metadata": {},
     "output_type": "execute_result"
    }
   ],
   "source": [
    "len(res)"
   ]
  },
  {
   "cell_type": "code",
   "execution_count": 33,
   "metadata": {},
   "outputs": [
    {
     "name": "stdout",
     "output_type": "stream",
     "text": [
      "444095\n"
     ]
    }
   ],
   "source": [
    "print(len(set(res['URL'].tolist())))"
   ]
  },
  {
   "cell_type": "code",
   "execution_count": 34,
   "metadata": {},
   "outputs": [
    {
     "name": "stdout",
     "output_type": "stream",
     "text": [
      "Current date and time :  2025-06-27 12:25:51 \n",
      "\n",
      "CPU times: total: 1min 15s\n",
      "Wall time: 1min 18s\n"
     ]
    }
   ],
   "source": [
    "%%time\n",
    "import datetime\n",
    "print (\"Current date and time : \", datetime.datetime.now().strftime(\"%Y-%m-%d %H:%M:%S\"), '\\n')\n",
    "res.to_pickle('Schedule J Part II (PERSON-LEVEL DF).pkl.gz', compression='gzip')"
   ]
  },
  {
   "cell_type": "markdown",
   "metadata": {},
   "source": [
    "# Append Files\n",
    "*df3* are filings with only one person in *Form990ScheduleJPartII*"
   ]
  },
  {
   "cell_type": "code",
   "execution_count": 35,
   "metadata": {},
   "outputs": [
    {
     "name": "stdout",
     "output_type": "stream",
     "text": [
      "0\n",
      "299590\n",
      "299590\n"
     ]
    }
   ],
   "source": [
    "df3 = df[df['part_2_len'].isnull()].copy()\n",
    "print(len(df3[df3['part_2_len'].notnull()]))\n",
    "print(len(df3[df3['part_2_len'].isnull()]))\n",
    "print(len(df3))"
   ]
  },
  {
   "cell_type": "code",
   "execution_count": 36,
   "metadata": {},
   "outputs": [
    {
     "data": {
      "text/html": [
       "<div>\n",
       "<style scoped>\n",
       "    .dataframe tbody tr th:only-of-type {\n",
       "        vertical-align: middle;\n",
       "    }\n",
       "\n",
       "    .dataframe tbody tr th {\n",
       "        vertical-align: top;\n",
       "    }\n",
       "\n",
       "    .dataframe thead th {\n",
       "        text-align: right;\n",
       "    }\n",
       "</style>\n",
       "<table border=\"1\" class=\"dataframe\">\n",
       "  <thead>\n",
       "    <tr style=\"text-align: right;\">\n",
       "      <th></th>\n",
       "      <th>URL</th>\n",
       "      <th>Form990ScheduleJPartII</th>\n",
       "      <th>part_2_len</th>\n",
       "    </tr>\n",
       "  </thead>\n",
       "  <tbody>\n",
       "    <tr>\n",
       "      <th>7</th>\n",
       "      <td>https://s3.amazonaws.com/irs-form-990/201113149349301511_public.xml</td>\n",
       "      <td>{'NamePerson': 'WALLACE DAVIS', 'BaseCompensationFilingOrg': '0', 'CompBasedOnRelatedOrgs': '207852', 'BonusFilingOrg': '0', 'BonusRelatedOrgs': '0', 'OtherCompensationFilingOrg': '0', 'OtherCompensationRelatedOrgs': '11400', 'DeferredCompFilingOrg': '0', 'DeferredCompRelatedOrgs': '0', 'NontaxableBenefitsFilingOrg': '0', 'NontaxableBenefitsRelatedOrgs': '40043', 'TotalCompensationFilingOrg': '0', 'TotalCompensationRelatedOrgs': '259295', 'CompReportPrior990FilingOrg': '0', 'CompReportPrior990RelatedOrgs': '0'}</td>\n",
       "      <td>NaN</td>\n",
       "    </tr>\n",
       "  </tbody>\n",
       "</table>\n",
       "</div>"
      ],
      "text/plain": [
       "                                                                   URL  \\\n",
       "7  https://s3.amazonaws.com/irs-form-990/201113149349301511_public.xml   \n",
       "\n",
       "                                                                                                                                                                                                                                                                                                                                                                                                                                                                                                                 Form990ScheduleJPartII  \\\n",
       "7  {'NamePerson': 'WALLACE DAVIS', 'BaseCompensationFilingOrg': '0', 'CompBasedOnRelatedOrgs': '207852', 'BonusFilingOrg': '0', 'BonusRelatedOrgs': '0', 'OtherCompensationFilingOrg': '0', 'OtherCompensationRelatedOrgs': '11400', 'DeferredCompFilingOrg': '0', 'DeferredCompRelatedOrgs': '0', 'NontaxableBenefitsFilingOrg': '0', 'NontaxableBenefitsRelatedOrgs': '40043', 'TotalCompensationFilingOrg': '0', 'TotalCompensationRelatedOrgs': '259295', 'CompReportPrior990FilingOrg': '0', 'CompReportPrior990RelatedOrgs': '0'}   \n",
       "\n",
       "   part_2_len  \n",
       "7         NaN  "
      ]
     },
     "execution_count": 36,
     "metadata": {},
     "output_type": "execute_result"
    }
   ],
   "source": [
    "df3[:1]"
   ]
  },
  {
   "cell_type": "code",
   "execution_count": 37,
   "metadata": {},
   "outputs": [
    {
     "data": {
      "text/html": [
       "<div>\n",
       "<style scoped>\n",
       "    .dataframe tbody tr th:only-of-type {\n",
       "        vertical-align: middle;\n",
       "    }\n",
       "\n",
       "    .dataframe tbody tr th {\n",
       "        vertical-align: top;\n",
       "    }\n",
       "\n",
       "    .dataframe thead th {\n",
       "        text-align: right;\n",
       "    }\n",
       "</style>\n",
       "<table border=\"1\" class=\"dataframe\">\n",
       "  <thead>\n",
       "    <tr style=\"text-align: right;\">\n",
       "      <th></th>\n",
       "      <th>URL</th>\n",
       "      <th>Form990ScheduleJPartII</th>\n",
       "    </tr>\n",
       "  </thead>\n",
       "  <tbody>\n",
       "    <tr>\n",
       "      <th>7</th>\n",
       "      <td>https://s3.amazonaws.com/irs-form-990/201113149349301511_public.xml</td>\n",
       "      <td>{'NamePerson': 'WALLACE DAVIS', 'BaseCompensationFilingOrg': '0', 'CompBasedOnRelatedOrgs': '207852', 'BonusFilingOrg': '0', 'BonusRelatedOrgs': '0', 'OtherCompensationFilingOrg': '0', 'OtherCompensationRelatedOrgs': '11400', 'DeferredCompFilingOrg': '0', 'DeferredCompRelatedOrgs': '0', 'NontaxableBenefitsFilingOrg': '0', 'NontaxableBenefitsRelatedOrgs': '40043', 'TotalCompensationFilingOrg': '0', 'TotalCompensationRelatedOrgs': '259295', 'CompReportPrior990FilingOrg': '0', 'CompReportPrior990RelatedOrgs': '0'}</td>\n",
       "    </tr>\n",
       "  </tbody>\n",
       "</table>\n",
       "</div>"
      ],
      "text/plain": [
       "                                                                   URL  \\\n",
       "7  https://s3.amazonaws.com/irs-form-990/201113149349301511_public.xml   \n",
       "\n",
       "                                                                                                                                                                                                                                                                                                                                                                                                                                                                                                                 Form990ScheduleJPartII  \n",
       "7  {'NamePerson': 'WALLACE DAVIS', 'BaseCompensationFilingOrg': '0', 'CompBasedOnRelatedOrgs': '207852', 'BonusFilingOrg': '0', 'BonusRelatedOrgs': '0', 'OtherCompensationFilingOrg': '0', 'OtherCompensationRelatedOrgs': '11400', 'DeferredCompFilingOrg': '0', 'DeferredCompRelatedOrgs': '0', 'NontaxableBenefitsFilingOrg': '0', 'NontaxableBenefitsRelatedOrgs': '40043', 'TotalCompensationFilingOrg': '0', 'TotalCompensationRelatedOrgs': '259295', 'CompReportPrior990FilingOrg': '0', 'CompReportPrior990RelatedOrgs': '0'}  "
      ]
     },
     "execution_count": 37,
     "metadata": {},
     "output_type": "execute_result"
    }
   ],
   "source": [
    "df3 = df3[['URL', 'Form990ScheduleJPartII']]\n",
    "df3[:1]"
   ]
  },
  {
   "cell_type": "code",
   "execution_count": 45,
   "metadata": {},
   "outputs": [
    {
     "name": "stdout",
     "output_type": "stream",
     "text": [
      "Current date and time :  2022-02-23 22:39:23 \n",
      "\n",
      "Wall time: 6.34 s\n"
     ]
    }
   ],
   "source": [
    "#%%time\n",
    "#import datetime\n",
    "#print (\"Current date and time : \", datetime.datetime.now().strftime(\"%Y-%m-%d %H:%M:%S\"), '\\n')\n",
    "#df3.to_pickle('df3.pkl.gz', compression='gzip')"
   ]
  },
  {
   "cell_type": "code",
   "execution_count": 48,
   "metadata": {},
   "outputs": [
    {
     "name": "stdout",
     "output_type": "stream",
     "text": [
      "444095 299590\n",
      "743685\n",
      "743685\n"
     ]
    }
   ],
   "source": [
    "print(len(df2), len(df3))\n",
    "print(len(df2)+len(df3))\n",
    "print(len(df))"
   ]
  },
  {
   "cell_type": "code",
   "execution_count": 39,
   "metadata": {},
   "outputs": [
    {
     "data": {
      "text/html": [
       "<div>\n",
       "<style scoped>\n",
       "    .dataframe tbody tr th:only-of-type {\n",
       "        vertical-align: middle;\n",
       "    }\n",
       "\n",
       "    .dataframe tbody tr th {\n",
       "        vertical-align: top;\n",
       "    }\n",
       "\n",
       "    .dataframe thead th {\n",
       "        text-align: right;\n",
       "    }\n",
       "</style>\n",
       "<table border=\"1\" class=\"dataframe\">\n",
       "  <thead>\n",
       "    <tr style=\"text-align: right;\">\n",
       "      <th></th>\n",
       "      <th>URL</th>\n",
       "      <th>Form990ScheduleJPartII</th>\n",
       "    </tr>\n",
       "  </thead>\n",
       "  <tbody>\n",
       "    <tr>\n",
       "      <th>0</th>\n",
       "      <td>https://s3.amazonaws.com/irs-form-990/201113139349301311_public.xml</td>\n",
       "      <td>{'NamePerson': 'THOMAS D TURNBULL', 'CompBasedOnRelatedOrgs': '100712', 'BonusRelatedOrgs': '790', 'OtherCompensationRelatedOrgs': '1257', 'DeferredCompRelatedOrgs': '54308', 'NontaxableBenefitsRelatedOrgs': '62342', 'TotalCompensationRelatedOrgs': '219409'}</td>\n",
       "    </tr>\n",
       "  </tbody>\n",
       "</table>\n",
       "</div>"
      ],
      "text/plain": [
       "                                                                   URL  \\\n",
       "0  https://s3.amazonaws.com/irs-form-990/201113139349301311_public.xml   \n",
       "\n",
       "                                                                                                                                                                                                                                               Form990ScheduleJPartII  \n",
       "0  {'NamePerson': 'THOMAS D TURNBULL', 'CompBasedOnRelatedOrgs': '100712', 'BonusRelatedOrgs': '790', 'OtherCompensationRelatedOrgs': '1257', 'DeferredCompRelatedOrgs': '54308', 'NontaxableBenefitsRelatedOrgs': '62342', 'TotalCompensationRelatedOrgs': '219409'}  "
      ]
     },
     "execution_count": 39,
     "metadata": {},
     "output_type": "execute_result"
    }
   ],
   "source": [
    "res[:1]"
   ]
  },
  {
   "cell_type": "code",
   "execution_count": 40,
   "metadata": {},
   "outputs": [
    {
     "data": {
      "text/plain": [
       "2972064"
      ]
     },
     "execution_count": 40,
     "metadata": {},
     "output_type": "execute_result"
    }
   ],
   "source": [
    "len(res) + len(df3)"
   ]
  },
  {
   "cell_type": "code",
   "execution_count": 41,
   "metadata": {},
   "outputs": [
    {
     "name": "stdout",
     "output_type": "stream",
     "text": [
      "Current date and time :  2025-06-27 12:27:44 \n",
      "\n",
      "2972064\n",
      "CPU times: total: 109 ms\n",
      "Wall time: 484 ms\n"
     ]
    },
    {
     "data": {
      "text/html": [
       "<div>\n",
       "<style scoped>\n",
       "    .dataframe tbody tr th:only-of-type {\n",
       "        vertical-align: middle;\n",
       "    }\n",
       "\n",
       "    .dataframe tbody tr th {\n",
       "        vertical-align: top;\n",
       "    }\n",
       "\n",
       "    .dataframe thead th {\n",
       "        text-align: right;\n",
       "    }\n",
       "</style>\n",
       "<table border=\"1\" class=\"dataframe\">\n",
       "  <thead>\n",
       "    <tr style=\"text-align: right;\">\n",
       "      <th></th>\n",
       "      <th>URL</th>\n",
       "      <th>Form990ScheduleJPartII</th>\n",
       "    </tr>\n",
       "  </thead>\n",
       "  <tbody>\n",
       "    <tr>\n",
       "      <th>2972063</th>\n",
       "      <td>https://s3.amazonaws.com/irs-form-990/202441449349301564_public.xml</td>\n",
       "      <td>{'BusinessName': {'BusinessNameLine1Txt': 'Larry L Parker'}, 'TitleTxt': 'CEO', 'BaseCompensationFilingOrgAmt': '126782', 'CompensationBasedOnRltdOrgsAmt': '0', 'BonusFilingOrganizationAmount': '0', 'BonusRelatedOrganizationsAmt': '0', 'OtherCompensationFilingOrgAmt': '0', 'OtherCompensationRltdOrgsAmt': '0', 'DeferredCompensationFlngOrgAmt': '0', 'DeferredCompRltdOrgsAmt': '0', 'NontaxableBenefitsFilingOrgAmt': '42528', 'NontaxableBenefitsRltdOrgsAmt': '0', 'TotalCompensationFilingOrgAmt': '169310', 'TotalCompensationRltdOrgsAmt': '0', 'CompReportPrior990FilingOrgAmt': '0', 'CompReportPrior990RltdOrgsAmt': '0'}</td>\n",
       "    </tr>\n",
       "  </tbody>\n",
       "</table>\n",
       "</div>"
      ],
      "text/plain": [
       "                                                                         URL  \\\n",
       "2972063  https://s3.amazonaws.com/irs-form-990/202441449349301564_public.xml   \n",
       "\n",
       "                                                                                                                                                                                                                                                                                                                                                                                                                                                                                                                                                                                                                              Form990ScheduleJPartII  \n",
       "2972063  {'BusinessName': {'BusinessNameLine1Txt': 'Larry L Parker'}, 'TitleTxt': 'CEO', 'BaseCompensationFilingOrgAmt': '126782', 'CompensationBasedOnRltdOrgsAmt': '0', 'BonusFilingOrganizationAmount': '0', 'BonusRelatedOrganizationsAmt': '0', 'OtherCompensationFilingOrgAmt': '0', 'OtherCompensationRltdOrgsAmt': '0', 'DeferredCompensationFlngOrgAmt': '0', 'DeferredCompRltdOrgsAmt': '0', 'NontaxableBenefitsFilingOrgAmt': '42528', 'NontaxableBenefitsRltdOrgsAmt': '0', 'TotalCompensationFilingOrgAmt': '169310', 'TotalCompensationRltdOrgsAmt': '0', 'CompReportPrior990FilingOrgAmt': '0', 'CompReportPrior990RltdOrgsAmt': '0'}  "
      ]
     },
     "execution_count": 41,
     "metadata": {},
     "output_type": "execute_result"
    }
   ],
   "source": [
    "%%time\n",
    "import datetime\n",
    "print (\"Current date and time : \", datetime.datetime.now().strftime(\"%Y-%m-%d %H:%M:%S\"), '\\n')\n",
    "#persondf = res.append(df3)\n",
    "persondf = pd.concat([res, df3], ignore_index=True)\n",
    "print(len(persondf))\n",
    "persondf[-1:]"
   ]
  },
  {
   "cell_type": "code",
   "execution_count": 42,
   "metadata": {},
   "outputs": [
    {
     "name": "stdout",
     "output_type": "stream",
     "text": [
      "743685\n",
      "743685\n"
     ]
    }
   ],
   "source": [
    "print(len(df['URL'].tolist()))\n",
    "print(len(set(df['URL'].tolist())))"
   ]
  },
  {
   "cell_type": "code",
   "execution_count": 43,
   "metadata": {},
   "outputs": [
    {
     "name": "stdout",
     "output_type": "stream",
     "text": [
      "2972064\n",
      "743685\n"
     ]
    }
   ],
   "source": [
    "print(len(persondf['URL'].tolist()))\n",
    "print(len(set(persondf['URL'].tolist())))"
   ]
  },
  {
   "cell_type": "markdown",
   "metadata": {},
   "source": [
    "<br>Number of individuals per filing -- first for the subset of filings with multiple individuals then for all Schedule J filings."
   ]
  },
  {
   "cell_type": "code",
   "execution_count": 49,
   "metadata": {},
   "outputs": [
    {
     "data": {
      "text/plain": [
       "6.017797993672525"
      ]
     },
     "execution_count": 49,
     "metadata": {},
     "output_type": "execute_result"
    }
   ],
   "source": [
    "len(res)/444095"
   ]
  },
  {
   "cell_type": "code",
   "execution_count": 45,
   "metadata": {},
   "outputs": [
    {
     "name": "stdout",
     "output_type": "stream",
     "text": [
      "3.996401702333649\n"
     ]
    }
   ],
   "source": [
    "print(len(persondf)/len(df))"
   ]
  },
  {
   "cell_type": "markdown",
   "metadata": {},
   "source": [
    "#### Save DF"
   ]
  },
  {
   "cell_type": "code",
   "execution_count": 50,
   "metadata": {},
   "outputs": [
    {
     "data": {
      "text/html": [
       "<div>\n",
       "<style scoped>\n",
       "    .dataframe tbody tr th:only-of-type {\n",
       "        vertical-align: middle;\n",
       "    }\n",
       "\n",
       "    .dataframe tbody tr th {\n",
       "        vertical-align: top;\n",
       "    }\n",
       "\n",
       "    .dataframe thead th {\n",
       "        text-align: right;\n",
       "    }\n",
       "</style>\n",
       "<table border=\"1\" class=\"dataframe\">\n",
       "  <thead>\n",
       "    <tr style=\"text-align: right;\">\n",
       "      <th></th>\n",
       "      <th>URL</th>\n",
       "      <th>Form990ScheduleJPartII</th>\n",
       "    </tr>\n",
       "  </thead>\n",
       "  <tbody>\n",
       "    <tr>\n",
       "      <th>129223</th>\n",
       "      <td>https://s3.amazonaws.com/irs-form-990/201230729349300103_public.xml</td>\n",
       "      <td>{'NamePerson': 'LINDA J BROWN', 'BaseCompensationFilingOrg': '142994', 'CompBasedOnRelatedOrgs': '0', 'BonusFilingOrg': '0', 'BonusRelatedOrgs': '0', 'OtherCompensationFilingOrg': '605', 'OtherCompensationRelatedOrgs': '0', 'DeferredCompFilingOrg': '10378', 'DeferredCompRelatedOrgs': '0', 'NontaxableBenefitsFilingOrg': '8693', 'NontaxableBenefitsRelatedOrgs': '0', 'TotalCompensationFilingOrg': '162670', 'TotalCompensationRelatedOrgs': '0', 'CompReportPrior990FilingOrg': '0', 'CompReportPrior990RelatedOrgs': '0'}</td>\n",
       "    </tr>\n",
       "    <tr>\n",
       "      <th>1828819</th>\n",
       "      <td>https://s3.amazonaws.com/irs-form-990/202231249349301218_public.xml</td>\n",
       "      <td>{'PersonNm': 'JENNA ROGERS KING', 'TitleTxt': 'DIR. OF ADMISSION &amp; ENROLLMENT', 'BaseCompensationFilingOrgAmt': '244912', 'CompensationBasedOnRltdOrgsAmt': '0', 'BonusFilingOrganizationAmount': '0', 'BonusRelatedOrganizationsAmt': '0', 'OtherCompensationFilingOrgAmt': '0', 'OtherCompensationRltdOrgsAmt': '0', 'DeferredCompensationFlngOrgAmt': '16838', 'DeferredCompRltdOrgsAmt': '0', 'NontaxableBenefitsFilingOrgAmt': '46290', 'NontaxableBenefitsRltdOrgsAmt': '0', 'TotalCompensationFilingOrgAmt': '308040', 'TotalCompensationRltdOrgsAmt': '0'}</td>\n",
       "    </tr>\n",
       "  </tbody>\n",
       "</table>\n",
       "</div>"
      ],
      "text/plain": [
       "                                                                         URL  \\\n",
       "129223   https://s3.amazonaws.com/irs-form-990/201230729349300103_public.xml   \n",
       "1828819  https://s3.amazonaws.com/irs-form-990/202231249349301218_public.xml   \n",
       "\n",
       "                                                                                                                                                                                                                                                                                                                                                                                                                                                                                                                                                     Form990ScheduleJPartII  \n",
       "129223                                {'NamePerson': 'LINDA J BROWN', 'BaseCompensationFilingOrg': '142994', 'CompBasedOnRelatedOrgs': '0', 'BonusFilingOrg': '0', 'BonusRelatedOrgs': '0', 'OtherCompensationFilingOrg': '605', 'OtherCompensationRelatedOrgs': '0', 'DeferredCompFilingOrg': '10378', 'DeferredCompRelatedOrgs': '0', 'NontaxableBenefitsFilingOrg': '8693', 'NontaxableBenefitsRelatedOrgs': '0', 'TotalCompensationFilingOrg': '162670', 'TotalCompensationRelatedOrgs': '0', 'CompReportPrior990FilingOrg': '0', 'CompReportPrior990RelatedOrgs': '0'}  \n",
       "1828819  {'PersonNm': 'JENNA ROGERS KING', 'TitleTxt': 'DIR. OF ADMISSION & ENROLLMENT', 'BaseCompensationFilingOrgAmt': '244912', 'CompensationBasedOnRltdOrgsAmt': '0', 'BonusFilingOrganizationAmount': '0', 'BonusRelatedOrganizationsAmt': '0', 'OtherCompensationFilingOrgAmt': '0', 'OtherCompensationRltdOrgsAmt': '0', 'DeferredCompensationFlngOrgAmt': '16838', 'DeferredCompRltdOrgsAmt': '0', 'NontaxableBenefitsFilingOrgAmt': '46290', 'NontaxableBenefitsRltdOrgsAmt': '0', 'TotalCompensationFilingOrgAmt': '308040', 'TotalCompensationRltdOrgsAmt': '0'}  "
      ]
     },
     "execution_count": 50,
     "metadata": {},
     "output_type": "execute_result"
    }
   ],
   "source": [
    "persondf.sample(2)"
   ]
  },
  {
   "cell_type": "code",
   "execution_count": 51,
   "metadata": {},
   "outputs": [
    {
     "name": "stdout",
     "output_type": "stream",
     "text": [
      "Current date and time :  2025-06-27 12:30:52 \n",
      "\n",
      "CPU times: total: 1min 18s\n",
      "Wall time: 1min 21s\n"
     ]
    }
   ],
   "source": [
    "%%time\n",
    "import datetime\n",
    "print (\"Current date and time : \", datetime.datetime.now().strftime(\"%Y-%m-%d %H:%M:%S\"), '\\n')\n",
    "persondf.to_pickle('Schedule J Part II (PERSON-LEVEL DF).pkl.gz', compression='gzip')"
   ]
  }
 ],
 "metadata": {
  "kernelspec": {
   "display_name": "Python 3 (ipykernel)",
   "language": "python",
   "name": "python3"
  },
  "language_info": {
   "codemirror_mode": {
    "name": "ipython",
    "version": 3
   },
   "file_extension": ".py",
   "mimetype": "text/x-python",
   "name": "python",
   "nbconvert_exporter": "python",
   "pygments_lexer": "ipython3",
   "version": "3.10.11"
  },
  "toc": {
   "colors": {
    "hover_highlight": "#DAA520",
    "navigate_num": "#000000",
    "navigate_text": "#333333",
    "running_highlight": "#FF0000",
    "selected_highlight": "#FFD700",
    "sidebar_border": "#EEEEEE",
    "wrapper_background": "#FFFFFF"
   },
   "moveMenuLeft": true,
   "nav_menu": {
    "height": "189px",
    "width": "252px"
   },
   "navigate_menu": true,
   "number_sections": true,
   "sideBar": true,
   "threshold": 4,
   "toc_cell": false,
   "toc_section_display": "block",
   "toc_window_display": false,
   "widenNotebook": false
  }
 },
 "nbformat": 4,
 "nbformat_minor": 1
}
