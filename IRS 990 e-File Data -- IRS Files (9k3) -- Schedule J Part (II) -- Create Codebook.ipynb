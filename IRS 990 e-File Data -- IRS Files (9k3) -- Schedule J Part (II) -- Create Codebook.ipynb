{
 "cells": [
  {
   "cell_type": "markdown",
   "metadata": {},
   "source": [
    "# Overview\n",
    "Create combined codebook and save files:\n",
    "- *Codebook - Schedule J (Part II).pkl*\n",
    "- *Codebook - Schedule J (Part II).xlsx*"
   ]
  },
  {
   "cell_type": "code",
   "execution_count": 8,
   "metadata": {},
   "outputs": [],
   "source": [
    "import numpy as np\n",
    "import pandas as pd\n",
    "from pandas import DataFrame\n",
    "from pandas import Series"
   ]
  },
  {
   "cell_type": "code",
   "execution_count": 9,
   "metadata": {},
   "outputs": [
    {
     "name": "stdout",
     "output_type": "stream",
     "text": [
      "1.3.4\n"
     ]
    }
   ],
   "source": [
    "print(pd.__version__)"
   ]
  },
  {
   "cell_type": "code",
   "execution_count": 10,
   "metadata": {},
   "outputs": [
    {
     "name": "stdout",
     "output_type": "stream",
     "text": [
      "3.8.12\n"
     ]
    }
   ],
   "source": [
    "from platform import python_version\n",
    "print(python_version())"
   ]
  },
  {
   "cell_type": "code",
   "execution_count": 11,
   "metadata": {},
   "outputs": [],
   "source": [
    "# http://pandas.pydata.org/pandas-docs/stable/options.html\n",
    "pd.set_option('display.max_columns', None)\n",
    "# http://pandas.pydata.org/pandas-docs/stable/options.html\n",
    "pd.set_option('display.max_colwidth', 500)"
   ]
  },
  {
   "cell_type": "code",
   "execution_count": 12,
   "metadata": {},
   "outputs": [],
   "source": [
    "pd.set_option('display.float_format', lambda x: '%.2f' % x)"
   ]
  },
  {
   "cell_type": "code",
   "execution_count": 13,
   "metadata": {},
   "outputs": [],
   "source": [
    "pd.options.display.float_format = '{:,.2f}'.format"
   ]
  },
  {
   "cell_type": "markdown",
   "metadata": {},
   "source": [
    "#### Set working directory"
   ]
  },
  {
   "cell_type": "code",
   "execution_count": 14,
   "metadata": {},
   "outputs": [
    {
     "name": "stdout",
     "output_type": "stream",
     "text": [
      "C:\\Users\\Gregory\\IRS 990 Control Variables\n"
     ]
    }
   ],
   "source": [
    "cd \"C:\\\\Users\\\\Gregory\\\\IRS 990 Control Variables\\\\\""
   ]
  },
  {
   "cell_type": "markdown",
   "metadata": {},
   "source": [
    "# Read in Control Variables"
   ]
  },
  {
   "cell_type": "code",
   "execution_count": 15,
   "metadata": {},
   "outputs": [
    {
     "name": "stdout",
     "output_type": "stream",
     "text": [
      "Current date and time :  2022-02-24 16:23:57 \n",
      "\n",
      "# of columns: 19\n",
      "# of observations: 1914476\n",
      "Wall time: 2.99 s\n"
     ]
    },
    {
     "data": {
      "text/html": [
       "<div>\n",
       "<style scoped>\n",
       "    .dataframe tbody tr th:only-of-type {\n",
       "        vertical-align: middle;\n",
       "    }\n",
       "\n",
       "    .dataframe tbody tr th {\n",
       "        vertical-align: top;\n",
       "    }\n",
       "\n",
       "    .dataframe thead th {\n",
       "        text-align: right;\n",
       "    }\n",
       "</style>\n",
       "<table border=\"1\" class=\"dataframe\">\n",
       "  <thead>\n",
       "    <tr style=\"text-align: right;\">\n",
       "      <th></th>\n",
       "      <th>URL</th>\n",
       "      <th>SJ_02_PC_NAME_OFF_TRST_KEYEMP</th>\n",
       "      <th>SJ_02_PC_NAME_OFF_TRST_KEYEMP_L1</th>\n",
       "      <th>SJ_02_PC_NAME_OFF_TRST_KEYEMP_L2</th>\n",
       "      <th>SJ_02_PC_TITLE</th>\n",
       "      <th>SJ_02_PC_COMP_BASE</th>\n",
       "      <th>SJ_02_PC_COMP_BASE_RELATED</th>\n",
       "      <th>SJ_02_PC_COMP_BONUS</th>\n",
       "      <th>SJ_02_PC_COMP_BONUS_RELATED</th>\n",
       "      <th>SJ_02_PC_COMP_OTHER</th>\n",
       "      <th>SJ_02_PC_COMP_OTHER_RELATED</th>\n",
       "      <th>SJ_02_PC_COMP_DEFERRED</th>\n",
       "      <th>SJ_02_PC_COMP_DEFERRED_RELATED</th>\n",
       "      <th>SJ_02_PC_NONTAXED_BENF</th>\n",
       "      <th>SJ_02_PC_NONTAXED_BENF_RELATED</th>\n",
       "      <th>SJ_02_PC_COMP_TOTAL</th>\n",
       "      <th>SJ_02_PC_COMP_TOTAL_RELATED</th>\n",
       "      <th>SJ_02_PC_COMP_DEF_PRIOR</th>\n",
       "      <th>SJ_02_PC_COMP_DEF_PRIOR_RELATED</th>\n",
       "    </tr>\n",
       "  </thead>\n",
       "  <tbody>\n",
       "    <tr>\n",
       "      <th>0</th>\n",
       "      <td>https://s3.amazonaws.com/irs-form-990/201113139349301311_public.xml</td>\n",
       "      <td>THOMAS D TURNBULL</td>\n",
       "      <td>NaN</td>\n",
       "      <td>NaN</td>\n",
       "      <td>NaN</td>\n",
       "      <td>NaN</td>\n",
       "      <td>100,712.00</td>\n",
       "      <td>NaN</td>\n",
       "      <td>790.00</td>\n",
       "      <td>NaN</td>\n",
       "      <td>1,257.00</td>\n",
       "      <td>NaN</td>\n",
       "      <td>54,308.00</td>\n",
       "      <td>NaN</td>\n",
       "      <td>62,342.00</td>\n",
       "      <td>NaN</td>\n",
       "      <td>219,409.00</td>\n",
       "      <td>NaN</td>\n",
       "      <td>NaN</td>\n",
       "    </tr>\n",
       "  </tbody>\n",
       "</table>\n",
       "</div>"
      ],
      "text/plain": [
       "                                                                   URL  \\\n",
       "0  https://s3.amazonaws.com/irs-form-990/201113139349301311_public.xml   \n",
       "\n",
       "  SJ_02_PC_NAME_OFF_TRST_KEYEMP SJ_02_PC_NAME_OFF_TRST_KEYEMP_L1  \\\n",
       "0             THOMAS D TURNBULL                              NaN   \n",
       "\n",
       "  SJ_02_PC_NAME_OFF_TRST_KEYEMP_L2 SJ_02_PC_TITLE  SJ_02_PC_COMP_BASE  \\\n",
       "0                              NaN            NaN                 NaN   \n",
       "\n",
       "   SJ_02_PC_COMP_BASE_RELATED  SJ_02_PC_COMP_BONUS  \\\n",
       "0                  100,712.00                  NaN   \n",
       "\n",
       "   SJ_02_PC_COMP_BONUS_RELATED  SJ_02_PC_COMP_OTHER  \\\n",
       "0                       790.00                  NaN   \n",
       "\n",
       "   SJ_02_PC_COMP_OTHER_RELATED  SJ_02_PC_COMP_DEFERRED  \\\n",
       "0                     1,257.00                     NaN   \n",
       "\n",
       "   SJ_02_PC_COMP_DEFERRED_RELATED  SJ_02_PC_NONTAXED_BENF  \\\n",
       "0                       54,308.00                     NaN   \n",
       "\n",
       "   SJ_02_PC_NONTAXED_BENF_RELATED  SJ_02_PC_COMP_TOTAL  \\\n",
       "0                       62,342.00                  NaN   \n",
       "\n",
       "   SJ_02_PC_COMP_TOTAL_RELATED  SJ_02_PC_COMP_DEF_PRIOR  \\\n",
       "0                   219,409.00                      NaN   \n",
       "\n",
       "   SJ_02_PC_COMP_DEF_PRIOR_RELATED  \n",
       "0                              NaN  "
      ]
     },
     "execution_count": 15,
     "metadata": {},
     "output_type": "execute_result"
    }
   ],
   "source": [
    "%%time\n",
    "import datetime\n",
    "print (\"Current date and time : \", datetime.datetime.now().strftime(\"%Y-%m-%d %H:%M:%S\"), '\\n')\n",
    "df = pd.read_pickle('Excise Tax Project - Schedule J Part II (PERSON-LEVEL DF) parsed.pkl.gz', compression='gzip')\n",
    "print('# of columns:', len(df.columns))\n",
    "print('# of observations:', len(df))\n",
    "df[:1]"
   ]
  },
  {
   "cell_type": "markdown",
   "metadata": {},
   "source": [
    "# Read in Concordance File"
   ]
  },
  {
   "cell_type": "code",
   "execution_count": 16,
   "metadata": {},
   "outputs": [
    {
     "name": "stdout",
     "output_type": "stream",
     "text": [
      "Current date and time :  2022-02-24 16:24:03 \n",
      "\n",
      "# of columns: 17\n",
      "# of observations: 38\n",
      "Wall time: 433 ms\n"
     ]
    },
    {
     "data": {
      "text/html": [
       "<div>\n",
       "<style scoped>\n",
       "    .dataframe tbody tr th:only-of-type {\n",
       "        vertical-align: middle;\n",
       "    }\n",
       "\n",
       "    .dataframe tbody tr th {\n",
       "        vertical-align: top;\n",
       "    }\n",
       "\n",
       "    .dataframe thead th {\n",
       "        text-align: right;\n",
       "    }\n",
       "</style>\n",
       "<table border=\"1\" class=\"dataframe\">\n",
       "  <thead>\n",
       "    <tr style=\"text-align: right;\">\n",
       "      <th></th>\n",
       "      <th>xpath</th>\n",
       "      <th>variable_name_new</th>\n",
       "      <th># of Characters (newly named)</th>\n",
       "      <th>variable name notes</th>\n",
       "      <th>PARSING NOTES</th>\n",
       "      <th>OTHER NOTES</th>\n",
       "      <th>description</th>\n",
       "      <th>location_code</th>\n",
       "      <th>part</th>\n",
       "      <th>data_type_xsd</th>\n",
       "      <th>MongoDB_Name</th>\n",
       "      <th>sub_key</th>\n",
       "      <th>sub_sub_key</th>\n",
       "      <th>xpath_top_full</th>\n",
       "      <th>xpath_top</th>\n",
       "      <th>xpath_top_len</th>\n",
       "      <th>xpath_second</th>\n",
       "    </tr>\n",
       "  </thead>\n",
       "  <tbody>\n",
       "    <tr>\n",
       "      <th>0</th>\n",
       "      <td>/Return/ReturnData/IRS990ScheduleJ/Form990ScheduleJPartII/NamePerson</td>\n",
       "      <td>SJ_02_PC_NAME_OFF_TRST_KEYEMP</td>\n",
       "      <td>NaN</td>\n",
       "      <td>NaN</td>\n",
       "      <td>NaN</td>\n",
       "      <td>NaN</td>\n",
       "      <td>Name of officer - person</td>\n",
       "      <td>SCHED-J-PART-02-COL-A-(i)</td>\n",
       "      <td>PART-02</td>\n",
       "      <td>PersonNameType</td>\n",
       "      <td>NamePerson</td>\n",
       "      <td>NamePerson</td>\n",
       "      <td>NaN</td>\n",
       "      <td>Form990ScheduleJPartII/NamePerson</td>\n",
       "      <td>Form990ScheduleJPartII</td>\n",
       "      <td>2</td>\n",
       "      <td>NaN</td>\n",
       "    </tr>\n",
       "  </tbody>\n",
       "</table>\n",
       "</div>"
      ],
      "text/plain": [
       "                                                                  xpath  \\\n",
       "0  /Return/ReturnData/IRS990ScheduleJ/Form990ScheduleJPartII/NamePerson   \n",
       "\n",
       "               variable_name_new  # of Characters (newly named)  \\\n",
       "0  SJ_02_PC_NAME_OFF_TRST_KEYEMP                            NaN   \n",
       "\n",
       "   variable name notes  PARSING NOTES  OTHER NOTES               description  \\\n",
       "0                  NaN            NaN          NaN  Name of officer - person   \n",
       "\n",
       "               location_code     part   data_type_xsd MongoDB_Name  \\\n",
       "0  SCHED-J-PART-02-COL-A-(i)  PART-02  PersonNameType   NamePerson   \n",
       "\n",
       "      sub_key sub_sub_key                     xpath_top_full  \\\n",
       "0  NamePerson         NaN  Form990ScheduleJPartII/NamePerson   \n",
       "\n",
       "                xpath_top  xpath_top_len xpath_second  \n",
       "0  Form990ScheduleJPartII              2          NaN  "
      ]
     },
     "execution_count": 16,
     "metadata": {},
     "output_type": "execute_result"
    }
   ],
   "source": [
    "%%time\n",
    "import datetime\n",
    "print (\"Current date and time : \", datetime.datetime.now().strftime(\"%Y-%m-%d %H:%M:%S\"), '\\n')\n",
    "concordance = pd.read_excel('concordance - Schedule J Part II (VERIFIED).xlsx')\n",
    "print('# of columns:', len(concordance.columns))\n",
    "print('# of observations:', len(concordance))\n",
    "concordance[:1]"
   ]
  },
  {
   "cell_type": "code",
   "execution_count": 17,
   "metadata": {},
   "outputs": [
    {
     "name": "stdout",
     "output_type": "stream",
     "text": [
      "# of variables: 18\n"
     ]
    },
    {
     "data": {
      "text/html": [
       "<div>\n",
       "<style scoped>\n",
       "    .dataframe tbody tr th:only-of-type {\n",
       "        vertical-align: middle;\n",
       "    }\n",
       "\n",
       "    .dataframe tbody tr th {\n",
       "        vertical-align: top;\n",
       "    }\n",
       "\n",
       "    .dataframe thead th {\n",
       "        text-align: right;\n",
       "    }\n",
       "</style>\n",
       "<table border=\"1\" class=\"dataframe\">\n",
       "  <thead>\n",
       "    <tr style=\"text-align: right;\">\n",
       "      <th></th>\n",
       "      <th>variable_name_new</th>\n",
       "      <th>description</th>\n",
       "      <th>location_code</th>\n",
       "      <th>data_type_xsd</th>\n",
       "    </tr>\n",
       "  </thead>\n",
       "  <tbody>\n",
       "    <tr>\n",
       "      <th>0</th>\n",
       "      <td>SJ_02_PC_COMP_BASE</td>\n",
       "      <td>Base compensation ($) from filing organization</td>\n",
       "      <td>SCHED-J-PART-02-COL-B(i)-(i)</td>\n",
       "      <td>USAmountType</td>\n",
       "    </tr>\n",
       "    <tr>\n",
       "      <th>1</th>\n",
       "      <td>SJ_02_PC_COMP_BASE_RELATED</td>\n",
       "      <td>Compensation based on related organizations?</td>\n",
       "      <td>SCHED-J-PART-02-COL-B(i)-(ii)</td>\n",
       "      <td>USAmountType</td>\n",
       "    </tr>\n",
       "    <tr>\n",
       "      <th>2</th>\n",
       "      <td>SJ_02_PC_COMP_BONUS</td>\n",
       "      <td>Bonus and incentive compensation ($) from filing organization</td>\n",
       "      <td>SCHED-J-PART-02-COL-B(ii)-(i)</td>\n",
       "      <td>USAmountType</td>\n",
       "    </tr>\n",
       "    <tr>\n",
       "      <th>3</th>\n",
       "      <td>SJ_02_PC_COMP_BONUS_RELATED</td>\n",
       "      <td>Bonus and incentive compensation ($) from related organizations</td>\n",
       "      <td>SCHED-J-PART-02-COL-B(ii)-(ii)</td>\n",
       "      <td>USAmountType</td>\n",
       "    </tr>\n",
       "    <tr>\n",
       "      <th>4</th>\n",
       "      <td>SJ_02_PC_COMP_DEFERRED</td>\n",
       "      <td>Deferred compensation ($) from filing organization</td>\n",
       "      <td>SCHED-J-PART-02-COL-C-(i)</td>\n",
       "      <td>USAmountType</td>\n",
       "    </tr>\n",
       "    <tr>\n",
       "      <th>5</th>\n",
       "      <td>SJ_02_PC_COMP_DEFERRED_RELATED</td>\n",
       "      <td>Deferred compensation ($) from related organizations</td>\n",
       "      <td>SCHED-J-PART-02-COL-C-(ii)</td>\n",
       "      <td>USAmountType</td>\n",
       "    </tr>\n",
       "    <tr>\n",
       "      <th>6</th>\n",
       "      <td>SJ_02_PC_COMP_DEF_PRIOR</td>\n",
       "      <td>Comp reported prior 990 - from filing org</td>\n",
       "      <td>SCHED-J-PART-02-COL-F-(i)</td>\n",
       "      <td>USAmountType</td>\n",
       "    </tr>\n",
       "    <tr>\n",
       "      <th>7</th>\n",
       "      <td>SJ_02_PC_COMP_DEF_PRIOR_RELATED</td>\n",
       "      <td>Comp reported prior 990 - from related orgs</td>\n",
       "      <td>SCHED-J-PART-02-COL-F-(ii)</td>\n",
       "      <td>USAmountType</td>\n",
       "    </tr>\n",
       "    <tr>\n",
       "      <th>8</th>\n",
       "      <td>SJ_02_PC_COMP_OTHER</td>\n",
       "      <td>Other compensation ($) from filing organization</td>\n",
       "      <td>SCHED-J-PART-02-COL-B(iii)-(i)</td>\n",
       "      <td>USAmountType</td>\n",
       "    </tr>\n",
       "    <tr>\n",
       "      <th>9</th>\n",
       "      <td>SJ_02_PC_COMP_OTHER_RELATED</td>\n",
       "      <td>Other compensation ($) from realted organizations</td>\n",
       "      <td>SCHED-J-PART-02-COL-B(iii)-(ii)</td>\n",
       "      <td>USAmountType</td>\n",
       "    </tr>\n",
       "    <tr>\n",
       "      <th>10</th>\n",
       "      <td>SJ_02_PC_COMP_TOTAL</td>\n",
       "      <td>Total of (B)(i) - (D); from filing org</td>\n",
       "      <td>SCHED-J-PART-02-COL-E-(i)</td>\n",
       "      <td>USAmountType</td>\n",
       "    </tr>\n",
       "    <tr>\n",
       "      <th>11</th>\n",
       "      <td>SJ_02_PC_COMP_TOTAL_RELATED</td>\n",
       "      <td>Total of (B)(i) - (D); from related orgs</td>\n",
       "      <td>SCHED-J-PART-02-COL-E-(ii)</td>\n",
       "      <td>USAmountType</td>\n",
       "    </tr>\n",
       "    <tr>\n",
       "      <th>12</th>\n",
       "      <td>SJ_02_PC_NAME_OFF_TRST_KEYEMP</td>\n",
       "      <td>Name of officer - person</td>\n",
       "      <td>SCHED-J-PART-02-COL-A-(i)</td>\n",
       "      <td>PersonNameType</td>\n",
       "    </tr>\n",
       "    <tr>\n",
       "      <th>13</th>\n",
       "      <td>SJ_02_PC_NAME_OFF_TRST_KEYEMP_L1</td>\n",
       "      <td>Name Business - BusinessNameLine1</td>\n",
       "      <td>SCHED-J-PART-02-COL-A-(i)</td>\n",
       "      <td>BusinessNameLine1Type</td>\n",
       "    </tr>\n",
       "    <tr>\n",
       "      <th>14</th>\n",
       "      <td>SJ_02_PC_NAME_OFF_TRST_KEYEMP_L2</td>\n",
       "      <td>Name Business - BusinessNameLine2</td>\n",
       "      <td>SCHED-J-PART-02-COL-A-(ii)</td>\n",
       "      <td>BusinessNameLine2Type</td>\n",
       "    </tr>\n",
       "    <tr>\n",
       "      <th>15</th>\n",
       "      <td>SJ_02_PC_NONTAXED_BENF</td>\n",
       "      <td>Nontaxable benefits ($) from filing organization</td>\n",
       "      <td>SCHED-J-PART-02-COL-D-(i)</td>\n",
       "      <td>USAmountType</td>\n",
       "    </tr>\n",
       "    <tr>\n",
       "      <th>16</th>\n",
       "      <td>SJ_02_PC_NONTAXED_BENF_RELATED</td>\n",
       "      <td>Nontaxable benefits ($) from related organizations</td>\n",
       "      <td>SCHED-J-PART-02-COL-D-(ii)</td>\n",
       "      <td>USAmountType</td>\n",
       "    </tr>\n",
       "    <tr>\n",
       "      <th>17</th>\n",
       "      <td>SJ_02_PC_TITLE</td>\n",
       "      <td>Form990 Schedule JPart II - Title</td>\n",
       "      <td>SCHED-J-PART-02-COL-A-(ii)</td>\n",
       "      <td>LineExplanationType</td>\n",
       "    </tr>\n",
       "  </tbody>\n",
       "</table>\n",
       "</div>"
      ],
      "text/plain": [
       "                   variable_name_new  \\\n",
       "0                 SJ_02_PC_COMP_BASE   \n",
       "1         SJ_02_PC_COMP_BASE_RELATED   \n",
       "2                SJ_02_PC_COMP_BONUS   \n",
       "3        SJ_02_PC_COMP_BONUS_RELATED   \n",
       "4             SJ_02_PC_COMP_DEFERRED   \n",
       "5     SJ_02_PC_COMP_DEFERRED_RELATED   \n",
       "6            SJ_02_PC_COMP_DEF_PRIOR   \n",
       "7    SJ_02_PC_COMP_DEF_PRIOR_RELATED   \n",
       "8                SJ_02_PC_COMP_OTHER   \n",
       "9        SJ_02_PC_COMP_OTHER_RELATED   \n",
       "10               SJ_02_PC_COMP_TOTAL   \n",
       "11       SJ_02_PC_COMP_TOTAL_RELATED   \n",
       "12     SJ_02_PC_NAME_OFF_TRST_KEYEMP   \n",
       "13  SJ_02_PC_NAME_OFF_TRST_KEYEMP_L1   \n",
       "14  SJ_02_PC_NAME_OFF_TRST_KEYEMP_L2   \n",
       "15            SJ_02_PC_NONTAXED_BENF   \n",
       "16    SJ_02_PC_NONTAXED_BENF_RELATED   \n",
       "17                    SJ_02_PC_TITLE   \n",
       "\n",
       "                                                        description  \\\n",
       "0                    Base compensation ($) from filing organization   \n",
       "1                      Compensation based on related organizations?   \n",
       "2     Bonus and incentive compensation ($) from filing organization   \n",
       "3   Bonus and incentive compensation ($) from related organizations   \n",
       "4                Deferred compensation ($) from filing organization   \n",
       "5              Deferred compensation ($) from related organizations   \n",
       "6                         Comp reported prior 990 - from filing org   \n",
       "7                       Comp reported prior 990 - from related orgs   \n",
       "8                   Other compensation ($) from filing organization   \n",
       "9                 Other compensation ($) from realted organizations   \n",
       "10                           Total of (B)(i) - (D); from filing org   \n",
       "11                         Total of (B)(i) - (D); from related orgs   \n",
       "12                                         Name of officer - person   \n",
       "13                                Name Business - BusinessNameLine1   \n",
       "14                                Name Business - BusinessNameLine2   \n",
       "15                 Nontaxable benefits ($) from filing organization   \n",
       "16               Nontaxable benefits ($) from related organizations   \n",
       "17                                Form990 Schedule JPart II - Title   \n",
       "\n",
       "                      location_code          data_type_xsd  \n",
       "0      SCHED-J-PART-02-COL-B(i)-(i)           USAmountType  \n",
       "1     SCHED-J-PART-02-COL-B(i)-(ii)           USAmountType  \n",
       "2     SCHED-J-PART-02-COL-B(ii)-(i)           USAmountType  \n",
       "3    SCHED-J-PART-02-COL-B(ii)-(ii)           USAmountType  \n",
       "4         SCHED-J-PART-02-COL-C-(i)           USAmountType  \n",
       "5        SCHED-J-PART-02-COL-C-(ii)           USAmountType  \n",
       "6         SCHED-J-PART-02-COL-F-(i)           USAmountType  \n",
       "7        SCHED-J-PART-02-COL-F-(ii)           USAmountType  \n",
       "8    SCHED-J-PART-02-COL-B(iii)-(i)           USAmountType  \n",
       "9   SCHED-J-PART-02-COL-B(iii)-(ii)           USAmountType  \n",
       "10        SCHED-J-PART-02-COL-E-(i)           USAmountType  \n",
       "11       SCHED-J-PART-02-COL-E-(ii)           USAmountType  \n",
       "12        SCHED-J-PART-02-COL-A-(i)         PersonNameType  \n",
       "13        SCHED-J-PART-02-COL-A-(i)  BusinessNameLine1Type  \n",
       "14       SCHED-J-PART-02-COL-A-(ii)  BusinessNameLine2Type  \n",
       "15        SCHED-J-PART-02-COL-D-(i)           USAmountType  \n",
       "16       SCHED-J-PART-02-COL-D-(ii)           USAmountType  \n",
       "17       SCHED-J-PART-02-COL-A-(ii)    LineExplanationType  "
      ]
     },
     "execution_count": 17,
     "metadata": {},
     "output_type": "execute_result"
    }
   ],
   "source": [
    "def agg_funcs(x):\n",
    "    names = {\n",
    "        'description': x['description'].head(1).values[0],\n",
    "        'location_code': x['location_code'].head(1).values[0],        \n",
    "        'data_type_xsd': x['data_type_xsd'].head(1).values[0],\n",
    "        #'python_data_type': x['python_data_type'].head(1).values[0],\n",
    "        #'PARSING NOTES': x['PARSING NOTES'].head(1).values[0],       \n",
    "        #'OTHER NOTES': x['OTHER NOTES'].head(1).values[0],       \n",
    "    }\n",
    "    #THE FOLLOWING SHORTCUT WORKS BUT CHANGES THE ORDER OF THE COLUMNS\n",
    "    #return pd.Series(names, index = list(names.keys()))\n",
    "    return pd.Series(names, index=['description', 'location_code', 'data_type_xsd', #'python_data_type', \n",
    "                                  #'PARSING NOTES', 'OTHER NOTES'\n",
    "                                  ])\n",
    "new_variables_df = concordance.groupby(['variable_name_new']).apply(agg_funcs)\n",
    "new_variables_df = new_variables_df.reset_index()\n",
    "print('# of variables:', len(new_variables_df))\n",
    "new_variables_df[:]"
   ]
  },
  {
   "cell_type": "code",
   "execution_count": 18,
   "metadata": {},
   "outputs": [
    {
     "data": {
      "text/html": [
       "<div>\n",
       "<style scoped>\n",
       "    .dataframe tbody tr th:only-of-type {\n",
       "        vertical-align: middle;\n",
       "    }\n",
       "\n",
       "    .dataframe tbody tr th {\n",
       "        vertical-align: top;\n",
       "    }\n",
       "\n",
       "    .dataframe thead th {\n",
       "        text-align: right;\n",
       "    }\n",
       "</style>\n",
       "<table border=\"1\" class=\"dataframe\">\n",
       "  <thead>\n",
       "    <tr style=\"text-align: right;\">\n",
       "      <th></th>\n",
       "      <th>xpath</th>\n",
       "      <th>variable_name_new</th>\n",
       "      <th># of Characters (newly named)</th>\n",
       "      <th>variable name notes</th>\n",
       "      <th>PARSING NOTES</th>\n",
       "      <th>OTHER NOTES</th>\n",
       "      <th>description</th>\n",
       "      <th>location_code</th>\n",
       "      <th>part</th>\n",
       "      <th>data_type_xsd</th>\n",
       "      <th>MongoDB_Name</th>\n",
       "      <th>sub_key</th>\n",
       "      <th>sub_sub_key</th>\n",
       "      <th>xpath_top_full</th>\n",
       "      <th>xpath_top</th>\n",
       "      <th>xpath_top_len</th>\n",
       "      <th>xpath_second</th>\n",
       "    </tr>\n",
       "  </thead>\n",
       "  <tbody>\n",
       "  </tbody>\n",
       "</table>\n",
       "</div>"
      ],
      "text/plain": [
       "Empty DataFrame\n",
       "Columns: [xpath, variable_name_new, # of Characters (newly named), variable name notes, PARSING NOTES, OTHER NOTES, description, location_code, part, data_type_xsd, MongoDB_Name, sub_key, sub_sub_key, xpath_top_full, xpath_top, xpath_top_len, xpath_second]\n",
       "Index: []"
      ]
     },
     "execution_count": 18,
     "metadata": {},
     "output_type": "execute_result"
    }
   ],
   "source": [
    "concordance[concordance['description'].isnull()]"
   ]
  },
  {
   "cell_type": "code",
   "execution_count": 19,
   "metadata": {},
   "outputs": [
    {
     "data": {
      "text/html": [
       "<div>\n",
       "<style scoped>\n",
       "    .dataframe tbody tr th:only-of-type {\n",
       "        vertical-align: middle;\n",
       "    }\n",
       "\n",
       "    .dataframe tbody tr th {\n",
       "        vertical-align: top;\n",
       "    }\n",
       "\n",
       "    .dataframe thead th {\n",
       "        text-align: right;\n",
       "    }\n",
       "</style>\n",
       "<table border=\"1\" class=\"dataframe\">\n",
       "  <thead>\n",
       "    <tr style=\"text-align: right;\">\n",
       "      <th></th>\n",
       "      <th>variable_name_new</th>\n",
       "      <th>description</th>\n",
       "      <th>location_code</th>\n",
       "      <th>data_type_xsd</th>\n",
       "    </tr>\n",
       "  </thead>\n",
       "  <tbody>\n",
       "  </tbody>\n",
       "</table>\n",
       "</div>"
      ],
      "text/plain": [
       "Empty DataFrame\n",
       "Columns: [variable_name_new, description, location_code, data_type_xsd]\n",
       "Index: []"
      ]
     },
     "execution_count": 19,
     "metadata": {},
     "output_type": "execute_result"
    }
   ],
   "source": [
    "new_variables_df[new_variables_df['description'].isnull()]"
   ]
  },
  {
   "cell_type": "code",
   "execution_count": 20,
   "metadata": {},
   "outputs": [],
   "source": [
    "for index, row in new_variables_df.iterrows():\n",
    "    #if pd.isnull(row['python_data_type']):\n",
    "    #    print('Missing *python_data_type*', row['variable_name_new'], row['python_data_type'], '\\n')\n",
    "    if pd.isnull(row['location_code']):\n",
    "        print('Missing *location_code*',  row['variable_name_new'], '.....', row['location_code'], row['description'], '\\n')         \n",
    "    elif pd.isnull(row['data_type_xsd']):\n",
    "        print('Missing *data_type_xsd*', row['variable_name_new'], row['data_type_xsd'], '\\n')\n",
    "    elif pd.isnull(row['description']):\n",
    "        print('Missing *description*', row['variable_name_new'], '.....', row['description'])         "
   ]
  },
  {
   "cell_type": "code",
   "execution_count": 21,
   "metadata": {},
   "outputs": [
    {
     "data": {
      "text/plain": [
       "set()"
      ]
     },
     "execution_count": 21,
     "metadata": {},
     "output_type": "execute_result"
    }
   ],
   "source": [
    "set(new_variables_df['variable_name_new'].tolist()) - set(df.columns.tolist())"
   ]
  },
  {
   "cell_type": "code",
   "execution_count": 22,
   "metadata": {},
   "outputs": [
    {
     "data": {
      "text/plain": [
       "{'URL'}"
      ]
     },
     "execution_count": 22,
     "metadata": {},
     "output_type": "execute_result"
    }
   ],
   "source": [
    "set(df.columns.tolist()) - set(new_variables_df['variable_name_new'].tolist())"
   ]
  },
  {
   "cell_type": "code",
   "execution_count": 23,
   "metadata": {},
   "outputs": [
    {
     "name": "stdout",
     "output_type": "stream",
     "text": [
      "1914476\n"
     ]
    }
   ],
   "source": [
    "print(len(df))"
   ]
  },
  {
   "cell_type": "code",
   "execution_count": 24,
   "metadata": {},
   "outputs": [
    {
     "data": {
      "text/html": [
       "<div>\n",
       "<style scoped>\n",
       "    .dataframe tbody tr th:only-of-type {\n",
       "        vertical-align: middle;\n",
       "    }\n",
       "\n",
       "    .dataframe tbody tr th {\n",
       "        vertical-align: top;\n",
       "    }\n",
       "\n",
       "    .dataframe thead th {\n",
       "        text-align: right;\n",
       "    }\n",
       "</style>\n",
       "<table border=\"1\" class=\"dataframe\">\n",
       "  <thead>\n",
       "    <tr style=\"text-align: right;\">\n",
       "      <th></th>\n",
       "      <th>variable_name_new</th>\n",
       "      <th>description</th>\n",
       "    </tr>\n",
       "  </thead>\n",
       "  <tbody>\n",
       "    <tr>\n",
       "      <th>0</th>\n",
       "      <td>URL</td>\n",
       "      <td>Unique identifier for filing -- use for merging with filings-level datasets (also for seeing raw filing online)</td>\n",
       "    </tr>\n",
       "  </tbody>\n",
       "</table>\n",
       "</div>"
      ],
      "text/plain": [
       "  variable_name_new  \\\n",
       "0               URL   \n",
       "\n",
       "                                                                                                       description  \n",
       "0  Unique identifier for filing -- use for merging with filings-level datasets (also for seeing raw filing online)  "
      ]
     },
     "execution_count": 24,
     "metadata": {},
     "output_type": "execute_result"
    }
   ],
   "source": [
    "no_conc = [ 'URL']\n",
    "vals = ['Unique identifier for filing -- use for merging with filings-level datasets (also for seeing raw filing online)']\n",
    "\n",
    "#list(zip(lst, lst2)),\n",
    "no_concordance_df = pd.DataFrame(list(zip(no_conc,vals)), columns =['variable_name_new', 'description'])\n",
    "no_concordance_df"
   ]
  },
  {
   "cell_type": "code",
   "execution_count": 25,
   "metadata": {},
   "outputs": [
    {
     "name": "stdout",
     "output_type": "stream",
     "text": [
      "18\n",
      "19\n",
      "19\n"
     ]
    }
   ],
   "source": [
    "print(len(new_variables_df))\n",
    "print(len(new_variables_df.append(no_concordance_df)))\n",
    "new_variables_df = new_variables_df.append(no_concordance_df)\n",
    "print(len(new_variables_df))"
   ]
  },
  {
   "cell_type": "code",
   "execution_count": 26,
   "metadata": {},
   "outputs": [
    {
     "data": {
      "text/html": [
       "<div>\n",
       "<style scoped>\n",
       "    .dataframe tbody tr th:only-of-type {\n",
       "        vertical-align: middle;\n",
       "    }\n",
       "\n",
       "    .dataframe tbody tr th {\n",
       "        vertical-align: top;\n",
       "    }\n",
       "\n",
       "    .dataframe thead th {\n",
       "        text-align: right;\n",
       "    }\n",
       "</style>\n",
       "<table border=\"1\" class=\"dataframe\">\n",
       "  <thead>\n",
       "    <tr style=\"text-align: right;\">\n",
       "      <th></th>\n",
       "      <th>variable_name_new</th>\n",
       "      <th>description</th>\n",
       "      <th>location_code</th>\n",
       "      <th>data_type_xsd</th>\n",
       "    </tr>\n",
       "  </thead>\n",
       "  <tbody>\n",
       "    <tr>\n",
       "      <th>0</th>\n",
       "      <td>URL</td>\n",
       "      <td>Unique identifier for filing -- use for merging with filings-level datasets (also for seeing raw filing online)</td>\n",
       "      <td>NaN</td>\n",
       "      <td>NaN</td>\n",
       "    </tr>\n",
       "  </tbody>\n",
       "</table>\n",
       "</div>"
      ],
      "text/plain": [
       "  variable_name_new  \\\n",
       "0               URL   \n",
       "\n",
       "                                                                                                       description  \\\n",
       "0  Unique identifier for filing -- use for merging with filings-level datasets (also for seeing raw filing online)   \n",
       "\n",
       "  location_code data_type_xsd  \n",
       "0           NaN           NaN  "
      ]
     },
     "execution_count": 26,
     "metadata": {},
     "output_type": "execute_result"
    }
   ],
   "source": [
    "new_variables_df[new_variables_df['variable_name_new'].isin(no_conc)]"
   ]
  },
  {
   "cell_type": "markdown",
   "metadata": {},
   "source": [
    "### Inspect"
   ]
  },
  {
   "cell_type": "code",
   "execution_count": 27,
   "metadata": {},
   "outputs": [
    {
     "data": {
      "text/html": [
       "<div>\n",
       "<style scoped>\n",
       "    .dataframe tbody tr th:only-of-type {\n",
       "        vertical-align: middle;\n",
       "    }\n",
       "\n",
       "    .dataframe tbody tr th {\n",
       "        vertical-align: top;\n",
       "    }\n",
       "\n",
       "    .dataframe thead th {\n",
       "        text-align: right;\n",
       "    }\n",
       "</style>\n",
       "<table border=\"1\" class=\"dataframe\">\n",
       "  <thead>\n",
       "    <tr style=\"text-align: right;\">\n",
       "      <th></th>\n",
       "      <th>variable_name_new</th>\n",
       "      <th>description</th>\n",
       "      <th>location_code</th>\n",
       "      <th>data_type_xsd</th>\n",
       "    </tr>\n",
       "  </thead>\n",
       "  <tbody>\n",
       "  </tbody>\n",
       "</table>\n",
       "</div>"
      ],
      "text/plain": [
       "Empty DataFrame\n",
       "Columns: [variable_name_new, description, location_code, data_type_xsd]\n",
       "Index: []"
      ]
     },
     "execution_count": 27,
     "metadata": {},
     "output_type": "execute_result"
    }
   ],
   "source": [
    "new_variables_df[new_variables_df['description'].isnull()]"
   ]
  },
  {
   "cell_type": "code",
   "execution_count": 28,
   "metadata": {},
   "outputs": [
    {
     "data": {
      "text/plain": [
       "set()"
      ]
     },
     "execution_count": 28,
     "metadata": {},
     "output_type": "execute_result"
    }
   ],
   "source": [
    "set(new_variables_df['variable_name_new'].tolist()) - set(df.columns.tolist())"
   ]
  },
  {
   "cell_type": "code",
   "execution_count": 29,
   "metadata": {},
   "outputs": [
    {
     "data": {
      "text/plain": [
       "set()"
      ]
     },
     "execution_count": 29,
     "metadata": {},
     "output_type": "execute_result"
    }
   ],
   "source": [
    "set(df.columns.tolist()) - set(new_variables_df['variable_name_new'].tolist())"
   ]
  },
  {
   "cell_type": "code",
   "execution_count": 30,
   "metadata": {},
   "outputs": [
    {
     "data": {
      "text/html": [
       "<div>\n",
       "<style scoped>\n",
       "    .dataframe tbody tr th:only-of-type {\n",
       "        vertical-align: middle;\n",
       "    }\n",
       "\n",
       "    .dataframe tbody tr th {\n",
       "        vertical-align: top;\n",
       "    }\n",
       "\n",
       "    .dataframe thead th {\n",
       "        text-align: right;\n",
       "    }\n",
       "</style>\n",
       "<table border=\"1\" class=\"dataframe\">\n",
       "  <thead>\n",
       "    <tr style=\"text-align: right;\">\n",
       "      <th></th>\n",
       "      <th>URL</th>\n",
       "      <th>SJ_02_PC_NAME_OFF_TRST_KEYEMP</th>\n",
       "      <th>SJ_02_PC_NAME_OFF_TRST_KEYEMP_L1</th>\n",
       "      <th>SJ_02_PC_NAME_OFF_TRST_KEYEMP_L2</th>\n",
       "      <th>SJ_02_PC_TITLE</th>\n",
       "      <th>SJ_02_PC_COMP_BASE</th>\n",
       "      <th>SJ_02_PC_COMP_BASE_RELATED</th>\n",
       "      <th>SJ_02_PC_COMP_BONUS</th>\n",
       "      <th>SJ_02_PC_COMP_BONUS_RELATED</th>\n",
       "      <th>SJ_02_PC_COMP_OTHER</th>\n",
       "      <th>SJ_02_PC_COMP_OTHER_RELATED</th>\n",
       "      <th>SJ_02_PC_COMP_DEFERRED</th>\n",
       "      <th>SJ_02_PC_COMP_DEFERRED_RELATED</th>\n",
       "      <th>SJ_02_PC_NONTAXED_BENF</th>\n",
       "      <th>SJ_02_PC_NONTAXED_BENF_RELATED</th>\n",
       "      <th>SJ_02_PC_COMP_TOTAL</th>\n",
       "      <th>SJ_02_PC_COMP_TOTAL_RELATED</th>\n",
       "      <th>SJ_02_PC_COMP_DEF_PRIOR</th>\n",
       "      <th>SJ_02_PC_COMP_DEF_PRIOR_RELATED</th>\n",
       "    </tr>\n",
       "  </thead>\n",
       "  <tbody>\n",
       "    <tr>\n",
       "      <th>0</th>\n",
       "      <td>https://s3.amazonaws.com/irs-form-990/201113139349301311_public.xml</td>\n",
       "      <td>THOMAS D TURNBULL</td>\n",
       "      <td>NaN</td>\n",
       "      <td>NaN</td>\n",
       "      <td>NaN</td>\n",
       "      <td>NaN</td>\n",
       "      <td>100,712.00</td>\n",
       "      <td>NaN</td>\n",
       "      <td>790.00</td>\n",
       "      <td>NaN</td>\n",
       "      <td>1,257.00</td>\n",
       "      <td>NaN</td>\n",
       "      <td>54,308.00</td>\n",
       "      <td>NaN</td>\n",
       "      <td>62,342.00</td>\n",
       "      <td>NaN</td>\n",
       "      <td>219,409.00</td>\n",
       "      <td>NaN</td>\n",
       "      <td>NaN</td>\n",
       "    </tr>\n",
       "  </tbody>\n",
       "</table>\n",
       "</div>"
      ],
      "text/plain": [
       "                                                                   URL  \\\n",
       "0  https://s3.amazonaws.com/irs-form-990/201113139349301311_public.xml   \n",
       "\n",
       "  SJ_02_PC_NAME_OFF_TRST_KEYEMP SJ_02_PC_NAME_OFF_TRST_KEYEMP_L1  \\\n",
       "0             THOMAS D TURNBULL                              NaN   \n",
       "\n",
       "  SJ_02_PC_NAME_OFF_TRST_KEYEMP_L2 SJ_02_PC_TITLE  SJ_02_PC_COMP_BASE  \\\n",
       "0                              NaN            NaN                 NaN   \n",
       "\n",
       "   SJ_02_PC_COMP_BASE_RELATED  SJ_02_PC_COMP_BONUS  \\\n",
       "0                  100,712.00                  NaN   \n",
       "\n",
       "   SJ_02_PC_COMP_BONUS_RELATED  SJ_02_PC_COMP_OTHER  \\\n",
       "0                       790.00                  NaN   \n",
       "\n",
       "   SJ_02_PC_COMP_OTHER_RELATED  SJ_02_PC_COMP_DEFERRED  \\\n",
       "0                     1,257.00                     NaN   \n",
       "\n",
       "   SJ_02_PC_COMP_DEFERRED_RELATED  SJ_02_PC_NONTAXED_BENF  \\\n",
       "0                       54,308.00                     NaN   \n",
       "\n",
       "   SJ_02_PC_NONTAXED_BENF_RELATED  SJ_02_PC_COMP_TOTAL  \\\n",
       "0                       62,342.00                  NaN   \n",
       "\n",
       "   SJ_02_PC_COMP_TOTAL_RELATED  SJ_02_PC_COMP_DEF_PRIOR  \\\n",
       "0                   219,409.00                      NaN   \n",
       "\n",
       "   SJ_02_PC_COMP_DEF_PRIOR_RELATED  \n",
       "0                              NaN  "
      ]
     },
     "execution_count": 30,
     "metadata": {},
     "output_type": "execute_result"
    }
   ],
   "source": [
    "df[:1]"
   ]
  },
  {
   "cell_type": "code",
   "execution_count": 31,
   "metadata": {},
   "outputs": [
    {
     "data": {
      "text/html": [
       "<div>\n",
       "<style scoped>\n",
       "    .dataframe tbody tr th:only-of-type {\n",
       "        vertical-align: middle;\n",
       "    }\n",
       "\n",
       "    .dataframe tbody tr th {\n",
       "        vertical-align: top;\n",
       "    }\n",
       "\n",
       "    .dataframe thead th {\n",
       "        text-align: right;\n",
       "    }\n",
       "</style>\n",
       "<table border=\"1\" class=\"dataframe\">\n",
       "  <thead>\n",
       "    <tr style=\"text-align: right;\">\n",
       "      <th></th>\n",
       "      <th>variable_name_new</th>\n",
       "      <th>description</th>\n",
       "      <th>location_code</th>\n",
       "      <th>data_type_xsd</th>\n",
       "    </tr>\n",
       "  </thead>\n",
       "  <tbody>\n",
       "    <tr>\n",
       "      <th>0</th>\n",
       "      <td>SJ_02_PC_COMP_BASE</td>\n",
       "      <td>Base compensation ($) from filing organization</td>\n",
       "      <td>SCHED-J-PART-02-COL-B(i)-(i)</td>\n",
       "      <td>USAmountType</td>\n",
       "    </tr>\n",
       "  </tbody>\n",
       "</table>\n",
       "</div>"
      ],
      "text/plain": [
       "    variable_name_new                                     description  \\\n",
       "0  SJ_02_PC_COMP_BASE  Base compensation ($) from filing organization   \n",
       "\n",
       "                  location_code data_type_xsd  \n",
       "0  SCHED-J-PART-02-COL-B(i)-(i)  USAmountType  "
      ]
     },
     "execution_count": 31,
     "metadata": {},
     "output_type": "execute_result"
    }
   ],
   "source": [
    "new_variables_df[:1]"
   ]
  },
  {
   "cell_type": "markdown",
   "metadata": {},
   "source": [
    "#### Reset Index"
   ]
  },
  {
   "cell_type": "code",
   "execution_count": 32,
   "metadata": {},
   "outputs": [
    {
     "data": {
      "text/html": [
       "<div>\n",
       "<style scoped>\n",
       "    .dataframe tbody tr th:only-of-type {\n",
       "        vertical-align: middle;\n",
       "    }\n",
       "\n",
       "    .dataframe tbody tr th {\n",
       "        vertical-align: top;\n",
       "    }\n",
       "\n",
       "    .dataframe thead th {\n",
       "        text-align: right;\n",
       "    }\n",
       "</style>\n",
       "<table border=\"1\" class=\"dataframe\">\n",
       "  <thead>\n",
       "    <tr style=\"text-align: right;\">\n",
       "      <th></th>\n",
       "      <th>description</th>\n",
       "      <th>location_code</th>\n",
       "      <th>data_type_xsd</th>\n",
       "    </tr>\n",
       "    <tr>\n",
       "      <th>variable_name_new</th>\n",
       "      <th></th>\n",
       "      <th></th>\n",
       "      <th></th>\n",
       "    </tr>\n",
       "  </thead>\n",
       "  <tbody>\n",
       "    <tr>\n",
       "      <th>SJ_02_PC_COMP_BASE</th>\n",
       "      <td>Base compensation ($) from filing organization</td>\n",
       "      <td>SCHED-J-PART-02-COL-B(i)-(i)</td>\n",
       "      <td>USAmountType</td>\n",
       "    </tr>\n",
       "    <tr>\n",
       "      <th>SJ_02_PC_COMP_BASE_RELATED</th>\n",
       "      <td>Compensation based on related organizations?</td>\n",
       "      <td>SCHED-J-PART-02-COL-B(i)-(ii)</td>\n",
       "      <td>USAmountType</td>\n",
       "    </tr>\n",
       "    <tr>\n",
       "      <th>SJ_02_PC_COMP_BONUS</th>\n",
       "      <td>Bonus and incentive compensation ($) from filing organization</td>\n",
       "      <td>SCHED-J-PART-02-COL-B(ii)-(i)</td>\n",
       "      <td>USAmountType</td>\n",
       "    </tr>\n",
       "    <tr>\n",
       "      <th>SJ_02_PC_COMP_BONUS_RELATED</th>\n",
       "      <td>Bonus and incentive compensation ($) from related organizations</td>\n",
       "      <td>SCHED-J-PART-02-COL-B(ii)-(ii)</td>\n",
       "      <td>USAmountType</td>\n",
       "    </tr>\n",
       "    <tr>\n",
       "      <th>SJ_02_PC_COMP_DEFERRED</th>\n",
       "      <td>Deferred compensation ($) from filing organization</td>\n",
       "      <td>SCHED-J-PART-02-COL-C-(i)</td>\n",
       "      <td>USAmountType</td>\n",
       "    </tr>\n",
       "  </tbody>\n",
       "</table>\n",
       "</div>"
      ],
      "text/plain": [
       "                                                                                 description  \\\n",
       "variable_name_new                                                                              \n",
       "SJ_02_PC_COMP_BASE                            Base compensation ($) from filing organization   \n",
       "SJ_02_PC_COMP_BASE_RELATED                      Compensation based on related organizations?   \n",
       "SJ_02_PC_COMP_BONUS            Bonus and incentive compensation ($) from filing organization   \n",
       "SJ_02_PC_COMP_BONUS_RELATED  Bonus and incentive compensation ($) from related organizations   \n",
       "SJ_02_PC_COMP_DEFERRED                    Deferred compensation ($) from filing organization   \n",
       "\n",
       "                                              location_code data_type_xsd  \n",
       "variable_name_new                                                          \n",
       "SJ_02_PC_COMP_BASE             SCHED-J-PART-02-COL-B(i)-(i)  USAmountType  \n",
       "SJ_02_PC_COMP_BASE_RELATED    SCHED-J-PART-02-COL-B(i)-(ii)  USAmountType  \n",
       "SJ_02_PC_COMP_BONUS           SCHED-J-PART-02-COL-B(ii)-(i)  USAmountType  \n",
       "SJ_02_PC_COMP_BONUS_RELATED  SCHED-J-PART-02-COL-B(ii)-(ii)  USAmountType  \n",
       "SJ_02_PC_COMP_DEFERRED            SCHED-J-PART-02-COL-C-(i)  USAmountType  "
      ]
     },
     "execution_count": 32,
     "metadata": {},
     "output_type": "execute_result"
    }
   ],
   "source": [
    "new_variables_df = new_variables_df.set_index('variable_name_new')\n",
    "new_variables_df[:5]"
   ]
  },
  {
   "cell_type": "code",
   "execution_count": 33,
   "metadata": {},
   "outputs": [
    {
     "data": {
      "text/plain": [
       "19"
      ]
     },
     "execution_count": 33,
     "metadata": {},
     "output_type": "execute_result"
    }
   ],
   "source": [
    "len(new_variables_df)"
   ]
  },
  {
   "cell_type": "code",
   "execution_count": 34,
   "metadata": {},
   "outputs": [
    {
     "data": {
      "text/plain": [
       "19"
      ]
     },
     "execution_count": 34,
     "metadata": {},
     "output_type": "execute_result"
    }
   ],
   "source": [
    "len(df.columns.tolist())"
   ]
  },
  {
   "cell_type": "code",
   "execution_count": 35,
   "metadata": {},
   "outputs": [
    {
     "name": "stdout",
     "output_type": "stream",
     "text": [
      "19\n",
      "19\n"
     ]
    }
   ],
   "source": [
    "print(len(new_variables_df.reindex(df.columns.tolist())))\n",
    "new_variables_df = new_variables_df.reindex(df.columns.tolist())\n",
    "print(len(new_variables_df))"
   ]
  },
  {
   "cell_type": "code",
   "execution_count": 36,
   "metadata": {},
   "outputs": [
    {
     "name": "stdout",
     "output_type": "stream",
     "text": [
      "19\n",
      "19\n"
     ]
    },
    {
     "data": {
      "text/html": [
       "<div>\n",
       "<style scoped>\n",
       "    .dataframe tbody tr th:only-of-type {\n",
       "        vertical-align: middle;\n",
       "    }\n",
       "\n",
       "    .dataframe tbody tr th {\n",
       "        vertical-align: top;\n",
       "    }\n",
       "\n",
       "    .dataframe thead th {\n",
       "        text-align: right;\n",
       "    }\n",
       "</style>\n",
       "<table border=\"1\" class=\"dataframe\">\n",
       "  <thead>\n",
       "    <tr style=\"text-align: right;\">\n",
       "      <th></th>\n",
       "      <th>variable_name_new</th>\n",
       "      <th>description</th>\n",
       "      <th>location_code</th>\n",
       "      <th>data_type_xsd</th>\n",
       "    </tr>\n",
       "  </thead>\n",
       "  <tbody>\n",
       "    <tr>\n",
       "      <th>0</th>\n",
       "      <td>URL</td>\n",
       "      <td>Unique identifier for filing -- use for merging with filings-level datasets (also for seeing raw filing online)</td>\n",
       "      <td>NaN</td>\n",
       "      <td>NaN</td>\n",
       "    </tr>\n",
       "  </tbody>\n",
       "</table>\n",
       "</div>"
      ],
      "text/plain": [
       "  variable_name_new  \\\n",
       "0               URL   \n",
       "\n",
       "                                                                                                       description  \\\n",
       "0  Unique identifier for filing -- use for merging with filings-level datasets (also for seeing raw filing online)   \n",
       "\n",
       "  location_code data_type_xsd  \n",
       "0           NaN           NaN  "
      ]
     },
     "execution_count": 36,
     "metadata": {},
     "output_type": "execute_result"
    }
   ],
   "source": [
    "print(len(new_variables_df.reindex(df.columns.tolist())))\n",
    "new_variables_df = new_variables_df.reset_index()\n",
    "print(len(new_variables_df))\n",
    "new_variables_df[:1]"
   ]
  },
  {
   "cell_type": "code",
   "execution_count": 37,
   "metadata": {},
   "outputs": [
    {
     "data": {
      "text/html": [
       "<div>\n",
       "<style scoped>\n",
       "    .dataframe tbody tr th:only-of-type {\n",
       "        vertical-align: middle;\n",
       "    }\n",
       "\n",
       "    .dataframe tbody tr th {\n",
       "        vertical-align: top;\n",
       "    }\n",
       "\n",
       "    .dataframe thead th {\n",
       "        text-align: right;\n",
       "    }\n",
       "</style>\n",
       "<table border=\"1\" class=\"dataframe\">\n",
       "  <thead>\n",
       "    <tr style=\"text-align: right;\">\n",
       "      <th></th>\n",
       "      <th>variable_name_new</th>\n",
       "      <th>description</th>\n",
       "      <th>location_code</th>\n",
       "      <th>data_type_xsd</th>\n",
       "    </tr>\n",
       "  </thead>\n",
       "  <tbody>\n",
       "    <tr>\n",
       "      <th>0</th>\n",
       "      <td>URL</td>\n",
       "      <td>Unique identifier for filing -- use for merging with filings-level datasets (also for seeing raw filing online)</td>\n",
       "      <td>NaN</td>\n",
       "      <td>NaN</td>\n",
       "    </tr>\n",
       "    <tr>\n",
       "      <th>1</th>\n",
       "      <td>SJ_02_PC_NAME_OFF_TRST_KEYEMP</td>\n",
       "      <td>Name of officer - person</td>\n",
       "      <td>SCHED-J-PART-02-COL-A-(i)</td>\n",
       "      <td>PersonNameType</td>\n",
       "    </tr>\n",
       "    <tr>\n",
       "      <th>2</th>\n",
       "      <td>SJ_02_PC_NAME_OFF_TRST_KEYEMP_L1</td>\n",
       "      <td>Name Business - BusinessNameLine1</td>\n",
       "      <td>SCHED-J-PART-02-COL-A-(i)</td>\n",
       "      <td>BusinessNameLine1Type</td>\n",
       "    </tr>\n",
       "    <tr>\n",
       "      <th>3</th>\n",
       "      <td>SJ_02_PC_NAME_OFF_TRST_KEYEMP_L2</td>\n",
       "      <td>Name Business - BusinessNameLine2</td>\n",
       "      <td>SCHED-J-PART-02-COL-A-(ii)</td>\n",
       "      <td>BusinessNameLine2Type</td>\n",
       "    </tr>\n",
       "    <tr>\n",
       "      <th>4</th>\n",
       "      <td>SJ_02_PC_TITLE</td>\n",
       "      <td>Form990 Schedule JPart II - Title</td>\n",
       "      <td>SCHED-J-PART-02-COL-A-(ii)</td>\n",
       "      <td>LineExplanationType</td>\n",
       "    </tr>\n",
       "    <tr>\n",
       "      <th>5</th>\n",
       "      <td>SJ_02_PC_COMP_BASE</td>\n",
       "      <td>Base compensation ($) from filing organization</td>\n",
       "      <td>SCHED-J-PART-02-COL-B(i)-(i)</td>\n",
       "      <td>USAmountType</td>\n",
       "    </tr>\n",
       "    <tr>\n",
       "      <th>6</th>\n",
       "      <td>SJ_02_PC_COMP_BASE_RELATED</td>\n",
       "      <td>Compensation based on related organizations?</td>\n",
       "      <td>SCHED-J-PART-02-COL-B(i)-(ii)</td>\n",
       "      <td>USAmountType</td>\n",
       "    </tr>\n",
       "    <tr>\n",
       "      <th>7</th>\n",
       "      <td>SJ_02_PC_COMP_BONUS</td>\n",
       "      <td>Bonus and incentive compensation ($) from filing organization</td>\n",
       "      <td>SCHED-J-PART-02-COL-B(ii)-(i)</td>\n",
       "      <td>USAmountType</td>\n",
       "    </tr>\n",
       "    <tr>\n",
       "      <th>8</th>\n",
       "      <td>SJ_02_PC_COMP_BONUS_RELATED</td>\n",
       "      <td>Bonus and incentive compensation ($) from related organizations</td>\n",
       "      <td>SCHED-J-PART-02-COL-B(ii)-(ii)</td>\n",
       "      <td>USAmountType</td>\n",
       "    </tr>\n",
       "    <tr>\n",
       "      <th>9</th>\n",
       "      <td>SJ_02_PC_COMP_OTHER</td>\n",
       "      <td>Other compensation ($) from filing organization</td>\n",
       "      <td>SCHED-J-PART-02-COL-B(iii)-(i)</td>\n",
       "      <td>USAmountType</td>\n",
       "    </tr>\n",
       "    <tr>\n",
       "      <th>10</th>\n",
       "      <td>SJ_02_PC_COMP_OTHER_RELATED</td>\n",
       "      <td>Other compensation ($) from realted organizations</td>\n",
       "      <td>SCHED-J-PART-02-COL-B(iii)-(ii)</td>\n",
       "      <td>USAmountType</td>\n",
       "    </tr>\n",
       "    <tr>\n",
       "      <th>11</th>\n",
       "      <td>SJ_02_PC_COMP_DEFERRED</td>\n",
       "      <td>Deferred compensation ($) from filing organization</td>\n",
       "      <td>SCHED-J-PART-02-COL-C-(i)</td>\n",
       "      <td>USAmountType</td>\n",
       "    </tr>\n",
       "    <tr>\n",
       "      <th>12</th>\n",
       "      <td>SJ_02_PC_COMP_DEFERRED_RELATED</td>\n",
       "      <td>Deferred compensation ($) from related organizations</td>\n",
       "      <td>SCHED-J-PART-02-COL-C-(ii)</td>\n",
       "      <td>USAmountType</td>\n",
       "    </tr>\n",
       "    <tr>\n",
       "      <th>13</th>\n",
       "      <td>SJ_02_PC_NONTAXED_BENF</td>\n",
       "      <td>Nontaxable benefits ($) from filing organization</td>\n",
       "      <td>SCHED-J-PART-02-COL-D-(i)</td>\n",
       "      <td>USAmountType</td>\n",
       "    </tr>\n",
       "    <tr>\n",
       "      <th>14</th>\n",
       "      <td>SJ_02_PC_NONTAXED_BENF_RELATED</td>\n",
       "      <td>Nontaxable benefits ($) from related organizations</td>\n",
       "      <td>SCHED-J-PART-02-COL-D-(ii)</td>\n",
       "      <td>USAmountType</td>\n",
       "    </tr>\n",
       "    <tr>\n",
       "      <th>15</th>\n",
       "      <td>SJ_02_PC_COMP_TOTAL</td>\n",
       "      <td>Total of (B)(i) - (D); from filing org</td>\n",
       "      <td>SCHED-J-PART-02-COL-E-(i)</td>\n",
       "      <td>USAmountType</td>\n",
       "    </tr>\n",
       "    <tr>\n",
       "      <th>16</th>\n",
       "      <td>SJ_02_PC_COMP_TOTAL_RELATED</td>\n",
       "      <td>Total of (B)(i) - (D); from related orgs</td>\n",
       "      <td>SCHED-J-PART-02-COL-E-(ii)</td>\n",
       "      <td>USAmountType</td>\n",
       "    </tr>\n",
       "    <tr>\n",
       "      <th>17</th>\n",
       "      <td>SJ_02_PC_COMP_DEF_PRIOR</td>\n",
       "      <td>Comp reported prior 990 - from filing org</td>\n",
       "      <td>SCHED-J-PART-02-COL-F-(i)</td>\n",
       "      <td>USAmountType</td>\n",
       "    </tr>\n",
       "    <tr>\n",
       "      <th>18</th>\n",
       "      <td>SJ_02_PC_COMP_DEF_PRIOR_RELATED</td>\n",
       "      <td>Comp reported prior 990 - from related orgs</td>\n",
       "      <td>SCHED-J-PART-02-COL-F-(ii)</td>\n",
       "      <td>USAmountType</td>\n",
       "    </tr>\n",
       "  </tbody>\n",
       "</table>\n",
       "</div>"
      ],
      "text/plain": [
       "                   variable_name_new  \\\n",
       "0                                URL   \n",
       "1      SJ_02_PC_NAME_OFF_TRST_KEYEMP   \n",
       "2   SJ_02_PC_NAME_OFF_TRST_KEYEMP_L1   \n",
       "3   SJ_02_PC_NAME_OFF_TRST_KEYEMP_L2   \n",
       "4                     SJ_02_PC_TITLE   \n",
       "5                 SJ_02_PC_COMP_BASE   \n",
       "6         SJ_02_PC_COMP_BASE_RELATED   \n",
       "7                SJ_02_PC_COMP_BONUS   \n",
       "8        SJ_02_PC_COMP_BONUS_RELATED   \n",
       "9                SJ_02_PC_COMP_OTHER   \n",
       "10       SJ_02_PC_COMP_OTHER_RELATED   \n",
       "11            SJ_02_PC_COMP_DEFERRED   \n",
       "12    SJ_02_PC_COMP_DEFERRED_RELATED   \n",
       "13            SJ_02_PC_NONTAXED_BENF   \n",
       "14    SJ_02_PC_NONTAXED_BENF_RELATED   \n",
       "15               SJ_02_PC_COMP_TOTAL   \n",
       "16       SJ_02_PC_COMP_TOTAL_RELATED   \n",
       "17           SJ_02_PC_COMP_DEF_PRIOR   \n",
       "18   SJ_02_PC_COMP_DEF_PRIOR_RELATED   \n",
       "\n",
       "                                                                                                        description  \\\n",
       "0   Unique identifier for filing -- use for merging with filings-level datasets (also for seeing raw filing online)   \n",
       "1                                                                                          Name of officer - person   \n",
       "2                                                                                 Name Business - BusinessNameLine1   \n",
       "3                                                                                 Name Business - BusinessNameLine2   \n",
       "4                                                                                 Form990 Schedule JPart II - Title   \n",
       "5                                                                    Base compensation ($) from filing organization   \n",
       "6                                                                      Compensation based on related organizations?   \n",
       "7                                                     Bonus and incentive compensation ($) from filing organization   \n",
       "8                                                   Bonus and incentive compensation ($) from related organizations   \n",
       "9                                                                   Other compensation ($) from filing organization   \n",
       "10                                                                Other compensation ($) from realted organizations   \n",
       "11                                                               Deferred compensation ($) from filing organization   \n",
       "12                                                             Deferred compensation ($) from related organizations   \n",
       "13                                                                 Nontaxable benefits ($) from filing organization   \n",
       "14                                                               Nontaxable benefits ($) from related organizations   \n",
       "15                                                                           Total of (B)(i) - (D); from filing org   \n",
       "16                                                                         Total of (B)(i) - (D); from related orgs   \n",
       "17                                                                        Comp reported prior 990 - from filing org   \n",
       "18                                                                      Comp reported prior 990 - from related orgs   \n",
       "\n",
       "                      location_code          data_type_xsd  \n",
       "0                               NaN                    NaN  \n",
       "1         SCHED-J-PART-02-COL-A-(i)         PersonNameType  \n",
       "2         SCHED-J-PART-02-COL-A-(i)  BusinessNameLine1Type  \n",
       "3        SCHED-J-PART-02-COL-A-(ii)  BusinessNameLine2Type  \n",
       "4        SCHED-J-PART-02-COL-A-(ii)    LineExplanationType  \n",
       "5      SCHED-J-PART-02-COL-B(i)-(i)           USAmountType  \n",
       "6     SCHED-J-PART-02-COL-B(i)-(ii)           USAmountType  \n",
       "7     SCHED-J-PART-02-COL-B(ii)-(i)           USAmountType  \n",
       "8    SCHED-J-PART-02-COL-B(ii)-(ii)           USAmountType  \n",
       "9    SCHED-J-PART-02-COL-B(iii)-(i)           USAmountType  \n",
       "10  SCHED-J-PART-02-COL-B(iii)-(ii)           USAmountType  \n",
       "11        SCHED-J-PART-02-COL-C-(i)           USAmountType  \n",
       "12       SCHED-J-PART-02-COL-C-(ii)           USAmountType  \n",
       "13        SCHED-J-PART-02-COL-D-(i)           USAmountType  \n",
       "14       SCHED-J-PART-02-COL-D-(ii)           USAmountType  \n",
       "15        SCHED-J-PART-02-COL-E-(i)           USAmountType  \n",
       "16       SCHED-J-PART-02-COL-E-(ii)           USAmountType  \n",
       "17        SCHED-J-PART-02-COL-F-(i)           USAmountType  \n",
       "18       SCHED-J-PART-02-COL-F-(ii)           USAmountType  "
      ]
     },
     "execution_count": 37,
     "metadata": {},
     "output_type": "execute_result"
    }
   ],
   "source": [
    "new_variables_df"
   ]
  },
  {
   "cell_type": "code",
   "execution_count": 38,
   "metadata": {},
   "outputs": [
    {
     "data": {
      "text/plain": [
       "set()"
      ]
     },
     "execution_count": 38,
     "metadata": {},
     "output_type": "execute_result"
    }
   ],
   "source": [
    "set(new_variables_df['variable_name_new'].tolist()) - set(df.columns.tolist())"
   ]
  },
  {
   "cell_type": "code",
   "execution_count": 39,
   "metadata": {},
   "outputs": [
    {
     "data": {
      "text/plain": [
       "set()"
      ]
     },
     "execution_count": 39,
     "metadata": {},
     "output_type": "execute_result"
    }
   ],
   "source": [
    "set(df.columns.tolist()) - set(new_variables_df['variable_name_new'].tolist()) "
   ]
  },
  {
   "cell_type": "code",
   "execution_count": 40,
   "metadata": {},
   "outputs": [
    {
     "name": "stdout",
     "output_type": "stream",
     "text": [
      "19\n"
     ]
    },
    {
     "data": {
      "text/html": [
       "<div>\n",
       "<style scoped>\n",
       "    .dataframe tbody tr th:only-of-type {\n",
       "        vertical-align: middle;\n",
       "    }\n",
       "\n",
       "    .dataframe tbody tr th {\n",
       "        vertical-align: top;\n",
       "    }\n",
       "\n",
       "    .dataframe thead th {\n",
       "        text-align: right;\n",
       "    }\n",
       "</style>\n",
       "<table border=\"1\" class=\"dataframe\">\n",
       "  <thead>\n",
       "    <tr style=\"text-align: right;\">\n",
       "      <th></th>\n",
       "      <th>variable_name_new</th>\n",
       "      <th>description</th>\n",
       "      <th>location_code</th>\n",
       "      <th>data_type_xsd</th>\n",
       "    </tr>\n",
       "  </thead>\n",
       "  <tbody>\n",
       "    <tr>\n",
       "      <th>0</th>\n",
       "      <td>URL</td>\n",
       "      <td>Unique identifier for filing -- use for merging with filings-level datasets (also for seeing raw filing online)</td>\n",
       "      <td>NaN</td>\n",
       "      <td>NaN</td>\n",
       "    </tr>\n",
       "  </tbody>\n",
       "</table>\n",
       "</div>"
      ],
      "text/plain": [
       "  variable_name_new  \\\n",
       "0               URL   \n",
       "\n",
       "                                                                                                       description  \\\n",
       "0  Unique identifier for filing -- use for merging with filings-level datasets (also for seeing raw filing online)   \n",
       "\n",
       "  location_code data_type_xsd  \n",
       "0           NaN           NaN  "
      ]
     },
     "execution_count": 40,
     "metadata": {},
     "output_type": "execute_result"
    }
   ],
   "source": [
    "print(len(new_variables_df))\n",
    "new_variables_df[:1]"
   ]
  },
  {
   "cell_type": "markdown",
   "metadata": {},
   "source": [
    "#### Save DF"
   ]
  },
  {
   "cell_type": "code",
   "execution_count": 41,
   "metadata": {},
   "outputs": [
    {
     "name": "stdout",
     "output_type": "stream",
     "text": [
      "Current date and time :  2022-02-24 16:24:28 \n",
      "\n",
      "Wall time: 2.99 ms\n"
     ]
    }
   ],
   "source": [
    "%%time\n",
    "import datetime\n",
    "print (\"Current date and time : \", datetime.datetime.now().strftime(\"%Y-%m-%d %H:%M:%S\"), '\\n')\n",
    "new_variables_df.to_pickle('Codebook - Schedule J (Part II).pkl')"
   ]
  },
  {
   "cell_type": "code",
   "execution_count": 37,
   "metadata": {},
   "outputs": [],
   "source": [
    "%%time\n",
    "import datetime\n",
    "print (\"Current date and time : \", datetime.datetime.now().strftime(\"%Y-%m-%d %H:%M:%S\"), '\\n')\n",
    "new_variables_df.to_excel('Codebook - Schedule J (Part II).xlsx', index=False)"
   ]
  }
 ],
 "metadata": {
  "anaconda-cloud": {},
  "kernelspec": {
   "display_name": "Python 3 (ipykernel)",
   "language": "python",
   "name": "python3"
  },
  "language_info": {
   "codemirror_mode": {
    "name": "ipython",
    "version": 3
   },
   "file_extension": ".py",
   "mimetype": "text/x-python",
   "name": "python",
   "nbconvert_exporter": "python",
   "pygments_lexer": "ipython3",
   "version": "3.10.11"
  },
  "toc": {
   "colors": {
    "hover_highlight": "#DAA520",
    "navigate_num": "#000000",
    "navigate_text": "#333333",
    "running_highlight": "#FF0000",
    "selected_highlight": "#FFD700",
    "sidebar_border": "#EEEEEE",
    "wrapper_background": "#FFFFFF"
   },
   "moveMenuLeft": true,
   "nav_menu": {
    "height": "171px",
    "width": "252px"
   },
   "navigate_menu": true,
   "number_sections": true,
   "sideBar": true,
   "threshold": 4,
   "toc_cell": false,
   "toc_section_display": "block",
   "toc_window_display": false,
   "widenNotebook": false
  }
 },
 "nbformat": 4,
 "nbformat_minor": 2
}
