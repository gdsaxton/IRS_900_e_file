{
 "cells": [
  {
   "cell_type": "markdown",
   "metadata": {},
   "source": [
    "# Overview\n",
    "\n",
    "Based off *IRS 990 e-File Data -- Excise Tax Project (4) --Parse Schedule J Part (II) and Generate Person-Level DF.ipynb*\n",
    "\n",
    "In this notebook I read in the this file (N=1,650,410):\n",
    "- *Excise Tax Project - Schedule J Part II (PERSON-LEVEL DF).pkl.gz*\n",
    "\n",
    "I then read in a *concordance* file and a collased version (*new_variables_df*) for Part II:\n",
    "- *concordance - Schedule J Part II (VERIFIED).pkl*\n",
    "- *concordance - collapsed - Schedule J Part II (new_variables_df).pkl*\n",
    "\n",
    "See the following notebook has detailed steps on how I created the additional *concordance* file variables and *new_variables_df*:\n",
    "    - *IRS 990 e-File Data -- Excise Tax Project (3b) -- Parse Schedule J Part II (person-level DF) -- NOT NEEDED -- ONLY FOR CODED FOR BUILDING CONCORDANCE FILE*\n",
    "    - Note that I in the above notebook I updated the *concordance* and *new_variables_df* files that I read in here. \n",
    "\n",
    "I then parse the *Form990ScheduleJPartII* column. \n",
    "- *Note*: I determined it was quicker -- and less prone to crash -- if I *parsed* the *Form990PartVIISectionAGrp* column rather than 'flatten' it. I do this through a series of modified 'dictionary variable' parsing functions. I thus do the same thing here with *Form990ScheduleJPartII*.\n",
    "- *Note*: I am now doing it differently from prior versions of this executive compensation notebook. Namely, I have create a better *xpath_top_len* variable (the same as in the 'Contractor Compensation' notebooks). All of the variables now have a value of '2' for *len_subkeys* in *new_variables_df*. So, I'll be looping over *new_variables_df* rows based on *xpath_top_len* instead.\n",
    "- Process variables with *xpath_top_len* value of 2\n",
    "- Process variables with *xpath_top_len* value of 3\n",
    "\n",
    "I convert relevant columns to numeric:\n",
    "\n",
    "    df[int_vars] = df[int_vars].apply(pd.to_numeric, errors='coerce')\n",
    "\n",
    "Save DF -- with *Form990ScheduleJPartII* column. \n",
    "\n",
    "- *Schedule J Part II (PERSON-LEVEL DF) parsed -- with Form990ScheduleJPartII.pkl.gz*\n",
    "\n",
    "Save DF -- without *Form990ScheduleJPartII* column. \n",
    "\n",
    "- *Schedule J Part II (PERSON-LEVEL DF) parsed.pkl.gz*"
   ]
  },
  {
   "cell_type": "markdown",
   "metadata": {},
   "source": [
    "# Load Packages and Set Working Directory"
   ]
  },
  {
   "cell_type": "code",
   "execution_count": 1,
   "metadata": {},
   "outputs": [],
   "source": [
    "import numpy as np\n",
    "import pandas as pd\n",
    "from pandas import DataFrame\n",
    "from pandas import Series"
   ]
  },
  {
   "cell_type": "code",
   "execution_count": 2,
   "metadata": {},
   "outputs": [
    {
     "name": "stdout",
     "output_type": "stream",
     "text": [
      "2.2.2\n"
     ]
    }
   ],
   "source": [
    "print(pd.__version__)"
   ]
  },
  {
   "cell_type": "code",
   "execution_count": 3,
   "metadata": {},
   "outputs": [
    {
     "name": "stdout",
     "output_type": "stream",
     "text": [
      "3.10.11\n"
     ]
    }
   ],
   "source": [
    "from platform import python_version\n",
    "print(python_version())"
   ]
  },
  {
   "cell_type": "code",
   "execution_count": 4,
   "metadata": {},
   "outputs": [],
   "source": [
    "#http://pandas.pydata.org/pandas-docs/stable/options.html\n",
    "pd.set_option('display.max_columns', None)\n",
    "pd.set_option('max_colwidth', 2500)"
   ]
  },
  {
   "cell_type": "code",
   "execution_count": 5,
   "metadata": {},
   "outputs": [],
   "source": [
    "import warnings\n",
    "warnings.simplefilter(action='ignore', category=FutureWarning)\n",
    "warnings.simplefilter(action='ignore', category=pd.errors.PerformanceWarning)\n",
    "warnings.simplefilter(action='ignore', category=pd.errors.SettingWithCopyWarning)"
   ]
  },
  {
   "cell_type": "markdown",
   "metadata": {
    "collapsed": true
   },
   "source": [
    "#### Set working directory"
   ]
  },
  {
   "cell_type": "code",
   "execution_count": 6,
   "metadata": {},
   "outputs": [
    {
     "name": "stdout",
     "output_type": "stream",
     "text": [
      "C:\\Users\\Gregory\\IRS 990 Control Variables\n"
     ]
    }
   ],
   "source": [
    "cd \"C:\\\\Users\\\\Gregory\\\\IRS 990 Control Variables\\\\\""
   ]
  },
  {
   "cell_type": "markdown",
   "metadata": {},
   "source": [
    "# Read PANDAS DF"
   ]
  },
  {
   "cell_type": "code",
   "execution_count": 7,
   "metadata": {},
   "outputs": [
    {
     "name": "stdout",
     "output_type": "stream",
     "text": [
      "Current date and time :  2025-06-27 12:33:58 \n",
      "\n",
      "# of columns: 2\n",
      "# of observations: 2972064\n",
      "CPU times: total: 19.5 s\n",
      "Wall time: 20.1 s\n"
     ]
    },
    {
     "data": {
      "text/html": [
       "<div>\n",
       "<style scoped>\n",
       "    .dataframe tbody tr th:only-of-type {\n",
       "        vertical-align: middle;\n",
       "    }\n",
       "\n",
       "    .dataframe tbody tr th {\n",
       "        vertical-align: top;\n",
       "    }\n",
       "\n",
       "    .dataframe thead th {\n",
       "        text-align: right;\n",
       "    }\n",
       "</style>\n",
       "<table border=\"1\" class=\"dataframe\">\n",
       "  <thead>\n",
       "    <tr style=\"text-align: right;\">\n",
       "      <th></th>\n",
       "      <th>URL</th>\n",
       "      <th>Form990ScheduleJPartII</th>\n",
       "    </tr>\n",
       "  </thead>\n",
       "  <tbody>\n",
       "    <tr>\n",
       "      <th>0</th>\n",
       "      <td>https://s3.amazonaws.com/irs-form-990/201113139349301311_public.xml</td>\n",
       "      <td>{'NamePerson': 'THOMAS D TURNBULL', 'CompBasedOnRelatedOrgs': '100712', 'BonusRelatedOrgs': '790', 'OtherCompensationRelatedOrgs': '1257', 'DeferredCompRelatedOrgs': '54308', 'NontaxableBenefitsRelatedOrgs': '62342', 'TotalCompensationRelatedOrgs': '219409'}</td>\n",
       "    </tr>\n",
       "  </tbody>\n",
       "</table>\n",
       "</div>"
      ],
      "text/plain": [
       "                                                                   URL  \\\n",
       "0  https://s3.amazonaws.com/irs-form-990/201113139349301311_public.xml   \n",
       "\n",
       "                                                                                                                                                                                                                                               Form990ScheduleJPartII  \n",
       "0  {'NamePerson': 'THOMAS D TURNBULL', 'CompBasedOnRelatedOrgs': '100712', 'BonusRelatedOrgs': '790', 'OtherCompensationRelatedOrgs': '1257', 'DeferredCompRelatedOrgs': '54308', 'NontaxableBenefitsRelatedOrgs': '62342', 'TotalCompensationRelatedOrgs': '219409'}  "
      ]
     },
     "execution_count": 7,
     "metadata": {},
     "output_type": "execute_result"
    }
   ],
   "source": [
    "%%time\n",
    "import datetime\n",
    "print (\"Current date and time : \", datetime.datetime.now().strftime(\"%Y-%m-%d %H:%M:%S\"), '\\n')\n",
    "df = pd.read_pickle('Schedule J Part II (PERSON-LEVEL DF).pkl.gz', compression='gzip')\n",
    "print('# of columns:', len(df.columns))\n",
    "print('# of observations:', len(df))\n",
    "df[:1]"
   ]
  },
  {
   "cell_type": "markdown",
   "metadata": {},
   "source": [
    "# Read in concordance file"
   ]
  },
  {
   "cell_type": "code",
   "execution_count": 8,
   "metadata": {},
   "outputs": [
    {
     "name": "stdout",
     "output_type": "stream",
     "text": [
      "# of columns: 17\n",
      "# of observations: 38\n"
     ]
    },
    {
     "data": {
      "text/html": [
       "<div>\n",
       "<style scoped>\n",
       "    .dataframe tbody tr th:only-of-type {\n",
       "        vertical-align: middle;\n",
       "    }\n",
       "\n",
       "    .dataframe tbody tr th {\n",
       "        vertical-align: top;\n",
       "    }\n",
       "\n",
       "    .dataframe thead th {\n",
       "        text-align: right;\n",
       "    }\n",
       "</style>\n",
       "<table border=\"1\" class=\"dataframe\">\n",
       "  <thead>\n",
       "    <tr style=\"text-align: right;\">\n",
       "      <th></th>\n",
       "      <th>xpath</th>\n",
       "      <th>variable_name_new</th>\n",
       "      <th># of Characters (newly named)</th>\n",
       "      <th>variable name notes</th>\n",
       "      <th>PARSING NOTES</th>\n",
       "      <th>OTHER NOTES</th>\n",
       "      <th>description</th>\n",
       "      <th>location_code</th>\n",
       "      <th>part</th>\n",
       "      <th>data_type_xsd</th>\n",
       "      <th>MongoDB_Name</th>\n",
       "      <th>sub_key</th>\n",
       "      <th>sub_sub_key</th>\n",
       "      <th>xpath_top_full</th>\n",
       "      <th>xpath_top</th>\n",
       "      <th>xpath_top_len</th>\n",
       "      <th>xpath_second</th>\n",
       "    </tr>\n",
       "  </thead>\n",
       "  <tbody>\n",
       "    <tr>\n",
       "      <th>0</th>\n",
       "      <td>/Return/ReturnData/IRS990ScheduleJ/Form990ScheduleJPartII/NamePerson</td>\n",
       "      <td>SJ_02_PC_NAME_OFF_TRST_KEYEMP</td>\n",
       "      <td>NaN</td>\n",
       "      <td>NaN</td>\n",
       "      <td>NaN</td>\n",
       "      <td>NaN</td>\n",
       "      <td>Name of officer - person</td>\n",
       "      <td>SCHED-J-PART-02-COL-A-(i)</td>\n",
       "      <td>PART-02</td>\n",
       "      <td>PersonNameType</td>\n",
       "      <td>NamePerson</td>\n",
       "      <td>NamePerson</td>\n",
       "      <td>NaN</td>\n",
       "      <td>Form990ScheduleJPartII/NamePerson</td>\n",
       "      <td>Form990ScheduleJPartII</td>\n",
       "      <td>2</td>\n",
       "      <td>NaN</td>\n",
       "    </tr>\n",
       "  </tbody>\n",
       "</table>\n",
       "</div>"
      ],
      "text/plain": [
       "                                                                  xpath  \\\n",
       "0  /Return/ReturnData/IRS990ScheduleJ/Form990ScheduleJPartII/NamePerson   \n",
       "\n",
       "               variable_name_new  # of Characters (newly named)  \\\n",
       "0  SJ_02_PC_NAME_OFF_TRST_KEYEMP                            NaN   \n",
       "\n",
       "   variable name notes  PARSING NOTES  OTHER NOTES               description  \\\n",
       "0                  NaN            NaN          NaN  Name of officer - person   \n",
       "\n",
       "               location_code     part   data_type_xsd MongoDB_Name  \\\n",
       "0  SCHED-J-PART-02-COL-A-(i)  PART-02  PersonNameType   NamePerson   \n",
       "\n",
       "      sub_key sub_sub_key                     xpath_top_full  \\\n",
       "0  NamePerson         NaN  Form990ScheduleJPartII/NamePerson   \n",
       "\n",
       "                xpath_top  xpath_top_len xpath_second  \n",
       "0  Form990ScheduleJPartII              2          NaN  "
      ]
     },
     "execution_count": 8,
     "metadata": {},
     "output_type": "execute_result"
    }
   ],
   "source": [
    "concordance = pd.read_pickle('concordance - Schedule J Part II (VERIFIED).pkl')\n",
    "print('# of columns:', len(concordance.columns))\n",
    "print('# of observations:', len(concordance))\n",
    "concordance[:1]"
   ]
  },
  {
   "cell_type": "code",
   "execution_count": 9,
   "metadata": {},
   "outputs": [
    {
     "name": "stdout",
     "output_type": "stream",
     "text": [
      "38\n",
      "18\n"
     ]
    }
   ],
   "source": [
    "print(len(concordance['variable_name_new'].tolist()))\n",
    "print(len(set(concordance['variable_name_new'].tolist())))"
   ]
  },
  {
   "cell_type": "markdown",
   "metadata": {},
   "source": [
    "<br>Read in DF collapsed by new variable name. There are 16 variables that we ultimately need to work with."
   ]
  },
  {
   "cell_type": "code",
   "execution_count": 10,
   "metadata": {},
   "outputs": [
    {
     "name": "stdout",
     "output_type": "stream",
     "text": [
      "# of columns: 9\n",
      "# of observations: 18\n"
     ]
    },
    {
     "data": {
      "text/html": [
       "<div>\n",
       "<style scoped>\n",
       "    .dataframe tbody tr th:only-of-type {\n",
       "        vertical-align: middle;\n",
       "    }\n",
       "\n",
       "    .dataframe tbody tr th {\n",
       "        vertical-align: top;\n",
       "    }\n",
       "\n",
       "    .dataframe thead th {\n",
       "        text-align: right;\n",
       "    }\n",
       "</style>\n",
       "<table border=\"1\" class=\"dataframe\">\n",
       "  <thead>\n",
       "    <tr style=\"text-align: right;\">\n",
       "      <th></th>\n",
       "      <th>variable_name_new</th>\n",
       "      <th>sub_keys</th>\n",
       "      <th>xpaths</th>\n",
       "      <th>xpaths_second</th>\n",
       "      <th>xpaths_third</th>\n",
       "      <th>xpath_top_len</th>\n",
       "      <th>data_type_xsd</th>\n",
       "      <th>len_subkeys</th>\n",
       "      <th>xpath_second_len</th>\n",
       "    </tr>\n",
       "  </thead>\n",
       "  <tbody>\n",
       "    <tr>\n",
       "      <th>0</th>\n",
       "      <td>SJ_02_PC_COMP_BASE</td>\n",
       "      <td>[BaseCompensationFilingOrgAmt, BaseCompensationFilingOrg]</td>\n",
       "      <td>[RltdOrgOfficerTrstKeyEmplGrp/BaseCompensationFilingOrgAmt, Form990ScheduleJPartII/BaseCompensationFilingOrg]</td>\n",
       "      <td>[nan]</td>\n",
       "      <td>NaN</td>\n",
       "      <td>2</td>\n",
       "      <td>USAmountType</td>\n",
       "      <td>2</td>\n",
       "      <td>1</td>\n",
       "    </tr>\n",
       "  </tbody>\n",
       "</table>\n",
       "</div>"
      ],
      "text/plain": [
       "    variable_name_new  \\\n",
       "0  SJ_02_PC_COMP_BASE   \n",
       "\n",
       "                                                    sub_keys  \\\n",
       "0  [BaseCompensationFilingOrgAmt, BaseCompensationFilingOrg]   \n",
       "\n",
       "                                                                                                          xpaths  \\\n",
       "0  [RltdOrgOfficerTrstKeyEmplGrp/BaseCompensationFilingOrgAmt, Form990ScheduleJPartII/BaseCompensationFilingOrg]   \n",
       "\n",
       "  xpaths_second  xpaths_third  xpath_top_len data_type_xsd  len_subkeys  \\\n",
       "0         [nan]           NaN              2  USAmountType            2   \n",
       "\n",
       "   xpath_second_len  \n",
       "0                 1  "
      ]
     },
     "execution_count": 10,
     "metadata": {},
     "output_type": "execute_result"
    }
   ],
   "source": [
    "new_variables_df = pd.read_pickle('concordance - collapsed - Schedule J Part II (new_variables_df).pkl')\n",
    "print('# of columns:', len(new_variables_df.columns))\n",
    "print('# of observations:', len(new_variables_df))\n",
    "new_variables_df[:1]"
   ]
  },
  {
   "cell_type": "markdown",
   "metadata": {},
   "source": [
    "### Write Functions"
   ]
  },
  {
   "cell_type": "code",
   "execution_count": 11,
   "metadata": {},
   "outputs": [
    {
     "data": {
      "text/plain": [
       "len_subkeys\n",
       "2    18\n",
       "Name: count, dtype: int64"
      ]
     },
     "execution_count": 11,
     "metadata": {},
     "output_type": "execute_result"
    }
   ],
   "source": [
    "new_variables_df['len_subkeys'].value_counts()"
   ]
  },
  {
   "cell_type": "code",
   "execution_count": 12,
   "metadata": {},
   "outputs": [
    {
     "name": "stdout",
     "output_type": "stream",
     "text": [
      "<class 'dict'>\n",
      "<class 'dict'>\n"
     ]
    }
   ],
   "source": [
    "for index, row in df[:2].iterrows():\n",
    "    print(type(row['Form990ScheduleJPartII']))"
   ]
  },
  {
   "cell_type": "code",
   "execution_count": 13,
   "metadata": {},
   "outputs": [],
   "source": [
    "def func(x, key1, key2):\n",
    "    if pd.isnull(x):\n",
    "        return np.nan\n",
    "    #else: \n",
    "    #    mydict = ast.literal_eval(x)\n",
    "    elif key1 in x.keys():\n",
    "        return x[key1]\n",
    "    elif key2 in x.keys():\n",
    "        return x[key2]\n",
    "    else:\n",
    "        return np.nan"
   ]
  },
  {
   "cell_type": "markdown",
   "metadata": {},
   "source": [
    "#### Process variables with *xpath_top_len* value of 2"
   ]
  },
  {
   "cell_type": "code",
   "execution_count": 14,
   "metadata": {},
   "outputs": [
    {
     "name": "stdout",
     "output_type": "stream",
     "text": [
      "16\n"
     ]
    },
    {
     "data": {
      "text/html": [
       "<div>\n",
       "<style scoped>\n",
       "    .dataframe tbody tr th:only-of-type {\n",
       "        vertical-align: middle;\n",
       "    }\n",
       "\n",
       "    .dataframe tbody tr th {\n",
       "        vertical-align: top;\n",
       "    }\n",
       "\n",
       "    .dataframe thead th {\n",
       "        text-align: right;\n",
       "    }\n",
       "</style>\n",
       "<table border=\"1\" class=\"dataframe\">\n",
       "  <thead>\n",
       "    <tr style=\"text-align: right;\">\n",
       "      <th></th>\n",
       "      <th>variable_name_new</th>\n",
       "      <th>sub_keys</th>\n",
       "      <th>xpaths</th>\n",
       "      <th>xpaths_second</th>\n",
       "      <th>xpaths_third</th>\n",
       "      <th>xpath_top_len</th>\n",
       "      <th>data_type_xsd</th>\n",
       "      <th>len_subkeys</th>\n",
       "      <th>xpath_second_len</th>\n",
       "    </tr>\n",
       "  </thead>\n",
       "  <tbody>\n",
       "    <tr>\n",
       "      <th>0</th>\n",
       "      <td>SJ_02_PC_COMP_BASE</td>\n",
       "      <td>[BaseCompensationFilingOrgAmt, BaseCompensationFilingOrg]</td>\n",
       "      <td>[RltdOrgOfficerTrstKeyEmplGrp/BaseCompensationFilingOrgAmt, Form990ScheduleJPartII/BaseCompensationFilingOrg]</td>\n",
       "      <td>[nan]</td>\n",
       "      <td>NaN</td>\n",
       "      <td>2</td>\n",
       "      <td>USAmountType</td>\n",
       "      <td>2</td>\n",
       "      <td>1</td>\n",
       "    </tr>\n",
       "    <tr>\n",
       "      <th>15</th>\n",
       "      <td>SJ_02_PC_NONTAXED_BENF</td>\n",
       "      <td>[NontaxableBenefitsFilingOrgAmt, NontaxableBenefitsFilingOrg]</td>\n",
       "      <td>[Form990ScheduleJPartII/NontaxableBenefitsFilingOrg, RltdOrgOfficerTrstKeyEmplGrp/NontaxableBenefitsFilingOrgAmt]</td>\n",
       "      <td>[nan]</td>\n",
       "      <td>NaN</td>\n",
       "      <td>2</td>\n",
       "      <td>USAmountType</td>\n",
       "      <td>2</td>\n",
       "      <td>1</td>\n",
       "    </tr>\n",
       "    <tr>\n",
       "      <th>12</th>\n",
       "      <td>SJ_02_PC_NAME_OFF_TRST_KEYEMP</td>\n",
       "      <td>[NamePerson, PersonNm]</td>\n",
       "      <td>[RltdOrgOfficerTrstKeyEmplGrp/PersonNm, Form990ScheduleJPartII/NamePerson]</td>\n",
       "      <td>[nan]</td>\n",
       "      <td>NaN</td>\n",
       "      <td>2</td>\n",
       "      <td>PersonNameType</td>\n",
       "      <td>2</td>\n",
       "      <td>1</td>\n",
       "    </tr>\n",
       "    <tr>\n",
       "      <th>11</th>\n",
       "      <td>SJ_02_PC_COMP_TOTAL_RELATED</td>\n",
       "      <td>[TotalCompensationRltdOrgsAmt, TotalCompensationRelatedOrgs]</td>\n",
       "      <td>[RltdOrgOfficerTrstKeyEmplGrp/TotalCompensationRltdOrgsAmt, Form990ScheduleJPartII/TotalCompensationRelatedOrgs]</td>\n",
       "      <td>[nan]</td>\n",
       "      <td>NaN</td>\n",
       "      <td>2</td>\n",
       "      <td>USAmountType</td>\n",
       "      <td>2</td>\n",
       "      <td>1</td>\n",
       "    </tr>\n",
       "    <tr>\n",
       "      <th>10</th>\n",
       "      <td>SJ_02_PC_COMP_TOTAL</td>\n",
       "      <td>[TotalCompensationFilingOrg, TotalCompensationFilingOrgAmt]</td>\n",
       "      <td>[RltdOrgOfficerTrstKeyEmplGrp/TotalCompensationFilingOrgAmt, Form990ScheduleJPartII/TotalCompensationFilingOrg]</td>\n",
       "      <td>[nan]</td>\n",
       "      <td>NaN</td>\n",
       "      <td>2</td>\n",
       "      <td>USAmountType</td>\n",
       "      <td>2</td>\n",
       "      <td>1</td>\n",
       "    </tr>\n",
       "    <tr>\n",
       "      <th>9</th>\n",
       "      <td>SJ_02_PC_COMP_OTHER_RELATED</td>\n",
       "      <td>[OtherCompensationRelatedOrgs, OtherCompensationRltdOrgsAmt]</td>\n",
       "      <td>[Form990ScheduleJPartII/OtherCompensationRelatedOrgs, RltdOrgOfficerTrstKeyEmplGrp/OtherCompensationRltdOrgsAmt]</td>\n",
       "      <td>[nan]</td>\n",
       "      <td>NaN</td>\n",
       "      <td>2</td>\n",
       "      <td>USAmountType</td>\n",
       "      <td>2</td>\n",
       "      <td>1</td>\n",
       "    </tr>\n",
       "    <tr>\n",
       "      <th>16</th>\n",
       "      <td>SJ_02_PC_NONTAXED_BENF_RELATED</td>\n",
       "      <td>[NontaxableBenefitsRelatedOrgs, NontaxableBenefitsRltdOrgsAmt]</td>\n",
       "      <td>[RltdOrgOfficerTrstKeyEmplGrp/NontaxableBenefitsRltdOrgsAmt, Form990ScheduleJPartII/NontaxableBenefitsRelatedOrgs]</td>\n",
       "      <td>[nan]</td>\n",
       "      <td>NaN</td>\n",
       "      <td>2</td>\n",
       "      <td>USAmountType</td>\n",
       "      <td>2</td>\n",
       "      <td>1</td>\n",
       "    </tr>\n",
       "    <tr>\n",
       "      <th>8</th>\n",
       "      <td>SJ_02_PC_COMP_OTHER</td>\n",
       "      <td>[OtherCompensationFilingOrgAmt, OtherCompensationFilingOrg]</td>\n",
       "      <td>[Form990ScheduleJPartII/OtherCompensationFilingOrg, RltdOrgOfficerTrstKeyEmplGrp/OtherCompensationFilingOrgAmt]</td>\n",
       "      <td>[nan]</td>\n",
       "      <td>NaN</td>\n",
       "      <td>2</td>\n",
       "      <td>USAmountType</td>\n",
       "      <td>2</td>\n",
       "      <td>1</td>\n",
       "    </tr>\n",
       "    <tr>\n",
       "      <th>6</th>\n",
       "      <td>SJ_02_PC_COMP_DEF_PRIOR</td>\n",
       "      <td>[CompReportPrior990FilingOrg, CompReportPrior990FilingOrgAmt]</td>\n",
       "      <td>[Form990ScheduleJPartII/CompReportPrior990FilingOrg, RltdOrgOfficerTrstKeyEmplGrp/CompReportPrior990FilingOrgAmt]</td>\n",
       "      <td>[nan]</td>\n",
       "      <td>NaN</td>\n",
       "      <td>2</td>\n",
       "      <td>USAmountType</td>\n",
       "      <td>2</td>\n",
       "      <td>1</td>\n",
       "    </tr>\n",
       "    <tr>\n",
       "      <th>5</th>\n",
       "      <td>SJ_02_PC_COMP_DEFERRED_RELATED</td>\n",
       "      <td>[DeferredCompRltdOrgsAmt, DeferredCompRelatedOrgs]</td>\n",
       "      <td>[RltdOrgOfficerTrstKeyEmplGrp/DeferredCompRltdOrgsAmt, Form990ScheduleJPartII/DeferredCompRelatedOrgs]</td>\n",
       "      <td>[nan]</td>\n",
       "      <td>NaN</td>\n",
       "      <td>2</td>\n",
       "      <td>USAmountType</td>\n",
       "      <td>2</td>\n",
       "      <td>1</td>\n",
       "    </tr>\n",
       "    <tr>\n",
       "      <th>4</th>\n",
       "      <td>SJ_02_PC_COMP_DEFERRED</td>\n",
       "      <td>[DeferredCompFilingOrg, DeferredCompensationFlngOrgAmt]</td>\n",
       "      <td>[Form990ScheduleJPartII/DeferredCompFilingOrg, RltdOrgOfficerTrstKeyEmplGrp/DeferredCompensationFlngOrgAmt]</td>\n",
       "      <td>[nan]</td>\n",
       "      <td>NaN</td>\n",
       "      <td>2</td>\n",
       "      <td>USAmountType</td>\n",
       "      <td>2</td>\n",
       "      <td>1</td>\n",
       "    </tr>\n",
       "    <tr>\n",
       "      <th>3</th>\n",
       "      <td>SJ_02_PC_COMP_BONUS_RELATED</td>\n",
       "      <td>[BonusRelatedOrganizationsAmt, BonusRelatedOrgs]</td>\n",
       "      <td>[Form990ScheduleJPartII/BonusRelatedOrgs, RltdOrgOfficerTrstKeyEmplGrp/BonusRelatedOrganizationsAmt]</td>\n",
       "      <td>[nan]</td>\n",
       "      <td>NaN</td>\n",
       "      <td>2</td>\n",
       "      <td>USAmountType</td>\n",
       "      <td>2</td>\n",
       "      <td>1</td>\n",
       "    </tr>\n",
       "    <tr>\n",
       "      <th>2</th>\n",
       "      <td>SJ_02_PC_COMP_BONUS</td>\n",
       "      <td>[BonusFilingOrganizationAmount, BonusFilingOrg]</td>\n",
       "      <td>[RltdOrgOfficerTrstKeyEmplGrp/BonusFilingOrganizationAmount, Form990ScheduleJPartII/BonusFilingOrg]</td>\n",
       "      <td>[nan]</td>\n",
       "      <td>NaN</td>\n",
       "      <td>2</td>\n",
       "      <td>USAmountType</td>\n",
       "      <td>2</td>\n",
       "      <td>1</td>\n",
       "    </tr>\n",
       "    <tr>\n",
       "      <th>1</th>\n",
       "      <td>SJ_02_PC_COMP_BASE_RELATED</td>\n",
       "      <td>[CompensationBasedOnRltdOrgsAmt, CompBasedOnRelatedOrgs]</td>\n",
       "      <td>[Form990ScheduleJPartII/CompBasedOnRelatedOrgs, RltdOrgOfficerTrstKeyEmplGrp/CompensationBasedOnRltdOrgsAmt]</td>\n",
       "      <td>[nan]</td>\n",
       "      <td>NaN</td>\n",
       "      <td>2</td>\n",
       "      <td>USAmountType</td>\n",
       "      <td>2</td>\n",
       "      <td>1</td>\n",
       "    </tr>\n",
       "    <tr>\n",
       "      <th>7</th>\n",
       "      <td>SJ_02_PC_COMP_DEF_PRIOR_RELATED</td>\n",
       "      <td>[CompReportPrior990RltdOrgsAmt, CompReportPrior990RelatedOrgs]</td>\n",
       "      <td>[Form990ScheduleJPartII/CompReportPrior990RelatedOrgs, RltdOrgOfficerTrstKeyEmplGrp/CompReportPrior990RltdOrgsAmt]</td>\n",
       "      <td>[nan]</td>\n",
       "      <td>NaN</td>\n",
       "      <td>2</td>\n",
       "      <td>USAmountType</td>\n",
       "      <td>2</td>\n",
       "      <td>1</td>\n",
       "    </tr>\n",
       "    <tr>\n",
       "      <th>17</th>\n",
       "      <td>SJ_02_PC_TITLE</td>\n",
       "      <td>[Title, TitleTxt]</td>\n",
       "      <td>[Form990ScheduleJPartII/Title, RltdOrgOfficerTrstKeyEmplGrp/TitleTxt]</td>\n",
       "      <td>[nan]</td>\n",
       "      <td>NaN</td>\n",
       "      <td>2</td>\n",
       "      <td>LineExplanationType</td>\n",
       "      <td>2</td>\n",
       "      <td>1</td>\n",
       "    </tr>\n",
       "  </tbody>\n",
       "</table>\n",
       "</div>"
      ],
      "text/plain": [
       "                  variable_name_new  \\\n",
       "0                SJ_02_PC_COMP_BASE   \n",
       "15           SJ_02_PC_NONTAXED_BENF   \n",
       "12    SJ_02_PC_NAME_OFF_TRST_KEYEMP   \n",
       "11      SJ_02_PC_COMP_TOTAL_RELATED   \n",
       "10              SJ_02_PC_COMP_TOTAL   \n",
       "9       SJ_02_PC_COMP_OTHER_RELATED   \n",
       "16   SJ_02_PC_NONTAXED_BENF_RELATED   \n",
       "8               SJ_02_PC_COMP_OTHER   \n",
       "6           SJ_02_PC_COMP_DEF_PRIOR   \n",
       "5    SJ_02_PC_COMP_DEFERRED_RELATED   \n",
       "4            SJ_02_PC_COMP_DEFERRED   \n",
       "3       SJ_02_PC_COMP_BONUS_RELATED   \n",
       "2               SJ_02_PC_COMP_BONUS   \n",
       "1        SJ_02_PC_COMP_BASE_RELATED   \n",
       "7   SJ_02_PC_COMP_DEF_PRIOR_RELATED   \n",
       "17                   SJ_02_PC_TITLE   \n",
       "\n",
       "                                                          sub_keys  \\\n",
       "0        [BaseCompensationFilingOrgAmt, BaseCompensationFilingOrg]   \n",
       "15   [NontaxableBenefitsFilingOrgAmt, NontaxableBenefitsFilingOrg]   \n",
       "12                                          [NamePerson, PersonNm]   \n",
       "11    [TotalCompensationRltdOrgsAmt, TotalCompensationRelatedOrgs]   \n",
       "10     [TotalCompensationFilingOrg, TotalCompensationFilingOrgAmt]   \n",
       "9     [OtherCompensationRelatedOrgs, OtherCompensationRltdOrgsAmt]   \n",
       "16  [NontaxableBenefitsRelatedOrgs, NontaxableBenefitsRltdOrgsAmt]   \n",
       "8      [OtherCompensationFilingOrgAmt, OtherCompensationFilingOrg]   \n",
       "6    [CompReportPrior990FilingOrg, CompReportPrior990FilingOrgAmt]   \n",
       "5               [DeferredCompRltdOrgsAmt, DeferredCompRelatedOrgs]   \n",
       "4          [DeferredCompFilingOrg, DeferredCompensationFlngOrgAmt]   \n",
       "3                 [BonusRelatedOrganizationsAmt, BonusRelatedOrgs]   \n",
       "2                  [BonusFilingOrganizationAmount, BonusFilingOrg]   \n",
       "1         [CompensationBasedOnRltdOrgsAmt, CompBasedOnRelatedOrgs]   \n",
       "7   [CompReportPrior990RltdOrgsAmt, CompReportPrior990RelatedOrgs]   \n",
       "17                                               [Title, TitleTxt]   \n",
       "\n",
       "                                                                                                                xpaths  \\\n",
       "0        [RltdOrgOfficerTrstKeyEmplGrp/BaseCompensationFilingOrgAmt, Form990ScheduleJPartII/BaseCompensationFilingOrg]   \n",
       "15   [Form990ScheduleJPartII/NontaxableBenefitsFilingOrg, RltdOrgOfficerTrstKeyEmplGrp/NontaxableBenefitsFilingOrgAmt]   \n",
       "12                                          [RltdOrgOfficerTrstKeyEmplGrp/PersonNm, Form990ScheduleJPartII/NamePerson]   \n",
       "11    [RltdOrgOfficerTrstKeyEmplGrp/TotalCompensationRltdOrgsAmt, Form990ScheduleJPartII/TotalCompensationRelatedOrgs]   \n",
       "10     [RltdOrgOfficerTrstKeyEmplGrp/TotalCompensationFilingOrgAmt, Form990ScheduleJPartII/TotalCompensationFilingOrg]   \n",
       "9     [Form990ScheduleJPartII/OtherCompensationRelatedOrgs, RltdOrgOfficerTrstKeyEmplGrp/OtherCompensationRltdOrgsAmt]   \n",
       "16  [RltdOrgOfficerTrstKeyEmplGrp/NontaxableBenefitsRltdOrgsAmt, Form990ScheduleJPartII/NontaxableBenefitsRelatedOrgs]   \n",
       "8      [Form990ScheduleJPartII/OtherCompensationFilingOrg, RltdOrgOfficerTrstKeyEmplGrp/OtherCompensationFilingOrgAmt]   \n",
       "6    [Form990ScheduleJPartII/CompReportPrior990FilingOrg, RltdOrgOfficerTrstKeyEmplGrp/CompReportPrior990FilingOrgAmt]   \n",
       "5               [RltdOrgOfficerTrstKeyEmplGrp/DeferredCompRltdOrgsAmt, Form990ScheduleJPartII/DeferredCompRelatedOrgs]   \n",
       "4          [Form990ScheduleJPartII/DeferredCompFilingOrg, RltdOrgOfficerTrstKeyEmplGrp/DeferredCompensationFlngOrgAmt]   \n",
       "3                 [Form990ScheduleJPartII/BonusRelatedOrgs, RltdOrgOfficerTrstKeyEmplGrp/BonusRelatedOrganizationsAmt]   \n",
       "2                  [RltdOrgOfficerTrstKeyEmplGrp/BonusFilingOrganizationAmount, Form990ScheduleJPartII/BonusFilingOrg]   \n",
       "1         [Form990ScheduleJPartII/CompBasedOnRelatedOrgs, RltdOrgOfficerTrstKeyEmplGrp/CompensationBasedOnRltdOrgsAmt]   \n",
       "7   [Form990ScheduleJPartII/CompReportPrior990RelatedOrgs, RltdOrgOfficerTrstKeyEmplGrp/CompReportPrior990RltdOrgsAmt]   \n",
       "17                                               [Form990ScheduleJPartII/Title, RltdOrgOfficerTrstKeyEmplGrp/TitleTxt]   \n",
       "\n",
       "   xpaths_second  xpaths_third  xpath_top_len        data_type_xsd  \\\n",
       "0          [nan]           NaN              2         USAmountType   \n",
       "15         [nan]           NaN              2         USAmountType   \n",
       "12         [nan]           NaN              2       PersonNameType   \n",
       "11         [nan]           NaN              2         USAmountType   \n",
       "10         [nan]           NaN              2         USAmountType   \n",
       "9          [nan]           NaN              2         USAmountType   \n",
       "16         [nan]           NaN              2         USAmountType   \n",
       "8          [nan]           NaN              2         USAmountType   \n",
       "6          [nan]           NaN              2         USAmountType   \n",
       "5          [nan]           NaN              2         USAmountType   \n",
       "4          [nan]           NaN              2         USAmountType   \n",
       "3          [nan]           NaN              2         USAmountType   \n",
       "2          [nan]           NaN              2         USAmountType   \n",
       "1          [nan]           NaN              2         USAmountType   \n",
       "7          [nan]           NaN              2         USAmountType   \n",
       "17         [nan]           NaN              2  LineExplanationType   \n",
       "\n",
       "    len_subkeys  xpath_second_len  \n",
       "0             2                 1  \n",
       "15            2                 1  \n",
       "12            2                 1  \n",
       "11            2                 1  \n",
       "10            2                 1  \n",
       "9             2                 1  \n",
       "16            2                 1  \n",
       "8             2                 1  \n",
       "6             2                 1  \n",
       "5             2                 1  \n",
       "4             2                 1  \n",
       "3             2                 1  \n",
       "2             2                 1  \n",
       "1             2                 1  \n",
       "7             2                 1  \n",
       "17            2                 1  "
      ]
     },
     "execution_count": 14,
     "metadata": {},
     "output_type": "execute_result"
    }
   ],
   "source": [
    "print(len(new_variables_df[new_variables_df['xpath_top_len']==2]))\n",
    "new_variables_df[new_variables_df['xpath_top_len']==2]"
   ]
  },
  {
   "cell_type": "markdown",
   "metadata": {},
   "source": [
    "<br>To see the full *xpath* for the above variables, we can look at the *concordance* file."
   ]
  },
  {
   "cell_type": "code",
   "execution_count": 15,
   "metadata": {},
   "outputs": [
    {
     "data": {
      "text/html": [
       "<div>\n",
       "<style scoped>\n",
       "    .dataframe tbody tr th:only-of-type {\n",
       "        vertical-align: middle;\n",
       "    }\n",
       "\n",
       "    .dataframe tbody tr th {\n",
       "        vertical-align: top;\n",
       "    }\n",
       "\n",
       "    .dataframe thead th {\n",
       "        text-align: right;\n",
       "    }\n",
       "</style>\n",
       "<table border=\"1\" class=\"dataframe\">\n",
       "  <thead>\n",
       "    <tr style=\"text-align: right;\">\n",
       "      <th></th>\n",
       "      <th>xpath</th>\n",
       "      <th>variable_name_new</th>\n",
       "      <th># of Characters (newly named)</th>\n",
       "      <th>variable name notes</th>\n",
       "      <th>PARSING NOTES</th>\n",
       "      <th>OTHER NOTES</th>\n",
       "      <th>description</th>\n",
       "      <th>location_code</th>\n",
       "      <th>part</th>\n",
       "      <th>data_type_xsd</th>\n",
       "      <th>MongoDB_Name</th>\n",
       "      <th>sub_key</th>\n",
       "      <th>sub_sub_key</th>\n",
       "      <th>xpath_top_full</th>\n",
       "      <th>xpath_top</th>\n",
       "      <th>xpath_top_len</th>\n",
       "      <th>xpath_second</th>\n",
       "    </tr>\n",
       "  </thead>\n",
       "  <tbody>\n",
       "    <tr>\n",
       "      <th>0</th>\n",
       "      <td>/Return/ReturnData/IRS990ScheduleJ/Form990ScheduleJPartII/NamePerson</td>\n",
       "      <td>SJ_02_PC_NAME_OFF_TRST_KEYEMP</td>\n",
       "      <td>NaN</td>\n",
       "      <td>NaN</td>\n",
       "      <td>NaN</td>\n",
       "      <td>NaN</td>\n",
       "      <td>Name of officer - person</td>\n",
       "      <td>SCHED-J-PART-02-COL-A-(i)</td>\n",
       "      <td>PART-02</td>\n",
       "      <td>PersonNameType</td>\n",
       "      <td>NamePerson</td>\n",
       "      <td>NamePerson</td>\n",
       "      <td>NaN</td>\n",
       "      <td>Form990ScheduleJPartII/NamePerson</td>\n",
       "      <td>Form990ScheduleJPartII</td>\n",
       "      <td>2</td>\n",
       "      <td>NaN</td>\n",
       "    </tr>\n",
       "    <tr>\n",
       "      <th>1</th>\n",
       "      <td>/Return/ReturnData/IRS990ScheduleJ/RltdOrgOfficerTrstKeyEmplGrp/PersonNm</td>\n",
       "      <td>SJ_02_PC_NAME_OFF_TRST_KEYEMP</td>\n",
       "      <td>NaN</td>\n",
       "      <td>NaN</td>\n",
       "      <td>NaN</td>\n",
       "      <td>NaN</td>\n",
       "      <td>Name of officer - person</td>\n",
       "      <td>SCHED-J-PART-02-COL-A-(i)</td>\n",
       "      <td>PART-02</td>\n",
       "      <td>PersonNameType</td>\n",
       "      <td>PersonNm</td>\n",
       "      <td>PersonNm</td>\n",
       "      <td>NaN</td>\n",
       "      <td>RltdOrgOfficerTrstKeyEmplGrp/PersonNm</td>\n",
       "      <td>RltdOrgOfficerTrstKeyEmplGrp</td>\n",
       "      <td>2</td>\n",
       "      <td>NaN</td>\n",
       "    </tr>\n",
       "  </tbody>\n",
       "</table>\n",
       "</div>"
      ],
      "text/plain": [
       "                                                                      xpath  \\\n",
       "0      /Return/ReturnData/IRS990ScheduleJ/Form990ScheduleJPartII/NamePerson   \n",
       "1  /Return/ReturnData/IRS990ScheduleJ/RltdOrgOfficerTrstKeyEmplGrp/PersonNm   \n",
       "\n",
       "               variable_name_new  # of Characters (newly named)  \\\n",
       "0  SJ_02_PC_NAME_OFF_TRST_KEYEMP                            NaN   \n",
       "1  SJ_02_PC_NAME_OFF_TRST_KEYEMP                            NaN   \n",
       "\n",
       "   variable name notes  PARSING NOTES  OTHER NOTES               description  \\\n",
       "0                  NaN            NaN          NaN  Name of officer - person   \n",
       "1                  NaN            NaN          NaN  Name of officer - person   \n",
       "\n",
       "               location_code     part   data_type_xsd MongoDB_Name  \\\n",
       "0  SCHED-J-PART-02-COL-A-(i)  PART-02  PersonNameType   NamePerson   \n",
       "1  SCHED-J-PART-02-COL-A-(i)  PART-02  PersonNameType     PersonNm   \n",
       "\n",
       "      sub_key sub_sub_key                         xpath_top_full  \\\n",
       "0  NamePerson         NaN      Form990ScheduleJPartII/NamePerson   \n",
       "1    PersonNm         NaN  RltdOrgOfficerTrstKeyEmplGrp/PersonNm   \n",
       "\n",
       "                      xpath_top  xpath_top_len xpath_second  \n",
       "0        Form990ScheduleJPartII              2          NaN  \n",
       "1  RltdOrgOfficerTrstKeyEmplGrp              2          NaN  "
      ]
     },
     "execution_count": 15,
     "metadata": {},
     "output_type": "execute_result"
    }
   ],
   "source": [
    "concordance[concordance['xpath_top_len']==2][:2]"
   ]
  },
  {
   "cell_type": "code",
   "execution_count": 16,
   "metadata": {},
   "outputs": [
    {
     "name": "stdout",
     "output_type": "stream",
     "text": [
      "Current date and time :  2025-06-27 12:34:38 \n",
      "\n",
      "SJ_02_PC_COMP_BASE BaseCompensationFilingOrgAmt BaseCompensationFilingOrg\n",
      "SJ_02_PC_NONTAXED_BENF NontaxableBenefitsFilingOrgAmt NontaxableBenefitsFilingOrg\n",
      "SJ_02_PC_NAME_OFF_TRST_KEYEMP NamePerson PersonNm\n",
      "SJ_02_PC_COMP_TOTAL_RELATED TotalCompensationRltdOrgsAmt TotalCompensationRelatedOrgs\n",
      "SJ_02_PC_COMP_TOTAL TotalCompensationFilingOrg TotalCompensationFilingOrgAmt\n",
      "SJ_02_PC_COMP_OTHER_RELATED OtherCompensationRelatedOrgs OtherCompensationRltdOrgsAmt\n",
      "SJ_02_PC_NONTAXED_BENF_RELATED NontaxableBenefitsRelatedOrgs NontaxableBenefitsRltdOrgsAmt\n",
      "SJ_02_PC_COMP_OTHER OtherCompensationFilingOrgAmt OtherCompensationFilingOrg\n",
      "SJ_02_PC_COMP_DEF_PRIOR CompReportPrior990FilingOrg CompReportPrior990FilingOrgAmt\n",
      "SJ_02_PC_COMP_DEFERRED_RELATED DeferredCompRltdOrgsAmt DeferredCompRelatedOrgs\n",
      "SJ_02_PC_COMP_DEFERRED DeferredCompFilingOrg DeferredCompensationFlngOrgAmt\n",
      "SJ_02_PC_COMP_BONUS_RELATED BonusRelatedOrganizationsAmt BonusRelatedOrgs\n",
      "SJ_02_PC_COMP_BONUS BonusFilingOrganizationAmount BonusFilingOrg\n",
      "SJ_02_PC_COMP_BASE_RELATED CompensationBasedOnRltdOrgsAmt CompBasedOnRelatedOrgs\n",
      "SJ_02_PC_COMP_DEF_PRIOR_RELATED CompReportPrior990RltdOrgsAmt CompReportPrior990RelatedOrgs\n",
      "SJ_02_PC_TITLE Title TitleTxt\n",
      "CPU times: total: 3min 31s\n",
      "Wall time: 3min 38s\n"
     ]
    }
   ],
   "source": [
    "%%time\n",
    "import datetime\n",
    "print (\"Current date and time : \", datetime.datetime.now().strftime(\"%Y-%m-%d %H:%M:%S\"), '\\n')\n",
    "for index, row in new_variables_df[new_variables_df['xpath_top_len']==2][:].iterrows():\n",
    "    variable = row['variable_name_new']\n",
    "    keys = row['sub_keys']\n",
    "    key1 = keys[0]\n",
    "    key2 = keys[1]\n",
    "    print(variable, key1, key2)\n",
    "    df[variable] = df['Form990ScheduleJPartII'][:].apply(func, key1=key1, key2=key2)"
   ]
  },
  {
   "cell_type": "code",
   "execution_count": 17,
   "metadata": {},
   "outputs": [
    {
     "data": {
      "text/html": [
       "<div>\n",
       "<style scoped>\n",
       "    .dataframe tbody tr th:only-of-type {\n",
       "        vertical-align: middle;\n",
       "    }\n",
       "\n",
       "    .dataframe tbody tr th {\n",
       "        vertical-align: top;\n",
       "    }\n",
       "\n",
       "    .dataframe thead th {\n",
       "        text-align: right;\n",
       "    }\n",
       "</style>\n",
       "<table border=\"1\" class=\"dataframe\">\n",
       "  <thead>\n",
       "    <tr style=\"text-align: right;\">\n",
       "      <th></th>\n",
       "      <th>URL</th>\n",
       "      <th>Form990ScheduleJPartII</th>\n",
       "      <th>SJ_02_PC_COMP_BASE</th>\n",
       "      <th>SJ_02_PC_NONTAXED_BENF</th>\n",
       "      <th>SJ_02_PC_NAME_OFF_TRST_KEYEMP</th>\n",
       "      <th>SJ_02_PC_COMP_TOTAL_RELATED</th>\n",
       "      <th>SJ_02_PC_COMP_TOTAL</th>\n",
       "      <th>SJ_02_PC_COMP_OTHER_RELATED</th>\n",
       "      <th>SJ_02_PC_NONTAXED_BENF_RELATED</th>\n",
       "      <th>SJ_02_PC_COMP_OTHER</th>\n",
       "      <th>SJ_02_PC_COMP_DEF_PRIOR</th>\n",
       "      <th>SJ_02_PC_COMP_DEFERRED_RELATED</th>\n",
       "      <th>SJ_02_PC_COMP_DEFERRED</th>\n",
       "      <th>SJ_02_PC_COMP_BONUS_RELATED</th>\n",
       "      <th>SJ_02_PC_COMP_BONUS</th>\n",
       "      <th>SJ_02_PC_COMP_BASE_RELATED</th>\n",
       "      <th>SJ_02_PC_COMP_DEF_PRIOR_RELATED</th>\n",
       "      <th>SJ_02_PC_TITLE</th>\n",
       "    </tr>\n",
       "  </thead>\n",
       "  <tbody>\n",
       "    <tr>\n",
       "      <th>1753995</th>\n",
       "      <td>https://s3.amazonaws.com/irs-form-990/202202229349300830_public.xml</td>\n",
       "      <td>{'PersonNm': 'GREGORY P WOLF', 'TitleTxt': 'GENERAL MANAGER', 'BaseCompensationFilingOrgAmt': '355115', 'CompensationBasedOnRltdOrgsAmt': '0', 'BonusFilingOrganizationAmount': '63000', 'BonusRelatedOrganizationsAmt': '0', 'OtherCompensationFilingOrgAmt': '13774', 'OtherCompensationRltdOrgsAmt': '0', 'DeferredCompensationFlngOrgAmt': '12825', 'DeferredCompRltdOrgsAmt': '0', 'NontaxableBenefitsFilingOrgAmt': '2007', 'NontaxableBenefitsRltdOrgsAmt': '0', 'TotalCompensationFilingOrgAmt': '446721', 'TotalCompensationRltdOrgsAmt': '0', 'CompReportPrior990FilingOrgAmt': '0', 'CompReportPrior990RltdOrgsAmt': '0'}</td>\n",
       "      <td>355115</td>\n",
       "      <td>2007</td>\n",
       "      <td>GREGORY P WOLF</td>\n",
       "      <td>0</td>\n",
       "      <td>446721</td>\n",
       "      <td>0</td>\n",
       "      <td>0</td>\n",
       "      <td>13774</td>\n",
       "      <td>0</td>\n",
       "      <td>0</td>\n",
       "      <td>12825</td>\n",
       "      <td>0</td>\n",
       "      <td>63000</td>\n",
       "      <td>0</td>\n",
       "      <td>0</td>\n",
       "      <td>GENERAL MANAGER</td>\n",
       "    </tr>\n",
       "  </tbody>\n",
       "</table>\n",
       "</div>"
      ],
      "text/plain": [
       "                                                                         URL  \\\n",
       "1753995  https://s3.amazonaws.com/irs-form-990/202202229349300830_public.xml   \n",
       "\n",
       "                                                                                                                                                                                                                                                                                                                                                                                                                                                                                                                                                                                                                       Form990ScheduleJPartII  \\\n",
       "1753995  {'PersonNm': 'GREGORY P WOLF', 'TitleTxt': 'GENERAL MANAGER', 'BaseCompensationFilingOrgAmt': '355115', 'CompensationBasedOnRltdOrgsAmt': '0', 'BonusFilingOrganizationAmount': '63000', 'BonusRelatedOrganizationsAmt': '0', 'OtherCompensationFilingOrgAmt': '13774', 'OtherCompensationRltdOrgsAmt': '0', 'DeferredCompensationFlngOrgAmt': '12825', 'DeferredCompRltdOrgsAmt': '0', 'NontaxableBenefitsFilingOrgAmt': '2007', 'NontaxableBenefitsRltdOrgsAmt': '0', 'TotalCompensationFilingOrgAmt': '446721', 'TotalCompensationRltdOrgsAmt': '0', 'CompReportPrior990FilingOrgAmt': '0', 'CompReportPrior990RltdOrgsAmt': '0'}   \n",
       "\n",
       "        SJ_02_PC_COMP_BASE SJ_02_PC_NONTAXED_BENF  \\\n",
       "1753995             355115                   2007   \n",
       "\n",
       "        SJ_02_PC_NAME_OFF_TRST_KEYEMP SJ_02_PC_COMP_TOTAL_RELATED  \\\n",
       "1753995                GREGORY P WOLF                           0   \n",
       "\n",
       "        SJ_02_PC_COMP_TOTAL SJ_02_PC_COMP_OTHER_RELATED  \\\n",
       "1753995              446721                           0   \n",
       "\n",
       "        SJ_02_PC_NONTAXED_BENF_RELATED SJ_02_PC_COMP_OTHER  \\\n",
       "1753995                              0               13774   \n",
       "\n",
       "        SJ_02_PC_COMP_DEF_PRIOR SJ_02_PC_COMP_DEFERRED_RELATED  \\\n",
       "1753995                       0                              0   \n",
       "\n",
       "        SJ_02_PC_COMP_DEFERRED SJ_02_PC_COMP_BONUS_RELATED  \\\n",
       "1753995                  12825                           0   \n",
       "\n",
       "        SJ_02_PC_COMP_BONUS SJ_02_PC_COMP_BASE_RELATED  \\\n",
       "1753995               63000                          0   \n",
       "\n",
       "        SJ_02_PC_COMP_DEF_PRIOR_RELATED   SJ_02_PC_TITLE  \n",
       "1753995                               0  GENERAL MANAGER  "
      ]
     },
     "execution_count": 17,
     "metadata": {},
     "output_type": "execute_result"
    }
   ],
   "source": [
    "df.sample(1)"
   ]
  },
  {
   "cell_type": "markdown",
   "metadata": {},
   "source": [
    "#### Process variables with *xpath_top_len* value of 3"
   ]
  },
  {
   "cell_type": "code",
   "execution_count": 18,
   "metadata": {},
   "outputs": [
    {
     "data": {
      "text/html": [
       "<div>\n",
       "<style scoped>\n",
       "    .dataframe tbody tr th:only-of-type {\n",
       "        vertical-align: middle;\n",
       "    }\n",
       "\n",
       "    .dataframe tbody tr th {\n",
       "        vertical-align: top;\n",
       "    }\n",
       "\n",
       "    .dataframe thead th {\n",
       "        text-align: right;\n",
       "    }\n",
       "</style>\n",
       "<table border=\"1\" class=\"dataframe\">\n",
       "  <thead>\n",
       "    <tr style=\"text-align: right;\">\n",
       "      <th></th>\n",
       "      <th>variable_name_new</th>\n",
       "      <th>sub_keys</th>\n",
       "      <th>xpaths</th>\n",
       "      <th>xpaths_second</th>\n",
       "      <th>xpaths_third</th>\n",
       "      <th>xpath_top_len</th>\n",
       "      <th>data_type_xsd</th>\n",
       "      <th>len_subkeys</th>\n",
       "      <th>xpath_second_len</th>\n",
       "    </tr>\n",
       "  </thead>\n",
       "  <tbody>\n",
       "    <tr>\n",
       "      <th>13</th>\n",
       "      <td>SJ_02_PC_NAME_OFF_TRST_KEYEMP_L1</td>\n",
       "      <td>[BusinessNameLine1, BusinessNameLine1Txt]</td>\n",
       "      <td>[RltdOrgOfficerTrstKeyEmplGrp/BusinessName/BusinessNameLine1Txt, RltdOrgOfficerTrstKeyEmplGrp/BusinessName/BusinessNameLine1, Form990ScheduleJPartII/NameBusiness/BusinessNameLine1]</td>\n",
       "      <td>[BusinessName, NameBusiness]</td>\n",
       "      <td>NaN</td>\n",
       "      <td>3</td>\n",
       "      <td>BusinessNameLine1Type</td>\n",
       "      <td>2</td>\n",
       "      <td>2</td>\n",
       "    </tr>\n",
       "    <tr>\n",
       "      <th>14</th>\n",
       "      <td>SJ_02_PC_NAME_OFF_TRST_KEYEMP_L2</td>\n",
       "      <td>[BusinessNameLine2Txt, BusinessNameLine2]</td>\n",
       "      <td>[RltdOrgOfficerTrstKeyEmplGrp/BusinessName/BusinessNameLine2Txt, RltdOrgOfficerTrstKeyEmplGrp/BusinessName/BusinessNameLine2, Form990ScheduleJPartII/NameBusiness/BusinessNameLine2]</td>\n",
       "      <td>[BusinessName, NameBusiness]</td>\n",
       "      <td>NaN</td>\n",
       "      <td>3</td>\n",
       "      <td>BusinessNameLine2Type</td>\n",
       "      <td>2</td>\n",
       "      <td>2</td>\n",
       "    </tr>\n",
       "  </tbody>\n",
       "</table>\n",
       "</div>"
      ],
      "text/plain": [
       "                   variable_name_new  \\\n",
       "13  SJ_02_PC_NAME_OFF_TRST_KEYEMP_L1   \n",
       "14  SJ_02_PC_NAME_OFF_TRST_KEYEMP_L2   \n",
       "\n",
       "                                     sub_keys  \\\n",
       "13  [BusinessNameLine1, BusinessNameLine1Txt]   \n",
       "14  [BusinessNameLine2Txt, BusinessNameLine2]   \n",
       "\n",
       "                                                                                                                                                                                  xpaths  \\\n",
       "13  [RltdOrgOfficerTrstKeyEmplGrp/BusinessName/BusinessNameLine1Txt, RltdOrgOfficerTrstKeyEmplGrp/BusinessName/BusinessNameLine1, Form990ScheduleJPartII/NameBusiness/BusinessNameLine1]   \n",
       "14  [RltdOrgOfficerTrstKeyEmplGrp/BusinessName/BusinessNameLine2Txt, RltdOrgOfficerTrstKeyEmplGrp/BusinessName/BusinessNameLine2, Form990ScheduleJPartII/NameBusiness/BusinessNameLine2]   \n",
       "\n",
       "                   xpaths_second  xpaths_third  xpath_top_len  \\\n",
       "13  [BusinessName, NameBusiness]           NaN              3   \n",
       "14  [BusinessName, NameBusiness]           NaN              3   \n",
       "\n",
       "            data_type_xsd  len_subkeys  xpath_second_len  \n",
       "13  BusinessNameLine1Type            2                 2  \n",
       "14  BusinessNameLine2Type            2                 2  "
      ]
     },
     "execution_count": 18,
     "metadata": {},
     "output_type": "execute_result"
    }
   ],
   "source": [
    "new_variables_df[new_variables_df['xpath_top_len']==3]"
   ]
  },
  {
   "cell_type": "code",
   "execution_count": 19,
   "metadata": {},
   "outputs": [],
   "source": [
    "def func_three_levels(x, level1, level2, key1, key2):\n",
    "    if pd.isnull(x):\n",
    "        return np.nan\n",
    "    #else: \n",
    "    #    mydict = ast.literal_eval(x)\n",
    "    elif level1 in x.keys():\n",
    "        if key1 in x[level1].keys():\n",
    "            return x[level1][key1]\n",
    "        elif key2 in x[level1].keys():\n",
    "            return x[level1][key2]\n",
    "    elif level2 in x.keys():    \n",
    "        if key1 in x[level2].keys():\n",
    "            return x[level2][key1]\n",
    "        elif key2 in x[level2].keys():\n",
    "            return x[level2][key2]\n",
    "    else:\n",
    "        return np.nan"
   ]
  },
  {
   "cell_type": "code",
   "execution_count": 20,
   "metadata": {},
   "outputs": [
    {
     "name": "stdout",
     "output_type": "stream",
     "text": [
      "Current date and time :  2025-06-27 12:53:53 \n",
      "\n",
      "SJ_02_PC_NAME_OFF_TRST_KEYEMP_L1 BusinessName NameBusiness BusinessNameLine1 BusinessNameLine1Txt\n",
      "SJ_02_PC_NAME_OFF_TRST_KEYEMP_L2 BusinessName NameBusiness BusinessNameLine2Txt BusinessNameLine2\n",
      "CPU times: total: 25.3 s\n",
      "Wall time: 26.1 s\n"
     ]
    }
   ],
   "source": [
    "%%time\n",
    "import datetime\n",
    "print (\"Current date and time : \", datetime.datetime.now().strftime(\"%Y-%m-%d %H:%M:%S\"), '\\n')\n",
    "for index, row in new_variables_df[new_variables_df['xpath_top_len']==3][:].iterrows():\n",
    "    variable = row['variable_name_new'] \n",
    "    levels = row['xpaths_second']\n",
    "    level1 = levels[0]\n",
    "    level2 = levels[1]    \n",
    "    keys = row['sub_keys']\n",
    "    key1 = keys[0]\n",
    "    key2 = keys[1]\n",
    "    print(variable, level1, level2, key1, key2)    \n",
    "    df[variable] = df['Form990ScheduleJPartII'][:].apply(func_three_levels, level1=level1, level2=level2,\n",
    "                                                            key1=key1, key2=key2)"
   ]
  },
  {
   "cell_type": "code",
   "execution_count": 21,
   "metadata": {},
   "outputs": [],
   "source": [
    "pd.set_option('display.float_format', lambda x: '%.1f' % x)"
   ]
  },
  {
   "cell_type": "code",
   "execution_count": 22,
   "metadata": {},
   "outputs": [
    {
     "name": "stdout",
     "output_type": "stream",
     "text": [
      "Current date and time :  2025-06-27 12:57:20 \n",
      "\n",
      "URL 2972064\n",
      "Form990ScheduleJPartII 2972064\n",
      "SJ_02_PC_COMP_BASE 2807086\n",
      "SJ_02_PC_NONTAXED_BENF 2699243\n",
      "SJ_02_PC_NAME_OFF_TRST_KEYEMP 2809765\n",
      "SJ_02_PC_COMP_TOTAL_RELATED 2608804\n",
      "SJ_02_PC_COMP_TOTAL 2812158\n",
      "SJ_02_PC_COMP_OTHER_RELATED 2523543\n",
      "SJ_02_PC_NONTAXED_BENF_RELATED 2575018\n",
      "SJ_02_PC_COMP_OTHER 2560643\n",
      "SJ_02_PC_COMP_DEF_PRIOR 2434654\n",
      "SJ_02_PC_COMP_DEFERRED_RELATED 2566118\n",
      "SJ_02_PC_COMP_DEFERRED 2679030\n",
      "SJ_02_PC_COMP_BONUS_RELATED 2508267\n",
      "SJ_02_PC_COMP_BONUS 2556043\n",
      "SJ_02_PC_COMP_BASE_RELATED 2601343\n",
      "SJ_02_PC_COMP_DEF_PRIOR_RELATED 2426826\n",
      "SJ_02_PC_TITLE 2578078\n",
      "SJ_02_PC_NAME_OFF_TRST_KEYEMP_L1 161718\n",
      "SJ_02_PC_NAME_OFF_TRST_KEYEMP_L2 249\n",
      "CPU times: total: 39.1 s\n",
      "Wall time: 41 s\n"
     ]
    }
   ],
   "source": [
    "%%time\n",
    "import datetime\n",
    "print (\"Current date and time : \", datetime.datetime.now().strftime(\"%Y-%m-%d %H:%M:%S\"), '\\n')\n",
    "for c in df.columns.tolist():\n",
    "    print(c, len(df[df[c].notnull()]))"
   ]
  },
  {
   "cell_type": "code",
   "execution_count": 23,
   "metadata": {},
   "outputs": [
    {
     "data": {
      "text/plain": [
       "set()"
      ]
     },
     "execution_count": 23,
     "metadata": {},
     "output_type": "execute_result"
    }
   ],
   "source": [
    "set(new_variables_df['variable_name_new'].tolist()) - set(df.columns.tolist())"
   ]
  },
  {
   "cell_type": "code",
   "execution_count": 24,
   "metadata": {},
   "outputs": [
    {
     "data": {
      "text/plain": [
       "{'Form990ScheduleJPartII', 'URL'}"
      ]
     },
     "execution_count": 24,
     "metadata": {},
     "output_type": "execute_result"
    }
   ],
   "source": [
    "set(df.columns.tolist()) - set(new_variables_df['variable_name_new'].tolist())"
   ]
  },
  {
   "cell_type": "markdown",
   "metadata": {},
   "source": [
    "### Change Data Type"
   ]
  },
  {
   "cell_type": "code",
   "execution_count": 25,
   "metadata": {},
   "outputs": [
    {
     "data": {
      "text/plain": [
       "URL                                 object\n",
       "Form990ScheduleJPartII              object\n",
       "SJ_02_PC_COMP_BASE                  object\n",
       "SJ_02_PC_NONTAXED_BENF              object\n",
       "SJ_02_PC_NAME_OFF_TRST_KEYEMP       object\n",
       "SJ_02_PC_COMP_TOTAL_RELATED         object\n",
       "SJ_02_PC_COMP_TOTAL                 object\n",
       "SJ_02_PC_COMP_OTHER_RELATED         object\n",
       "SJ_02_PC_NONTAXED_BENF_RELATED      object\n",
       "SJ_02_PC_COMP_OTHER                 object\n",
       "SJ_02_PC_COMP_DEF_PRIOR             object\n",
       "SJ_02_PC_COMP_DEFERRED_RELATED      object\n",
       "SJ_02_PC_COMP_DEFERRED              object\n",
       "SJ_02_PC_COMP_BONUS_RELATED         object\n",
       "SJ_02_PC_COMP_BONUS                 object\n",
       "SJ_02_PC_COMP_BASE_RELATED          object\n",
       "SJ_02_PC_COMP_DEF_PRIOR_RELATED     object\n",
       "SJ_02_PC_TITLE                      object\n",
       "SJ_02_PC_NAME_OFF_TRST_KEYEMP_L1    object\n",
       "SJ_02_PC_NAME_OFF_TRST_KEYEMP_L2    object\n",
       "dtype: object"
      ]
     },
     "execution_count": 25,
     "metadata": {},
     "output_type": "execute_result"
    }
   ],
   "source": [
    "df.dtypes"
   ]
  },
  {
   "cell_type": "code",
   "execution_count": 26,
   "metadata": {},
   "outputs": [
    {
     "data": {
      "text/plain": [
       "data_type_xsd\n",
       "USAmountType             14\n",
       "PersonNameType            1\n",
       "LineExplanationType       1\n",
       "BusinessNameLine1Type     1\n",
       "BusinessNameLine2Type     1\n",
       "Name: count, dtype: int64"
      ]
     },
     "execution_count": 26,
     "metadata": {},
     "output_type": "execute_result"
    }
   ],
   "source": [
    "new_variables_df['data_type_xsd'].value_counts()"
   ]
  },
  {
   "cell_type": "code",
   "execution_count": 27,
   "metadata": {},
   "outputs": [
    {
     "name": "stdout",
     "output_type": "stream",
     "text": [
      "14\n"
     ]
    },
    {
     "data": {
      "text/plain": [
       "['SJ_02_PC_COMP_BASE',\n",
       " 'SJ_02_PC_NONTAXED_BENF',\n",
       " 'SJ_02_PC_COMP_TOTAL_RELATED',\n",
       " 'SJ_02_PC_COMP_TOTAL',\n",
       " 'SJ_02_PC_COMP_OTHER_RELATED',\n",
       " 'SJ_02_PC_NONTAXED_BENF_RELATED',\n",
       " 'SJ_02_PC_COMP_OTHER',\n",
       " 'SJ_02_PC_COMP_DEF_PRIOR',\n",
       " 'SJ_02_PC_COMP_DEFERRED_RELATED',\n",
       " 'SJ_02_PC_COMP_DEFERRED',\n",
       " 'SJ_02_PC_COMP_BONUS_RELATED',\n",
       " 'SJ_02_PC_COMP_BONUS',\n",
       " 'SJ_02_PC_COMP_BASE_RELATED',\n",
       " 'SJ_02_PC_COMP_DEF_PRIOR_RELATED']"
      ]
     },
     "execution_count": 27,
     "metadata": {},
     "output_type": "execute_result"
    }
   ],
   "source": [
    "int_vars = new_variables_df[new_variables_df['data_type_xsd']=='USAmountType']['variable_name_new'].tolist()\n",
    "print(len(int_vars))\n",
    "int_vars"
   ]
  },
  {
   "cell_type": "code",
   "execution_count": 28,
   "metadata": {},
   "outputs": [
    {
     "data": {
      "text/plain": [
       "SJ_02_PC_COMP_BASE                 object\n",
       "SJ_02_PC_NONTAXED_BENF             object\n",
       "SJ_02_PC_COMP_TOTAL_RELATED        object\n",
       "SJ_02_PC_COMP_TOTAL                object\n",
       "SJ_02_PC_COMP_OTHER_RELATED        object\n",
       "SJ_02_PC_NONTAXED_BENF_RELATED     object\n",
       "SJ_02_PC_COMP_OTHER                object\n",
       "SJ_02_PC_COMP_DEF_PRIOR            object\n",
       "SJ_02_PC_COMP_DEFERRED_RELATED     object\n",
       "SJ_02_PC_COMP_DEFERRED             object\n",
       "SJ_02_PC_COMP_BONUS_RELATED        object\n",
       "SJ_02_PC_COMP_BONUS                object\n",
       "SJ_02_PC_COMP_BASE_RELATED         object\n",
       "SJ_02_PC_COMP_DEF_PRIOR_RELATED    object\n",
       "dtype: object"
      ]
     },
     "execution_count": 28,
     "metadata": {},
     "output_type": "execute_result"
    }
   ],
   "source": [
    "df[int_vars].dtypes"
   ]
  },
  {
   "cell_type": "code",
   "execution_count": 29,
   "metadata": {},
   "outputs": [
    {
     "name": "stdout",
     "output_type": "stream",
     "text": [
      "Current date and time :  2025-06-27 12:58:32 \n",
      "\n",
      "CPU times: total: 23.5 s\n",
      "Wall time: 24.1 s\n"
     ]
    }
   ],
   "source": [
    "%%time\n",
    "import datetime\n",
    "print (\"Current date and time : \", datetime.datetime.now().strftime(\"%Y-%m-%d %H:%M:%S\"), '\\n')\n",
    "df[int_vars] = df[int_vars].apply(pd.to_numeric, errors='coerce')"
   ]
  },
  {
   "cell_type": "code",
   "execution_count": 30,
   "metadata": {},
   "outputs": [
    {
     "data": {
      "text/plain": [
       "SJ_02_PC_COMP_BASE                 float64\n",
       "SJ_02_PC_NONTAXED_BENF             float64\n",
       "SJ_02_PC_COMP_TOTAL_RELATED        float64\n",
       "SJ_02_PC_COMP_TOTAL                float64\n",
       "SJ_02_PC_COMP_OTHER_RELATED        float64\n",
       "SJ_02_PC_NONTAXED_BENF_RELATED     float64\n",
       "SJ_02_PC_COMP_OTHER                float64\n",
       "SJ_02_PC_COMP_DEF_PRIOR            float64\n",
       "SJ_02_PC_COMP_DEFERRED_RELATED     float64\n",
       "SJ_02_PC_COMP_DEFERRED             float64\n",
       "SJ_02_PC_COMP_BONUS_RELATED        float64\n",
       "SJ_02_PC_COMP_BONUS                float64\n",
       "SJ_02_PC_COMP_BASE_RELATED         float64\n",
       "SJ_02_PC_COMP_DEF_PRIOR_RELATED    float64\n",
       "dtype: object"
      ]
     },
     "execution_count": 30,
     "metadata": {},
     "output_type": "execute_result"
    }
   ],
   "source": [
    "df[int_vars].dtypes"
   ]
  },
  {
   "cell_type": "code",
   "execution_count": 31,
   "metadata": {},
   "outputs": [
    {
     "data": {
      "text/plain": [
       "URL                                  object\n",
       "Form990ScheduleJPartII               object\n",
       "SJ_02_PC_COMP_BASE                  float64\n",
       "SJ_02_PC_NONTAXED_BENF              float64\n",
       "SJ_02_PC_NAME_OFF_TRST_KEYEMP        object\n",
       "SJ_02_PC_COMP_TOTAL_RELATED         float64\n",
       "SJ_02_PC_COMP_TOTAL                 float64\n",
       "SJ_02_PC_COMP_OTHER_RELATED         float64\n",
       "SJ_02_PC_NONTAXED_BENF_RELATED      float64\n",
       "SJ_02_PC_COMP_OTHER                 float64\n",
       "SJ_02_PC_COMP_DEF_PRIOR             float64\n",
       "SJ_02_PC_COMP_DEFERRED_RELATED      float64\n",
       "SJ_02_PC_COMP_DEFERRED              float64\n",
       "SJ_02_PC_COMP_BONUS_RELATED         float64\n",
       "SJ_02_PC_COMP_BONUS                 float64\n",
       "SJ_02_PC_COMP_BASE_RELATED          float64\n",
       "SJ_02_PC_COMP_DEF_PRIOR_RELATED     float64\n",
       "SJ_02_PC_TITLE                       object\n",
       "SJ_02_PC_NAME_OFF_TRST_KEYEMP_L1     object\n",
       "SJ_02_PC_NAME_OFF_TRST_KEYEMP_L2     object\n",
       "dtype: object"
      ]
     },
     "execution_count": 31,
     "metadata": {},
     "output_type": "execute_result"
    }
   ],
   "source": [
    "df.dtypes"
   ]
  },
  {
   "cell_type": "markdown",
   "metadata": {},
   "source": [
    "#### Save DF -- with *Form990ScheduleJPartII*"
   ]
  },
  {
   "cell_type": "code",
   "execution_count": 32,
   "metadata": {},
   "outputs": [
    {
     "name": "stdout",
     "output_type": "stream",
     "text": [
      "Current date and time :  2025-06-27 13:33:54 \n",
      "\n",
      "CPU times: total: 3min 53s\n",
      "Wall time: 3min 59s\n"
     ]
    }
   ],
   "source": [
    "%%time\n",
    "import datetime\n",
    "print (\"Current date and time : \", datetime.datetime.now().strftime(\"%Y-%m-%d %H:%M:%S\"), '\\n')\n",
    "df.to_pickle('Schedule J Part II (PERSON-LEVEL DF) parsed -- with Form990ScheduleJPartII.pkl.gz', compression='gzip')"
   ]
  },
  {
   "cell_type": "markdown",
   "metadata": {},
   "source": [
    "#### Save DF -- without *Form990ScheduleJPartII*"
   ]
  },
  {
   "cell_type": "code",
   "execution_count": 33,
   "metadata": {},
   "outputs": [
    {
     "name": "stdout",
     "output_type": "stream",
     "text": [
      "Current date and time :  2025-06-27 13:57:40 \n",
      "\n",
      "URL 2972064\n",
      "Form990ScheduleJPartII 2972064\n",
      "SJ_02_PC_COMP_BASE 2807086\n",
      "SJ_02_PC_NONTAXED_BENF 2699243\n",
      "SJ_02_PC_NAME_OFF_TRST_KEYEMP 2809765\n",
      "SJ_02_PC_COMP_TOTAL_RELATED 2608804\n",
      "SJ_02_PC_COMP_TOTAL 2812158\n",
      "SJ_02_PC_COMP_OTHER_RELATED 2523543\n",
      "SJ_02_PC_NONTAXED_BENF_RELATED 2575018\n",
      "SJ_02_PC_COMP_OTHER 2560643\n",
      "SJ_02_PC_COMP_DEF_PRIOR 2434654\n",
      "SJ_02_PC_COMP_DEFERRED_RELATED 2566118\n",
      "SJ_02_PC_COMP_DEFERRED 2679030\n",
      "SJ_02_PC_COMP_BONUS_RELATED 2508267\n",
      "SJ_02_PC_COMP_BONUS 2556043\n",
      "SJ_02_PC_COMP_BASE_RELATED 2601343\n",
      "SJ_02_PC_COMP_DEF_PRIOR_RELATED 2426826\n",
      "SJ_02_PC_TITLE 2578078\n",
      "SJ_02_PC_NAME_OFF_TRST_KEYEMP_L1 161718\n",
      "SJ_02_PC_NAME_OFF_TRST_KEYEMP_L2 249\n",
      "CPU times: total: 18.9 s\n",
      "Wall time: 19.7 s\n"
     ]
    }
   ],
   "source": [
    "%%time\n",
    "import datetime\n",
    "print (\"Current date and time : \", datetime.datetime.now().strftime(\"%Y-%m-%d %H:%M:%S\"), '\\n')\n",
    "for c in df.columns.tolist():\n",
    "    print(c, len(df[df[c].notnull()]))"
   ]
  },
  {
   "cell_type": "code",
   "execution_count": 34,
   "metadata": {},
   "outputs": [
    {
     "data": {
      "text/plain": [
       "URL                                  object\n",
       "Form990ScheduleJPartII               object\n",
       "SJ_02_PC_COMP_BASE                  float64\n",
       "SJ_02_PC_NONTAXED_BENF              float64\n",
       "SJ_02_PC_NAME_OFF_TRST_KEYEMP        object\n",
       "SJ_02_PC_COMP_TOTAL_RELATED         float64\n",
       "SJ_02_PC_COMP_TOTAL                 float64\n",
       "SJ_02_PC_COMP_OTHER_RELATED         float64\n",
       "SJ_02_PC_NONTAXED_BENF_RELATED      float64\n",
       "SJ_02_PC_COMP_OTHER                 float64\n",
       "SJ_02_PC_COMP_DEF_PRIOR             float64\n",
       "SJ_02_PC_COMP_DEFERRED_RELATED      float64\n",
       "SJ_02_PC_COMP_DEFERRED              float64\n",
       "SJ_02_PC_COMP_BONUS_RELATED         float64\n",
       "SJ_02_PC_COMP_BONUS                 float64\n",
       "SJ_02_PC_COMP_BASE_RELATED          float64\n",
       "SJ_02_PC_COMP_DEF_PRIOR_RELATED     float64\n",
       "SJ_02_PC_TITLE                       object\n",
       "SJ_02_PC_NAME_OFF_TRST_KEYEMP_L1     object\n",
       "SJ_02_PC_NAME_OFF_TRST_KEYEMP_L2     object\n",
       "dtype: object"
      ]
     },
     "execution_count": 34,
     "metadata": {},
     "output_type": "execute_result"
    }
   ],
   "source": [
    "df.dtypes"
   ]
  },
  {
   "cell_type": "code",
   "execution_count": 35,
   "metadata": {},
   "outputs": [
    {
     "name": "stdout",
     "output_type": "stream",
     "text": [
      "['URL', 'Form990ScheduleJPartII', 'SJ_02_PC_COMP_BASE', 'SJ_02_PC_NONTAXED_BENF', 'SJ_02_PC_NAME_OFF_TRST_KEYEMP', 'SJ_02_PC_COMP_TOTAL_RELATED', 'SJ_02_PC_COMP_TOTAL', 'SJ_02_PC_COMP_OTHER_RELATED', 'SJ_02_PC_NONTAXED_BENF_RELATED', 'SJ_02_PC_COMP_OTHER', 'SJ_02_PC_COMP_DEF_PRIOR', 'SJ_02_PC_COMP_DEFERRED_RELATED', 'SJ_02_PC_COMP_DEFERRED', 'SJ_02_PC_COMP_BONUS_RELATED', 'SJ_02_PC_COMP_BONUS', 'SJ_02_PC_COMP_BASE_RELATED', 'SJ_02_PC_COMP_DEF_PRIOR_RELATED', 'SJ_02_PC_TITLE', 'SJ_02_PC_NAME_OFF_TRST_KEYEMP_L1', 'SJ_02_PC_NAME_OFF_TRST_KEYEMP_L2']\n"
     ]
    }
   ],
   "source": [
    "print(df.columns.tolist())"
   ]
  },
  {
   "cell_type": "code",
   "execution_count": 36,
   "metadata": {},
   "outputs": [
    {
     "data": {
      "text/plain": [
       "['SJ_02_PC_NAME_OFF_TRST_KEYEMP',\n",
       " 'SJ_02_PC_NAME_OFF_TRST_KEYEMP',\n",
       " 'SJ_02_PC_NAME_OFF_TRST_KEYEMP_L1',\n",
       " 'SJ_02_PC_NAME_OFF_TRST_KEYEMP_L1',\n",
       " 'SJ_02_PC_NAME_OFF_TRST_KEYEMP_L1',\n",
       " 'SJ_02_PC_NAME_OFF_TRST_KEYEMP_L2',\n",
       " 'SJ_02_PC_NAME_OFF_TRST_KEYEMP_L2',\n",
       " 'SJ_02_PC_NAME_OFF_TRST_KEYEMP_L2',\n",
       " 'SJ_02_PC_TITLE',\n",
       " 'SJ_02_PC_TITLE',\n",
       " 'SJ_02_PC_COMP_BASE',\n",
       " 'SJ_02_PC_COMP_BASE',\n",
       " 'SJ_02_PC_COMP_BASE_RELATED',\n",
       " 'SJ_02_PC_COMP_BASE_RELATED',\n",
       " 'SJ_02_PC_COMP_BONUS',\n",
       " 'SJ_02_PC_COMP_BONUS',\n",
       " 'SJ_02_PC_COMP_BONUS_RELATED',\n",
       " 'SJ_02_PC_COMP_BONUS_RELATED',\n",
       " 'SJ_02_PC_COMP_OTHER',\n",
       " 'SJ_02_PC_COMP_OTHER',\n",
       " 'SJ_02_PC_COMP_OTHER_RELATED',\n",
       " 'SJ_02_PC_COMP_OTHER_RELATED',\n",
       " 'SJ_02_PC_COMP_DEFERRED',\n",
       " 'SJ_02_PC_COMP_DEFERRED',\n",
       " 'SJ_02_PC_COMP_DEFERRED_RELATED',\n",
       " 'SJ_02_PC_COMP_DEFERRED_RELATED',\n",
       " 'SJ_02_PC_NONTAXED_BENF',\n",
       " 'SJ_02_PC_NONTAXED_BENF',\n",
       " 'SJ_02_PC_NONTAXED_BENF_RELATED',\n",
       " 'SJ_02_PC_NONTAXED_BENF_RELATED',\n",
       " 'SJ_02_PC_COMP_TOTAL',\n",
       " 'SJ_02_PC_COMP_TOTAL',\n",
       " 'SJ_02_PC_COMP_TOTAL_RELATED',\n",
       " 'SJ_02_PC_COMP_TOTAL_RELATED',\n",
       " 'SJ_02_PC_COMP_DEF_PRIOR',\n",
       " 'SJ_02_PC_COMP_DEF_PRIOR',\n",
       " 'SJ_02_PC_COMP_DEF_PRIOR_RELATED',\n",
       " 'SJ_02_PC_COMP_DEF_PRIOR_RELATED']"
      ]
     },
     "execution_count": 36,
     "metadata": {},
     "output_type": "execute_result"
    }
   ],
   "source": [
    "concordance['variable_name_new'].tolist()"
   ]
  },
  {
   "cell_type": "markdown",
   "metadata": {},
   "source": [
    "<br>Re-arrange column order"
   ]
  },
  {
   "cell_type": "code",
   "execution_count": 37,
   "metadata": {},
   "outputs": [
    {
     "data": {
      "text/html": [
       "<div>\n",
       "<style scoped>\n",
       "    .dataframe tbody tr th:only-of-type {\n",
       "        vertical-align: middle;\n",
       "    }\n",
       "\n",
       "    .dataframe tbody tr th {\n",
       "        vertical-align: top;\n",
       "    }\n",
       "\n",
       "    .dataframe thead th {\n",
       "        text-align: right;\n",
       "    }\n",
       "</style>\n",
       "<table border=\"1\" class=\"dataframe\">\n",
       "  <thead>\n",
       "    <tr style=\"text-align: right;\">\n",
       "      <th></th>\n",
       "      <th>URL</th>\n",
       "      <th>SJ_02_PC_NAME_OFF_TRST_KEYEMP</th>\n",
       "      <th>SJ_02_PC_NAME_OFF_TRST_KEYEMP_L1</th>\n",
       "      <th>SJ_02_PC_NAME_OFF_TRST_KEYEMP_L2</th>\n",
       "      <th>SJ_02_PC_TITLE</th>\n",
       "      <th>SJ_02_PC_COMP_BASE</th>\n",
       "      <th>SJ_02_PC_COMP_BASE_RELATED</th>\n",
       "      <th>SJ_02_PC_COMP_BONUS</th>\n",
       "      <th>SJ_02_PC_COMP_BONUS_RELATED</th>\n",
       "      <th>SJ_02_PC_COMP_OTHER</th>\n",
       "      <th>SJ_02_PC_COMP_OTHER_RELATED</th>\n",
       "      <th>SJ_02_PC_COMP_DEFERRED</th>\n",
       "      <th>SJ_02_PC_COMP_DEFERRED_RELATED</th>\n",
       "      <th>SJ_02_PC_NONTAXED_BENF</th>\n",
       "      <th>SJ_02_PC_NONTAXED_BENF_RELATED</th>\n",
       "      <th>SJ_02_PC_COMP_TOTAL</th>\n",
       "      <th>SJ_02_PC_COMP_TOTAL_RELATED</th>\n",
       "      <th>SJ_02_PC_COMP_DEF_PRIOR</th>\n",
       "      <th>SJ_02_PC_COMP_DEF_PRIOR_RELATED</th>\n",
       "    </tr>\n",
       "  </thead>\n",
       "  <tbody>\n",
       "    <tr>\n",
       "      <th>32332</th>\n",
       "      <td>https://s3.amazonaws.com/irs-form-990/201121369349302597_public.xml</td>\n",
       "      <td>STEVEN SCHWARTZ</td>\n",
       "      <td>NaN</td>\n",
       "      <td>NaN</td>\n",
       "      <td>NaN</td>\n",
       "      <td>446763.0</td>\n",
       "      <td>NaN</td>\n",
       "      <td>NaN</td>\n",
       "      <td>NaN</td>\n",
       "      <td>480.0</td>\n",
       "      <td>NaN</td>\n",
       "      <td>NaN</td>\n",
       "      <td>NaN</td>\n",
       "      <td>40217.0</td>\n",
       "      <td>NaN</td>\n",
       "      <td>487460.0</td>\n",
       "      <td>NaN</td>\n",
       "      <td>NaN</td>\n",
       "      <td>NaN</td>\n",
       "    </tr>\n",
       "    <tr>\n",
       "      <th>1309535</th>\n",
       "      <td>https://s3.amazonaws.com/irs-form-990/201932279349303063_public.xml</td>\n",
       "      <td>Eric D Berger</td>\n",
       "      <td>NaN</td>\n",
       "      <td>NaN</td>\n",
       "      <td>VP Supply Chain</td>\n",
       "      <td>NaN</td>\n",
       "      <td>181687.0</td>\n",
       "      <td>NaN</td>\n",
       "      <td>NaN</td>\n",
       "      <td>NaN</td>\n",
       "      <td>8416.0</td>\n",
       "      <td>NaN</td>\n",
       "      <td>NaN</td>\n",
       "      <td>NaN</td>\n",
       "      <td>33820.0</td>\n",
       "      <td>NaN</td>\n",
       "      <td>223923.0</td>\n",
       "      <td>NaN</td>\n",
       "      <td>NaN</td>\n",
       "    </tr>\n",
       "    <tr>\n",
       "      <th>1170751</th>\n",
       "      <td>https://s3.amazonaws.com/irs-form-990/201832819349301103_public.xml</td>\n",
       "      <td>Josephine Bias Robinson</td>\n",
       "      <td>NaN</td>\n",
       "      <td>NaN</td>\n",
       "      <td>EVP, external affairs</td>\n",
       "      <td>0.0</td>\n",
       "      <td>256768.0</td>\n",
       "      <td>0.0</td>\n",
       "      <td>0.0</td>\n",
       "      <td>0.0</td>\n",
       "      <td>15288.0</td>\n",
       "      <td>0.0</td>\n",
       "      <td>16500.0</td>\n",
       "      <td>0.0</td>\n",
       "      <td>0.0</td>\n",
       "      <td>0.0</td>\n",
       "      <td>288556.0</td>\n",
       "      <td>0.0</td>\n",
       "      <td>0.0</td>\n",
       "    </tr>\n",
       "    <tr>\n",
       "      <th>2152692</th>\n",
       "      <td>https://s3.amazonaws.com/irs-form-990/202301319349307515_public.xml</td>\n",
       "      <td>BRIAN T CORBETT ESQ</td>\n",
       "      <td>NaN</td>\n",
       "      <td>NaN</td>\n",
       "      <td>SECRETARY &amp; TRUSTEE</td>\n",
       "      <td>0.0</td>\n",
       "      <td>508710.0</td>\n",
       "      <td>0.0</td>\n",
       "      <td>166404.0</td>\n",
       "      <td>0.0</td>\n",
       "      <td>107.0</td>\n",
       "      <td>0.0</td>\n",
       "      <td>107277.0</td>\n",
       "      <td>0.0</td>\n",
       "      <td>36719.0</td>\n",
       "      <td>0.0</td>\n",
       "      <td>819217.0</td>\n",
       "      <td>0.0</td>\n",
       "      <td>101049.0</td>\n",
       "    </tr>\n",
       "    <tr>\n",
       "      <th>1117359</th>\n",
       "      <td>https://s3.amazonaws.com/irs-form-990/201831249349301018_public.xml</td>\n",
       "      <td>NaN</td>\n",
       "      <td>DOUGLAS WICKERHAM</td>\n",
       "      <td>None</td>\n",
       "      <td>TREASURER</td>\n",
       "      <td>0.0</td>\n",
       "      <td>313517.0</td>\n",
       "      <td>0.0</td>\n",
       "      <td>24530.0</td>\n",
       "      <td>0.0</td>\n",
       "      <td>22044.0</td>\n",
       "      <td>0.0</td>\n",
       "      <td>2977.0</td>\n",
       "      <td>0.0</td>\n",
       "      <td>17040.0</td>\n",
       "      <td>0.0</td>\n",
       "      <td>380108.0</td>\n",
       "      <td>0.0</td>\n",
       "      <td>0.0</td>\n",
       "    </tr>\n",
       "  </tbody>\n",
       "</table>\n",
       "</div>"
      ],
      "text/plain": [
       "                                                                         URL  \\\n",
       "32332    https://s3.amazonaws.com/irs-form-990/201121369349302597_public.xml   \n",
       "1309535  https://s3.amazonaws.com/irs-form-990/201932279349303063_public.xml   \n",
       "1170751  https://s3.amazonaws.com/irs-form-990/201832819349301103_public.xml   \n",
       "2152692  https://s3.amazonaws.com/irs-form-990/202301319349307515_public.xml   \n",
       "1117359  https://s3.amazonaws.com/irs-form-990/201831249349301018_public.xml   \n",
       "\n",
       "        SJ_02_PC_NAME_OFF_TRST_KEYEMP SJ_02_PC_NAME_OFF_TRST_KEYEMP_L1  \\\n",
       "32332                 STEVEN SCHWARTZ                              NaN   \n",
       "1309535                 Eric D Berger                              NaN   \n",
       "1170751       Josephine Bias Robinson                              NaN   \n",
       "2152692           BRIAN T CORBETT ESQ                              NaN   \n",
       "1117359                           NaN                DOUGLAS WICKERHAM   \n",
       "\n",
       "        SJ_02_PC_NAME_OFF_TRST_KEYEMP_L2         SJ_02_PC_TITLE  \\\n",
       "32332                                NaN                    NaN   \n",
       "1309535                              NaN        VP Supply Chain   \n",
       "1170751                              NaN  EVP, external affairs   \n",
       "2152692                              NaN    SECRETARY & TRUSTEE   \n",
       "1117359                             None              TREASURER   \n",
       "\n",
       "         SJ_02_PC_COMP_BASE  SJ_02_PC_COMP_BASE_RELATED  SJ_02_PC_COMP_BONUS  \\\n",
       "32332              446763.0                         NaN                  NaN   \n",
       "1309535                 NaN                    181687.0                  NaN   \n",
       "1170751                 0.0                    256768.0                  0.0   \n",
       "2152692                 0.0                    508710.0                  0.0   \n",
       "1117359                 0.0                    313517.0                  0.0   \n",
       "\n",
       "         SJ_02_PC_COMP_BONUS_RELATED  SJ_02_PC_COMP_OTHER  \\\n",
       "32332                            NaN                480.0   \n",
       "1309535                          NaN                  NaN   \n",
       "1170751                          0.0                  0.0   \n",
       "2152692                     166404.0                  0.0   \n",
       "1117359                      24530.0                  0.0   \n",
       "\n",
       "         SJ_02_PC_COMP_OTHER_RELATED  SJ_02_PC_COMP_DEFERRED  \\\n",
       "32332                            NaN                     NaN   \n",
       "1309535                       8416.0                     NaN   \n",
       "1170751                      15288.0                     0.0   \n",
       "2152692                        107.0                     0.0   \n",
       "1117359                      22044.0                     0.0   \n",
       "\n",
       "         SJ_02_PC_COMP_DEFERRED_RELATED  SJ_02_PC_NONTAXED_BENF  \\\n",
       "32332                               NaN                 40217.0   \n",
       "1309535                             NaN                     NaN   \n",
       "1170751                         16500.0                     0.0   \n",
       "2152692                        107277.0                     0.0   \n",
       "1117359                          2977.0                     0.0   \n",
       "\n",
       "         SJ_02_PC_NONTAXED_BENF_RELATED  SJ_02_PC_COMP_TOTAL  \\\n",
       "32332                               NaN             487460.0   \n",
       "1309535                         33820.0                  NaN   \n",
       "1170751                             0.0                  0.0   \n",
       "2152692                         36719.0                  0.0   \n",
       "1117359                         17040.0                  0.0   \n",
       "\n",
       "         SJ_02_PC_COMP_TOTAL_RELATED  SJ_02_PC_COMP_DEF_PRIOR  \\\n",
       "32332                            NaN                      NaN   \n",
       "1309535                     223923.0                      NaN   \n",
       "1170751                     288556.0                      0.0   \n",
       "2152692                     819217.0                      0.0   \n",
       "1117359                     380108.0                      0.0   \n",
       "\n",
       "         SJ_02_PC_COMP_DEF_PRIOR_RELATED  \n",
       "32332                                NaN  \n",
       "1309535                              NaN  \n",
       "1170751                              0.0  \n",
       "2152692                         101049.0  \n",
       "1117359                              0.0  "
      ]
     },
     "execution_count": 37,
     "metadata": {},
     "output_type": "execute_result"
    }
   ],
   "source": [
    "cols = ['URL', #'Form990ScheduleJPartII', \n",
    "        'SJ_02_PC_NAME_OFF_TRST_KEYEMP', 'SJ_02_PC_NAME_OFF_TRST_KEYEMP_L1', 'SJ_02_PC_NAME_OFF_TRST_KEYEMP_L2',\n",
    "        'SJ_02_PC_TITLE',\n",
    "        'SJ_02_PC_COMP_BASE', 'SJ_02_PC_COMP_BASE_RELATED', 'SJ_02_PC_COMP_BONUS', 'SJ_02_PC_COMP_BONUS_RELATED',\n",
    "        'SJ_02_PC_COMP_OTHER', 'SJ_02_PC_COMP_OTHER_RELATED',\n",
    "        'SJ_02_PC_COMP_DEFERRED', 'SJ_02_PC_COMP_DEFERRED_RELATED', \n",
    "        'SJ_02_PC_NONTAXED_BENF', 'SJ_02_PC_NONTAXED_BENF_RELATED', \n",
    "        'SJ_02_PC_COMP_TOTAL', 'SJ_02_PC_COMP_TOTAL_RELATED',\n",
    "        'SJ_02_PC_COMP_DEF_PRIOR', 'SJ_02_PC_COMP_DEF_PRIOR_RELATED', \n",
    "        ]\n",
    "df[cols].sample(5)"
   ]
  },
  {
   "cell_type": "markdown",
   "metadata": {},
   "source": [
    "##### Check that columns match expectations"
   ]
  },
  {
   "cell_type": "code",
   "execution_count": 38,
   "metadata": {},
   "outputs": [
    {
     "data": {
      "text/plain": [
       "{'URL'}"
      ]
     },
     "execution_count": 38,
     "metadata": {},
     "output_type": "execute_result"
    }
   ],
   "source": [
    "set(cols) - set(concordance['variable_name_new'].tolist())"
   ]
  },
  {
   "cell_type": "code",
   "execution_count": 39,
   "metadata": {},
   "outputs": [
    {
     "data": {
      "text/plain": [
       "set()"
      ]
     },
     "execution_count": 39,
     "metadata": {},
     "output_type": "execute_result"
    }
   ],
   "source": [
    "set(concordance['variable_name_new'].tolist()) - set(cols)"
   ]
  },
  {
   "cell_type": "code",
   "execution_count": 40,
   "metadata": {},
   "outputs": [
    {
     "data": {
      "text/plain": [
       "set()"
      ]
     },
     "execution_count": 40,
     "metadata": {},
     "output_type": "execute_result"
    }
   ],
   "source": [
    "set(cols) - set(df.columns.tolist())"
   ]
  },
  {
   "cell_type": "code",
   "execution_count": 41,
   "metadata": {},
   "outputs": [
    {
     "data": {
      "text/plain": [
       "{'Form990ScheduleJPartII'}"
      ]
     },
     "execution_count": 41,
     "metadata": {},
     "output_type": "execute_result"
    }
   ],
   "source": [
    "set(df.columns.tolist()) - set(cols)"
   ]
  },
  {
   "cell_type": "code",
   "execution_count": 42,
   "metadata": {},
   "outputs": [
    {
     "data": {
      "text/html": [
       "<div>\n",
       "<style scoped>\n",
       "    .dataframe tbody tr th:only-of-type {\n",
       "        vertical-align: middle;\n",
       "    }\n",
       "\n",
       "    .dataframe tbody tr th {\n",
       "        vertical-align: top;\n",
       "    }\n",
       "\n",
       "    .dataframe thead th {\n",
       "        text-align: right;\n",
       "    }\n",
       "</style>\n",
       "<table border=\"1\" class=\"dataframe\">\n",
       "  <thead>\n",
       "    <tr style=\"text-align: right;\">\n",
       "      <th></th>\n",
       "      <th>URL</th>\n",
       "      <th>SJ_02_PC_NAME_OFF_TRST_KEYEMP</th>\n",
       "      <th>SJ_02_PC_NAME_OFF_TRST_KEYEMP_L1</th>\n",
       "      <th>SJ_02_PC_NAME_OFF_TRST_KEYEMP_L2</th>\n",
       "      <th>SJ_02_PC_TITLE</th>\n",
       "      <th>SJ_02_PC_COMP_BASE</th>\n",
       "      <th>SJ_02_PC_COMP_BASE_RELATED</th>\n",
       "      <th>SJ_02_PC_COMP_BONUS</th>\n",
       "      <th>SJ_02_PC_COMP_BONUS_RELATED</th>\n",
       "      <th>SJ_02_PC_COMP_OTHER</th>\n",
       "      <th>SJ_02_PC_COMP_OTHER_RELATED</th>\n",
       "      <th>SJ_02_PC_COMP_DEFERRED</th>\n",
       "      <th>SJ_02_PC_COMP_DEFERRED_RELATED</th>\n",
       "      <th>SJ_02_PC_NONTAXED_BENF</th>\n",
       "      <th>SJ_02_PC_NONTAXED_BENF_RELATED</th>\n",
       "      <th>SJ_02_PC_COMP_TOTAL</th>\n",
       "      <th>SJ_02_PC_COMP_TOTAL_RELATED</th>\n",
       "      <th>SJ_02_PC_COMP_DEF_PRIOR</th>\n",
       "      <th>SJ_02_PC_COMP_DEF_PRIOR_RELATED</th>\n",
       "    </tr>\n",
       "  </thead>\n",
       "  <tbody>\n",
       "    <tr>\n",
       "      <th>497189</th>\n",
       "      <td>https://s3.amazonaws.com/irs-form-990/201413219349306276_public.xml</td>\n",
       "      <td>Dr Stephen Baum</td>\n",
       "      <td>NaN</td>\n",
       "      <td>NaN</td>\n",
       "      <td>Trustee, Physician</td>\n",
       "      <td>253224.0</td>\n",
       "      <td>0.0</td>\n",
       "      <td>0.0</td>\n",
       "      <td>0.0</td>\n",
       "      <td>19181.0</td>\n",
       "      <td>0.0</td>\n",
       "      <td>30978.0</td>\n",
       "      <td>0.0</td>\n",
       "      <td>6082.0</td>\n",
       "      <td>0.0</td>\n",
       "      <td>309465.0</td>\n",
       "      <td>0.0</td>\n",
       "      <td>0.0</td>\n",
       "      <td>0.0</td>\n",
       "    </tr>\n",
       "    <tr>\n",
       "      <th>2429302</th>\n",
       "      <td>https://s3.amazonaws.com/irs-form-990/202442819349302369_public.xml</td>\n",
       "      <td>STEVE JENKINS</td>\n",
       "      <td>NaN</td>\n",
       "      <td>NaN</td>\n",
       "      <td>DEPUTY EXECUTIVE DIRECTOR</td>\n",
       "      <td>407.0</td>\n",
       "      <td>0.0</td>\n",
       "      <td>0.0</td>\n",
       "      <td>0.0</td>\n",
       "      <td>0.0</td>\n",
       "      <td>0.0</td>\n",
       "      <td>10.0</td>\n",
       "      <td>0.0</td>\n",
       "      <td>49.0</td>\n",
       "      <td>0.0</td>\n",
       "      <td>466.0</td>\n",
       "      <td>0.0</td>\n",
       "      <td>0.0</td>\n",
       "      <td>0.0</td>\n",
       "    </tr>\n",
       "    <tr>\n",
       "      <th>518672</th>\n",
       "      <td>https://s3.amazonaws.com/irs-form-990/201343199349304254_public.xml</td>\n",
       "      <td>MARIA GHORMLEY</td>\n",
       "      <td>NaN</td>\n",
       "      <td>NaN</td>\n",
       "      <td>EMERGENCY NURSE</td>\n",
       "      <td>165307.0</td>\n",
       "      <td>0.0</td>\n",
       "      <td>0.0</td>\n",
       "      <td>0.0</td>\n",
       "      <td>0.0</td>\n",
       "      <td>0.0</td>\n",
       "      <td>4605.0</td>\n",
       "      <td>0.0</td>\n",
       "      <td>11058.0</td>\n",
       "      <td>0.0</td>\n",
       "      <td>180970.0</td>\n",
       "      <td>0.0</td>\n",
       "      <td>0.0</td>\n",
       "      <td>0.0</td>\n",
       "    </tr>\n",
       "  </tbody>\n",
       "</table>\n",
       "</div>"
      ],
      "text/plain": [
       "                                                                         URL  \\\n",
       "497189   https://s3.amazonaws.com/irs-form-990/201413219349306276_public.xml   \n",
       "2429302  https://s3.amazonaws.com/irs-form-990/202442819349302369_public.xml   \n",
       "518672   https://s3.amazonaws.com/irs-form-990/201343199349304254_public.xml   \n",
       "\n",
       "        SJ_02_PC_NAME_OFF_TRST_KEYEMP SJ_02_PC_NAME_OFF_TRST_KEYEMP_L1  \\\n",
       "497189                Dr Stephen Baum                              NaN   \n",
       "2429302                 STEVE JENKINS                              NaN   \n",
       "518672                 MARIA GHORMLEY                              NaN   \n",
       "\n",
       "        SJ_02_PC_NAME_OFF_TRST_KEYEMP_L2             SJ_02_PC_TITLE  \\\n",
       "497189                               NaN         Trustee, Physician   \n",
       "2429302                              NaN  DEPUTY EXECUTIVE DIRECTOR   \n",
       "518672                               NaN            EMERGENCY NURSE   \n",
       "\n",
       "         SJ_02_PC_COMP_BASE  SJ_02_PC_COMP_BASE_RELATED  SJ_02_PC_COMP_BONUS  \\\n",
       "497189             253224.0                         0.0                  0.0   \n",
       "2429302               407.0                         0.0                  0.0   \n",
       "518672             165307.0                         0.0                  0.0   \n",
       "\n",
       "         SJ_02_PC_COMP_BONUS_RELATED  SJ_02_PC_COMP_OTHER  \\\n",
       "497189                           0.0              19181.0   \n",
       "2429302                          0.0                  0.0   \n",
       "518672                           0.0                  0.0   \n",
       "\n",
       "         SJ_02_PC_COMP_OTHER_RELATED  SJ_02_PC_COMP_DEFERRED  \\\n",
       "497189                           0.0                 30978.0   \n",
       "2429302                          0.0                    10.0   \n",
       "518672                           0.0                  4605.0   \n",
       "\n",
       "         SJ_02_PC_COMP_DEFERRED_RELATED  SJ_02_PC_NONTAXED_BENF  \\\n",
       "497189                              0.0                  6082.0   \n",
       "2429302                             0.0                    49.0   \n",
       "518672                              0.0                 11058.0   \n",
       "\n",
       "         SJ_02_PC_NONTAXED_BENF_RELATED  SJ_02_PC_COMP_TOTAL  \\\n",
       "497189                              0.0             309465.0   \n",
       "2429302                             0.0                466.0   \n",
       "518672                              0.0             180970.0   \n",
       "\n",
       "         SJ_02_PC_COMP_TOTAL_RELATED  SJ_02_PC_COMP_DEF_PRIOR  \\\n",
       "497189                           0.0                      0.0   \n",
       "2429302                          0.0                      0.0   \n",
       "518672                           0.0                      0.0   \n",
       "\n",
       "         SJ_02_PC_COMP_DEF_PRIOR_RELATED  \n",
       "497189                               0.0  \n",
       "2429302                              0.0  \n",
       "518672                               0.0  "
      ]
     },
     "execution_count": 42,
     "metadata": {},
     "output_type": "execute_result"
    }
   ],
   "source": [
    "df[cols].sample(3)"
   ]
  },
  {
   "cell_type": "markdown",
   "metadata": {},
   "source": [
    "<br>Save file(s) without *Form990ScheduleJPartII*"
   ]
  },
  {
   "cell_type": "code",
   "execution_count": 43,
   "metadata": {},
   "outputs": [
    {
     "data": {
      "text/plain": [
       "2972064"
      ]
     },
     "execution_count": 43,
     "metadata": {},
     "output_type": "execute_result"
    }
   ],
   "source": [
    "len(df)"
   ]
  },
  {
   "cell_type": "code",
   "execution_count": 44,
   "metadata": {},
   "outputs": [
    {
     "name": "stdout",
     "output_type": "stream",
     "text": [
      "Current date and time :  2025-06-27 14:04:32 \n",
      "\n",
      "CPU times: total: 2min 32s\n",
      "Wall time: 2min 37s\n"
     ]
    }
   ],
   "source": [
    "%%time\n",
    "import datetime\n",
    "print (\"Current date and time : \", datetime.datetime.now().strftime(\"%Y-%m-%d %H:%M:%S\"), '\\n')\n",
    "df[cols].to_pickle('Schedule J Part II (PERSON-LEVEL DF) parsed.pkl.gz', compression='gzip')"
   ]
  }
 ],
 "metadata": {
  "kernelspec": {
   "display_name": "Python 3 (ipykernel)",
   "language": "python",
   "name": "python3"
  },
  "language_info": {
   "codemirror_mode": {
    "name": "ipython",
    "version": 3
   },
   "file_extension": ".py",
   "mimetype": "text/x-python",
   "name": "python",
   "nbconvert_exporter": "python",
   "pygments_lexer": "ipython3",
   "version": "3.10.11"
  },
  "toc": {
   "colors": {
    "hover_highlight": "#DAA520",
    "navigate_num": "#000000",
    "navigate_text": "#333333",
    "running_highlight": "#FF0000",
    "selected_highlight": "#FFD700",
    "sidebar_border": "#EEEEEE",
    "wrapper_background": "#FFFFFF"
   },
   "moveMenuLeft": true,
   "nav_menu": {
    "height": "189px",
    "width": "252px"
   },
   "navigate_menu": true,
   "number_sections": true,
   "sideBar": true,
   "threshold": 4,
   "toc_cell": false,
   "toc_section_display": "block",
   "toc_window_display": false,
   "widenNotebook": false
  }
 },
 "nbformat": 4,
 "nbformat_minor": 1
}
